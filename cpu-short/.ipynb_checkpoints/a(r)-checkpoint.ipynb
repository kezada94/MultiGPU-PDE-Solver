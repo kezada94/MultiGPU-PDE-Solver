{
 "cells": [
  {
   "cell_type": "code",
   "execution_count": 86,
   "metadata": {},
   "outputs": [],
   "source": [
    "var(\"E0 A x l q A B C E\")\n",
    "interr = eval(\"(A+q**2*l*sin(x)**2)**(0.5)/(2*(B + q**2*A/2*sin(x)**2))**(0.5)\")\n"
   ]
  },
  {
   "cell_type": "code",
   "execution_count": 3,
   "metadata": {},
   "outputs": [
    {
     "data": {
      "text/plain": [
       "sqrt(l*q^2*sin(x)^2 + A)/sqrt(A*q^2*sin(x)^2 + 2*E0)"
      ]
     },
     "execution_count": 3,
     "metadata": {},
     "output_type": "execute_result"
    }
   ],
   "source": [
    "integrate(interr)"
   ]
  },
  {
   "cell_type": "code",
   "execution_count": 80,
   "metadata": {},
   "outputs": [
    {
     "data": {
      "text/plain": [
       "(6.283185217851743, 3.0786949563720717e-06)"
      ]
     },
     "execution_count": 80,
     "metadata": {},
     "output_type": "execute_result"
    }
   ],
   "source": [
    "integral = interr.subs({A: 1, q: 1, l : 1, B: 115.250269})\n",
    "numerical_integral(integral, 0, 25*pi)"
   ]
  },
  {
   "cell_type": "code",
   "execution_count": 122,
   "metadata": {},
   "outputs": [
    {
     "data": {
      "text/plain": [
       "6.28318530717959"
      ]
     },
     "execution_count": 122,
     "metadata": {},
     "output_type": "execute_result"
    }
   ],
   "source": [
    "(2*pi).numerical_approx()"
   ]
  },
  {
   "cell_type": "code",
   "execution_count": 104,
   "metadata": {},
   "outputs": [],
   "source": [
    "expr = -(q**2*sin(x)**2*tan(x)*(2*B*l - A**2)*sqrt(-(B*cot(x)**2)/(A*q**2 + 2*B))*sqrt(-(A*csc(x)**2*(A*q**2*cos(2*x) - A*q**2 - 4*B))/(q**2*(A**2 - 2*B*l)))*sqrt((B*csc(x)**2*(-2*A + l*q**2*cos(2*x) - l*q**2))/(q**2*(A**2 - 2*B*l)))*(2*B*l*elliptic_pi(1 - (2*B*l)/A**2, sin(sqrt(-(A*(-A*q**2 + A*cos(2*x)*q**2 - 4*B)*csc(x)**2)/((A**2 - 2*B*l)*q**2))/sqrt(2))**(-1), ((A**2 - 2*B*l)*q**2)/(A*(A*q**2 + 2*B))) - A**2*elliptic_f(sin(sqrt(-(A*(-A*q**2 + A*cos(2*x)*q**2 - 4*B)*csc(x)**2)/((A**2 - 2*B*l)*q**2))/sqrt(2))**(-1), ((A**2 - 2*B*l)*q**2)/(A*(A*q**2 + 2*B)))))/(A**2*B*sqrt(-A*q**2*cos(2*x) + A*q**2 + 4*B)*sqrt(2*A - l*q**2*cos(2*x) + l*q**2))"
   ]
  },
  {
   "cell_type": "code",
   "execution_count": 105,
   "metadata": {},
   "outputs": [],
   "source": [
    "import matplotlib.pyplot as plt"
   ]
  },
  {
   "cell_type": "code",
   "execution_count": 151,
   "metadata": {},
   "outputs": [],
   "source": [
    "arr = []\n",
    "g = []\n",
    "\n",
    "i = -10\n",
    "while (i<10):\n",
    "    arr.append(real_part(expr.subs({x:i, A: 1, q: 1, l : 1, B: 115.250269}).numerical_approx(digits=30)))\n",
    "    g.append(i)\n",
    "    i+=0.003"
   ]
  },
  {
   "cell_type": "code",
   "execution_count": 153,
   "metadata": {},
   "outputs": [
    {
     "data": {
      "text/plain": [
       "Text(0, 0.5, 'r')"
      ]
     },
     "execution_count": 153,
     "metadata": {},
     "output_type": "execute_result"
    },
    {
     "data": {
      "image/png": "[encoded data removed]",
      "text/plain": [
       "<Figure size 432x288 with 1 Axes>"
      ]
     },
     "metadata": {
      "needs_background": "light"
     },
     "output_type": "display_data"
    }
   ],
   "source": [
    "fig, ax = plt.subplots()\n",
    "ax.plot(g, arr)\n",
    "ax.set_xlabel(\"alfa\")\n",
    "ax.set_ylabel(\"r\")"
   ]
  },
  {
   "cell_type": "code",
   "execution_count": 147,
   "metadata": {},
   "outputs": [
    {
     "data": {
      "text/plain": [
       "[abs(sin(x)) == sqrt(-A*q^2*cos(2*x) + A*q^2 + 4*B)*sqrt(-l*q^2*cos(2*x) + l*q^2 + 2*A)*A^2*B*y*cos(x)/((2*A^2*B*l*q*(EllipticPi((A^2 - 2*B*l)/A^2, 1/sin(1/2*sqrt(2)*sqrt(-(A^2*q^2*cos(2*x) - A^2*q^2 - 4*A*B)/((A^2 - 2*B*l)*q^2*sin(x)^2))), (A^2 - 2*B*l)*q^2/(A^2*q^2 + 2*A*B)) + elliptic_f(1/sin(1/2*sqrt(2)*sqrt(-(A^2*q^2*cos(2*x) - A^2*q^2 - 4*A*B)/((A^2 - 2*B*l)*q^2*sin(x)^2))), (A^2 - 2*B*l)*q^2/(A^2*q^2 + 2*A*B))) - 4*B^2*l^2*q*EllipticPi((A^2 - 2*B*l)/A^2, 1/sin(1/2*sqrt(2)*sqrt(-(A^2*q^2*cos(2*x) - A^2*q^2 - 4*A*B)/((A^2 - 2*B*l)*q^2*sin(x)^2))), (A^2 - 2*B*l)*q^2/(A^2*q^2 + 2*A*B)) - A^4*q*elliptic_f(1/sin(1/2*sqrt(2)*sqrt(-(A^2*q^2*cos(2*x) - A^2*q^2 - 4*A*B)/((A^2 - 2*B*l)*q^2*sin(x)^2))), (A^2 - 2*B*l)*q^2/(A^2*q^2 + 2*A*B)))*sqrt((B*l*q^2*cos(2*x) - B*l*q^2 - 2*A*B)/(A^2 - 2*B*l))*sqrt(-B*cos(x)^2/((A*q^2 + 2*B)*sin(x)^2))*sqrt(-(A^2*q^2*cos(2*x) - A^2*q^2 - 4*A*B)/((A^2 - 2*B*l)*q^2*sin(x)^2))*sin(x))]"
      ]
     },
     "execution_count": 147,
     "metadata": {},
     "output_type": "execute_result"
    }
   ],
   "source": [
    "var('y')\n",
    "assume(x, 'real')\n",
    "assume(q>0)\n",
    "assume(A>0)\n",
    "assume(B>0)\n",
    "solve(expr==y, x)"
   ]
  },
  {
   "cell_type": "code",
   "execution_count": 72,
   "metadata": {},
   "outputs": [
    {
     "data": {
      "text/plain": [
       "2.59092115655522"
      ]
     },
     "execution_count": 72,
     "metadata": {},
     "output_type": "execute_result"
    }
   ],
   "source": [
    "elliptic_pi(0.4, pi/2, 0.6).numerical_approx()"
   ]
  },
  {
   "cell_type": "code",
   "execution_count": null,
   "metadata": {},
   "outputs": [],
   "source": [
    "-(q**2*sin(x)**2*tan(x)*(2*B*l - A**2)*sqrt(-(B*cot(x)**2)/(A*q**2 + 2*B))*sqrt(-(A*csc(x)**2*(A*q**2*cos(2*x) - A*q**2 - 4*B))/(q**2*(A**2 - 2*B*l)))*sqrt((B*csc(x)**2*(-2*A + l*q**2*cos(2*x) - l*q**2))/(q**2*(A**2 - 2*B*l)))*(2*B*l*elliptic_pi(1 - (2*B*l)/A**2, sin(sqrt(-(A*(-A*q**2 + A*cos(2*x)*q**2 - 4*B)*csc(x)**2)/((A**2 - 2*B*l)*q**2))/sqrt(2))**(-1), ((A**2 - 2*B*l)*q**2)/(A*(A*q**2 + 2*B))) - A**2*elliptic_f(sin(sqrt(-(A*(-A*q**2 + A*cos(2*x)*q**2 - 4*B)*csc(x)**2)/((A**2 - 2*B*l)*q**2))/sqrt(2))**(-1), ((A**2 - 2*B*l)*q**2)/(A*(A*q**2 + 2*B)))))/(A**2*B*sqrt(-A*q**2*cos(2*x) + A*q**2 + 4*B)*sqrt(2*A - l*q**2*cos(2*x) + l*q**2))"
   ]
  },
  {
   "cell_type": "code",
   "execution_count": null,
   "metadata": {},
   "outputs": [],
   "source": []
  }
 ],
 "metadata": {
  "kernelspec": {
   "display_name": "SageMath 9.2",
   "language": "sage",
   "name": "sagemath"
  },
  "language_info": {
   "codemirror_mode": {
    "name": "ipython",
    "version": 3
   },
   "file_extension": ".py",
   "mimetype": "text/x-python",
   "name": "python",
   "nbconvert_exporter": "python",
   "pygments_lexer": "ipython3",
   "version": "3.8.6"
  }
 },
 "nbformat": 4,
 "nbformat_minor": 4
}
