{
 "cells": [
  {
   "cell_type": "code",
   "execution_count": 16,
   "metadata": {},
   "outputs": [],
   "source": [
    "var(\"E0 A x l q A B C E Q Q1\")\n",
    "interr = eval(\"(A+q**2*l*sin(x)**2)**(0.5)/(2*(B + q**2*A/2*sin(x)**2))**(0.5)\")\n"
   ]
  },
  {
   "cell_type": "code",
   "execution_count": 3,
   "metadata": {},
   "outputs": [
    {
     "data": {
      "text/plain": [
       "sqrt(l*q^2*sin(x)^2 + A)/sqrt(A*q^2*sin(x)^2 + 2*E0)"
      ]
     },
     "execution_count": 3,
     "metadata": {},
     "output_type": "execute_result"
    }
   ],
   "source": [
    "integrate(interr)"
   ]
  },
  {
   "cell_type": "code",
   "execution_count": 77,
   "metadata": {},
   "outputs": [
    {
     "data": {
      "text/plain": [
       "(6.28318936735108, 1.4984161855746692e-07)"
      ]
     },
     "execution_count": 77,
     "metadata": {},
     "output_type": "execute_result"
    }
   ],
   "source": [
    "integral = interr.subs({A: 1, q: 1, l : 1, B: 115.250269})\n",
    "numerical_integral(integral, 0, 25*pi)"
   ]
  },
  {
   "cell_type": "code",
   "execution_count": 122,
   "metadata": {},
   "outputs": [
    {
     "data": {
      "text/plain": [
       "6.28318530717959"
      ]
     },
     "execution_count": 122,
     "metadata": {},
     "output_type": "execute_result"
    }
   ],
   "source": [
    "(2*pi).numerical_approx()"
   ]
  },
  {
   "cell_type": "code",
   "execution_count": 5,
   "metadata": {},
   "outputs": [],
   "source": [
    "expr = -(q**2*sin(x)**2*tan(x)*(2*B*l - A**2)*sqrt(-(B*cot(x)**2)/(A*q**2 + 2*B))*sqrt(-(A*csc(x)**2*(A*q**2*cos(2*x) - A*q**2 - 4*B))/(q**2*(A**2 - 2*B*l)))*sqrt((B*csc(x)**2*(-2*A + l*q**2*cos(2*x) - l*q**2))/(q**2*(A**2 - 2*B*l)))*(2*B*l*elliptic_pi(1 - (2*B*l)/A**2, sin(sqrt(-(A*(-A*q**2 + A*cos(2*x)*q**2 - 4*B)*csc(x)**2)/((A**2 - 2*B*l)*q**2))/sqrt(2))**(-1), ((A**2 - 2*B*l)*q**2)/(A*(A*q**2 + 2*B))) - A**2*elliptic_f(sin(sqrt(-(A*(-A*q**2 + A*cos(2*x)*q**2 - 4*B)*csc(x)**2)/((A**2 - 2*B*l)*q**2))/sqrt(2))**(-1), ((A**2 - 2*B*l)*q**2)/(A*(A*q**2 + 2*B)))))/(A**2 B sqrt(-A*q^2*cos(2*x) + A*q**2 + 4*B)*sqrt(2*A - l*q**2*cos(2*x) + l*q**2))"
   ]
  },
  {
   "cell_type": "code",
   "execution_count": 17,
   "metadata": {},
   "outputs": [],
   "source": [
    "exprr = -((I*cos(x)**2*((A+Q1)*elliptic_f(I*arcsinh(sqrt((E0+Q)/E0)*tan(x)), (E0*(A+Q1))/(A*(E0+Q))) - Q1*elliptic_pi(E0/(E0+Q), I*arcsinh(sqrt((E0+Q)/E0)*tan(x)), (E0*(A+Q1))/(A*(E0+Q))))*sqrt(2+(2*(E0+Q)*tan(x)**2)/E0)*sqrt(1+((A+Q1)*tan(x)**2)/A))/(sqrt((E0+Q)/E0)*sqrt(2*E0+Q-Q*cos(2*x))*sqrt(2*A+Q1-Q1*cos(2*x))))"
   ]
  },
  {
   "cell_type": "code",
   "execution_count": null,
   "metadata": {},
   "outputs": [],
   "source": [
    "#Q1 = q^2*l = 1\n",
    "#Q  = q^2*A/2 = 1/2"
   ]
  },
  {
   "cell_type": "code",
   "execution_count": 82,
   "metadata": {},
   "outputs": [],
   "source": [
    "exx = sqrt(-(B*cot(x)**2)/(A*q**2 + 2*B))\n",
    "\n",
    "resa = exprr.subs({x:0, A: 1, Q1: 1, Q : 1/2})#.numerical_approx(digits=30)\n",
    "resb = exprr.subs({x:pi, A: 1, Q1: 1, Q : 1/2})#.numerical_approx(digits=30)"
   ]
  },
  {
   "cell_type": "code",
   "execution_count": 88,
   "metadata": {},
   "outputs": [
    {
     "data": {
      "text/plain": [
       "I*sqrt(2)*sqrt(1/2)*elliptic_pi(2*E0/(2*E0 + 1), 0, 4*E0/(2*E0 + 1))/(sqrt(E0)*sqrt((2*E0 + 1)/E0))"
      ]
     },
     "execution_count": 88,
     "metadata": {},
     "output_type": "execute_result"
    }
   ],
   "source": [
    "ress = resa-resb\n",
    "resb"
   ]
  },
  {
   "cell_type": "code",
   "execution_count": 1,
   "metadata": {},
   "outputs": [],
   "source": [
    "import matplotlib.pyplot as plt"
   ]
  },
  {
   "cell_type": "code",
   "execution_count": 78,
   "metadata": {},
   "outputs": [],
   "source": [
    "arr = []\n",
    "g = []\n",
    "\n",
    "i = 0\n",
    "while (i<100):\n",
    "    arr.append(real(exprr.subs({x:i, A: 1, Q1: 1, Q : 1/2, E0: 115.250269}).numerical_approx(digits=30)))\n",
    "    g.append(i)\n",
    "    i+=3\n",
    "    "
   ]
  },
  {
   "cell_type": "code",
   "execution_count": 81,
   "metadata": {},
   "outputs": [
    {
     "data": {
      "image/png": "[encoded data removed]",
      "text/plain": [
       "<Figure size 432x288 with 1 Axes>"
      ]
     },
     "metadata": {
      "needs_background": "light"
     },
     "output_type": "display_data"
    }
   ],
   "source": [
    "fig, ax = plt.subplots()\n",
    "ax.plot(g, arr)\n",
    "\n",
    "ax.set_xlabel(\"alfa\")\n",
    "ax.set_ylabel(\"r\");"
   ]
  },
  {
   "cell_type": "code",
   "execution_count": 156,
   "metadata": {},
   "outputs": [
    {
     "data": {
      "text/plain": [
       "0.09274593371050419*integrate(sqrt(-cot(x)^2)*sqrt(cos(2*x) - 462.001076)*sqrt(-0.5021786441302373*cos(2*x) + 1.5065359323907117)*(elliptic_f(1/sin(0.03300487941378736*sqrt(2)*sqrt(cos(2*x) - 462.001076)*abs(csc(x))), -0.9913607112221917) - 230.500538*elliptic_pi(-229.500538, 1/sin(0.03300487941378736*sqrt(2)*sqrt(cos(2*x) - 462.001076)*abs(csc(x))), -0.9913607112221917))*csc(x)^2*sin(x)^2*tan(x)/(sqrt(-cos(2*x) + 462.001076)*sqrt(-cos(2*x) + 3)), x)"
      ]
     },
     "execution_count": 156,
     "metadata": {},
     "output_type": "execute_result"
    }
   ],
   "source": [
    "var('y')\n",
    "assume(x, 'real')\n",
    "assume(q>0)\n",
    "assume(A>0)\n",
    "assume(B>0)\n",
    "integrate(expr.subs({A: 1, q: 1, l : 1, B: 115.250269}), x)"
   ]
  },
  {
   "cell_type": "code",
   "execution_count": 72,
   "metadata": {},
   "outputs": [
    {
     "data": {
      "text/plain": [
       "2.59092115655522"
      ]
     },
     "execution_count": 72,
     "metadata": {},
     "output_type": "execute_result"
    }
   ],
   "source": [
    "elliptic_pi(0.4, pi/2, 0.6).numerical_approx()"
   ]
  },
  {
   "cell_type": "code",
   "execution_count": null,
   "metadata": {},
   "outputs": [],
   "source": [
    "-(q**2*sin(x)**2*tan(x)*(2*B*l - A**2)*sqrt(-(B*cot(x)**2)/(A*q**2 + 2*B))*sqrt(-(A*csc(x)**2*(A*q**2*cos(2*x) - A*q**2 - 4*B))/(q**2*(A**2 - 2*B*l)))*sqrt((B*csc(x)**2*(-2*A + l*q**2*cos(2*x) - l*q**2))/(q**2*(A**2 - 2*B*l)))*(2*B*l*elliptic_pi(1 - (2*B*l)/A**2, sin(sqrt(-(A*(-A*q**2 + A*cos(2*x)*q**2 - 4*B)*csc(x)**2)/((A**2 - 2*B*l)*q**2))/sqrt(2))**(-1), ((A**2 - 2*B*l)*q**2)/(A*(A*q**2 + 2*B))) - A**2*elliptic_f(sin(sqrt(-(A*(-A*q**2 + A*cos(2*x)*q**2 - 4*B)*csc(x)**2)/((A**2 - 2*B*l)*q**2))/sqrt(2))**(-1), ((A**2 - 2*B*l)*q**2)/(A*(A*q**2 + 2*B)))))/(A**2*B*sqrt(-A*q**2*cos(2*x) + A*q**2 + 4*B)*sqrt(2*A - l*q**2*cos(2*x) + l*q**2))"
   ]
  },
  {
   "cell_type": "code",
   "execution_count": 157,
   "metadata": {},
   "outputs": [
    {
     "data": {
      "text/plain": [
       "-I*sqrt(3*tan(x)^2 + 2)*sqrt((cos(2*x) - 3)/(cos(2*x) - 5))*(elliptic_f(I/sinh(1.41421000000000*tan(x)), 0.750000000000000) - 0.500000000000000*elliptic_pi(0.500000000000000, I/sinh(1.41421000000000*tan(x)), 0.750000000000000))/sqrt(2*tan(x)^2 + 1)"
      ]
     },
     "execution_count": 157,
     "metadata": {},
     "output_type": "execute_result"
    }
   ],
   "source": [
    "cha = -(I*sqrt((cos(2*x) - 3)/(cos(2*x) - 5))*sqrt(3*tan(x)**2 + 2)*(elliptic_f(I*sinh(1.41421*tan(x))**(-1), 0.75) - 0.5*elliptic_pi(0.5,I*sinh(1.41421*tan(x))**(-1),0.75)))/sqrt(2*tan(x)**2 + 1)"
   ]
  },
  {
   "cell_type": "code",
   "execution_count": null,
   "metadata": {},
   "outputs": [],
   "source": []
  }
 ],
 "metadata": {
  "kernelspec": {
   "display_name": "SageMath 9.2",
   "language": "sage",
   "name": "sagemath"
  },
  "language_info": {
   "codemirror_mode": {
    "name": "ipython",
    "version": 3
   },
   "file_extension": ".py",
   "mimetype": "text/x-python",
   "name": "python",
   "nbconvert_exporter": "python",
   "pygments_lexer": "ipython3",
   "version": "3.8.6"
  }
 },
 "nbformat": 4,
 "nbformat_minor": 4
}
