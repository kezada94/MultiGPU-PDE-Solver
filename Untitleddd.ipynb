{
 "cells": [
  {
   "cell_type": "code",
   "execution_count": 70,
   "metadata": {},
   "outputs": [],
   "source": [
    "from sympy import *\n",
    "\n",
    "unp1ij, unij, unm1ij, unip1j, unim1j, unijp1, unijm1 = symbols('u^n+1_ij \\\n",
    "                    u^n_ij \\\n",
    "                    u^n-1_ij \\\n",
    "                    u^n_i+1j \\\n",
    "                    u^n_i-1j \\\n",
    "                    u^n_ij+1 \\\n",
    "                    u^n_ij-1')\n",
    "vnp1ij, vnij, vnm1ij, vnip1j, vnim1j, vnijp1, vnijm1 = symbols('v^n+4/3_ij \\\n",
    "                    v^n+1/3_ij \\\n",
    "                    v^n-2/3_ij \\\n",
    "                    v^n+1/3_i+1j \\\n",
    "                    v^n+1/3_i-1j \\\n",
    "                    v^n+1/3_ij+1 \\\n",
    "                    v^n+1/3_ij-1')\n",
    "wnp1ij, wnij, wnm1ij, wnip1j, wnim1j, wnijp1, wnijm1 = symbols('w^n+5/3_ij \\\n",
    "                    w^n+2/3_ij \\\n",
    "                    w^n-1/3_ij \\\n",
    "                    w^n+2/3_i+1j \\\n",
    "                    w^n+2/3_i-1j \\\n",
    "                    w^n+2/3_ij+1 \\\n",
    "                    w^n+2/3_ij-1')\n",
    "\n",
    "c, l1, dt, dx, dy = symbols(\"c l1 dt, dx, dy\")\n"
   ]
  },
  {
   "cell_type": "code",
   "execution_count": 71,
   "metadata": {},
   "outputs": [
    {
     "data": {
      "text/latex": [
       "$\\displaystyle w^{n+5/3}_{ij}$"
      ],
      "text/plain": [
       "w^n+5/3_ij"
      ]
     },
     "execution_count": 71,
     "metadata": {},
     "output_type": "execute_result"
    }
   ],
   "source": [
    "wnp1ij"
   ]
  },
  {
   "cell_type": "code",
   "execution_count": 72,
   "metadata": {},
   "outputs": [],
   "source": [
    "eq1 = Eq(0, (1/(c*c))*((unp1ij-2*unij+unm1ij)/(dt*dt)) \n",
    "         - ((unip1j-2*unij+unim1j)/(dx*dx)) \n",
    "         - ((unijp1-2*unij+unijm1)/(dy*dy)) \n",
    "         + l1*sin(vnij-wnij))\n",
    "\n",
    "eq2 = Eq(0, (1/(c*c))*((vnp1ij-2*vnij+vnm1ij)/(dt*dt)) \n",
    "         - ((vnip1j-2*vnij+vnim1j)/(dx*dx)) \n",
    "         - ((vnijp1-2*vnij+vnijm1)/(dy*dy)) \n",
    "         - l1*sin(unij-wnij))\n",
    "\n",
    "eq3 = Eq(0, (1/(c*c))*((wnp1ij-2*wnij+wnm1ij)/(dt*dt)) \n",
    "         - ((wnip1j-2*wnij+wnim1j)/(dx*dx)) \n",
    "         - ((wnijp1-2*wnij+wnijm1)/(dy*dy)) \n",
    "         + l1*sin(unij-vnij))"
   ]
  },
  {
   "cell_type": "code",
   "execution_count": 73,
   "metadata": {},
   "outputs": [
    {
     "data": {
      "text/latex": [
       "$\\displaystyle 0 = l_{1} \\sin{\\left(u^{n}_{ij} - v^{n+1/3}_{ij} \\right)} - \\frac{- 2 w^{n+2/3}_{ij} + w^{n+2/3}_{ij+1} + w^{n+2/3}_{ij-1}}{dy^{2}} - \\frac{w^{n+2/3}_{i+1j} + w^{n+2/3}_{i-1j} - 2 w^{n+2/3}_{ij}}{dx^{2}} + \\frac{- 2 w^{n+2/3}_{ij} + w^{n+5/3}_{ij} + w^{n-1/3}_{ij}}{c^{2} dt^{2}}$"
      ],
      "text/plain": [
       "Eq(0, l1*sin(u^n_ij - v^n+1/3_ij) - (-2*w^n+2/3_ij + w^n+2/3_ij+1 + w^n+2/3_ij-1)/dy**2 - (w^n+2/3_i+1j + w^n+2/3_i-1j - 2*w^n+2/3_ij)/dx**2 + (-2*w^n+2/3_ij + w^n+5/3_ij + w^n-1/3_ij)/(c**2*dt**2))"
      ]
     },
     "execution_count": 73,
     "metadata": {},
     "output_type": "execute_result"
    }
   ],
   "source": [
    "eq3"
   ]
  },
  {
   "cell_type": "code",
   "execution_count": 74,
   "metadata": {},
   "outputs": [],
   "source": [
    "res1 = solveset(eq1, unp1ij)\n",
    "res2 = solveset(eq2, vnp1ij)\n",
    "res3 = solveset(eq3, wnp1ij)\n"
   ]
  },
  {
   "cell_type": "code",
   "execution_count": 75,
   "metadata": {},
   "outputs": [
    {
     "data": {
      "text/latex": [
       "$\\displaystyle \\left\\{c^{2} dt^{2} \\left(- l_{1} \\sin{\\left(v^{n+1/3}_{ij} - w^{n+2/3}_{ij} \\right)} + \\frac{- 2 u^{n}_{ij} + u^{n}_{ij+1} + u^{n}_{ij-1}}{dy^{2}} + \\frac{u^{n}_{i+1j} + u^{n}_{i-1j} - 2 u^{n}_{ij}}{dx^{2}}\\right) - u^{n-1}_{ij} + 2 u^{n}_{ij}\\right\\}$"
      ],
      "text/plain": [
       "FiniteSet(c**2*dt**2*(-l1*sin(v^n+1/3_ij - w^n+2/3_ij) + (-2*u^n_ij + u^n_ij+1 + u^n_ij-1)/dy**2 + (u^n_i+1j + u^n_i-1j - 2*u^n_ij)/dx**2) - u^n-1_ij + 2*u^n_ij)"
      ]
     },
     "execution_count": 75,
     "metadata": {},
     "output_type": "execute_result"
    }
   ],
   "source": [
    "res1"
   ]
  },
  {
   "cell_type": "code",
   "execution_count": 76,
   "metadata": {},
   "outputs": [
    {
     "data": {
      "text/latex": [
       "$\\displaystyle \\left\\{c^{2} dt^{2} \\left(l_{1} \\sin{\\left(u^{n}_{ij} - w^{n+2/3}_{ij} \\right)} + \\frac{- 2 v^{n+1/3}_{ij} + v^{n+1/3}_{ij+1} + v^{n+1/3}_{ij-1}}{dy^{2}} + \\frac{v^{n+1/3}_{i+1j} + v^{n+1/3}_{i-1j} - 2 v^{n+1/3}_{ij}}{dx^{2}}\\right) + 2 v^{n+1/3}_{ij} - v^{n-2/3}_{ij}\\right\\}$"
      ],
      "text/plain": [
       "FiniteSet(c**2*dt**2*(l1*sin(u^n_ij - w^n+2/3_ij) + (-2*v^n+1/3_ij + v^n+1/3_ij+1 + v^n+1/3_ij-1)/dy**2 + (v^n+1/3_i+1j + v^n+1/3_i-1j - 2*v^n+1/3_ij)/dx**2) + 2*v^n+1/3_ij - v^n-2/3_ij)"
      ]
     },
     "execution_count": 76,
     "metadata": {},
     "output_type": "execute_result"
    }
   ],
   "source": [
    "res2"
   ]
  },
  {
   "cell_type": "code",
   "execution_count": 77,
   "metadata": {},
   "outputs": [
    {
     "data": {
      "text/latex": [
       "$\\displaystyle \\left\\{c^{2} dt^{2} \\left(- l_{1} \\sin{\\left(u^{n}_{ij} - v^{n+1/3}_{ij} \\right)} + \\frac{- 2 w^{n+2/3}_{ij} + w^{n+2/3}_{ij+1} + w^{n+2/3}_{ij-1}}{dy^{2}} + \\frac{w^{n+2/3}_{i+1j} + w^{n+2/3}_{i-1j} - 2 w^{n+2/3}_{ij}}{dx^{2}}\\right) + 2 w^{n+2/3}_{ij} - w^{n-1/3}_{ij}\\right\\}$"
      ],
      "text/plain": [
       "FiniteSet(c**2*dt**2*(-l1*sin(u^n_ij - v^n+1/3_ij) + (-2*w^n+2/3_ij + w^n+2/3_ij+1 + w^n+2/3_ij-1)/dy**2 + (w^n+2/3_i+1j + w^n+2/3_i-1j - 2*w^n+2/3_ij)/dx**2) + 2*w^n+2/3_ij - w^n-1/3_ij)"
      ]
     },
     "execution_count": 77,
     "metadata": {},
     "output_type": "execute_result"
    }
   ],
   "source": [
    "res3"
   ]
  },
  {
   "cell_type": "code",
   "execution_count": null,
   "metadata": {},
   "outputs": [],
   "source": [
    "\n",
    "\n",
    "333333333333\n",
    "333333333333"
   ]
  }
 ],
 "metadata": {
  "kernelspec": {
   "display_name": "Python 3",
   "language": "python",
   "name": "python3"
  },
  "language_info": {
   "codemirror_mode": {
    "name": "ipython",
    "version": 3
   },
   "file_extension": ".py",
   "mimetype": "text/x-python",
   "name": "python",
   "nbconvert_exporter": "python",
   "pygments_lexer": "ipython3",
   "version": "3.8.5"
  }
 },
 "nbformat": 4,
 "nbformat_minor": 4
}
