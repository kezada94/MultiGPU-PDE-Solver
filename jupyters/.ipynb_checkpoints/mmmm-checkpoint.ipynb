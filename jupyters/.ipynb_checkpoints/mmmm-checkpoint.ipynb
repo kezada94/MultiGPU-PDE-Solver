{
 "cells": [
  {
   "cell_type": "code",
   "execution_count": 19,
   "metadata": {
    "scrolled": true
   },
   "outputs": [],
   "source": [
    "from sympy import *\n",
    "import numpy as np\n",
    "\n",
    "## Definiendo simbolos\n",
    "t, r, theta, phi = symbols('t, r, \\\\theta, \\\\varphi')\n",
    "dt, dr, dtheta, dphi = symbols('dt dr dtheta dphi')     \n",
    "l0, l1, l2, l3 = symbols(\"l_0 l_1 l_2 l_3\")\n",
    "l, p, q, n, L = symbols(\"lamb p q n L\")\n",
    "\n",
    "ndmat = np.array([[[[[symbols(\"a\") for _x in range(4)] for _y in range(4)] for _z in range(4)] for _w in range(4)] for _i in range(3)])\n",
    "\n",
    "deldel = Function(\"DELDEL\")\n",
    "delf = Function(\"DELF\")\n",
    "box = Function(\"\\\\Box\")\n",
    "\n",
    "alfa = Function(\"a\")(t, phi, theta, r)\n",
    "F = Function(\"F\")(t, phi, theta, r)\n",
    "G = Function(\"G\")(t, phi, theta, r)\n",
    "\n",
    "def getFuncName(i):\n",
    "    if i==0:\n",
    "        return alfa.name\n",
    "    if i==1:\n",
    "        return F.name\n",
    "    if i==2:\n",
    "        return G.name\n",
    "symbolsString = \"\"\n",
    "for _f in range(3):\n",
    "    for _t in range(4):\n",
    "        for _phi in range(4):\n",
    "            for _theta in range(4):\n",
    "                for _r in range(4):\n",
    "                    ndmat[_f][_t][_phi][_theta][_r] = symbols(getFuncName(_f)+str(_t)+str(_phi)+str(_theta)+str(_r))\n",
    "                    symbolsString += str(ndmat[_f][_t][_phi][_theta][_r])+\" \"\n"
   ]
  },
  {
   "cell_type": "code",
   "execution_count": 20,
   "metadata": {},
   "outputs": [
    {
     "data": {
      "text/plain": [
       "'a0000 a0001 a0002 a0003 a0010 a0011 a0012 a0013 a0020 a0021 a0022 a0023 a0030 a0031 a0032 a0033 a0100 a0101 a0102 a0103 a0110 a0111 a0112 a0113 a0120 a0121 a0122 a0123 a0130 a0131 a0132 a0133 a0200 a0201 a0202 a0203 a0210 a0211 a0212 a0213 a0220 a0221 a0222 a0223 a0230 a0231 a0232 a0233 a0300 a0301 a0302 a0303 a0310 a0311 a0312 a0313 a0320 a0321 a0322 a0323 a0330 a0331 a0332 a0333 a1000 a1001 a1002 a1003 a1010 a1011 a1012 a1013 a1020 a1021 a1022 a1023 a1030 a1031 a1032 a1033 a1100 a1101 a1102 a1103 a1110 a1111 a1112 a1113 a1120 a1121 a1122 a1123 a1130 a1131 a1132 a1133 a1200 a1201 a1202 a1203 a1210 a1211 a1212 a1213 a1220 a1221 a1222 a1223 a1230 a1231 a1232 a1233 a1300 a1301 a1302 a1303 a1310 a1311 a1312 a1313 a1320 a1321 a1322 a1323 a1330 a1331 a1332 a1333 a2000 a2001 a2002 a2003 a2010 a2011 a2012 a2013 a2020 a2021 a2022 a2023 a2030 a2031 a2032 a2033 a2100 a2101 a2102 a2103 a2110 a2111 a2112 a2113 a2120 a2121 a2122 a2123 a2130 a2131 a2132 a2133 a2200 a2201 a2202 a2203 a2210 a2211 a2212 a2213 a2220 a2221 a2222 a2223 a2230 a2231 a2232 a2233 a2300 a2301 a2302 a2303 a2310 a2311 a2312 a2313 a2320 a2321 a2322 a2323 a2330 a2331 a2332 a2333 a3000 a3001 a3002 a3003 a3010 a3011 a3012 a3013 a3020 a3021 a3022 a3023 a3030 a3031 a3032 a3033 a3100 a3101 a3102 a3103 a3110 a3111 a3112 a3113 a3120 a3121 a3122 a3123 a3130 a3131 a3132 a3133 a3200 a3201 a3202 a3203 a3210 a3211 a3212 a3213 a3220 a3221 a3222 a3223 a3230 a3231 a3232 a3233 a3300 a3301 a3302 a3303 a3310 a3311 a3312 a3313 a3320 a3321 a3322 a3323 a3330 a3331 a3332 a3333 F0000 F0001 F0002 F0003 F0010 F0011 F0012 F0013 F0020 F0021 F0022 F0023 F0030 F0031 F0032 F0033 F0100 F0101 F0102 F0103 F0110 F0111 F0112 F0113 F0120 F0121 F0122 F0123 F0130 F0131 F0132 F0133 F0200 F0201 F0202 F0203 F0210 F0211 F0212 F0213 F0220 F0221 F0222 F0223 F0230 F0231 F0232 F0233 F0300 F0301 F0302 F0303 F0310 F0311 F0312 F0313 F0320 F0321 F0322 F0323 F0330 F0331 F0332 F0333 F1000 F1001 F1002 F1003 F1010 F1011 F1012 F1013 F1020 F1021 F1022 F1023 F1030 F1031 F1032 F1033 F1100 F1101 F1102 F1103 F1110 F1111 F1112 F1113 F1120 F1121 F1122 F1123 F1130 F1131 F1132 F1133 F1200 F1201 F1202 F1203 F1210 F1211 F1212 F1213 F1220 F1221 F1222 F1223 F1230 F1231 F1232 F1233 F1300 F1301 F1302 F1303 F1310 F1311 F1312 F1313 F1320 F1321 F1322 F1323 F1330 F1331 F1332 F1333 F2000 F2001 F2002 F2003 F2010 F2011 F2012 F2013 F2020 F2021 F2022 F2023 F2030 F2031 F2032 F2033 F2100 F2101 F2102 F2103 F2110 F2111 F2112 F2113 F2120 F2121 F2122 F2123 F2130 F2131 F2132 F2133 F2200 F2201 F2202 F2203 F2210 F2211 F2212 F2213 F2220 F2221 F2222 F2223 F2230 F2231 F2232 F2233 F2300 F2301 F2302 F2303 F2310 F2311 F2312 F2313 F2320 F2321 F2322 F2323 F2330 F2331 F2332 F2333 F3000 F3001 F3002 F3003 F3010 F3011 F3012 F3013 F3020 F3021 F3022 F3023 F3030 F3031 F3032 F3033 F3100 F3101 F3102 F3103 F3110 F3111 F3112 F3113 F3120 F3121 F3122 F3123 F3130 F3131 F3132 F3133 F3200 F3201 F3202 F3203 F3210 F3211 F3212 F3213 F3220 F3221 F3222 F3223 F3230 F3231 F3232 F3233 F3300 F3301 F3302 F3303 F3310 F3311 F3312 F3313 F3320 F3321 F3322 F3323 F3330 F3331 F3332 F3333 G0000 G0001 G0002 G0003 G0010 G0011 G0012 G0013 G0020 G0021 G0022 G0023 G0030 G0031 G0032 G0033 G0100 G0101 G0102 G0103 G0110 G0111 G0112 G0113 G0120 G0121 G0122 G0123 G0130 G0131 G0132 G0133 G0200 G0201 G0202 G0203 G0210 G0211 G0212 G0213 G0220 G0221 G0222 G0223 G0230 G0231 G0232 G0233 G0300 G0301 G0302 G0303 G0310 G0311 G0312 G0313 G0320 G0321 G0322 G0323 G0330 G0331 G0332 G0333 G1000 G1001 G1002 G1003 G1010 G1011 G1012 G1013 G1020 G1021 G1022 G1023 G1030 G1031 G1032 G1033 G1100 G1101 G1102 G1103 G1110 G1111 G1112 G1113 G1120 G1121 G1122 G1123 G1130 G1131 G1132 G1133 G1200 G1201 G1202 G1203 G1210 G1211 G1212 G1213 G1220 G1221 G1222 G1223 G1230 G1231 G1232 G1233 G1300 G1301 G1302 G1303 G1310 G1311 G1312 G1313 G1320 G1321 G1322 G1323 G1330 G1331 G1332 G1333 G2000 G2001 G2002 G2003 G2010 G2011 G2012 G2013 G2020 G2021 G2022 G2023 G2030 G2031 G2032 G2033 G2100 G2101 G2102 G2103 G2110 G2111 G2112 G2113 G2120 G2121 G2122 G2123 G2130 G2131 G2132 G2133 G2200 G2201 G2202 G2203 G2210 G2211 G2212 G2213 G2220 G2221 G2222 G2223 G2230 G2231 G2232 G2233 G2300 G2301 G2302 G2303 G2310 G2311 G2312 G2313 G2320 G2321 G2322 G2323 G2330 G2331 G2332 G2333 G3000 G3001 G3002 G3003 G3010 G3011 G3012 G3013 G3020 G3021 G3022 G3023 G3030 G3031 G3032 G3033 G3100 G3101 G3102 G3103 G3110 G3111 G3112 G3113 G3120 G3121 G3122 G3123 G3130 G3131 G3132 G3133 G3200 G3201 G3202 G3203 G3210 G3211 G3212 G3213 G3220 G3221 G3222 G3223 G3230 G3231 G3232 G3233 G3300 G3301 G3302 G3303 G3310 G3311 G3312 G3313 G3320 G3321 G3322 G3323 G3330 G3331 G3332 G3333 '"
      ]
     },
     "execution_count": 20,
     "metadata": {},
     "output_type": "execute_result"
    }
   ],
   "source": [
    "symbolsString"
   ]
  },
  {
   "cell_type": "code",
   "execution_count": 21,
   "metadata": {},
   "outputs": [
    {
     "data": {
      "text/plain": [
       "'3.9.1 (default, Feb  6 2021, 06:49:13) \\n[GCC 10.2.0]'"
      ]
     },
     "execution_count": 21,
     "metadata": {},
     "output_type": "execute_result"
    }
   ],
   "source": [
    "import sys\n",
    "sys.version"
   ]
  },
  {
   "cell_type": "code",
   "execution_count": 22,
   "metadata": {},
   "outputs": [
    {
     "data": {
      "text/latex": [
       "$\\displaystyle 2 \\left(0.5 t + 1\\right) \\left(\\theta \\left(1 - \\theta\\right) + r \\left(1 - r\\right)\\right) + \\Box{\\left(a{\\left(t,\\varphi,\\theta,r \\right)} \\right)}$"
      ],
      "text/plain": [
       "(2*(0.5*t + 1))*(\\theta*(1 - \\theta) + r*(1 - r)) + \\Box(a(t, \\varphi, \\theta, r))"
      ]
     },
     "metadata": {},
     "output_type": "display_data"
    },
    {
     "data": {
      "text/latex": [
       "$\\displaystyle \\Box{\\left(F{\\left(t,\\varphi,\\theta,r \\right)} \\right)}$"
      ],
      "text/plain": [
       "\\Box(F(t, \\varphi, \\theta, r))"
      ]
     },
     "metadata": {},
     "output_type": "display_data"
    },
    {
     "data": {
      "text/latex": [
       "$\\displaystyle \\Box{\\left(G{\\left(t,\\varphi,\\theta,r \\right)} \\right)}$"
      ],
      "text/plain": [
       "\\Box(G(t, \\varphi, \\theta, r))"
      ]
     },
     "metadata": {},
     "output_type": "display_data"
    }
   ],
   "source": [
    "def DELDEL(f, g):\n",
    "    #canon = -f.diff(t)*g.diff(t) + 1/l1**2*f.diff(r)*g.diff(r) + 1/l1**2*f.diff(theta)*g.diff(theta) + 1/l2**2*f.diff(phi)*g.diff(phi)\n",
    "    canon = -f.diff(t)*g.diff(t) + f.diff(r)*g.diff(r) + f.diff(theta)*g.diff(theta) + f.diff(phi)*g.diff(phi)\n",
    "    return canon\n",
    "\n",
    "def BOX(f):\n",
    "    canon = -f.diff(t, 2) + (f.diff(r, 2) + f.diff(theta, 2) + f.diff(phi, 2))\n",
    "    #canon = -f.diff(t, 2) + 1/l1**2*f.diff(r, 2) + 1/l1**2*f.diff(theta, 2) + 1/l2 **2*f.diff(phi, 2)\n",
    "    return canon\n",
    "\n",
    "def DELf(f, g):\n",
    "    #canon = DELDEL(f, g) + f*BOX(g)\n",
    "\n",
    "    canon = -(f*g.diff(t)).diff(t) + (f*g.diff(r)).diff(r)+ (f*g.diff(theta)).diff(theta) + (f*g.diff(phi)).diff(phi)\n",
    "    #canon = -(f*g.diff(t)).diff(t) + 1/l1**2*(f*g.diff(r)).diff(r)+ 1/l1**2*(f*g.diff(theta)).diff(theta) + 1/l2**2*(f*g.diff(phi)).diff(phi)\n",
    "    return canon\n",
    "\n",
    "\n",
    "with evaluate(False):\n",
    "    motion_alfa = box(alfa) + 2*(1 + 1/2*t)*(theta*(1-theta) + r*(1-r))\n",
    "    \n",
    "    motion_F = box(F)\n",
    "    \n",
    "    motion_G = box(G)\n",
    "    \n",
    "display(motion_alfa)\n",
    "display(motion_F)\n",
    "display(motion_G)"
   ]
  },
  {
   "cell_type": "code",
   "execution_count": 23,
   "metadata": {
    "scrolled": false
   },
   "outputs": [],
   "source": [
    "def expandToDerivatives(func):\n",
    "    p, q, s, b = map(Wild, 'pqsb')\n",
    "    res = func.replace(deldel(p, q)*s, lambda p, q, s : DELDEL(p, q)*s)\n",
    "    res = res.replace(delf(p, q)*s, lambda p, q, s : DELf(p, q)*s)\n",
    "    return res.replace(box(p)*s, lambda p, s : BOX(p)*s)"
   ]
  },
  {
   "cell_type": "code",
   "execution_count": 24,
   "metadata": {
    "scrolled": true
   },
   "outputs": [
    {
     "data": {
      "text/plain": [
       "'Alfa done.'"
      ]
     },
     "metadata": {},
     "output_type": "display_data"
    },
    {
     "data": {
      "text/plain": [
       "'F done.'"
      ]
     },
     "metadata": {},
     "output_type": "display_data"
    },
    {
     "data": {
      "text/plain": [
       "'G done.'"
      ]
     },
     "metadata": {},
     "output_type": "display_data"
    }
   ],
   "source": [
    "res3a = (expandToDerivatives(motion_alfa))\n",
    "display(\"Alfa done.\")\n",
    "res3f = (expandToDerivatives(motion_F))\n",
    "display(\"F done.\")\n",
    "res3g = (expandToDerivatives(motion_G))\n",
    "display(\"G done.\")"
   ]
  },
  {
   "cell_type": "code",
   "execution_count": 25,
   "metadata": {},
   "outputs": [
    {
     "data": {
      "text/latex": [
       "$\\displaystyle 2 \\left(0.5 t + 1\\right) \\left(\\theta \\left(1 - \\theta\\right) + r \\left(1 - r\\right)\\right) + \\frac{\\partial^{2}}{\\partial \\theta^{2}} a{\\left(t,\\varphi,\\theta,r \\right)} + \\frac{\\partial^{2}}{\\partial \\varphi^{2}} a{\\left(t,\\varphi,\\theta,r \\right)} + \\frac{\\partial^{2}}{\\partial r^{2}} a{\\left(t,\\varphi,\\theta,r \\right)} - \\frac{\\partial^{2}}{\\partial t^{2}} a{\\left(t,\\varphi,\\theta,r \\right)}$"
      ],
      "text/plain": [
       "(2*(0.5*t + 1))*(\\theta*(1 - \\theta) + r*(1 - r)) + Derivative(a(t, \\varphi, \\theta, r), (\\theta, 2)) + Derivative(a(t, \\varphi, \\theta, r), (\\varphi, 2)) + Derivative(a(t, \\varphi, \\theta, r), (r, 2)) - Derivative(a(t, \\varphi, \\theta, r), (t, 2))"
      ]
     },
     "metadata": {},
     "output_type": "display_data"
    },
    {
     "data": {
      "text/latex": [
       "$\\displaystyle \\frac{\\partial^{2}}{\\partial \\theta^{2}} F{\\left(t,\\varphi,\\theta,r \\right)} + \\frac{\\partial^{2}}{\\partial \\varphi^{2}} F{\\left(t,\\varphi,\\theta,r \\right)} + \\frac{\\partial^{2}}{\\partial r^{2}} F{\\left(t,\\varphi,\\theta,r \\right)} - \\frac{\\partial^{2}}{\\partial t^{2}} F{\\left(t,\\varphi,\\theta,r \\right)}$"
      ],
      "text/plain": [
       "Derivative(F(t, \\varphi, \\theta, r), (\\theta, 2)) + Derivative(F(t, \\varphi, \\theta, r), (\\varphi, 2)) + Derivative(F(t, \\varphi, \\theta, r), (r, 2)) - Derivative(F(t, \\varphi, \\theta, r), (t, 2))"
      ]
     },
     "metadata": {},
     "output_type": "display_data"
    },
    {
     "data": {
      "text/latex": [
       "$\\displaystyle \\frac{\\partial^{2}}{\\partial \\theta^{2}} G{\\left(t,\\varphi,\\theta,r \\right)} + \\frac{\\partial^{2}}{\\partial \\varphi^{2}} G{\\left(t,\\varphi,\\theta,r \\right)} + \\frac{\\partial^{2}}{\\partial r^{2}} G{\\left(t,\\varphi,\\theta,r \\right)} - \\frac{\\partial^{2}}{\\partial t^{2}} G{\\left(t,\\varphi,\\theta,r \\right)}$"
      ],
      "text/plain": [
       "Derivative(G(t, \\varphi, \\theta, r), (\\theta, 2)) + Derivative(G(t, \\varphi, \\theta, r), (\\varphi, 2)) + Derivative(G(t, \\varphi, \\theta, r), (r, 2)) - Derivative(G(t, \\varphi, \\theta, r), (t, 2))"
      ]
     },
     "metadata": {},
     "output_type": "display_data"
    }
   ],
   "source": [
    "display(res3a)\n",
    "display(res3f)\n",
    "display(res3g)"
   ]
  },
  {
   "cell_type": "code",
   "execution_count": 26,
   "metadata": {
    "scrolled": true
   },
   "outputs": [],
   "source": [
    "def getDelta(i):\n",
    "    if i == t:\n",
    "        return dt\n",
    "    if r == i:\n",
    "        return dr\n",
    "    if theta == i:\n",
    "        return dtheta\n",
    "    if phi == i:\n",
    "        return dphi\n",
    "\n",
    "def getIndex(i):\n",
    "    if t == i:\n",
    "        return 0\n",
    "    if phi == i:\n",
    "        return 1\n",
    "    if theta == i:\n",
    "        return 2\n",
    "    if r == i:\n",
    "        return 3\n",
    "\n",
    "def getFuncIndex(f):\n",
    "    if f==F:\n",
    "        return 1\n",
    "    if f==G:\n",
    "        return 2\n",
    "    if f==alfa:\n",
    "        return 0\n",
    "    \n",
    "def isThis(s, ix):\n",
    "    if ix != None and s in ix.keys():\n",
    "        return ix[s]\n",
    "    else: \n",
    "        return 0\n",
    "#http://www.iitg.ac.in/gtm/files/chap2.pdf\n",
    "#https://www.uio.no/studier/emner/matnat/math/MAT-INF1100/h07/undervisningsmateriale/kap7.pdf\n",
    "\n",
    "# 3: +1\n",
    "# 2:  0\n",
    "# 1: -1\n",
    "# 0: -2\n",
    "\n",
    "def getDiscreteSymbol(ndmat, f, ix=None):\n",
    "    canon = ndmat[getFuncIndex(f)][2+isThis(t, ix)][2+isThis(r, ix)][2+isThis(theta, ix)][2+isThis(phi, ix)]\n",
    "    return canon\n",
    "    \n",
    "def FOD(f, i, wrt):\n",
    "    if i==t:\n",
    "        canon = (getDiscreteSymbol(ndmat, f, ix={i:0}) - getDiscreteSymbol(ndmat, f, ix={i:-1}))/(getDelta(i))\n",
    "    else:\n",
    "        canon = (getDiscreteSymbol(ndmat, f, ix={i:0}) - getDiscreteSymbol(ndmat, f, ix={i:-1}))/(getDelta(i))\n",
    "    return canon\n",
    "\n",
    "def SOD(f, i, j, wrt):\n",
    "    if i==j:\n",
    "        if (f==wrt and i==t) or i != t:\n",
    "            canon = (getDiscreteSymbol(ndmat, f, ix={i:1}) - 2*getDiscreteSymbol(ndmat, f, ix={i:0}) + getDiscreteSymbol(ndmat, f, ix={i:-1}))/(getDelta(i)**2)\n",
    "        else:\n",
    "            canon = (getDiscreteSymbol(ndmat, f, ix={i:0}) - 2*getDiscreteSymbol(ndmat, f, ix={i:-1}) + getDiscreteSymbol(ndmat, f, ix={i:-2}))/(getDelta(i)**2)\n",
    "\n",
    "\n",
    "    else:\n",
    "        if i != t and t != j:\n",
    "            canon = (getDiscreteSymbol(ndmat, f, ix={i:1, j:1}) + getDiscreteSymbol(ndmat, f, ix={i:-1, j:-1}) - getDiscreteSymbol(ndmat, f, ix={i:1, j:-1}) - getDiscreteSymbol(ndmat, f, ix={i:-1, j:1}) )/(4*getDelta(i)*getDelta(j))\n",
    "        #backward difference\n",
    "        elif (j==t):\n",
    "            canon = (1/getDelta(i))*(((getDiscreteSymbol(ndmat, f, ix={i:1, j:0})-getDiscreteSymbol(ndmat, f, ix={i:0, j:0}))/(getDelta(j))) - ((getDiscreteSymbol(ndmat, f, ix={i:1, j:-1}) - getDiscreteSymbol(ndmat, f, ix={i:0, j:-1}))/(getDelta(j))))\n",
    "            \n",
    "            #canon = (1/(2*getDelta(i)*getDelta(j)))*(getDiscreteSymbol(ndmat, f, ix={i:0, j:1})-getDiscreteSymbol(ndmat, f, ix={i:-1, j:1})-getDiscreteSymbol(ndmat, f, ix={i:0, j:-1})-getDiscreteSymbol(ndmat, f, ix={i:-1, j:-1}))\n",
    "        elif (i == t):\n",
    "            #canon = (1/(2*getDelta(i)*getDelta(j)))*(getDiscreteSymbol(ndmat, f, ix={i:1, j:0})-getDiscreteSymbol(ndmat, f, ix={i:1, j:-1})-getDiscreteSymbol(ndmat, f, ix={i:-1, j:0})-getDiscreteSymbol(ndmat, f, ix={i:-1, j:-1}))\n",
    "            canon = (1/getDelta(i))*(((getDiscreteSymbol(ndmat, f, ix={i:0, j:1})-getDiscreteSymbol(ndmat, f, ix={i:0, j:0}))/(getDelta(j))) - ((getDiscreteSymbol(ndmat, f, ix={i:-1, j:1}) - getDiscreteSymbol(ndmat, f, ix={i:-1, j:0}))/(getDelta(j))))\n",
    "            \n",
    "        else:\n",
    "            print(\"what\")\n",
    "    return canon\n",
    "\n",
    "def discreti(arg, wrt):\n",
    "    if len(arg.variables) == 1:\n",
    "        return FOD(arg.expr, arg.variables[0], wrt)\n",
    "    elif len(arg.variables) == 2:\n",
    "        return SOD(arg.expr, arg.variables[0], arg.variables[1], wrt)\n",
    "    else:\n",
    "        return None"
   ]
  },
  {
   "cell_type": "code",
   "execution_count": 27,
   "metadata": {},
   "outputs": [],
   "source": [
    "def discretizeDerivatives(func, wrt):\n",
    "    res = func.replace(lambda arg: arg.is_Derivative, lambda arg: discreti(arg, wrt))\n",
    "    res = res.replace(F, getDiscreteSymbol(ndmat, F))\n",
    "    res = res.replace(G, getDiscreteSymbol(ndmat, G))\n",
    "    return res.replace(alfa, getDiscreteSymbol(ndmat, alfa))"
   ]
  },
  {
   "cell_type": "code",
   "execution_count": 28,
   "metadata": {},
   "outputs": [],
   "source": [
    "res7a = discretizeDerivatives(res3a, alfa)\n",
    "\n",
    "res7f = discretizeDerivatives(res3f, F)\n",
    "\n",
    "res7g = discretizeDerivatives(res3g, G)"
   ]
  },
  {
   "cell_type": "code",
   "execution_count": 29,
   "metadata": {},
   "outputs": [
    {
     "data": {
      "text/latex": [
       "$\\displaystyle 2 \\left(0.5 t + 1\\right) \\left(\\theta \\left(1 - \\theta\\right) + r \\left(1 - r\\right)\\right) + \\frac{a_{2212} - 2 a_{2222} + a_{2232}}{dtheta^{2}} - \\frac{a_{1222} - 2 a_{2222} + a_{3222}}{dt^{2}} + \\frac{a_{2122} - 2 a_{2222} + a_{2322}}{dr^{2}} + \\frac{a_{2221} - 2 a_{2222} + a_{2223}}{dphi^{2}}$"
      ],
      "text/plain": [
       "(2*(0.5*t + 1))*(\\theta*(1 - \\theta) + r*(1 - r)) + (a2212 - 2*a2222 + a2232)/dtheta**2 - (a1222 - 2*a2222 + a3222)/dt**2 + (a2122 - 2*a2222 + a2322)/dr**2 + (a2221 - 2*a2222 + a2223)/dphi**2"
      ]
     },
     "metadata": {},
     "output_type": "display_data"
    },
    {
     "data": {
      "text/latex": [
       "$\\displaystyle \\frac{F_{2212} - 2 F_{2222} + F_{2232}}{dtheta^{2}} - \\frac{F_{1222} - 2 F_{2222} + F_{3222}}{dt^{2}} + \\frac{F_{2122} - 2 F_{2222} + F_{2322}}{dr^{2}} + \\frac{F_{2221} - 2 F_{2222} + F_{2223}}{dphi^{2}}$"
      ],
      "text/plain": [
       "(F2212 - 2*F2222 + F2232)/dtheta**2 - (F1222 - 2*F2222 + F3222)/dt**2 + (F2122 - 2*F2222 + F2322)/dr**2 + (F2221 - 2*F2222 + F2223)/dphi**2"
      ]
     },
     "metadata": {},
     "output_type": "display_data"
    },
    {
     "data": {
      "text/latex": [
       "$\\displaystyle \\frac{G_{2212} - 2 G_{2222} + G_{2232}}{dtheta^{2}} - \\frac{G_{1222} - 2 G_{2222} + G_{3222}}{dt^{2}} + \\frac{G_{2122} - 2 G_{2222} + G_{2322}}{dr^{2}} + \\frac{G_{2221} - 2 G_{2222} + G_{2223}}{dphi^{2}}$"
      ],
      "text/plain": [
       "(G2212 - 2*G2222 + G2232)/dtheta**2 - (G1222 - 2*G2222 + G3222)/dt**2 + (G2122 - 2*G2222 + G2322)/dr**2 + (G2221 - 2*G2222 + G2223)/dphi**2"
      ]
     },
     "metadata": {},
     "output_type": "display_data"
    }
   ],
   "source": [
    "display(res7a)\n",
    "display(res7f)\n",
    "display(res7g)"
   ]
  },
  {
   "cell_type": "code",
   "execution_count": 30,
   "metadata": {},
   "outputs": [],
   "source": [
    "expra = ccode(res7a).replace(\"\\\\\", \"\")\n",
    "exprf = ccode(res7f).replace(\"\\\\\", \"\")\n",
    "exprg = ccode(res7g).replace(\"\\\\\", \"\")"
   ]
  },
  {
   "cell_type": "code",
   "execution_count": 31,
   "metadata": {},
   "outputs": [
    {
     "data": {
      "text/plain": [
       "'(2*(0.5*t + 1))*(theta*(1 - theta) + r*(1 - r)) + (a2212 - 2*a2222 + a2232)/pow(dtheta, 2) - (a1222 - 2*a2222 + a3222)/pow(dt, 2) + (a2122 - 2*a2222 + a2322)/pow(dr, 2) + (a2221 - 2*a2222 + a2223)/pow(dphi, 2)'"
      ]
     },
     "execution_count": 31,
     "metadata": {},
     "output_type": "execute_result"
    }
   ],
   "source": [
    "expra"
   ]
  },
  {
   "cell_type": "code",
   "execution_count": 32,
   "metadata": {},
   "outputs": [],
   "source": [
    "def getSymbolsUsed(expr):\n",
    "    syms = \"\"\n",
    "    for _y in expr.free_symbols:\n",
    "        syms += str(_y)+\" \"\n",
    "    return syms[:-1]"
   ]
  },
  {
   "cell_type": "code",
   "execution_count": 33,
   "metadata": {},
   "outputs": [
    {
     "name": "stdout",
     "output_type": "stream",
     "text": [
      "Symbols for a: \n",
      " [ \\theta a1222 a2122 a2223 a3222 a2222 r t a2322 a2212 dphi a2221 dt dr a2232 dtheta ]\n",
      "Symbols for F: \n",
      " [ F2232 F2212 F2122 F2222 F2223 dphi F2221 dt dr F2322 F1222 dtheta F3222 ]\n",
      "Symbols for G: \n",
      " [ G2122 G2222 dphi dt G2223 G2212 G2221 dr dtheta G3222 G1222 G2322 G2232 ]\n"
     ]
    }
   ],
   "source": [
    "symma = getSymbolsUsed(res7a)\n",
    "print(\"Symbols for a: \\n [\", symma, \"]\")\n",
    "\n",
    "symmf = getSymbolsUsed(res7f)\n",
    "print(\"Symbols for F: \\n [\", symmf, \"]\")\n",
    "\n",
    "symmg = getSymbolsUsed(res7g)\n",
    "print(\"Symbols for G: \\n [\", symmg, \"]\")\n"
   ]
  },
  {
   "cell_type": "code",
   "execution_count": 34,
   "metadata": {},
   "outputs": [],
   "source": [
    "#import pyximport\n",
    "#pyximport.install()\n",
    "from sage.all import *\n",
    "import sage as sg\n",
    "\n",
    "var(symma.replace(\"\\\\\", \"\"))\n",
    "var(symmf.replace(\"\\\\\", \"\"))\n",
    "var(symmg.replace(\"\\\\\", \"\"))\n",
    "var(symbolsString.replace(\"\\\\\", \"\"))\n",
    "var(\"E4 E5 E6 r theta global_phi\")\n",
    "\n",
    "pi_4 = E4*sin(dr*r)*sin(dtheta*theta)*sin(dphi*global_phi)\n",
    "pi_5 = E5*sin(dr*r)*sin(dtheta*theta)*sin(dphi*global_phi)\n",
    "pi_6 = E6*sin(dr*r)*sin(dtheta*theta)*sin(dphi*global_phi)\n",
    "\n",
    "#dAdt = \"0 + pi_4\"\n",
    "dAdt = \"0.5*(dr*r*(1 - dr*r)*dtheta*theta*(1 - dtheta*theta))\"\n",
    "\n",
    "\n",
    "\n",
    "dFdt = \"0 + pi_5\"\n",
    "dGdt = \"p/L + pi_6\"\n",
    "\n",
    "def solveWithSage(expr, symbols, x):\n",
    "    print(expr)\n",
    "    wata = eval(expr)\n",
    "    resa = sg.symbolic.relation.solve(wata, x)\n",
    "    return resa[0]"
   ]
  },
  {
   "cell_type": "code",
   "execution_count": 35,
   "metadata": {
    "scrolled": true
   },
   "outputs": [],
   "source": [
    "def getDerivative(eq, var):\n",
    "    if type(eq) == int:\n",
    "        return 0\n",
    "    else:\n",
    "        try:\n",
    "            return eq.derivative(var)\n",
    "        except:\n",
    "            return 0\n",
    "\n",
    "\n",
    "def replaceOtherFunctionsNegative(expr, func, func1, func2, ofunc1dt, ofunc2dt):\n",
    "    auxofun1 = eval(func1+\"2222\") - 2.0*dt*ofunc1dt \n",
    "    auxofun2 = eval(func2+\"2222\") - 2.0*dt*ofunc2dt \n",
    "    \n",
    "    firsta = expr.subs({eval(func1+\"0222\") : auxofun1})\n",
    "    firsta = firsta.subs({eval(func2+\"0222\") : auxofun2})\n",
    "    firstaa = sg.symbolic.relation.solve(firsta, eval(func+\"3222\"))\n",
    "    try:\n",
    "        return firstaa[0]#.collect_common_factors().full_simplify().collect_common_factors()\n",
    "    except:\n",
    "        return firstaa\n"
   ]
  },
  {
   "cell_type": "code",
   "execution_count": 36,
   "metadata": {},
   "outputs": [
    {
     "name": "stdout",
     "output_type": "stream",
     "text": [
      "(2*(0.5*t + 1))*(theta*(1 - theta) + r*(1 - r)) + (a2212 - 2*a2222 + a2232)/pow(dtheta, 2) - (a1222 - 2*a2222 + a3222)/pow(dt, 2) + (a2122 - 2*a2222 + a2322)/pow(dr, 2) + (a2221 - 2*a2222 + a2223)/pow(dphi, 2)\n"
     ]
    },
    {
     "data": {
      "text/plain": [
       "a3222 == -(2*dphi^2*dr^2*dt^2*dtheta^2*r^2 - 2*dphi^2*dr^2*dt^2*dtheta^2*r - (a2212 - 2*a2222 + a2232)*dphi^2*dr^2*dt^2 + ((a1222 - 2*a2222)*dphi^2*dr^2 - ((a2122 - 2*a2222 + a2322)*dphi^2 + (a2221 - 2*a2222 + a2223)*dr^2)*dt^2)*dtheta^2 + (dphi^2*dr^2*dt^2*dtheta^2*t + 2*dphi^2*dr^2*dt^2*dtheta^2)*theta^2 + (dphi^2*dr^2*dt^2*dtheta^2*r^2 - dphi^2*dr^2*dt^2*dtheta^2*r)*t - (dphi^2*dr^2*dt^2*dtheta^2*t + 2*dphi^2*dr^2*dt^2*dtheta^2)*theta)/(dphi^2*dr^2*dtheta^2)"
      ]
     },
     "execution_count": 36,
     "metadata": {},
     "output_type": "execute_result"
    }
   ],
   "source": [
    "ra = solveWithSage(expra, symma, a3222)\n",
    "ra"
   ]
  },
  {
   "cell_type": "code",
   "execution_count": 37,
   "metadata": {
    "scrolled": true
   },
   "outputs": [
    {
     "name": "stdout",
     "output_type": "stream",
     "text": [
      "72\n"
     ]
    }
   ],
   "source": [
    "def nops(expr):\n",
    "    count = 0\n",
    "    string = ccode(expr._sympy_())\n",
    "    count += string.count(\"*\")\n",
    "    count += string.count(\"^\")\n",
    "    count += string.count(\"-\")\n",
    "    count += string.count(\"+\")\n",
    "    count += string.count(\"/\")\n",
    "    return count\n",
    "\n",
    "print(nops(ra))\n",
    "#print(nops(rf))\n",
    "#print(nops(rg))"
   ]
  },
  {
   "cell_type": "code",
   "execution_count": 38,
   "metadata": {},
   "outputs": [
    {
     "name": "stdout",
     "output_type": "stream",
     "text": [
      "a3222 == -(2*dphi^2*dr^2*dt^2*dtheta^2*r^2 - 2*dphi^2*dr^2*dt^2*dtheta^2*r - (a2212 - 2*a2222 + a2232)*dphi^2*dr^2*dt^2 + ((a1222 - 2*a2222)*dphi^2*dr^2 - ((a2122 - 2*a2222 + a2322)*dphi^2 + (a2221 - 2*a2222 + a2223)*dr^2)*dt^2)*dtheta^2 + (dphi^2*dr^2*dt^2*dtheta^2*t + 2*dphi^2*dr^2*dt^2*dtheta^2)*theta^2 + (dphi^2*dr^2*dt^2*dtheta^2*r^2 - dphi^2*dr^2*dt^2*dtheta^2*r)*t - (dphi^2*dr^2*dt^2*dtheta^2*t + 2*dphi^2*dr^2*dt^2*dtheta^2)*theta)/(dphi^2*dr^2*dtheta^2)\n"
     ]
    }
   ],
   "source": [
    "newra = replaceOtherFunctionsNegative(ra, \"a\", \"F\", \"G\", eval(dFdt), eval(dGdt))\n",
    "print(newra)"
   ]
  },
  {
   "cell_type": "code",
   "execution_count": 39,
   "metadata": {},
   "outputs": [
    {
     "name": "stdout",
     "output_type": "stream",
     "text": [
      "(F2212 - 2*F2222 + F2232)/pow(dtheta, 2) - (F1222 - 2*F2222 + F3222)/pow(dt, 2) + (F2122 - 2*F2222 + F2322)/pow(dr, 2) + (F2221 - 2*F2222 + F2223)/pow(dphi, 2)\n",
      "F3222 == ((F2212 - 2*F2222 + F2232)*dphi^2*dr^2*dt^2 - ((F1222 - 2*F2222)*dphi^2*dr^2 - ((F2122 - 2*F2222 + F2322)*dphi^2 + (F2221 - 2*F2222 + F2223)*dr^2)*dt^2)*dtheta^2)/(dphi^2*dr^2*dtheta^2)\n"
     ]
    }
   ],
   "source": [
    "rf = solveWithSage(exprf, symmf, F3222)\n",
    "print(rf)"
   ]
  },
  {
   "cell_type": "code",
   "execution_count": 40,
   "metadata": {},
   "outputs": [
    {
     "name": "stdout",
     "output_type": "stream",
     "text": [
      "F3222 == ((F2212 - 2*F2222 + F2232)*dphi^2*dr^2*dt^2 - ((F1222 - 2*F2222)*dphi^2*dr^2 - ((F2122 - 2*F2222 + F2322)*dphi^2 + (F2221 - 2*F2222 + F2223)*dr^2)*dt^2)*dtheta^2)/(dphi^2*dr^2*dtheta^2)\n"
     ]
    }
   ],
   "source": [
    "newrf = replaceOtherFunctionsNegative(rf, \"F\", \"a\", \"G\", eval(dAdt), eval(dGdt))\n",
    "print(newrf)"
   ]
  },
  {
   "cell_type": "code",
   "execution_count": 41,
   "metadata": {
    "scrolled": true
   },
   "outputs": [
    {
     "name": "stdout",
     "output_type": "stream",
     "text": [
      "(G2212 - 2*G2222 + G2232)/pow(dtheta, 2) - (G1222 - 2*G2222 + G3222)/pow(dt, 2) + (G2122 - 2*G2222 + G2322)/pow(dr, 2) + (G2221 - 2*G2222 + G2223)/pow(dphi, 2)\n",
      "G3222 == ((G2212 - 2*G2222 + G2232)*dphi^2*dr^2*dt^2 - ((G1222 - 2*G2222)*dphi^2*dr^2 - ((G2122 - 2*G2222 + G2322)*dphi^2 + (G2221 - 2*G2222 + G2223)*dr^2)*dt^2)*dtheta^2)/(dphi^2*dr^2*dtheta^2)\n"
     ]
    }
   ],
   "source": [
    "rg = solveWithSage(exprg, symmg, G3222)\n",
    "print(rg)"
   ]
  },
  {
   "cell_type": "code",
   "execution_count": 42,
   "metadata": {},
   "outputs": [
    {
     "name": "stdout",
     "output_type": "stream",
     "text": [
      "G3222 == ((G2212 - 2*G2222 + G2232)*dphi^2*dr^2*dt^2 - ((G1222 - 2*G2222)*dphi^2*dr^2 - ((G2122 - 2*G2222 + G2322)*dphi^2 + (G2221 - 2*G2222 + G2223)*dr^2)*dt^2)*dtheta^2)/(dphi^2*dr^2*dtheta^2)\n"
     ]
    }
   ],
   "source": [
    "newrg = replaceOtherFunctionsNegative(rg, \"G\", \"a\", \"F\", eval(dAdt), eval(dFdt))\n",
    "print(newrg)"
   ]
  },
  {
   "cell_type": "code",
   "execution_count": 43,
   "metadata": {},
   "outputs": [],
   "source": [
    "import re\n",
    "def i2i(arg, index):\n",
    "    if index == \"0\":\n",
    "        return \"(\"+arg+\"-2)\"\n",
    "    if index == \"1\":\n",
    "        return \"(\"+arg+\"-1)\"\n",
    "    if index == \"2\":\n",
    "        return \"(\"+arg+\")\"\n",
    "    if index == \"3\":\n",
    "        return \"(\"+arg+\"+1)\"\n",
    "def i2iTime(arg, index):\n",
    "    if index == \"0\":\n",
    "        return \"(tm2)\"\n",
    "    if index == \"1\":\n",
    "        return \"(tm1)\"\n",
    "    if index == \"2\":\n",
    "        return \"(t)\"\n",
    "    if index == \"3\":\n",
    "        return \"(tp1)\"    \n",
    "def getCArray(ids):\n",
    "    res = \"\"\n",
    "    args = [\"t\", \"threadIdx.z\", \"threadIdx.y\", \"threadIdx.x\"]\n",
    "    sizes = [\"L\", \"O\", \"N\", \"M\"]\n",
    "    for i, c in enumerate(ids):\n",
    "        if args[i] == \"t\":\n",
    "            res += i2iTime(args[i], c)+\",\"\n",
    "        else:\n",
    "            res += i2i(args[i], c)+\",\"\n",
    "        #for j,s in enumerate(sizes[i+1:]):\n",
    "            #res+=\"*\"+s\n",
    "        #res+=\"+\"\n",
    "    return res[:-1]\n",
    "\n",
    "\n",
    "def getExpressionInC(expr):\n",
    "    \n",
    "    traduc = ccode(expr)\n",
    "\n",
    "    indexes = [m.start() for m in re.finditer(r'[a-zA-Z]\\d\\d\\d\\d', traduc)]\n",
    "    for i in reversed(indexes):\n",
    "        traduc = traduc[:i+1]+\"[I(\"+ getCArray(traduc[i+1:i+5]) +\")]\"+ traduc[i+5:]\n",
    "    traduc = traduc.replace(\"a[I(\", \"shmem[CI(0,\")\n",
    "    traduc = traduc.replace(\"F[I(\", \"shmem[CI(1,\")\n",
    "    traduc = traduc.replace(\"G[I(\", \"shmem[CI(2,\")\n",
    "    \n",
    "    traduc = traduc.replace(\"threadIdx.x+1\", \"tidxp\")\n",
    "    traduc = traduc.replace(\"threadIdx.x-1\", \"tidxm\")\n",
    "    traduc = traduc.replace(\"threadIdx.y+1\", \"tidyp\")\n",
    "    traduc = traduc.replace(\"threadIdx.y-1\", \"tidym\")\n",
    "    traduc = traduc.replace(\"threadIdx.z+1\", \"tidzp\")\n",
    "    traduc = traduc.replace(\"threadIdx.z-1\", \"tidzm\")    \n",
    "\n",
    "\n",
    "    return traduc"
   ]
  },
  {
   "cell_type": "code",
   "execution_count": 44,
   "metadata": {},
   "outputs": [
    {
     "data": {
      "text/plain": [
       "'shmem[CI(0,(tp1),(threadIdx.z),(threadIdx.y),(threadIdx.x))] == -(2*pow(dphi, 2)*pow(dr, 2)*pow(dt, 2)*pow(dtheta, 2)*pow(r, 2) - 2*pow(dphi, 2)*pow(dr, 2)*pow(dt, 2)*pow(dtheta, 2)*r - pow(dphi, 2)*pow(dr, 2)*pow(dt, 2)*(shmem[CI(0,(t),(threadIdx.z),(tidym),(threadIdx.x))] - 2*shmem[CI(0,(t),(threadIdx.z),(threadIdx.y),(threadIdx.x))] + shmem[CI(0,(t),(threadIdx.z),(tidyp),(threadIdx.x))]) + pow(dtheta, 2)*(pow(dphi, 2)*pow(dr, 2)*(shmem[CI(0,(tm1),(threadIdx.z),(threadIdx.y),(threadIdx.x))] - 2*shmem[CI(0,(t),(threadIdx.z),(threadIdx.y),(threadIdx.x))]) - pow(dt, 2)*(pow(dphi, 2)*(shmem[CI(0,(t),(tidzm),(threadIdx.y),(threadIdx.x))] - 2*shmem[CI(0,(t),(threadIdx.z),(threadIdx.y),(threadIdx.x))] + shmem[CI(0,(t),(tidzp),(threadIdx.y),(threadIdx.x))]) + pow(dr, 2)*(shmem[CI(0,(t),(threadIdx.z),(threadIdx.y),(tidxm))] - 2*shmem[CI(0,(t),(threadIdx.z),(threadIdx.y),(threadIdx.x))] + shmem[CI(0,(t),(threadIdx.z),(threadIdx.y),(tidxp))]))) + t*(pow(dphi, 2)*pow(dr, 2)*pow(dt, 2)*pow(dtheta, 2)*pow(r, 2) - pow(dphi, 2)*pow(dr, 2)*pow(dt, 2)*pow(dtheta, 2)*r) + pow(theta, 2)*(pow(dphi, 2)*pow(dr, 2)*pow(dt, 2)*pow(dtheta, 2)*t + 2*pow(dphi, 2)*pow(dr, 2)*pow(dt, 2)*pow(dtheta, 2)) - theta*(pow(dphi, 2)*pow(dr, 2)*pow(dt, 2)*pow(dtheta, 2)*t + 2*pow(dphi, 2)*pow(dr, 2)*pow(dt, 2)*pow(dtheta, 2)))/(pow(dphi, 2)*pow(dr, 2)*pow(dtheta, 2))'"
      ]
     },
     "execution_count": 44,
     "metadata": {},
     "output_type": "execute_result"
    }
   ],
   "source": [
    "expr_a = getExpressionInC(ra._sympy_())\n",
    "expr_a"
   ]
  },
  {
   "cell_type": "code",
   "execution_count": 45,
   "metadata": {},
   "outputs": [
    {
     "data": {
      "text/plain": [
       "'shmem[CI(0,(tp1),(threadIdx.z),(threadIdx.y),(threadIdx.x))] == -(2*pow(dphi, 2)*pow(dr, 2)*pow(dt, 2)*pow(dtheta, 2)*pow(r, 2) - 2*pow(dphi, 2)*pow(dr, 2)*pow(dt, 2)*pow(dtheta, 2)*r - pow(dphi, 2)*pow(dr, 2)*pow(dt, 2)*(shmem[CI(0,(t),(threadIdx.z),(tidym),(threadIdx.x))] - 2*shmem[CI(0,(t),(threadIdx.z),(threadIdx.y),(threadIdx.x))] + shmem[CI(0,(t),(threadIdx.z),(tidyp),(threadIdx.x))]) + pow(dtheta, 2)*(pow(dphi, 2)*pow(dr, 2)*(shmem[CI(0,(tm1),(threadIdx.z),(threadIdx.y),(threadIdx.x))] - 2*shmem[CI(0,(t),(threadIdx.z),(threadIdx.y),(threadIdx.x))]) - pow(dt, 2)*(pow(dphi, 2)*(shmem[CI(0,(t),(tidzm),(threadIdx.y),(threadIdx.x))] - 2*shmem[CI(0,(t),(threadIdx.z),(threadIdx.y),(threadIdx.x))] + shmem[CI(0,(t),(tidzp),(threadIdx.y),(threadIdx.x))]) + pow(dr, 2)*(shmem[CI(0,(t),(threadIdx.z),(threadIdx.y),(tidxm))] - 2*shmem[CI(0,(t),(threadIdx.z),(threadIdx.y),(threadIdx.x))] + shmem[CI(0,(t),(threadIdx.z),(threadIdx.y),(tidxp))]))) + t*(pow(dphi, 2)*pow(dr, 2)*pow(dt, 2)*pow(dtheta, 2)*pow(r, 2) - pow(dphi, 2)*pow(dr, 2)*pow(dt, 2)*pow(dtheta, 2)*r) + pow(theta, 2)*(pow(dphi, 2)*pow(dr, 2)*pow(dt, 2)*pow(dtheta, 2)*t + 2*pow(dphi, 2)*pow(dr, 2)*pow(dt, 2)*pow(dtheta, 2)) - theta*(pow(dphi, 2)*pow(dr, 2)*pow(dt, 2)*pow(dtheta, 2)*t + 2*pow(dphi, 2)*pow(dr, 2)*pow(dt, 2)*pow(dtheta, 2)))/(pow(dphi, 2)*pow(dr, 2)*pow(dtheta, 2))'"
      ]
     },
     "execution_count": 45,
     "metadata": {},
     "output_type": "execute_result"
    }
   ],
   "source": [
    "expr_newa = getExpressionInC(newra._sympy_())\n",
    "expr_newa"
   ]
  },
  {
   "cell_type": "code",
   "execution_count": 46,
   "metadata": {},
   "outputs": [
    {
     "data": {
      "text/plain": [
       "'),(threadIdx.y),(threadIdx.x))] == (pow(dphi, 2)*pow(dr, 2)*pow(dt, 2)*(shmem[CI(1,(t),(threadIdx.z),(tidym),(threadIdx.x))] - 2*shmem[CI(1,(t),(threadIdx.z),(threadIdx.y),(threadIdx.x))] + shmem[CI(1,(t),(threadIdx.z),(tidyp),(threadIdx.x))]) - pow(dtheta, 2)*(pow(dphi, 2)*pow(dr, 2)*(shmem[CI(1,(tm1),(threadIdx.z),(threadIdx.y),(threadIdx.x))] - 2*shmem[CI(1,(t),(threadIdx.z),(threadIdx.y),(threadIdx.x))]) - pow(dt, 2)*(pow(dphi, 2)*(shmem[CI(1,(t),(tidzm),(threadIdx.y),(threadIdx.x))] - 2*shmem[CI(1,(t),(threadIdx.z),(threadIdx.y),(threadIdx.x))] + shmem[CI(1,(t),(tidzp),(threadIdx.y),(threadIdx.x))]) + pow(dr, 2)*(shmem[CI(1,(t),(threadIdx.z),(threadIdx.y),(tidxm))] - 2*shmem[CI(1,(t),(threadIdx.z),(threadIdx.y),(threadIdx.x))] + shmem[CI(1,(t),(threadIdx.z),(threadIdx.y),(tidxp))]))))/(pow(dphi, 2)*pow(dr, 2)*pow(dtheta, 2))'"
      ]
     },
     "execution_count": 46,
     "metadata": {},
     "output_type": "execute_result"
    }
   ],
   "source": [
    "expr_f = getExpressionInC(rf._sympy_())\n",
    "expr_f[29:]"
   ]
  },
  {
   "cell_type": "code",
   "execution_count": 47,
   "metadata": {},
   "outputs": [
    {
     "data": {
      "text/plain": [
       "'),(threadIdx.y),(threadIdx.x))] == (pow(dphi, 2)*pow(dr, 2)*pow(dt, 2)*(shmem[CI(1,(t),(threadIdx.z),(tidym),(threadIdx.x))] - 2*shmem[CI(1,(t),(threadIdx.z),(threadIdx.y),(threadIdx.x))] + shmem[CI(1,(t),(threadIdx.z),(tidyp),(threadIdx.x))]) - pow(dtheta, 2)*(pow(dphi, 2)*pow(dr, 2)*(shmem[CI(1,(tm1),(threadIdx.z),(threadIdx.y),(threadIdx.x))] - 2*shmem[CI(1,(t),(threadIdx.z),(threadIdx.y),(threadIdx.x))]) - pow(dt, 2)*(pow(dphi, 2)*(shmem[CI(1,(t),(tidzm),(threadIdx.y),(threadIdx.x))] - 2*shmem[CI(1,(t),(threadIdx.z),(threadIdx.y),(threadIdx.x))] + shmem[CI(1,(t),(tidzp),(threadIdx.y),(threadIdx.x))]) + pow(dr, 2)*(shmem[CI(1,(t),(threadIdx.z),(threadIdx.y),(tidxm))] - 2*shmem[CI(1,(t),(threadIdx.z),(threadIdx.y),(threadIdx.x))] + shmem[CI(1,(t),(threadIdx.z),(threadIdx.y),(tidxp))]))))/(pow(dphi, 2)*pow(dr, 2)*pow(dtheta, 2))'"
      ]
     },
     "execution_count": 47,
     "metadata": {},
     "output_type": "execute_result"
    }
   ],
   "source": [
    "expr_newf = getExpressionInC(newrf._sympy_())\n",
    "expr_newf[29:]"
   ]
  },
  {
   "cell_type": "code",
   "execution_count": 48,
   "metadata": {
    "scrolled": true
   },
   "outputs": [
    {
     "data": {
      "text/plain": [
       "'),(threadIdx.y),(threadIdx.x))] == (pow(dphi, 2)*pow(dr, 2)*pow(dt, 2)*(shmem[CI(2,(t),(threadIdx.z),(tidym),(threadIdx.x))] - 2*shmem[CI(2,(t),(threadIdx.z),(threadIdx.y),(threadIdx.x))] + shmem[CI(2,(t),(threadIdx.z),(tidyp),(threadIdx.x))]) - pow(dtheta, 2)*(pow(dphi, 2)*pow(dr, 2)*(shmem[CI(2,(tm1),(threadIdx.z),(threadIdx.y),(threadIdx.x))] - 2*shmem[CI(2,(t),(threadIdx.z),(threadIdx.y),(threadIdx.x))]) - pow(dt, 2)*(pow(dphi, 2)*(shmem[CI(2,(t),(tidzm),(threadIdx.y),(threadIdx.x))] - 2*shmem[CI(2,(t),(threadIdx.z),(threadIdx.y),(threadIdx.x))] + shmem[CI(2,(t),(tidzp),(threadIdx.y),(threadIdx.x))]) + pow(dr, 2)*(shmem[CI(2,(t),(threadIdx.z),(threadIdx.y),(tidxm))] - 2*shmem[CI(2,(t),(threadIdx.z),(threadIdx.y),(threadIdx.x))] + shmem[CI(2,(t),(threadIdx.z),(threadIdx.y),(tidxp))]))))/(pow(dphi, 2)*pow(dr, 2)*pow(dtheta, 2))'"
      ]
     },
     "execution_count": 48,
     "metadata": {},
     "output_type": "execute_result"
    }
   ],
   "source": [
    "expr_g = getExpressionInC(rg._sympy_())\n",
    "expr_g[29:]"
   ]
  },
  {
   "cell_type": "code",
   "execution_count": 49,
   "metadata": {},
   "outputs": [
    {
     "data": {
      "text/plain": [
       "' (pow(dphi, 2)*pow(dr, 2)*pow(dt, 2)*(shmem[CI(2,(t),(threadIdx.z),(tidym),(threadIdx.x))] - 2*shmem[CI(2,(t),(threadIdx.z),(threadIdx.y),(threadIdx.x))] + shmem[CI(2,(t),(threadIdx.z),(tidyp),(threadIdx.x))]) - pow(dtheta, 2)*(pow(dphi, 2)*pow(dr, 2)*(shmem[CI(2,(tm1),(threadIdx.z),(threadIdx.y),(threadIdx.x))] - 2*shmem[CI(2,(t),(threadIdx.z),(threadIdx.y),(threadIdx.x))]) - pow(dt, 2)*(pow(dphi, 2)*(shmem[CI(2,(t),(tidzm),(threadIdx.y),(threadIdx.x))] - 2*shmem[CI(2,(t),(threadIdx.z),(threadIdx.y),(threadIdx.x))] + shmem[CI(2,(t),(tidzp),(threadIdx.y),(threadIdx.x))]) + pow(dr, 2)*(shmem[CI(2,(t),(threadIdx.z),(threadIdx.y),(tidxm))] - 2*shmem[CI(2,(t),(threadIdx.z),(threadIdx.y),(threadIdx.x))] + shmem[CI(2,(t),(threadIdx.z),(threadIdx.y),(tidxp))]))))/(pow(dphi, 2)*pow(dr, 2)*pow(dtheta, 2))'"
      ]
     },
     "execution_count": 49,
     "metadata": {},
     "output_type": "execute_result"
    }
   ],
   "source": [
    "expr_newg = getExpressionInC(newrg._sympy_())\n",
    "expr_newg[63:]"
   ]
  },
  {
   "cell_type": "code",
   "execution_count": 50,
   "metadata": {},
   "outputs": [],
   "source": [
    "def writeDefinitionGPU(filename, template, expr, arr):\n",
    "    import os.path\n",
    "    data = \"\"\n",
    "    #check if header already exist\n",
    "    if os.path.isfile(filename+\".cu\"):\n",
    "        #in that case, just append new declaration\n",
    "        fin = open(filename+\".cu\", \"rt\")\n",
    "        data = fin.read()\n",
    "        fin.close()\n",
    "    else:\n",
    "        data = \"//### THIS IS A GENERATED FILE - DO NOT MODIFY ### \\n \\\n",
    "#include \\\"\"+filename.split('/')[-1]+\".cuh\\\"\\n \\\n",
    "#include \\\"SharedMem.cuh\\\"\\n\"\n",
    "    string = ''\n",
    "    if arr == 'a':\n",
    "        string = '0'\n",
    "    elif arr == 'F':\n",
    "        string = '1'\n",
    "    else:\n",
    "        string = '2'\n",
    "    data = data + '\\n' + template + \"\"\"{\n",
    "    int r = blockIdx.x*blockDim.x + threadIdx.x;\n",
    "    int theta = blockIdx.y*blockDim.y + threadIdx.y;\n",
    "    int phi = blockIdx.z*blockDim.z + threadIdx.z;\n",
    "    int global_phi = phi + phi_offset;\n",
    "    \n",
    "    extern __shared__ REAL shmem[];\n",
    "    if (r<M && theta<N && phi<O){\n",
    "        fillSharedMemory(shmem, a, F, G, M, N, O, global_phi, r, theta, phi);\n",
    "    }\n",
    "    __syncthreads();\n",
    "    if (r<M && theta<N && phi<O){\n",
    "        int tidxp = threadIdx.x+1;\n",
    "        int tidxm = threadIdx.x-1;\n",
    "        \n",
    "        int tidyp = threadIdx.y+1;\n",
    "        int tidym = threadIdx.y-1;        \n",
    "        \n",
    "        int tidzp = threadIdx.z+1;\n",
    "        int tidzm = threadIdx.z-1;\n",
    "        \n",
    "        \"\"\" + \"\\n \\\n",
    "\\t\\tshmem[CI(\"+string+\", tp1, threadIdx.z, threadIdx.y, threadIdx.x)] = \" + expr + \";\\n\\t}\\n \\\n",
    "    __syncthreads();\\n\\\n",
    "    if (r<M && theta<N && phi<O){\\\n",
    "        copySharedMemoryToGlobal\"+str(arr)+\"(shmem, a, F, G, M, N, O, global_phi, r, theta, phi, tp1);\\n\\\n",
    "    }\\n\\\n",
    "}\"\n",
    "    \n",
    "    fin = open(filename+\".cu\", \"wt\")\n",
    "    fin.write(data)\n",
    "    fin.close()\n",
    "\n",
    "def writeDeclarationGPU(filename, template):\n",
    "    import os.path\n",
    "    data = \"\"\n",
    "    #check if header already exist\n",
    "    if os.path.isfile(filename+\".cuh\"):\n",
    "        #in that case, just append new declaration\n",
    "        fin = open(filename+\".cuh\", \"rt\")\n",
    "        data = fin.read()\n",
    "        fin.close()\n",
    "    else:\n",
    "        data = \"//### THIS IS A GENERATED FILE - DO NOT MODIFY ### \\n \\\n",
    "#pragma once\\n \\\n",
    "#include <iostream>\\n \\\n",
    "#include <unistd.h>\\n \\\n",
    "#include <vector>\\n \\\n",
    "#include <string>\\n \\\n",
    "#include <fstream>\\n \\\n",
    "#include <cmath>\\n \\\n",
    "#include \\\"defines.h\\\"\\n \\\n",
    "using namespace std;\\n\"\n",
    "    \n",
    "    data = data + '\\n' + template + \";\"\n",
    "    \n",
    "    fin = open(filename+\".cuh\", \"wt\")\n",
    "    fin.write(data)\n",
    "    fin.close()\n",
    "\n",
    "def cleanOldFilesGPU(file):\n",
    "    import os\n",
    "    try:\n",
    "        os.remove(file + \".cu\")    \n",
    "        os.remove(file + \".cuh\")\n",
    "    except:\n",
    "        return \"Already gone.\"\n",
    "\n",
    "def writePairs(filename, funcname, expr):\n",
    "    writeDeclarationGPU(filename, \"__global__ void \"+funcname+\"(REAL *a, REAL *F, REAL *G, size_t l, size_t tp1, size_t t, size_t tm1, size_t tm2, size_t M, size_t N, size_t O, size_t phi_offset, REAL dt, REAL dr, REAL dtheta, REAL dphi, REAL l_1, REAL l_2, REAL lamb, int p, int q, int L)\")\n",
    "    writeDefinitionGPU( filename, \"__global__ void \"+funcname+\"(REAL *a, REAL *F, REAL *G, size_t l, size_t tp1, size_t t, size_t tm1, size_t tm2, size_t M, size_t N, size_t O, size_t phi_offset, REAL dt, REAL dr, REAL dtheta, REAL dphi, REAL l_1, REAL l_2, REAL lamb, int p, int q, int L)\", expr, funcname[-1])\n",
    "\n",
    "\n",
    "def findClosingPar(expr):\n",
    "    let = 1\n",
    "    i = 1\n",
    "    #print(expr)\n",
    "    while let > 0 and i<len(expr):\n",
    "        if expr[i] == '(':\n",
    "            let += 1\n",
    "        elif expr[i] == ')':\n",
    "            let -= 1\n",
    "        i+=1\n",
    "    return i-1\n",
    "\n",
    "def replaceAllPow(expr):\n",
    "    indexes = [m.start() for m in re.finditer('pow', expr)]\n",
    "    for i in indexes[::-1]:\n",
    "        open = i+4\n",
    "        close = findClosingPar(expr[open:])+open\n",
    "        exponent = expr[open:close].split(',')[-1]\n",
    "        \n",
    "        commas = [m.start() for m in re.finditer(',', expr[open:close])]\n",
    "        #print(expr[open:close])\n",
    "        argument = expr[open:open+commas[-1]]\n",
    "        \n",
    "        rep = ''\n",
    "        for j in range(int(exponent)):\n",
    "            rep += argument+'*'\n",
    "        rep = rep[:-1]\n",
    "        expr = expr[:i] +'(' + rep + ')'+ expr[close+1:]\n",
    "    return expr  \n",
    "        #print(expr)\n",
    "        #return\n",
    "        #print(rep)"
   ]
  },
  {
   "cell_type": "code",
   "execution_count": 51,
   "metadata": {
    "scrolled": true
   },
   "outputs": [],
   "source": [
    "expr_anp = replaceAllPow(expr_a)\n",
    "expr_fnp = replaceAllPow(expr_f)\n",
    "expr_gnp = replaceAllPow(expr_g)\n",
    "\n",
    "expr_newanp = replaceAllPow(expr_newa)\n",
    "expr_newfnp = replaceAllPow(expr_newf)\n",
    "expr_newgnp = replaceAllPow(expr_newg)"
   ]
  },
  {
   "cell_type": "code",
   "execution_count": 52,
   "metadata": {},
   "outputs": [],
   "source": [
    "cleanOldFilesGPU(\"../gpu/src/EquationAlfa\")\n",
    "cleanOldFilesGPU(\"../gpu/src/EquationF\")\n",
    "cleanOldFilesGPU(\"../gpu/src/EquationG\")\n",
    "\n",
    "writePairs(\"../gpu/src/EquationAlfa\", \"computeNexta\", expr_anp[63:])\n",
    "#writePairs(\"../gpu/src/EquationAlfa\", \"computeSeconda\", expr_newanp[63:])\n",
    "\n",
    "writePairs(\"../gpu/src/EquationF\", \"computeNextF\", expr_fnp[63:])\n",
    "#writePairs(\"../gpu/src/EquationF\", \"computeSecondF\", expr_newfnp[63:])\n",
    "\n",
    "writePairs(\"../gpu/src/EquationG\", \"computeNextG\", expr_gnp[63:])\n",
    "#writePairs(\"../gpu/src/EquationG\", \"computeSecondG\", expr_newgnp[63:])"
   ]
  },
  {
   "cell_type": "code",
   "execution_count": null,
   "metadata": {},
   "outputs": [],
   "source": []
  },
  {
   "cell_type": "code",
   "execution_count": null,
   "metadata": {},
   "outputs": [],
   "source": []
  }
 ],
 "metadata": {
  "kernelspec": {
   "display_name": "Python 3",
   "language": "python",
   "name": "python3"
  },
  "language_info": {
   "codemirror_mode": {
    "name": "ipython",
    "version": 3
   },
   "file_extension": ".py",
   "mimetype": "text/x-python",
   "name": "python",
   "nbconvert_exporter": "python",
   "pygments_lexer": "ipython3",
   "version": "3.9.1"
  }
 },
 "nbformat": 4,
 "nbformat_minor": 4
}
