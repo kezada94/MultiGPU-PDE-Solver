{
 "cells": [
  {
   "cell_type": "code",
   "execution_count": 143,
   "metadata": {
    "scrolled": true
   },
   "outputs": [],
   "source": [
    "from sympy import *\n",
    "import numpy as np\n",
    "\n",
    "D = 3\n",
    "\n",
    "## Definiendo simbolos\n",
    "t, r, theta, phi = symbols('t, r, \\\\theta, \\\\varphi')\n",
    "dt, dr, dtheta, dphi = symbols('dt dr dtheta dphi')     \n",
    "l0, l1, l2, l3 = symbols(\"l_0 l_1 l_2 l_3\")\n",
    "l, lamb, p, q, n, L = symbols(\"l lamb p q n L\")\n",
    "\n",
    "deldel = Function(\"DELDEL\")\n",
    "delf = Function(\"DELF\")\n",
    "box = Function(\"\\\\Box\")\n",
    "\n",
    "def getFuncName(i):\n",
    "    if i==0:\n",
    "        return alfa.name\n",
    "    if i==1:\n",
    "        return F.name\n",
    "    if i==2:\n",
    "        return G.name\n",
    "    \n",
    "    \n",
    "if D == 1:\n",
    "    ndmat = np.array([[[symbols(\"a\") for _x in range(4)] for _w in range(4)] for _i in range(3)])\n",
    "    alfa = Function(\"a\")(t, r)\n",
    "    F = Function(\"F\")(t, r)\n",
    "    G = Function(\"G\")(t, r)\n",
    "elif D == 2:\n",
    "    ndmat = np.array([[[[symbols(\"a\") for _x in range(4)] for _y in range(4)] for _w in range(4)] for _i in range(3)])\n",
    "    alfa = Function(\"a\")(t, theta, r)\n",
    "    F = Function(\"F\")(t, theta, r)\n",
    "    G = Function(\"G\")(t, theta, r)\n",
    "elif D == 3:\n",
    "    ndmat = np.array([[[[[symbols(\"a\") for _x in range(4)] for _y in range(4)] for _z in range(4)] for _w in range(4)] for _i in range(3)])\n",
    "    alfa = Function(\"a\")(t, phi, theta, r)\n",
    "    F = Function(\"F\")(t, phi, theta, r)\n",
    "    G = Function(\"G\")(t, phi, theta, r)\n",
    "\n",
    "\n",
    "symbolsString = \"\"\n",
    "if D == 1:\n",
    "    for _f in range(3):\n",
    "        for _t in range(4):\n",
    "            for _r in range(4):\n",
    "                ndmat[_f][_t][_r] = symbols(getFuncName(_f)+str(_t)+str(_r))\n",
    "                symbolsString += str(ndmat[_f][_t][_r])+\" \"\n",
    "elif D == 2:\n",
    "    for _f in range(3):\n",
    "        for _t in range(4):\n",
    "            for _theta in range(4):\n",
    "                for _r in range(4):\n",
    "                    ndmat[_f][_t][_theta][_r] = symbols(getFuncName(_f)+str(_t)+str(_theta)+str(_r))\n",
    "                    symbolsString += str(ndmat[_f][_t][_theta][_r])+\" \"\n",
    "elif D == 3:\n",
    "    for _f in range(3):\n",
    "        for _t in range(4):\n",
    "            for _phi in range(4):\n",
    "                for _theta in range(4):\n",
    "                    for _r in range(4):\n",
    "                        ndmat[_f][_t][_phi][_theta][_r] = symbols(getFuncName(_f)+str(_t)+str(_phi)+str(_theta)+str(_r))\n",
    "                        symbolsString += str(ndmat[_f][_t][_phi][_theta][_r])+\" \"\n"
   ]
  },
  {
   "cell_type": "code",
   "execution_count": 144,
   "metadata": {},
   "outputs": [
    {
     "data": {
      "text/plain": [
       "'a000 a001 a002 a003 a010 a011 a012 a013 a020 a021 a022 a023 a030 a031 a032 a033 a100 a101 a102 a103 a110 a111 a112 a113 a120 a121 a122 a123 a130 a131 a132 a133 a200 a201 a202 a203 a210 a211 a212 a213 a220 a221 a222 a223 a230 a231 a232 a233 a300 a301 a302 a303 a310 a311 a312 a313 a320 a321 a322 a323 a330 a331 a332 a333 F000 F001 F002 F003 F010 F011 F012 F013 F020 F021 F022 F023 F030 F031 F032 F033 F100 F101 F102 F103 F110 F111 F112 F113 F120 F121 F122 F123 F130 F131 F132 F133 F200 F201 F202 F203 F210 F211 F212 F213 F220 F221 F222 F223 F230 F231 F232 F233 F300 F301 F302 F303 F310 F311 F312 F313 F320 F321 F322 F323 F330 F331 F332 F333 G000 G001 G002 G003 G010 G011 G012 G013 G020 G021 G022 G023 G030 G031 G032 G033 G100 G101 G102 G103 G110 G111 G112 G113 G120 G121 G122 G123 G130 G131 G132 G133 G200 G201 G202 G203 G210 G211 G212 G213 G220 G221 G222 G223 G230 G231 G232 G233 G300 G301 G302 G303 G310 G311 G312 G313 G320 G321 G322 G323 G330 G331 G332 G333 '"
      ]
     },
     "execution_count": 144,
     "metadata": {},
     "output_type": "execute_result"
    }
   ],
   "source": [
    "symbolsString"
   ]
  },
  {
   "cell_type": "code",
   "execution_count": 145,
   "metadata": {},
   "outputs": [
    {
     "data": {
      "text/plain": [
       "'3.9.1 (default, Feb  6 2021, 06:49:13) \\n[GCC 10.2.0]'"
      ]
     },
     "execution_count": 145,
     "metadata": {},
     "output_type": "execute_result"
    }
   ],
   "source": [
    "import sys\n",
    "sys.version"
   ]
  },
  {
   "cell_type": "code",
   "execution_count": 146,
   "metadata": {},
   "outputs": [
    {
     "data": {
      "text/latex": [
       "$\\displaystyle 2 \\left(0.5 t + 1\\right) \\left(\\theta \\left(1 - \\theta\\right) + r \\left(1 - r\\right)\\right) + \\Box{\\left(a{\\left(t,\\theta,r \\right)} \\right)}$"
      ],
      "text/plain": [
       "(2*(0.5*t + 1))*(\\theta*(1 - \\theta) + r*(1 - r)) + \\Box(a(t, \\theta, r))"
      ]
     },
     "metadata": {},
     "output_type": "display_data"
    },
    {
     "data": {
      "text/latex": [
       "$\\displaystyle \\Box{\\left(F{\\left(t,\\theta,r \\right)} \\right)}$"
      ],
      "text/plain": [
       "\\Box(F(t, \\theta, r))"
      ]
     },
     "metadata": {},
     "output_type": "display_data"
    },
    {
     "data": {
      "text/latex": [
       "$\\displaystyle \\Box{\\left(G{\\left(t,\\theta,r \\right)} \\right)}$"
      ],
      "text/plain": [
       "\\Box(G(t, \\theta, r))"
      ]
     },
     "metadata": {},
     "output_type": "display_data"
    }
   ],
   "source": [
    "def DELDEL(f, g):\n",
    "    #canon = -f.diff(t)*g.diff(t) + 1/l1**2*f.diff(r)*g.diff(r) + 1/l1**2*f.diff(theta)*g.diff(theta) + 1/l2**2*f.diff(phi)*g.diff(phi)\n",
    "    canon = -f.diff(t)*g.diff(t) + f.diff(r)*g.diff(r) + f.diff(theta)*g.diff(theta) + f.diff(phi)*g.diff(phi)\n",
    "    return canon\n",
    "\n",
    "def BOX(f):\n",
    "    canon = -f.diff(t, 2) + (f.diff(r, 2) + f.diff(theta, 2) + f.diff(phi, 2))\n",
    "    #canon = -f.diff(t, 2) + 1/l1**2*f.diff(r, 2) + 1/l1**2*f.diff(theta, 2) + 1/l2 **2*f.diff(phi, 2)\n",
    "    return canon\n",
    "\n",
    "def DELf(f, g):\n",
    "    #canon = DELDEL(f, g) + f*BOX(g)\n",
    "\n",
    "    canon = -(f*g.diff(t)).diff(t) + (f*g.diff(r)).diff(r)+ (f*g.diff(theta)).diff(theta) + (f*g.diff(phi)).diff(phi)\n",
    "    #canon = -(f*g.diff(t)).diff(t) + 1/l1**2*(f*g.diff(r)).diff(r)+ 1/l1**2*(f*g.diff(theta)).diff(theta) + 1/l2**2*(f*g.diff(phi)).diff(phi)\n",
    "    return canon\n",
    "\n",
    "\n",
    "with evaluate(False):\n",
    "    motion_alfa = box(alfa) + 2*(1 + 1/2*t)*(theta*(1-theta) + r*(1-r))\n",
    "    \n",
    "    motion_F = box(F)\n",
    "    \n",
    "    motion_G = box(G)\n",
    "    \n",
    "display(motion_alfa)\n",
    "display(motion_F)\n",
    "display(motion_G)"
   ]
  },
  {
   "cell_type": "code",
   "execution_count": 147,
   "metadata": {
    "scrolled": false
   },
   "outputs": [],
   "source": [
    "def expandToDerivatives(func):\n",
    "    p, q, s, b = map(Wild, 'pqsb')\n",
    "    res = func.replace(deldel(p, q)*s, lambda p, q, s : DELDEL(p, q)*s)\n",
    "    res = res.replace(delf(p, q)*s, lambda p, q, s : DELf(p, q)*s)\n",
    "    return res.replace(box(p)*s, lambda p, s : BOX(p)*s)"
   ]
  },
  {
   "cell_type": "code",
   "execution_count": 148,
   "metadata": {
    "scrolled": true
   },
   "outputs": [
    {
     "data": {
      "text/plain": [
       "'Alfa done.'"
      ]
     },
     "metadata": {},
     "output_type": "display_data"
    },
    {
     "data": {
      "text/plain": [
       "'F done.'"
      ]
     },
     "metadata": {},
     "output_type": "display_data"
    },
    {
     "data": {
      "text/plain": [
       "'G done.'"
      ]
     },
     "metadata": {},
     "output_type": "display_data"
    }
   ],
   "source": [
    "res3a = (expandToDerivatives(motion_alfa))\n",
    "display(\"Alfa done.\")\n",
    "res3f = (expandToDerivatives(motion_F))\n",
    "display(\"F done.\")\n",
    "res3g = (expandToDerivatives(motion_G))\n",
    "display(\"G done.\")"
   ]
  },
  {
   "cell_type": "code",
   "execution_count": 149,
   "metadata": {},
   "outputs": [
    {
     "data": {
      "text/latex": [
       "$\\displaystyle 2 \\left(0.5 t + 1\\right) \\left(\\theta \\left(1 - \\theta\\right) + r \\left(1 - r\\right)\\right) + \\frac{\\partial^{2}}{\\partial \\theta^{2}} a{\\left(t,\\theta,r \\right)} + \\frac{\\partial^{2}}{\\partial r^{2}} a{\\left(t,\\theta,r \\right)} - \\frac{\\partial^{2}}{\\partial t^{2}} a{\\left(t,\\theta,r \\right)}$"
      ],
      "text/plain": [
       "(2*(0.5*t + 1))*(\\theta*(1 - \\theta) + r*(1 - r)) + Derivative(a(t, \\theta, r), (\\theta, 2)) + Derivative(a(t, \\theta, r), (r, 2)) - Derivative(a(t, \\theta, r), (t, 2))"
      ]
     },
     "metadata": {},
     "output_type": "display_data"
    },
    {
     "data": {
      "text/latex": [
       "$\\displaystyle \\frac{\\partial^{2}}{\\partial \\theta^{2}} F{\\left(t,\\theta,r \\right)} + \\frac{\\partial^{2}}{\\partial r^{2}} F{\\left(t,\\theta,r \\right)} - \\frac{\\partial^{2}}{\\partial t^{2}} F{\\left(t,\\theta,r \\right)}$"
      ],
      "text/plain": [
       "Derivative(F(t, \\theta, r), (\\theta, 2)) + Derivative(F(t, \\theta, r), (r, 2)) - Derivative(F(t, \\theta, r), (t, 2))"
      ]
     },
     "metadata": {},
     "output_type": "display_data"
    },
    {
     "data": {
      "text/latex": [
       "$\\displaystyle \\frac{\\partial^{2}}{\\partial \\theta^{2}} G{\\left(t,\\theta,r \\right)} + \\frac{\\partial^{2}}{\\partial r^{2}} G{\\left(t,\\theta,r \\right)} - \\frac{\\partial^{2}}{\\partial t^{2}} G{\\left(t,\\theta,r \\right)}$"
      ],
      "text/plain": [
       "Derivative(G(t, \\theta, r), (\\theta, 2)) + Derivative(G(t, \\theta, r), (r, 2)) - Derivative(G(t, \\theta, r), (t, 2))"
      ]
     },
     "metadata": {},
     "output_type": "display_data"
    }
   ],
   "source": [
    "display(res3a)\n",
    "display(res3f)\n",
    "display(res3g)"
   ]
  },
  {
   "cell_type": "code",
   "execution_count": 154,
   "metadata": {
    "scrolled": true
   },
   "outputs": [],
   "source": [
    "def getDelta(i):\n",
    "    if i == t:\n",
    "        return dt\n",
    "    if r == i:\n",
    "        return dr\n",
    "    if theta == i:\n",
    "        return dtheta\n",
    "    if phi == i:\n",
    "        return dphi\n",
    "\n",
    "def getIndex(i):\n",
    "    if t == i:\n",
    "        return 0\n",
    "    if phi == i:\n",
    "        return 1\n",
    "    if theta == i:\n",
    "        return 2\n",
    "    if r == i:\n",
    "        return 3\n",
    "\n",
    "def getFuncIndex(f):\n",
    "    if f==F:\n",
    "        return 1\n",
    "    if f==G:\n",
    "        return 2\n",
    "    if f==alfa:\n",
    "        return 0\n",
    "    \n",
    "def isThis(s, ix):\n",
    "    if ix != None and s in ix.keys():\n",
    "        return ix[s]\n",
    "    else: \n",
    "        return 0\n",
    "#http://www.iitg.ac.in/gtm/files/chap2.pdf\n",
    "#https://www.uio.no/studier/emner/matnat/math/MAT-INF1100/h07/undervisningsmateriale/kap7.pdf\n",
    "\n",
    "# 3: +1\n",
    "# 2:  0\n",
    "# 1: -1\n",
    "# 0: -2\n",
    "\n",
    "def getDiscreteSymbol(ndmat, f, ix=None):\n",
    "    if D==3:\n",
    "        canon = ndmat[getFuncIndex(f)][2+isThis(t, ix)][2+isThis(phi, ix)][2+isThis(theta, ix)][2+isThis(r, ix)]\n",
    "    elif D==2:\n",
    "        canon = ndmat[getFuncIndex(f)][2+isThis(t, ix)][2+isThis(theta, ix)][2+isThis(r, ix)]\n",
    "    elif D==1:\n",
    "        canon = ndmat[getFuncIndex(f)][2+isThis(t, ix)][2+isThis(r, ix)]\n",
    "    return canon\n",
    "    \n",
    "def FOD(f, i, wrt):\n",
    "    if i==t:\n",
    "        canon = (getDiscreteSymbol(ndmat, f, ix={i:0}) - getDiscreteSymbol(ndmat, f, ix={i:-1}))/(getDelta(i))\n",
    "    else:\n",
    "        canon = (getDiscreteSymbol(ndmat, f, ix={i:0}) - getDiscreteSymbol(ndmat, f, ix={i:-1}))/(getDelta(i))\n",
    "    return canon\n",
    "\n",
    "def SOD(f, i, j, wrt):\n",
    "    if i==j:\n",
    "        if (f==wrt and i==t) or i != t:\n",
    "            canon = (getDiscreteSymbol(ndmat, f, ix={i:1}) - 2*getDiscreteSymbol(ndmat, f, ix={i:0}) + getDiscreteSymbol(ndmat, f, ix={i:-1}))/(getDelta(i)**2)\n",
    "        else:\n",
    "            canon = (getDiscreteSymbol(ndmat, f, ix={i:0}) - 2*getDiscreteSymbol(ndmat, f, ix={i:-1}) + getDiscreteSymbol(ndmat, f, ix={i:-2}))/(getDelta(i)**2)\n",
    "\n",
    "\n",
    "    else:\n",
    "        if i != t and t != j:\n",
    "            canon = (getDiscreteSymbol(ndmat, f, ix={i:1, j:1}) + getDiscreteSymbol(ndmat, f, ix={i:-1, j:-1}) - getDiscreteSymbol(ndmat, f, ix={i:1, j:-1}) - getDiscreteSymbol(ndmat, f, ix={i:-1, j:1}) )/(4*getDelta(i)*getDelta(j))\n",
    "        #backward difference\n",
    "        elif (j==t):\n",
    "            canon = (1/getDelta(i))*(((getDiscreteSymbol(ndmat, f, ix={i:1, j:0})-getDiscreteSymbol(ndmat, f, ix={i:0, j:0}))/(getDelta(j))) - ((getDiscreteSymbol(ndmat, f, ix={i:1, j:-1}) - getDiscreteSymbol(ndmat, f, ix={i:0, j:-1}))/(getDelta(j))))\n",
    "            \n",
    "            #canon = (1/(2*getDelta(i)*getDelta(j)))*(getDiscreteSymbol(ndmat, f, ix={i:0, j:1})-getDiscreteSymbol(ndmat, f, ix={i:-1, j:1})-getDiscreteSymbol(ndmat, f, ix={i:0, j:-1})-getDiscreteSymbol(ndmat, f, ix={i:-1, j:-1}))\n",
    "        elif (i == t):\n",
    "            #canon = (1/(2*getDelta(i)*getDelta(j)))*(getDiscreteSymbol(ndmat, f, ix={i:1, j:0})-getDiscreteSymbol(ndmat, f, ix={i:1, j:-1})-getDiscreteSymbol(ndmat, f, ix={i:-1, j:0})-getDiscreteSymbol(ndmat, f, ix={i:-1, j:-1}))\n",
    "            canon = (1/getDelta(i))*(((getDiscreteSymbol(ndmat, f, ix={i:0, j:1})-getDiscreteSymbol(ndmat, f, ix={i:0, j:0}))/(getDelta(j))) - ((getDiscreteSymbol(ndmat, f, ix={i:-1, j:1}) - getDiscreteSymbol(ndmat, f, ix={i:-1, j:0}))/(getDelta(j))))\n",
    "            \n",
    "        else:\n",
    "            print(\"what\")\n",
    "    return canon\n",
    "\n",
    "def discreti(arg, wrt):\n",
    "    if len(arg.variables) == 1:\n",
    "        return FOD(arg.expr, arg.variables[0], wrt)\n",
    "    elif len(arg.variables) == 2:\n",
    "        return SOD(arg.expr, arg.variables[0], arg.variables[1], wrt)\n",
    "    else:\n",
    "        return None"
   ]
  },
  {
   "cell_type": "code",
   "execution_count": 155,
   "metadata": {},
   "outputs": [],
   "source": [
    "def discretizeVariables(func):\n",
    "    res = func.replace(r, r*dr)\n",
    "    res = res.replace(theta, theta*dtheta)\n",
    "    res = res.replace(phi, phi*dphi)\n",
    "    return res.replace(t, l*dt)\n",
    "\n",
    "def discretizeDerivatives(func, wrt):\n",
    "    res = func.replace(lambda arg: arg.is_Derivative, lambda arg: discreti(arg, wrt))\n",
    "    res = res.replace(F, getDiscreteSymbol(ndmat, F))\n",
    "    res = res.replace(G, getDiscreteSymbol(ndmat, G))\n",
    "    return res.replace(alfa, getDiscreteSymbol(ndmat, alfa))"
   ]
  },
  {
   "cell_type": "code",
   "execution_count": 156,
   "metadata": {},
   "outputs": [],
   "source": [
    "res7a = discretizeDerivatives(res3a, alfa)\n",
    "res7a = discretizeVariables(res7a)\n",
    "\n",
    "res7f = discretizeDerivatives(res3f, F)\n",
    "res7f = discretizeVariables(res7f)\n",
    "\n",
    "res7g = discretizeDerivatives(res3g, G)\n",
    "res7g = discretizeVariables(res7g)\n"
   ]
  },
  {
   "cell_type": "code",
   "execution_count": 157,
   "metadata": {},
   "outputs": [
    {
     "data": {
      "text/latex": [
       "$\\displaystyle 2 \\left(0.5 dt l + 1\\right) \\left(\\theta dtheta \\left(- \\theta dtheta + 1\\right) + dr r \\left(- dr r + 1\\right)\\right) + \\frac{a_{212} - 2 a_{222} + a_{232}}{dtheta^{2}} - \\frac{a_{122} - 2 a_{222} + a_{322}}{dt^{2}} + \\frac{a_{221} - 2 a_{222} + a_{223}}{dr^{2}}$"
      ],
      "text/plain": [
       "2*(0.5*dt*l + 1)*(\\theta*dtheta*(-\\theta*dtheta + 1) + dr*r*(-dr*r + 1)) + (a212 - 2*a222 + a232)/dtheta**2 - (a122 - 2*a222 + a322)/dt**2 + (a221 - 2*a222 + a223)/dr**2"
      ]
     },
     "metadata": {},
     "output_type": "display_data"
    },
    {
     "data": {
      "text/latex": [
       "$\\displaystyle \\frac{F_{212} - 2 F_{222} + F_{232}}{dtheta^{2}} - \\frac{F_{122} - 2 F_{222} + F_{322}}{dt^{2}} + \\frac{F_{221} - 2 F_{222} + F_{223}}{dr^{2}}$"
      ],
      "text/plain": [
       "(F212 - 2*F222 + F232)/dtheta**2 - (F122 - 2*F222 + F322)/dt**2 + (F221 - 2*F222 + F223)/dr**2"
      ]
     },
     "metadata": {},
     "output_type": "display_data"
    },
    {
     "data": {
      "text/latex": [
       "$\\displaystyle \\frac{G_{212} - 2 G_{222} + G_{232}}{dtheta^{2}} - \\frac{G_{122} - 2 G_{222} + G_{322}}{dt^{2}} + \\frac{G_{221} - 2 G_{222} + G_{223}}{dr^{2}}$"
      ],
      "text/plain": [
       "(G212 - 2*G222 + G232)/dtheta**2 - (G122 - 2*G222 + G322)/dt**2 + (G221 - 2*G222 + G223)/dr**2"
      ]
     },
     "metadata": {},
     "output_type": "display_data"
    }
   ],
   "source": [
    "display(res7a)\n",
    "display(res7f)\n",
    "display(res7g)"
   ]
  },
  {
   "cell_type": "code",
   "execution_count": 158,
   "metadata": {},
   "outputs": [],
   "source": [
    "expra = ccode(res7a).replace(\"\\\\\", \"\")\n",
    "exprf = ccode(res7f).replace(\"\\\\\", \"\")\n",
    "exprg = ccode(res7g).replace(\"\\\\\", \"\")"
   ]
  },
  {
   "cell_type": "code",
   "execution_count": 159,
   "metadata": {},
   "outputs": [
    {
     "data": {
      "text/plain": [
       "'2*(0.5*dt*l + 1)*(theta*dtheta*(-theta*dtheta + 1) + dr*r*(-dr*r + 1)) + (a212 - 2*a222 + a232)/pow(dtheta, 2) - (a122 - 2*a222 + a322)/pow(dt, 2) + (a221 - 2*a222 + a223)/pow(dr, 2)'"
      ]
     },
     "execution_count": 159,
     "metadata": {},
     "output_type": "execute_result"
    }
   ],
   "source": [
    "expra"
   ]
  },
  {
   "cell_type": "code",
   "execution_count": 160,
   "metadata": {},
   "outputs": [],
   "source": [
    "def getSymbolsUsed(expr):\n",
    "    syms = \"\"\n",
    "    for _y in expr.free_symbols:\n",
    "        syms += str(_y)+\" \"\n",
    "    return syms[:-1]"
   ]
  },
  {
   "cell_type": "code",
   "execution_count": 161,
   "metadata": {},
   "outputs": [
    {
     "name": "stdout",
     "output_type": "stream",
     "text": [
      "Symbols for a: \n",
      " [ dr a212 a122 l a322 \\theta a221 a223 r a232 dtheta dt a222 ]\n",
      "Symbols for F: \n",
      " [ dr dt F223 F122 F221 F222 F232 dtheta F322 F212 ]\n",
      "Symbols for G: \n",
      " [ dr G221 G212 G122 G223 G222 dtheta G232 dt G322 ]\n"
     ]
    }
   ],
   "source": [
    "symma = getSymbolsUsed(res7a)\n",
    "print(\"Symbols for a: \\n [\", symma, \"]\")\n",
    "\n",
    "symmf = getSymbolsUsed(res7f)\n",
    "print(\"Symbols for F: \\n [\", symmf, \"]\")\n",
    "\n",
    "symmg = getSymbolsUsed(res7g)\n",
    "print(\"Symbols for G: \\n [\", symmg, \"]\")\n"
   ]
  },
  {
   "cell_type": "code",
   "execution_count": 162,
   "metadata": {},
   "outputs": [],
   "source": [
    "#import pyximport\n",
    "#pyximport.install()\n",
    "from sage.all import *\n",
    "import sage as sg\n",
    "\n",
    "var(symma.replace(\"\\\\\", \"\"))\n",
    "var(symmf.replace(\"\\\\\", \"\"))\n",
    "var(symmg.replace(\"\\\\\", \"\"))\n",
    "var(symbolsString.replace(\"\\\\\", \"\"))\n",
    "var(\"E4 E5 E6 r theta global_phi\")\n",
    "\n",
    "pi_4 = E4*sin(dr*r)*sin(dtheta*theta)*sin(dphi*global_phi)\n",
    "pi_5 = E5*sin(dr*r)*sin(dtheta*theta)*sin(dphi*global_phi)\n",
    "pi_6 = E6*sin(dr*r)*sin(dtheta*theta)*sin(dphi*global_phi)\n",
    "\n",
    "#dAdt = \"0 + pi_4\"\n",
    "dAdt = \"0.5*(dr*r*(1 - dr*r)*dtheta*theta*(1 - dtheta*theta))\"\n",
    "\n",
    "\n",
    "\n",
    "dFdt = \"0 + pi_5\"\n",
    "dGdt = \"p/L + pi_6\"\n",
    "\n",
    "def solveWithSage(expr, symbols, x):\n",
    "    print(expr)\n",
    "    wata = eval(expr)\n",
    "    resa = sg.symbolic.relation.solve(wata, x)\n",
    "    return resa[0]"
   ]
  },
  {
   "cell_type": "code",
   "execution_count": 163,
   "metadata": {
    "scrolled": true
   },
   "outputs": [],
   "source": [
    "def getDerivative(eq, var):\n",
    "    if type(eq) == int:\n",
    "        return 0\n",
    "    else:\n",
    "        try:\n",
    "            return eq.derivative(var)\n",
    "        except:\n",
    "            return 0\n",
    "\n",
    "\n",
    "def replaceOtherFunctionsNegative(expr, func, func1, func2, ofunc1dt, ofunc2dt):\n",
    "    auxofun1 = eval(func1+\"2222\") - 2.0*dt*ofunc1dt \n",
    "    auxofun2 = eval(func2+\"2222\") - 2.0*dt*ofunc2dt \n",
    "    \n",
    "    firsta = expr.subs({eval(func1+\"0222\") : auxofun1})\n",
    "    firsta = firsta.subs({eval(func2+\"0222\") : auxofun2})\n",
    "    firstaa = sg.symbolic.relation.solve(firsta, eval(func+\"3222\"))\n",
    "    try:\n",
    "        return firstaa[0]#.collect_common_factors().full_simplify().collect_common_factors()\n",
    "    except:\n",
    "        return firstaa\n"
   ]
  },
  {
   "cell_type": "code",
   "execution_count": 165,
   "metadata": {},
   "outputs": [
    {
     "name": "stdout",
     "output_type": "stream",
     "text": [
      "2*(0.5*dt*l + 1)*(theta*dtheta*(-theta*dtheta + 1) + dr*r*(-dr*r + 1)) + (a212 - 2*a222 + a232)/pow(dtheta, 2) - (a122 - 2*a222 + a322)/pow(dt, 2) + (a221 - 2*a222 + a223)/pow(dr, 2)\n"
     ]
    },
    {
     "data": {
      "text/plain": [
       "a_{322} = \\frac{{\\left(a_{212} - 2 \\, a_{222} + a_{232}\\right)} \\mathit{dr}^{2} \\mathit{dt}^{2} - {\\left({\\left(a_{122} - 2 \\, a_{222}\\right)} \\mathit{dr}^{2} - {\\left(a_{221} - 2 \\, a_{222} + a_{223}\\right)} \\mathit{dt}^{2}\\right)} \\mathit{dtheta}^{2} - {\\left(\\mathit{dr}^{4} \\mathit{dt}^{3} \\mathit{dtheta}^{2} l + 2 \\, \\mathit{dr}^{4} \\mathit{dt}^{2} \\mathit{dtheta}^{2}\\right)} r^{2} - {\\left(\\mathit{dr}^{2} \\mathit{dt}^{3} \\mathit{dtheta}^{4} l + 2 \\, \\mathit{dr}^{2} \\mathit{dt}^{2} \\mathit{dtheta}^{4}\\right)} \\theta^{2} + {\\left(\\mathit{dr}^{3} \\mathit{dt}^{3} \\mathit{dtheta}^{2} l + 2 \\, \\mathit{dr}^{3} \\mathit{dt}^{2} \\mathit{dtheta}^{2}\\right)} r + {\\left(\\mathit{dr}^{2} \\mathit{dt}^{3} \\mathit{dtheta}^{3} l + 2 \\, \\mathit{dr}^{2} \\mathit{dt}^{2} \\mathit{dtheta}^{3}\\right)} \\theta}{\\mathit{dr}^{2} \\mathit{dtheta}^{2}}"
      ]
     },
     "execution_count": 165,
     "metadata": {},
     "output_type": "execute_result"
    }
   ],
   "source": [
    "from sage.misc.latex import Latex\n",
    "ra=[]\n",
    "if D==3:\n",
    "    ra = solveWithSage(expra, symma, a3222)\n",
    "if D==2:\n",
    "    ra = solveWithSage(expra, symma, a322)\n",
    "if D==1:\n",
    "    ra = solveWithSage(expra, symma, a32)\n",
    "lates = Latex()\n",
    "lates(ra)"
   ]
  },
  {
   "cell_type": "markdown",
   "metadata": {},
   "source": [
    "$a_{322} = \\frac{{\\left(a_{212} - 2 \\, a_{222} + a_{232}\\right)} \\mathit{dr}^{2} \\mathit{dt}^{2} - {\\left({\\left(a_{122} - 2 \\, a_{222}\\right)} \\mathit{dr}^{2} - {\\left(a_{221} - 2 \\, a_{222} + a_{223}\\right)} \\mathit{dt}^{2}\\right)} \\mathit{dtheta}^{2} - {\\left(\\mathit{dr}^{4} \\mathit{dt}^{3} \\mathit{dtheta}^{2} l + 2 \\, \\mathit{dr}^{4} \\mathit{dt}^{2} \\mathit{dtheta}^{2}\\right)} r^{2} - {\\left(\\mathit{dr}^{2} \\mathit{dt}^{3} \\mathit{dtheta}^{4} l + 2 \\, \\mathit{dr}^{2} \\mathit{dt}^{2} \\mathit{dtheta}^{4}\\right)} \\theta^{2} + {\\left(\\mathit{dr}^{3} \\mathit{dt}^{3} \\mathit{dtheta}^{2} l + 2 \\, \\mathit{dr}^{3} \\mathit{dt}^{2} \\mathit{dtheta}^{2}\\right)} r + {\\left(\\mathit{dr}^{2} \\mathit{dt}^{3} \\mathit{dtheta}^{3} l + 2 \\, \\mathit{dr}^{2} \\mathit{dt}^{2} \\mathit{dtheta}^{3}\\right)} \\theta}{\\mathit{dr}^{2} \\mathit{dtheta}^{2}}$"
   ]
  },
  {
   "cell_type": "code",
   "execution_count": 166,
   "metadata": {
    "scrolled": true
   },
   "outputs": [
    {
     "name": "stdout",
     "output_type": "stream",
     "text": [
      "53\n"
     ]
    }
   ],
   "source": [
    "def nops(expr):\n",
    "    count = 0\n",
    "    string = ccode(expr._sympy_())\n",
    "    count += string.count(\"*\")\n",
    "    count += string.count(\"^\")\n",
    "    count += string.count(\"-\")\n",
    "    count += string.count(\"+\")\n",
    "    count += string.count(\"/\")\n",
    "    return count\n",
    "\n",
    "print(nops(ra))\n",
    "#print(nops(rf))\n",
    "#print(nops(rg))"
   ]
  },
  {
   "cell_type": "code",
   "execution_count": 167,
   "metadata": {},
   "outputs": [
    {
     "name": "stdout",
     "output_type": "stream",
     "text": [
      "[\n",
      "\n",
      "]\n"
     ]
    }
   ],
   "source": [
    "newra = replaceOtherFunctionsNegative(ra, \"a\", \"F\", \"G\", eval(dFdt), eval(dGdt))\n",
    "print(newra)"
   ]
  },
  {
   "cell_type": "code",
   "execution_count": 169,
   "metadata": {},
   "outputs": [
    {
     "name": "stdout",
     "output_type": "stream",
     "text": [
      "(F212 - 2*F222 + F232)/pow(dtheta, 2) - (F122 - 2*F222 + F322)/pow(dt, 2) + (F221 - 2*F222 + F223)/pow(dr, 2)\n",
      "F322 == ((F212 - 2*F222 + F232)*dr^2*dt^2 - ((F122 - 2*F222)*dr^2 - (F221 - 2*F222 + F223)*dt^2)*dtheta^2)/(dr^2*dtheta^2)\n"
     ]
    }
   ],
   "source": [
    "rf = []\n",
    "if D==3:\n",
    "    rf = solveWithSage(exprf, symmf, F3222)\n",
    "elif D==2:\n",
    "    rf = solveWithSage(exprf, symmf, F322)\n",
    "elif D==1:\n",
    "    rf = solveWithSage(exprf, symmf, F32)\n",
    "print(rf)"
   ]
  },
  {
   "cell_type": "code",
   "execution_count": 170,
   "metadata": {},
   "outputs": [
    {
     "name": "stdout",
     "output_type": "stream",
     "text": [
      "[\n",
      "\n",
      "]\n"
     ]
    }
   ],
   "source": [
    "newrf = replaceOtherFunctionsNegative(rf, \"F\", \"a\", \"G\", eval(dAdt), eval(dGdt))\n",
    "print(newrf)"
   ]
  },
  {
   "cell_type": "code",
   "execution_count": 171,
   "metadata": {
    "scrolled": true
   },
   "outputs": [
    {
     "name": "stdout",
     "output_type": "stream",
     "text": [
      "(G212 - 2*G222 + G232)/pow(dtheta, 2) - (G122 - 2*G222 + G322)/pow(dt, 2) + (G221 - 2*G222 + G223)/pow(dr, 2)\n",
      "G322 == ((G212 - 2*G222 + G232)*dr^2*dt^2 - ((G122 - 2*G222)*dr^2 - (G221 - 2*G222 + G223)*dt^2)*dtheta^2)/(dr^2*dtheta^2)\n"
     ]
    }
   ],
   "source": [
    "rg = []\n",
    "if D==3:\n",
    "    rg = solveWithSage(exprg, symmg, G3222)\n",
    "elif D==2:\n",
    "    rg = solveWithSage(exprg, symmg, G322)\n",
    "elif D==1:\n",
    "    rg = solveWithSage(exprg, symmg, G32)\n",
    "print(rg)"
   ]
  },
  {
   "cell_type": "code",
   "execution_count": 172,
   "metadata": {},
   "outputs": [
    {
     "name": "stdout",
     "output_type": "stream",
     "text": [
      "[\n",
      "\n",
      "]\n"
     ]
    }
   ],
   "source": [
    "newrg = replaceOtherFunctionsNegative(rg, \"G\", \"a\", \"F\", eval(dAdt), eval(dFdt))\n",
    "print(newrg)"
   ]
  },
  {
   "cell_type": "code",
   "execution_count": 260,
   "metadata": {},
   "outputs": [],
   "source": [
    "import re\n",
    "def i2i(arg, index):\n",
    "    if index == \"0\":\n",
    "        return \"(\"+arg+\"-2)\"\n",
    "    if index == \"1\":\n",
    "        return \"(\"+arg+\"-1)\"\n",
    "    if index == \"2\":\n",
    "        return \"(\"+arg+\")\"\n",
    "    if index == \"3\":\n",
    "        return \"(\"+arg+\"+1)\"\n",
    "def i2iTime(arg, index):\n",
    "    if index == \"0\":\n",
    "        return \"(tm2)\"\n",
    "    if index == \"1\":\n",
    "        return \"(tm1)\"\n",
    "    if index == \"2\":\n",
    "        return \"(t)\"\n",
    "    if index == \"3\":\n",
    "        return \"(tp1)\"    \n",
    "def getCArray(ids):\n",
    "    res = \"\"\n",
    "    args = [\"t\", \"threadIdx.z\", \"threadIdx.y\", \"threadIdx.x\"]\n",
    "    sizes = [\"L\", \"O\", \"N\", \"M\"]  \n",
    "    while len(ids)!=4:\n",
    "        ids = ids[0]+'2'+ids[1:]\n",
    "    for i, c in enumerate(ids):\n",
    "        if args[i] == \"t\":\n",
    "            res += i2iTime(args[i], c)+\",\"\n",
    "        else:\n",
    "            res += i2i(args[i], c)+\",\"\n",
    "        #for j,s in enumerate(sizes[i+1:]):\n",
    "            #res+=\"*\"+s\n",
    "        #res+=\"+\"\n",
    "    return res[:-1]\n",
    "\n",
    "\n",
    "def getExpressionInC(expr):\n",
    "    \n",
    "    traduc = ccode(expr)\n",
    "\n",
    "    if D==3:\n",
    "        indexes = [m.start() for m in re.finditer(r'[a-zA-Z]\\d\\d\\d\\d', traduc)]\n",
    "        for i in reversed(indexes):\n",
    "            traduc = traduc[:i+1]+\"[I(\"+ getCArray(traduc[i+1:i+5]) +\")]\"+ traduc[i+5:]\n",
    "    elif D==2:\n",
    "        indexes = [m.start() for m in re.finditer(r'[a-zA-Z]\\d\\d\\d', traduc)]\n",
    "        for i in reversed(indexes):\n",
    "            traduc = traduc[:i+1]+\"[I(\"+ getCArray(traduc[i+1:i+4]) +\")]\"+ traduc[i+4:]\n",
    "    elif D==1:\n",
    "        indexes = [m.start() for m in re.finditer(r'[a-zA-Z]\\d\\d', traduc)]\n",
    "        for i in reversed(indexes):\n",
    "            traduc = traduc[:i+1]+\"[I(\"+ getCArray(traduc[i+1:i+3]) +\")]\"+ traduc[i+3:]\n",
    "    traduc = traduc.replace(\"a[I(\", \"shmem[CI(0,\")\n",
    "    traduc = traduc.replace(\"F[I(\", \"shmem[CI(1,\")\n",
    "    traduc = traduc.replace(\"G[I(\", \"shmem[CI(2,\")\n",
    "    \n",
    "    traduc = traduc.replace(\"threadIdx.x+1\", \"tidxp\")\n",
    "    traduc = traduc.replace(\"threadIdx.x-1\", \"tidxm\")\n",
    "    traduc = traduc.replace(\"threadIdx.y+1\", \"tidyp\")\n",
    "    traduc = traduc.replace(\"threadIdx.y-1\", \"tidym\")\n",
    "    traduc = traduc.replace(\"threadIdx.z+1\", \"tidzp\")\n",
    "    traduc = traduc.replace(\"threadIdx.z-1\", \"tidzm\")    \n",
    "\n",
    "\n",
    "    return traduc"
   ]
  },
  {
   "cell_type": "code",
   "execution_count": 261,
   "metadata": {},
   "outputs": [
    {
     "data": {
      "text/plain": [
       "'shmem[CI(0,(tp1),(threadIdx.z),(threadIdx.y),(threadIdx.x))] == (pow(dr, 2)*pow(dt, 2)*(shmem[CI(0,(t),(threadIdx.z),(tidym),(threadIdx.x))] - 2*shmem[CI(0,(t),(threadIdx.z),(threadIdx.y),(threadIdx.x))] + shmem[CI(0,(t),(threadIdx.z),(tidyp),(threadIdx.x))]) - pow(dtheta, 2)*(pow(dr, 2)*(shmem[CI(0,(tm1),(threadIdx.z),(threadIdx.y),(threadIdx.x))] - 2*shmem[CI(0,(t),(threadIdx.z),(threadIdx.y),(threadIdx.x))]) - pow(dt, 2)*(shmem[CI(0,(t),(threadIdx.z),(threadIdx.y),(tidxm))] - 2*shmem[CI(0,(t),(threadIdx.z),(threadIdx.y),(threadIdx.x))] + shmem[CI(0,(t),(threadIdx.z),(threadIdx.y),(tidxp))])) - pow(r, 2)*(pow(dr, 4)*pow(dt, 3)*pow(dtheta, 2)*l + 2*pow(dr, 4)*pow(dt, 2)*pow(dtheta, 2)) + r*(pow(dr, 3)*pow(dt, 3)*pow(dtheta, 2)*l + 2*pow(dr, 3)*pow(dt, 2)*pow(dtheta, 2)) - pow(theta, 2)*(pow(dr, 2)*pow(dt, 3)*pow(dtheta, 4)*l + 2*pow(dr, 2)*pow(dt, 2)*pow(dtheta, 4)) + theta*(pow(dr, 2)*pow(dt, 3)*pow(dtheta, 3)*l + 2*pow(dr, 2)*pow(dt, 2)*pow(dtheta, 3)))/(pow(dr, 2)*pow(dtheta, 2))'"
      ]
     },
     "execution_count": 261,
     "metadata": {},
     "output_type": "execute_result"
    }
   ],
   "source": [
    "expr_a = getExpressionInC(ra._sympy_())\n",
    "expr_a"
   ]
  },
  {
   "cell_type": "code",
   "execution_count": 262,
   "metadata": {},
   "outputs": [
    {
     "ename": "AttributeError",
     "evalue": "'Sequence_generic' object has no attribute '_sympy_'",
     "output_type": "error",
     "traceback": [
      "\u001b[0;31m---------------------------------------------------------------------------\u001b[0m",
      "\u001b[0;31mAttributeError\u001b[0m                            Traceback (most recent call last)",
      "\u001b[0;32m<ipython-input-262-ff4d16dc1371>\u001b[0m in \u001b[0;36m<module>\u001b[0;34m\u001b[0m\n\u001b[0;32m----> 1\u001b[0;31m \u001b[0mexpr_newa\u001b[0m \u001b[0;34m=\u001b[0m \u001b[0mgetExpressionInC\u001b[0m\u001b[0;34m(\u001b[0m\u001b[0mnewra\u001b[0m\u001b[0;34m.\u001b[0m\u001b[0m_sympy_\u001b[0m\u001b[0;34m(\u001b[0m\u001b[0;34m)\u001b[0m\u001b[0;34m)\u001b[0m\u001b[0;34m\u001b[0m\u001b[0;34m\u001b[0m\u001b[0m\n\u001b[0m\u001b[1;32m      2\u001b[0m \u001b[0mexpr_newa\u001b[0m\u001b[0;34m\u001b[0m\u001b[0;34m\u001b[0m\u001b[0m\n",
      "\u001b[0;32m/usr/lib/python3.9/site-packages/sage/structure/sequence.py\u001b[0m in \u001b[0;36m__getattr__\u001b[0;34m(self, name)\u001b[0m\n\u001b[1;32m    882\u001b[0m             \u001b[0;32mreturn\u001b[0m \u001b[0mself\u001b[0m\u001b[0;34m.\u001b[0m\u001b[0m__hash\u001b[0m\u001b[0;34m\u001b[0m\u001b[0;34m\u001b[0m\u001b[0m\n\u001b[1;32m    883\u001b[0m         \u001b[0;32melse\u001b[0m\u001b[0;34m:\u001b[0m\u001b[0;34m\u001b[0m\u001b[0;34m\u001b[0m\u001b[0m\n\u001b[0;32m--> 884\u001b[0;31m             \u001b[0;32mraise\u001b[0m \u001b[0mAttributeError\u001b[0m\u001b[0;34m(\u001b[0m\u001b[0;34m\"'Sequence_generic' object has no attribute '%s'\"\u001b[0m\u001b[0;34m%\u001b[0m\u001b[0mname\u001b[0m\u001b[0;34m)\u001b[0m\u001b[0;34m\u001b[0m\u001b[0;34m\u001b[0m\u001b[0m\n\u001b[0m\u001b[1;32m    885\u001b[0m \u001b[0mseq\u001b[0m \u001b[0;34m=\u001b[0m \u001b[0mSequence\u001b[0m\u001b[0;34m\u001b[0m\u001b[0;34m\u001b[0m\u001b[0m\n\u001b[1;32m    886\u001b[0m \u001b[0;34m\u001b[0m\u001b[0m\n",
      "\u001b[0;31mAttributeError\u001b[0m: 'Sequence_generic' object has no attribute '_sympy_'"
     ]
    }
   ],
   "source": [
    "expr_newa = getExpressionInC(newra._sympy_())\n",
    "expr_newa"
   ]
  },
  {
   "cell_type": "code",
   "execution_count": 263,
   "metadata": {},
   "outputs": [
    {
     "data": {
      "text/plain": [
       "' (pow(dr, 2)*pow(dt, 2)*(shmem[CI(1,(t),(threadIdx.z),(tidym),(threadIdx.x))] - 2*shmem[CI(1,(t),(threadIdx.z),(threadIdx.y),(threadIdx.x))] + shmem[CI(1,(t),(threadIdx.z),(tidyp),(threadIdx.x))]) - pow(dtheta, 2)*(pow(dr, 2)*(shmem[CI(1,(tm1),(threadIdx.z),(threadIdx.y),(threadIdx.x))] - 2*shmem[CI(1,(t),(threadIdx.z),(threadIdx.y),(threadIdx.x))]) - pow(dt, 2)*(shmem[CI(1,(t),(threadIdx.z),(threadIdx.y),(tidxm))] - 2*shmem[CI(1,(t),(threadIdx.z),(threadIdx.y),(threadIdx.x))] + shmem[CI(1,(t),(threadIdx.z),(threadIdx.y),(tidxp))])))/(pow(dr, 2)*pow(dtheta, 2))'"
      ]
     },
     "execution_count": 263,
     "metadata": {},
     "output_type": "execute_result"
    }
   ],
   "source": [
    "expr_f = getExpressionInC(rf._sympy_())\n",
    "expr_f[63:]"
   ]
  },
  {
   "cell_type": "code",
   "execution_count": 264,
   "metadata": {},
   "outputs": [
    {
     "ename": "AttributeError",
     "evalue": "'Sequence_generic' object has no attribute '_sympy_'",
     "output_type": "error",
     "traceback": [
      "\u001b[0;31m---------------------------------------------------------------------------\u001b[0m",
      "\u001b[0;31mAttributeError\u001b[0m                            Traceback (most recent call last)",
      "\u001b[0;32m<ipython-input-264-cefdcf661fb6>\u001b[0m in \u001b[0;36m<module>\u001b[0;34m\u001b[0m\n\u001b[0;32m----> 1\u001b[0;31m \u001b[0mexpr_newf\u001b[0m \u001b[0;34m=\u001b[0m \u001b[0mgetExpressionInC\u001b[0m\u001b[0;34m(\u001b[0m\u001b[0mnewrf\u001b[0m\u001b[0;34m.\u001b[0m\u001b[0m_sympy_\u001b[0m\u001b[0;34m(\u001b[0m\u001b[0;34m)\u001b[0m\u001b[0;34m)\u001b[0m\u001b[0;34m\u001b[0m\u001b[0;34m\u001b[0m\u001b[0m\n\u001b[0m\u001b[1;32m      2\u001b[0m \u001b[0mexpr_newf\u001b[0m\u001b[0;34m[\u001b[0m\u001b[0;36m29\u001b[0m\u001b[0;34m:\u001b[0m\u001b[0;34m]\u001b[0m\u001b[0;34m\u001b[0m\u001b[0;34m\u001b[0m\u001b[0m\n",
      "\u001b[0;32m/usr/lib/python3.9/site-packages/sage/structure/sequence.py\u001b[0m in \u001b[0;36m__getattr__\u001b[0;34m(self, name)\u001b[0m\n\u001b[1;32m    882\u001b[0m             \u001b[0;32mreturn\u001b[0m \u001b[0mself\u001b[0m\u001b[0;34m.\u001b[0m\u001b[0m__hash\u001b[0m\u001b[0;34m\u001b[0m\u001b[0;34m\u001b[0m\u001b[0m\n\u001b[1;32m    883\u001b[0m         \u001b[0;32melse\u001b[0m\u001b[0;34m:\u001b[0m\u001b[0;34m\u001b[0m\u001b[0;34m\u001b[0m\u001b[0m\n\u001b[0;32m--> 884\u001b[0;31m             \u001b[0;32mraise\u001b[0m \u001b[0mAttributeError\u001b[0m\u001b[0;34m(\u001b[0m\u001b[0;34m\"'Sequence_generic' object has no attribute '%s'\"\u001b[0m\u001b[0;34m%\u001b[0m\u001b[0mname\u001b[0m\u001b[0;34m)\u001b[0m\u001b[0;34m\u001b[0m\u001b[0;34m\u001b[0m\u001b[0m\n\u001b[0m\u001b[1;32m    885\u001b[0m \u001b[0mseq\u001b[0m \u001b[0;34m=\u001b[0m \u001b[0mSequence\u001b[0m\u001b[0;34m\u001b[0m\u001b[0;34m\u001b[0m\u001b[0m\n\u001b[1;32m    886\u001b[0m \u001b[0;34m\u001b[0m\u001b[0m\n",
      "\u001b[0;31mAttributeError\u001b[0m: 'Sequence_generic' object has no attribute '_sympy_'"
     ]
    }
   ],
   "source": [
    "expr_newf = getExpressionInC(newrf._sympy_())\n",
    "expr_newf[29:]"
   ]
  },
  {
   "cell_type": "code",
   "execution_count": 265,
   "metadata": {
    "scrolled": true
   },
   "outputs": [
    {
     "data": {
      "text/plain": [
       "'),(threadIdx.y),(threadIdx.x))] == (pow(dr, 2)*pow(dt, 2)*(shmem[CI(2,(t),(threadIdx.z),(tidym),(threadIdx.x))] - 2*shmem[CI(2,(t),(threadIdx.z),(threadIdx.y),(threadIdx.x))] + shmem[CI(2,(t),(threadIdx.z),(tidyp),(threadIdx.x))]) - pow(dtheta, 2)*(pow(dr, 2)*(shmem[CI(2,(tm1),(threadIdx.z),(threadIdx.y),(threadIdx.x))] - 2*shmem[CI(2,(t),(threadIdx.z),(threadIdx.y),(threadIdx.x))]) - pow(dt, 2)*(shmem[CI(2,(t),(threadIdx.z),(threadIdx.y),(tidxm))] - 2*shmem[CI(2,(t),(threadIdx.z),(threadIdx.y),(threadIdx.x))] + shmem[CI(2,(t),(threadIdx.z),(threadIdx.y),(tidxp))])))/(pow(dr, 2)*pow(dtheta, 2))'"
      ]
     },
     "execution_count": 265,
     "metadata": {},
     "output_type": "execute_result"
    }
   ],
   "source": [
    "expr_g = getExpressionInC(rg._sympy_())\n",
    "expr_g[29:]"
   ]
  },
  {
   "cell_type": "code",
   "execution_count": 266,
   "metadata": {},
   "outputs": [
    {
     "ename": "AttributeError",
     "evalue": "'Sequence_generic' object has no attribute '_sympy_'",
     "output_type": "error",
     "traceback": [
      "\u001b[0;31m---------------------------------------------------------------------------\u001b[0m",
      "\u001b[0;31mAttributeError\u001b[0m                            Traceback (most recent call last)",
      "\u001b[0;32m<ipython-input-266-377b3812bc7f>\u001b[0m in \u001b[0;36m<module>\u001b[0;34m\u001b[0m\n\u001b[0;32m----> 1\u001b[0;31m \u001b[0mexpr_newg\u001b[0m \u001b[0;34m=\u001b[0m \u001b[0mgetExpressionInC\u001b[0m\u001b[0;34m(\u001b[0m\u001b[0mnewrg\u001b[0m\u001b[0;34m.\u001b[0m\u001b[0m_sympy_\u001b[0m\u001b[0;34m(\u001b[0m\u001b[0;34m)\u001b[0m\u001b[0;34m)\u001b[0m\u001b[0;34m\u001b[0m\u001b[0;34m\u001b[0m\u001b[0m\n\u001b[0m\u001b[1;32m      2\u001b[0m \u001b[0mexpr_newg\u001b[0m\u001b[0;34m[\u001b[0m\u001b[0;36m63\u001b[0m\u001b[0;34m:\u001b[0m\u001b[0;34m]\u001b[0m\u001b[0;34m\u001b[0m\u001b[0;34m\u001b[0m\u001b[0m\n",
      "\u001b[0;32m/usr/lib/python3.9/site-packages/sage/structure/sequence.py\u001b[0m in \u001b[0;36m__getattr__\u001b[0;34m(self, name)\u001b[0m\n\u001b[1;32m    882\u001b[0m             \u001b[0;32mreturn\u001b[0m \u001b[0mself\u001b[0m\u001b[0;34m.\u001b[0m\u001b[0m__hash\u001b[0m\u001b[0;34m\u001b[0m\u001b[0;34m\u001b[0m\u001b[0m\n\u001b[1;32m    883\u001b[0m         \u001b[0;32melse\u001b[0m\u001b[0;34m:\u001b[0m\u001b[0;34m\u001b[0m\u001b[0;34m\u001b[0m\u001b[0m\n\u001b[0;32m--> 884\u001b[0;31m             \u001b[0;32mraise\u001b[0m \u001b[0mAttributeError\u001b[0m\u001b[0;34m(\u001b[0m\u001b[0;34m\"'Sequence_generic' object has no attribute '%s'\"\u001b[0m\u001b[0;34m%\u001b[0m\u001b[0mname\u001b[0m\u001b[0;34m)\u001b[0m\u001b[0;34m\u001b[0m\u001b[0;34m\u001b[0m\u001b[0m\n\u001b[0m\u001b[1;32m    885\u001b[0m \u001b[0mseq\u001b[0m \u001b[0;34m=\u001b[0m \u001b[0mSequence\u001b[0m\u001b[0;34m\u001b[0m\u001b[0;34m\u001b[0m\u001b[0m\n\u001b[1;32m    886\u001b[0m \u001b[0;34m\u001b[0m\u001b[0m\n",
      "\u001b[0;31mAttributeError\u001b[0m: 'Sequence_generic' object has no attribute '_sympy_'"
     ]
    }
   ],
   "source": [
    "expr_newg = getExpressionInC(newrg._sympy_())\n",
    "expr_newg[63:]"
   ]
  },
  {
   "cell_type": "code",
   "execution_count": 267,
   "metadata": {},
   "outputs": [],
   "source": [
    "def writeDefinitionGPU(filename, template, expr, arr):\n",
    "    import os.path\n",
    "    data = \"\"\n",
    "    #check if header already exist\n",
    "    if os.path.isfile(filename+\".cu\"):\n",
    "        #in that case, just append new declaration\n",
    "        fin = open(filename+\".cu\", \"rt\")\n",
    "        data = fin.read()\n",
    "        fin.close()\n",
    "    else:\n",
    "        data = \"//### THIS IS A GENERATED FILE - DO NOT MODIFY ### \\n \\\n",
    "#include \\\"\"+filename.split('/')[-1]+\".cuh\\\"\\n \\\n",
    "#include \\\"SharedMem.cuh\\\"\\n\"\n",
    "    string = ''\n",
    "    if arr == 'a':\n",
    "        string = '0'\n",
    "    elif arr == 'F':\n",
    "        string = '1'\n",
    "    else:\n",
    "        string = '2'\n",
    "    data = data + '\\n' + template + \"\"\"{\n",
    "    int r = blockIdx.x*blockDim.x + threadIdx.x;\n",
    "    int theta = blockIdx.y*blockDim.y + threadIdx.y;\n",
    "    int phi = blockIdx.z*blockDim.z + threadIdx.z;\n",
    "    int global_phi = phi + phi_offset;\n",
    "    \n",
    "    extern __shared__ REAL shmem[];\n",
    "    if (r<M && theta<N && phi<O){\n",
    "        fillSharedMemory(shmem, a, F, G, M, N, O, global_phi, r, theta, phi);\n",
    "    }\n",
    "    __syncthreads();\n",
    "    if (r<M && theta<N && phi<O){\n",
    "        int tidxp = threadIdx.x+1;\n",
    "        int tidxm = threadIdx.x-1;\n",
    "        \n",
    "        int tidyp = threadIdx.y+1;\n",
    "        int tidym = threadIdx.y-1;        \n",
    "        \n",
    "        int tidzp = threadIdx.z+1;\n",
    "        int tidzm = threadIdx.z-1;\n",
    "        \n",
    "        \"\"\" + \"\\n \\\n",
    "\\t\\tshmem[CI(\"+string+\", tp1, threadIdx.z, threadIdx.y, threadIdx.x)] = \" + expr + \";\\n\\t}\\n \\\n",
    "    __syncthreads();\\n\\\n",
    "    if (r<M && theta<N && phi<O){\\\n",
    "        copySharedMemoryToGlobal\"+str(arr)+\"(shmem, a, F, G, M, N, O, global_phi, r, theta, phi, tp1);\\n\\\n",
    "    }\\n\\\n",
    "}\"\n",
    "    \n",
    "    fin = open(filename+\".cu\", \"wt\")\n",
    "    fin.write(data)\n",
    "    fin.close()\n",
    "\n",
    "def writeDeclarationGPU(filename, template):\n",
    "    import os.path\n",
    "    data = \"\"\n",
    "    #check if header already exist\n",
    "    if os.path.isfile(filename+\".cuh\"):\n",
    "        #in that case, just append new declaration\n",
    "        fin = open(filename+\".cuh\", \"rt\")\n",
    "        data = fin.read()\n",
    "        fin.close()\n",
    "    else:\n",
    "        data = \"//### THIS IS A GENERATED FILE - DO NOT MODIFY ### \\n \\\n",
    "#pragma once\\n \\\n",
    "#include <iostream>\\n \\\n",
    "#include <unistd.h>\\n \\\n",
    "#include <vector>\\n \\\n",
    "#include <string>\\n \\\n",
    "#include <fstream>\\n \\\n",
    "#include <cmath>\\n \\\n",
    "#include \\\"defines.h\\\"\\n \\\n",
    "using namespace std;\\n\"\n",
    "    \n",
    "    data = data + '\\n' + template + \";\"\n",
    "    \n",
    "    fin = open(filename+\".cuh\", \"wt\")\n",
    "    fin.write(data)\n",
    "    fin.close()\n",
    "\n",
    "def cleanOldFilesGPU(file):\n",
    "    import os\n",
    "    try:\n",
    "        os.remove(file + \".cu\")    \n",
    "        os.remove(file + \".cuh\")\n",
    "    except:\n",
    "        return \"Already gone.\"\n",
    "\n",
    "def writePairs(filename, funcname, expr):\n",
    "    writeDeclarationGPU(filename, \"__global__ void \"+funcname+\"(REAL *a, REAL *F, REAL *G, size_t l, size_t tp1, size_t t, size_t tm1, size_t tm2, size_t M, size_t N, size_t O, size_t phi_offset, REAL dt, REAL dr, REAL dtheta, REAL dphi, REAL l_1, REAL l_2, REAL lamb, int p, int q, int L)\")\n",
    "    writeDefinitionGPU( filename, \"__global__ void \"+funcname+\"(REAL *a, REAL *F, REAL *G, size_t l, size_t tp1, size_t t, size_t tm1, size_t tm2, size_t M, size_t N, size_t O, size_t phi_offset, REAL dt, REAL dr, REAL dtheta, REAL dphi, REAL l_1, REAL l_2, REAL lamb, int p, int q, int L)\", expr, funcname[-1])\n",
    "\n",
    "\n",
    "def findClosingPar(expr):\n",
    "    let = 1\n",
    "    i = 1\n",
    "    #print(expr)\n",
    "    while let > 0 and i<len(expr):\n",
    "        if expr[i] == '(':\n",
    "            let += 1\n",
    "        elif expr[i] == ')':\n",
    "            let -= 1\n",
    "        i+=1\n",
    "    return i-1\n",
    "\n",
    "def replaceAllPow(expr):\n",
    "    indexes = [m.start() for m in re.finditer('pow', expr)]\n",
    "    for i in indexes[::-1]:\n",
    "        open = i+4\n",
    "        close = findClosingPar(expr[open:])+open\n",
    "        exponent = expr[open:close].split(',')[-1]\n",
    "        \n",
    "        commas = [m.start() for m in re.finditer(',', expr[open:close])]\n",
    "        #print(expr[open:close])\n",
    "        argument = expr[open:open+commas[-1]]\n",
    "        \n",
    "        rep = ''\n",
    "        for j in range(int(exponent)):\n",
    "            rep += argument+'*'\n",
    "        rep = rep[:-1]\n",
    "        expr = expr[:i] +'(' + rep + ')'+ expr[close+1:]\n",
    "    return expr  \n",
    "        #print(expr)\n",
    "        #return\n",
    "        #print(rep)"
   ]
  },
  {
   "cell_type": "code",
   "execution_count": 268,
   "metadata": {
    "scrolled": true
   },
   "outputs": [],
   "source": [
    "expr_anp = replaceAllPow(expr_a)\n",
    "expr_fnp = replaceAllPow(expr_f)\n",
    "expr_gnp = replaceAllPow(expr_g)\n",
    "\n",
    "expr_newanp = replaceAllPow(expr_newa)\n",
    "expr_newfnp = replaceAllPow(expr_newf)\n",
    "expr_newgnp = replaceAllPow(expr_newg)"
   ]
  },
  {
   "cell_type": "code",
   "execution_count": 269,
   "metadata": {},
   "outputs": [],
   "source": [
    "cleanOldFilesGPU(\"../gpu/src/EquationAlfa\")\n",
    "cleanOldFilesGPU(\"../gpu/src/EquationF\")\n",
    "cleanOldFilesGPU(\"../gpu/src/EquationG\")\n",
    "\n",
    "writePairs(\"../gpu/src/EquationAlfa\", \"computeNexta\", expr_anp[63:])\n",
    "#writePairs(\"../gpu/src/EquationAlfa\", \"computeSeconda\", expr_newanp[63:])\n",
    "\n",
    "writePairs(\"../gpu/src/EquationF\", \"computeNextF\", expr_fnp[63:])\n",
    "#writePairs(\"../gpu/src/EquationF\", \"computeSecondF\", expr_newfnp[63:])\n",
    "\n",
    "writePairs(\"../gpu/src/EquationG\", \"computeNextG\", expr_gnp[63:])\n",
    "#writePairs(\"../gpu/src/EquationG\", \"computeSecondG\", expr_newgnp[63:])"
   ]
  },
  {
   "cell_type": "code",
   "execution_count": null,
   "metadata": {},
   "outputs": [],
   "source": []
  },
  {
   "cell_type": "code",
   "execution_count": null,
   "metadata": {},
   "outputs": [],
   "source": []
  },
  {
   "cell_type": "code",
   "execution_count": null,
   "metadata": {},
   "outputs": [],
   "source": []
  }
 ],
 "metadata": {
  "kernelspec": {
   "display_name": "Python 3",
   "language": "python",
   "name": "python3"
  },
  "language_info": {
   "codemirror_mode": {
    "name": "ipython",
    "version": 3
   },
   "file_extension": ".py",
   "mimetype": "text/x-python",
   "name": "python",
   "nbconvert_exporter": "python",
   "pygments_lexer": "ipython3",
   "version": "3.9.1"
  }
 },
 "nbformat": 4,
 "nbformat_minor": 4
}
