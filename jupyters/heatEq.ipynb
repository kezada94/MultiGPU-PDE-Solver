{
 "cells": [
  {
   "cell_type": "code",
   "execution_count": 56,
   "metadata": {
    "scrolled": true
   },
   "outputs": [],
   "source": [
    "from sympy import *\n",
    "import numpy as np\n",
    "\n",
    "D = 2\n",
    "\n",
    "## Definiendo simbolos\n",
    "t, r, theta, phi, global_phi = symbols('t, r, \\theta, \\\\varphi, global_phi')\n",
    "dt, dr, dtheta, dphi = symbols('dt dr dtheta dphi')     \n",
    "l0, l1, l2, l3 = symbols(\"l_0 l_1 l_2 l_3\")\n",
    "l, lamb, p, q, n, L = symbols(\"l lamb p q n L\")\n",
    "\n",
    "deldel = Function(\"DELDEL\")\n",
    "delf = Function(\"DELF\")\n",
    "box = Function(\"\\\\Box\")\n",
    "\n",
    "def getFuncName(i):\n",
    "    if i==0:\n",
    "        return alfa.name\n",
    "    if i==1:\n",
    "        return F.name\n",
    "    if i==2:\n",
    "        return G.name\n",
    "    \n",
    "    \n",
    "if D == 1:\n",
    "    ndmat = np.array([[[symbols(\"a\") for _x in range(4)] for _w in range(4)] for _i in range(3)])\n",
    "    alfa = Function(\"a\")(t, r)\n",
    "    F = Function(\"F\")(t, r)\n",
    "    G = Function(\"G\")(t, r)\n",
    "elif D == 2:\n",
    "    ndmat = np.array([[[[symbols(\"a\") for _x in range(4)] for _y in range(4)] for _w in range(4)] for _i in range(3)])\n",
    "    alfa = Function(\"a\")(t, theta, r)\n",
    "    F = Function(\"F\")(t, theta, r)\n",
    "    G = Function(\"G\")(t, theta, r)\n",
    "elif D == 3:\n",
    "    ndmat = np.array([[[[[symbols(\"a\") for _x in range(4)] for _y in range(4)] for _z in range(4)] for _w in range(4)] for _i in range(3)])\n",
    "    alfa = Function(\"a\")(t, phi, theta, r)\n",
    "    F = Function(\"F\")(t, phi, theta, r)\n",
    "    G = Function(\"G\")(t, phi, theta, r)\n",
    "\n",
    "\n",
    "symbolsString = \"\"\n",
    "if D == 1:\n",
    "    for _f in range(3):\n",
    "        for _t in range(4):\n",
    "            for _r in range(4):\n",
    "                ndmat[_f][_t][_r] = symbols(getFuncName(_f)+str(_t)+str(_r))\n",
    "                symbolsString += str(ndmat[_f][_t][_r])+\" \"\n",
    "elif D == 2:\n",
    "    for _f in range(3):\n",
    "        for _t in range(4):\n",
    "            for _theta in range(4):\n",
    "                for _r in range(4):\n",
    "                    ndmat[_f][_t][_theta][_r] = symbols(getFuncName(_f)+str(_t)+str(_theta)+str(_r))\n",
    "                    symbolsString += str(ndmat[_f][_t][_theta][_r])+\" \"\n",
    "elif D == 3:\n",
    "    for _f in range(3):\n",
    "        for _t in range(4):\n",
    "            for _phi in range(4):\n",
    "                for _theta in range(4):\n",
    "                    for _r in range(4):\n",
    "                        ndmat[_f][_t][_phi][_theta][_r] = symbols(getFuncName(_f)+str(_t)+str(_phi)+str(_theta)+str(_r))\n",
    "                        symbolsString += str(ndmat[_f][_t][_phi][_theta][_r])+\" \"\n"
   ]
  },
  {
   "cell_type": "code",
   "execution_count": 57,
   "metadata": {},
   "outputs": [
    {
     "data": {
      "text/plain": [
       "'3.8.10 | packaged by conda-forge | (default, May 11 2021, 06:39:48) \\n[Clang 11.1.0 ]'"
      ]
     },
     "execution_count": 57,
     "metadata": {},
     "output_type": "execute_result"
    }
   ],
   "source": [
    "import sys\n",
    "sys.version"
   ]
  },
  {
   "cell_type": "code",
   "execution_count": 58,
   "metadata": {
    "scrolled": false
   },
   "outputs": [
    {
     "data": {
      "text/latex": [
       "$\\displaystyle p \\left(\\frac{\\partial^{2}}{\\partial heta^{2}} a{\\left(t,heta,r \\right)} + \\frac{\\partial^{2}}{\\partial r^{2}} a{\\left(t,heta,r \\right)}\\right) - \\frac{\\partial}{\\partial t} a{\\left(t,heta,r \\right)}$"
      ],
      "text/plain": [
       "p*(Derivative(a(t, heta, r), (heta, 2)) + Derivative(a(t, heta, r), (r, 2))) - Derivative(a(t, heta, r), t)"
      ]
     },
     "metadata": {},
     "output_type": "display_data"
    },
    {
     "data": {
      "text/plain": [
       "0"
      ]
     },
     "metadata": {},
     "output_type": "display_data"
    },
    {
     "data": {
      "text/plain": [
       "0"
      ]
     },
     "metadata": {},
     "output_type": "display_data"
    }
   ],
   "source": [
    "def DELDEL(f, g):\n",
    "    #canon = -f.diff(t)*g.diff(t) + 1/l1**2*f.diff(r)*g.diff(r) + 1/l1**2*f.diff(theta)*g.diff(theta) + 1/l2**2*f.diff(phi)*g.diff(phi)\n",
    "    canon = -f.diff(t)*g.diff(t) + f.diff(r)*g.diff(r) + f.diff(theta)*g.diff(theta) + f.diff(phi)*g.diff(phi)\n",
    "    return canon\n",
    "\n",
    "def BOX(f):\n",
    "    canon = -f.diff(t, 2) + (f.diff(r, 2) + f.diff(theta, 2) + f.diff(phi, 2))\n",
    "    #canon = -f.diff(t, 2) + 1/l1**2*f.diff(r, 2) + 1/l1**2*f.diff(theta, 2) + 1/l2 **2*f.diff(phi, 2)\n",
    "    return canon\n",
    "\n",
    "def DELf(f, g):\n",
    "    canon = DELDEL(f, g) + f*BOX(g)\n",
    "\n",
    "    #canon = -(f*g.diff(t)).diff(t) + (f*g.diff(r)).diff(r)+ (f*g.diff(theta)).diff(theta) + (f*g.diff(phi)).diff(phi)\n",
    "    #canon = -(f*g.diff(t)).diff(t) + 1/l1**2*(f*g.diff(r)).diff(r)+ 1/l1**2*(f*g.diff(theta)).diff(theta) + 1/l2**2*(f*g.diff(phi)).diff(phi)\n",
    "    return canon\n",
    "\n",
    "\n",
    "with evaluate(True):\n",
    "    motion_alfa = p*(alfa.diff(theta, 2)+alfa.diff(r, 2))-alfa.diff(t)\n",
    "    motion_F = 0\n",
    "    motion_G = 0\n",
    "    \n",
    "display(motion_alfa)\n",
    "display(motion_F)\n",
    "display(motion_G)"
   ]
  },
  {
   "cell_type": "code",
   "execution_count": 59,
   "metadata": {
    "scrolled": false
   },
   "outputs": [],
   "source": [
    "def expandToDerivatives(func):\n",
    "    p, q, s, b = map(Wild, 'pqsb')\n",
    "    res = func.replace(deldel(p, q)*s, lambda p, q, s : DELDEL(p, q)*s)\n",
    "    res = res.replace(delf(p, q)*s, lambda p, q, s : DELf(p, q)*s)\n",
    "    return res.replace(box(p)*s, lambda p, s : BOX(p)*s)"
   ]
  },
  {
   "cell_type": "code",
   "execution_count": 60,
   "metadata": {
    "scrolled": true
   },
   "outputs": [
    {
     "data": {
      "text/plain": [
       "'Alfa done.'"
      ]
     },
     "metadata": {},
     "output_type": "display_data"
    }
   ],
   "source": [
    "res3a = (expandToDerivatives(motion_alfa))\n",
    "display(\"Alfa done.\")\n"
   ]
  },
  {
   "cell_type": "code",
   "execution_count": 61,
   "metadata": {},
   "outputs": [],
   "source": [
    "#display(res3a)\n",
    "#display(res3f)\n",
    "#display(res3g)"
   ]
  },
  {
   "cell_type": "code",
   "execution_count": 62,
   "metadata": {
    "scrolled": true
   },
   "outputs": [],
   "source": [
    "def getDelta(i):\n",
    "    if i == t:\n",
    "        return dt\n",
    "    if r == i:\n",
    "        return dr\n",
    "    if theta == i:\n",
    "        return dtheta\n",
    "    if phi == i:\n",
    "        return dphi\n",
    "\n",
    "def getIndex(i):\n",
    "    if t == i:\n",
    "        return 0\n",
    "    if phi == i:\n",
    "        return 1\n",
    "    if theta == i:\n",
    "        return 2\n",
    "    if r == i:\n",
    "        return 3\n",
    "\n",
    "def getFuncIndex(f):\n",
    "    if f==F:\n",
    "        return 1\n",
    "    if f==G:\n",
    "        return 2\n",
    "    if f==alfa:\n",
    "        return 0\n",
    "    \n",
    "def isThis(s, ix):\n",
    "    if ix != None and s in ix.keys():\n",
    "        return ix[s]\n",
    "    else: \n",
    "        return 0\n",
    "#http://www.iitg.ac.in/gtm/files/chap2.pdf\n",
    "#https://www.uio.no/studier/emner/matnat/math/MAT-INF1100/h07/undervisningsmateriale/kap7.pdf\n",
    "\n",
    "# 3: +1\n",
    "# 2:  0\n",
    "# 1: -1\n",
    "# 0: -2\n",
    "\n",
    "def getDiscreteSymbol(ndmat, f, ix=None):\n",
    "    if D==3:\n",
    "        canon = ndmat[getFuncIndex(f)][2+isThis(t, ix)][2+isThis(phi, ix)][2+isThis(theta, ix)][2+isThis(r, ix)]\n",
    "    elif D==2:\n",
    "        canon = ndmat[getFuncIndex(f)][2+isThis(t, ix)][2+isThis(theta, ix)][2+isThis(r, ix)]\n",
    "    elif D==1:\n",
    "        canon = ndmat[getFuncIndex(f)][2+isThis(t, ix)][2+isThis(r, ix)]\n",
    "    return canon\n",
    "    \n",
    "def FOD(f, i, wrt):\n",
    "    \n",
    "    canon = (getDiscreteSymbol(ndmat, f, ix={i:1}) - getDiscreteSymbol(ndmat, f, ix={i:-1}))/(2*getDelta(i))\n",
    "    return canon\n",
    "\n",
    "def SOD(f, i, j, wrt):\n",
    "    if i==j:\n",
    "        if f!=wrt and f!=G:\n",
    "            canon = 0 \n",
    "        elif (f==wrt and i==t) or i != t:\n",
    "            canon = (getDiscreteSymbol(ndmat, f, ix={i:1}) - 2*getDiscreteSymbol(ndmat, f, ix={i:0}) + getDiscreteSymbol(ndmat, f, ix={i:-1}))/(getDelta(i)**2)\n",
    "\n",
    "\n",
    "    else:\n",
    "        if i != t and t != j:\n",
    "            canon = (getDiscreteSymbol(ndmat, f, ix={i:1, j:1}) + getDiscreteSymbol(ndmat, f, ix={i:-1, j:-1}) - getDiscreteSymbol(ndmat, f, ix={i:1, j:-1}) - getDiscreteSymbol(ndmat, f, ix={i:-1, j:1}) )/(4*getDelta(i)*getDelta(j))\n",
    "        #backward difference\n",
    "        elif (j==t):\n",
    "            canon = (1/getDelta(i))*(((getDiscreteSymbol(ndmat, f, ix={i:1, j:0})-getDiscreteSymbol(ndmat, f, ix={i:0, j:0}))/(getDelta(j))) - ((getDiscreteSymbol(ndmat, f, ix={i:1, j:-1}) - getDiscreteSymbol(ndmat, f, ix={i:0, j:-1}))/(getDelta(j))))\n",
    "            \n",
    "            #canon = (1/(2*getDelta(i)*getDelta(j)))*(getDiscreteSymbol(ndmat, f, ix={i:0, j:1})-getDiscreteSymbol(ndmat, f, ix={i:-1, j:1})-getDiscreteSymbol(ndmat, f, ix={i:0, j:-1})-getDiscreteSymbol(ndmat, f, ix={i:-1, j:-1}))\n",
    "        elif (i == t):\n",
    "            #canon = (1/(2*getDelta(i)*getDelta(j)))*(getDiscreteSymbol(ndmat, f, ix={i:1, j:0})-getDiscreteSymbol(ndmat, f, ix={i:1, j:-1})-getDiscreteSymbol(ndmat, f, ix={i:-1, j:0})-getDiscreteSymbol(ndmat, f, ix={i:-1, j:-1}))\n",
    "            canon = (1/getDelta(i))*(((getDiscreteSymbol(ndmat, f, ix={i:0, j:1})-getDiscreteSymbol(ndmat, f, ix={i:0, j:0}))/(getDelta(j))) - ((getDiscreteSymbol(ndmat, f, ix={i:-1, j:1}) - getDiscreteSymbol(ndmat, f, ix={i:-1, j:0}))/(getDelta(j))))\n",
    "            \n",
    "        else:\n",
    "            print(\"what\")\n",
    "    return canon\n",
    "\n",
    "def discreti(arg, wrt):\n",
    "    if len(arg.variables) == 1:\n",
    "        return FOD(arg.expr, arg.variables[0], wrt)\n",
    "    elif len(arg.variables) == 2:\n",
    "        return SOD(arg.expr, arg.variables[0], arg.variables[1], wrt)\n",
    "    else:\n",
    "        return None"
   ]
  },
  {
   "cell_type": "code",
   "execution_count": 63,
   "metadata": {},
   "outputs": [],
   "source": [
    "def discretizeVariables(func):\n",
    "    res = func.replace(r, r*dr)\n",
    "    res = res.replace(theta, theta*dtheta)\n",
    "    res = res.replace(phi, global_phi*dphi)\n",
    "    return res.replace(t, l*dt)\n",
    "\n",
    "def discretizeDerivatives(func, wrt):\n",
    "    res = func.replace(lambda arg: arg.is_Derivative, lambda arg: discreti(arg, wrt))\n",
    "    res = res.replace(F, getDiscreteSymbol(ndmat, F))\n",
    "    res = res.replace(G, getDiscreteSymbol(ndmat, G))\n",
    "    return res.replace(alfa, getDiscreteSymbol(ndmat, alfa))"
   ]
  },
  {
   "cell_type": "code",
   "execution_count": 64,
   "metadata": {},
   "outputs": [],
   "source": [
    "res7a = discretizeDerivatives(res3a, alfa)\n",
    "res7a = discretizeVariables(res7a)\n"
   ]
  },
  {
   "cell_type": "code",
   "execution_count": 65,
   "metadata": {},
   "outputs": [],
   "source": [
    "expra = ccode(res7a).replace(\"\\\\\", \"\")\n"
   ]
  },
  {
   "cell_type": "code",
   "execution_count": 66,
   "metadata": {},
   "outputs": [],
   "source": [
    "def getSymbolsUsed(expr):\n",
    "    syms = \"\"\n",
    "    for _y in expr.free_symbols:\n",
    "        syms += str(_y)+\" \"\n",
    "    return syms[:-1]"
   ]
  },
  {
   "cell_type": "code",
   "execution_count": 67,
   "metadata": {},
   "outputs": [
    {
     "name": "stdout",
     "output_type": "stream",
     "text": [
      "Symbols for a: \n",
      " [ p dtheta dt a232 a223 a122 a212 a322 a221 a222 dr ]\n"
     ]
    }
   ],
   "source": [
    "symma = getSymbolsUsed(res7a)\n",
    "print(\"Symbols for a: \\n [\", symma, \"]\")\n",
    "\n"
   ]
  },
  {
   "cell_type": "code",
   "execution_count": 68,
   "metadata": {},
   "outputs": [],
   "source": [
    "#import pyximport\n",
    "#pyximport.install()\n",
    "from sage.all import *\n",
    "import sage as sg\n",
    "\n",
    "var(symma.replace(\"\\\\\", \"\"))\n",
    "var(symbolsString.replace(\"\\\\\", \"\"))\n",
    "var(\"E4 E5 E6 r theta global_phi\")\n",
    "\n",
    "#pi_4 = E4*sin(dr*r)*sin(dtheta*theta)*sin(dphi*global_phi)\n",
    "#pi_5 = E5*sin(dr*r)*sin(dtheta*theta)*sin(dphi*global_phi)\n",
    "#pi_6 = E6*sin(dr*r)*sin(dtheta*theta)*sin(dphi*global_phi)\n",
    "\n",
    "dAdt = \"0\"\n",
    "#dAdt = \"0\"\n",
    "\n",
    "#dFdt = \"0 + pi_5\"\n",
    "#dGdt = \"p/L + pi_6\"\n",
    "\n",
    "def solveWithSage(expr, symbols, x):\n",
    "    wata = eval(expr)\n",
    "    resa = sg.symbolic.relation.solve(wata, x)\n",
    "    try:\n",
    "        return resa[0].full_simplify()\n",
    "    except:\n",
    "        try:\n",
    "            return resa.full_simplify()\n",
    "        except:\n",
    "            return resa"
   ]
  },
  {
   "cell_type": "code",
   "execution_count": 69,
   "metadata": {
    "scrolled": true
   },
   "outputs": [],
   "source": [
    "def getDerivative(eq, var):\n",
    "    if type(eq) == int:\n",
    "        return 0\n",
    "    else:\n",
    "        try:\n",
    "            return eq.derivative(var)\n",
    "        except:\n",
    "            return 0\n",
    "\n",
    "\n",
    "\"\"\"def replaceOtherFunctionsNegative(expr, func, func1, func2, ofunc1dt, ofunc2dt):\n",
    "    auxofun1 = eval(func1+\"2222\") - 2.0*dt*ofunc1dt \n",
    "    auxofun2 = eval(func2+\"2222\") - 2.0*dt*ofunc2dt \n",
    "    \n",
    "    firsta = expr.subs({eval(func1+\"0222\") : auxofun1})\n",
    "    firsta = firsta.subs({eval(func2+\"0222\") : auxofun2})\n",
    "    firstaa = sg.symbolic.relation.solve(firsta, eval(func+\"3222\"))\n",
    "    try:\n",
    "        return firstaa[0]#.collect_common_factors().full_simplify().collect_common_factors()\n",
    "    except:\n",
    "        return firstaa\n",
    "\"\"\";"
   ]
  },
  {
   "cell_type": "code",
   "execution_count": 70,
   "metadata": {},
   "outputs": [],
   "source": [
    "from sage.misc.latex import Latex\n",
    "ra=[]\n",
    "if D==3:\n",
    "    ra = solveWithSage(expra, symma, a3222)\n",
    "if D==2:\n",
    "    ra = solveWithSage(expra, symma, a322)\n",
    "if D==1:\n",
    "    ra = solveWithSage(expra, symma, a32)\n",
    "#lates = Latex()\n",
    "#lates(ra)"
   ]
  },
  {
   "cell_type": "code",
   "execution_count": 71,
   "metadata": {
    "scrolled": true
   },
   "outputs": [
    {
     "data": {
      "text/plain": [
       "a322 == (a122*dr^2*dtheta^2 + 2*((a212 - 2*a222 + a232)*dr^2*dt + (a221 - 2*a222 + a223)*dt*dtheta^2)*p)/(dr^2*dtheta^2)"
      ]
     },
     "execution_count": 71,
     "metadata": {},
     "output_type": "execute_result"
    }
   ],
   "source": [
    "ra"
   ]
  },
  {
   "cell_type": "code",
   "execution_count": 72,
   "metadata": {},
   "outputs": [],
   "source": [
    "#newra = replaceOtherFunctionsNegative(ra, \"a\", \"F\", \"G\", eval(dFdt), eval(dGdt))\n",
    "#print(newra)"
   ]
  },
  {
   "cell_type": "code",
   "execution_count": 74,
   "metadata": {},
   "outputs": [
    {
     "name": "stdout",
     "output_type": "stream",
     "text": [
      "18\n"
     ]
    }
   ],
   "source": [
    "def nops(expr):\n",
    "    count = 0\n",
    "    string = ccode(expr._sympy_())\n",
    "    count += string.count(\"*\")\n",
    "    count += string.count(\"^\")\n",
    "    count += string.count(\"-\")\n",
    "    count += string.count(\"+\")\n",
    "    count += string.count(\"/\")\n",
    "    return count\n",
    "\n",
    "print(nops(ra))\n"
   ]
  },
  {
   "cell_type": "code",
   "execution_count": 75,
   "metadata": {},
   "outputs": [],
   "source": [
    " import re\n",
    "def i2i(arg, index):\n",
    "    if index == \"0\":\n",
    "        return \"(\"+arg+\"-2)\"\n",
    "    if index == \"1\":\n",
    "        return \"(\"+arg+\"-1)\"\n",
    "    if index == \"2\":\n",
    "        return \"(\"+arg+\")\"\n",
    "    if index == \"3\":\n",
    "        return \"(\"+arg+\"+1)\"\n",
    "def i2iTime(arg, index):\n",
    "    if index == \"0\":\n",
    "        return \"(tm2)\"\n",
    "    if index == \"1\":\n",
    "        return \"(tm1)\"\n",
    "    if index == \"2\":\n",
    "        return \"(t)\"\n",
    "    if index == \"3\":\n",
    "        return \"(tp1)\"    \n",
    "def getCudaArray(ids):\n",
    "    res = \"\"\n",
    "    args = [\"t\", \"threadIdx.z\", \"threadIdx.y\", \"threadIdx.x\"]\n",
    "    sizes = [\"L\", \"O\", \"N\", \"M\"]  \n",
    "    while len(ids)!=4:\n",
    "        ids = ids[0]+'2'+ids[1:]\n",
    "    for i, c in enumerate(ids):\n",
    "        if args[i] == \"t\":\n",
    "            res += i2iTime(args[i], c)+\",\"\n",
    "        else:\n",
    "            res += i2i(args[i], c)+\",\"\n",
    "        #for j,s in enumerate(sizes[i+1:]):\n",
    "            #res+=\"*\"+s\n",
    "        #res+=\"+\"\n",
    "    return res[:-1]\n",
    "def getCArray(ids):\n",
    "    res = \"\"\n",
    "    args = [\"t\", \"phi\", \"theta\", \"r\"]\n",
    "    sizes = [\"L\", \"O\", \"N\", \"M\"]  \n",
    "    while len(ids)!=4:\n",
    "        ids = ids[0]+'2'+ids[1:]\n",
    "    for i, c in enumerate(ids):\n",
    "        if args[i] == \"t\":\n",
    "            res += i2iTime(args[i], c)+\",\"\n",
    "        else:\n",
    "            res += i2i(args[i], c)+\",\"\n",
    "        #for j,s in enumerate(sizes[i+1:]):\n",
    "            #res+=\"*\"+s\n",
    "        #res+=\"+\"\n",
    "    return res[:-1]\n",
    "\n",
    "\n",
    "\n",
    "def getExpressionInCuda(expr):\n",
    "    \n",
    "    traduc = ccode(expr)\n",
    "\n",
    "    if D==3:\n",
    "        indexes = [m.start() for m in re.finditer(r'[a-zA-Z]\\d\\d\\d\\d', traduc)]\n",
    "        for i in reversed(indexes):\n",
    "            traduc = traduc[:i+1]+\"[I(\"+ getCudaArray(traduc[i+1:i+5]) +\")]\"+ traduc[i+5:]\n",
    "    elif D==2:\n",
    "        indexes = [m.start() for m in re.finditer(r'[a-zA-Z]\\d\\d\\d', traduc)]\n",
    "        for i in reversed(indexes):\n",
    "            traduc = traduc[:i+1]+\"[I(\"+ getCudaArray(traduc[i+1:i+4]) +\")]\"+ traduc[i+4:]\n",
    "    elif D==1:\n",
    "        indexes = [m.start() for m in re.finditer(r'[a-zA-Z]\\d\\d', traduc)]\n",
    "        for i in reversed(indexes):\n",
    "            traduc = traduc[:i+1]+\"[I(\"+ getCudaArray(traduc[i+1:i+3]) +\")]\"+ traduc[i+3:]\n",
    "    traduc = traduc.replace(\"a[I(\", \"shmem[CI(0,\")\n",
    "    traduc = traduc.replace(\"F[I(\", \"shmem[CI(1,\")\n",
    "    traduc = traduc.replace(\"G[I(\", \"shmem[CI(2,\")\n",
    "    \n",
    "    traduc = traduc.replace(\"threadIdx.x+1\", \"tidxp\")\n",
    "    traduc = traduc.replace(\"threadIdx.x-1\", \"tidxm\")\n",
    "    traduc = traduc.replace(\"threadIdx.y+1\", \"tidyp\")\n",
    "    traduc = traduc.replace(\"threadIdx.y-1\", \"tidym\")\n",
    "    traduc = traduc.replace(\"threadIdx.z+1\", \"tidzp\")\n",
    "    traduc = traduc.replace(\"threadIdx.z-1\", \"tidzm\")    \n",
    "\n",
    "\n",
    "    return traduc\n",
    "\n",
    "def getExpressionInC(expr):\n",
    "    \n",
    "    traduc = ccode(expr)\n",
    "\n",
    "    if D==3:\n",
    "        indexes = [m.start() for m in re.finditer(r'[a-zA-Z]\\d\\d\\d\\d', traduc)]\n",
    "        for i in reversed(indexes):\n",
    "            traduc = traduc[:i+1]+\"[I(\"+ getCArray(traduc[i+1:i+5]) +\")]\"+ traduc[i+5:]\n",
    "    elif D==2:\n",
    "        indexes = [m.start() for m in re.finditer(r'[a-zA-Z]\\d\\d\\d', traduc)]\n",
    "        for i in reversed(indexes):\n",
    "            traduc = traduc[:i+1]+\"[I(\"+ getCArray(traduc[i+1:i+4]) +\")]\"+ traduc[i+4:]\n",
    "    elif D==1:\n",
    "        indexes = [m.start() for m in re.finditer(r'[a-zA-Z]\\d\\d', traduc)]\n",
    "        for i in reversed(indexes):\n",
    "            traduc = traduc[:i+1]+\"[I(\"+ getCArray(traduc[i+1:i+3]) +\")]\"+ traduc[i+3:]\n",
    "    #traduc = traduc.replace(\"a[I(\", \"shmem[CI(0,\")\n",
    "    #traduc = traduc.replace(\"F[I(\", \"shmem[CI(1,\")\n",
    "    #traduc = traduc.replace(\"G[I(\", \"shmem[CI(2,\")\n",
    "    \n",
    "    #traduc = traduc.replace(\"threadIdx.x+1\", \"tidxp\")\n",
    "    #traduc = traduc.replace(\"threadIdx.x-1\", \"tidxm\")\n",
    "    #traduc = traduc.replace(\"threadIdx.y+1\", \"tidyp\")\n",
    "    #traduc = traduc.replace(\"threadIdx.y-1\", \"tidym\")\n",
    "    #traduc = traduc.replace(\"threadIdx.z+1\", \"tidzp\")\n",
    "    #traduc = traduc.replace(\"threadIdx.z-1\", \"tidzm\")    \n",
    "\n",
    "\n",
    "    return traduc"
   ]
  },
  {
   "cell_type": "code",
   "execution_count": 76,
   "metadata": {},
   "outputs": [
    {
     "data": {
      "text/plain": [
       "'a[I((tp1),(phi),(theta),(r))] == (a[I((tm1),(phi),(theta),(r))]*pow(dr, 2)*pow(dtheta, 2) + 2*p*(pow(dr, 2)*dt*(a[I((t),(phi),(theta-1),(r))] - 2*a[I((t),(phi),(theta),(r))] + a[I((t),(phi),(theta+1),(r))]) + dt*pow(dtheta, 2)*(a[I((t),(phi),(theta),(r-1))] - 2*a[I((t),(phi),(theta),(r))] + a[I((t),(phi),(theta),(r+1))])))/(pow(dr, 2)*pow(dtheta, 2))'"
      ]
     },
     "execution_count": 76,
     "metadata": {},
     "output_type": "execute_result"
    }
   ],
   "source": [
    "expr_a = getExpressionInC(ra._sympy_())\n",
    "expr_a\n"
   ]
  },
  {
   "cell_type": "code",
   "execution_count": 81,
   "metadata": {},
   "outputs": [],
   "source": [
    "expr_fnp = getExpressionInC(motion_F)\n",
    "expr_gnp = getExpressionInC(motion_G)"
   ]
  },
  {
   "cell_type": "code",
   "execution_count": 82,
   "metadata": {},
   "outputs": [
    {
     "data": {
      "text/plain": [
       "'0'"
      ]
     },
     "execution_count": 82,
     "metadata": {},
     "output_type": "execute_result"
    }
   ],
   "source": [
    "expr_fnp"
   ]
  },
  {
   "cell_type": "code",
   "execution_count": 77,
   "metadata": {},
   "outputs": [],
   "source": [
    "def writeDefinitionGPU(filename, template, expr, arr):\n",
    "    import os.path\n",
    "    data = \"\"\n",
    "    #check if header already exist\n",
    "    if os.path.isfile(filename+\".cu\"):\n",
    "        #in that case, just append new declaration\n",
    "        fin = open(filename+\".cu\", \"rt\")\n",
    "        data = fin.read()\n",
    "        fin.close()\n",
    "    else:\n",
    "        data = \"//### THIS IS A GENERATED FILE - DO NOT MODIFY ### \\n \\\n",
    "#include \\\"\"+filename.split('/')[-1]+\".cuh\\\"\\n \\\n",
    "#include \\\"SharedMem.cuh\\\"\\n\"\n",
    "    string = ''\n",
    "    if arr == 'a':\n",
    "        string = '0'\n",
    "    elif arr == 'F':\n",
    "        string = '1'\n",
    "    else:\n",
    "        string = '2'\n",
    "    data = data + '\\n' + template + \"\"\"{\n",
    "    int r = blockIdx.x*blockDim.x + threadIdx.x;\n",
    "    int theta = blockIdx.y*blockDim.y + threadIdx.y;\n",
    "    int phi = blockIdx.z*blockDim.z + threadIdx.z;\n",
    "    int global_phi = phi + phi_offset;\n",
    "    \n",
    "    extern __shared__ REAL shmem[];\n",
    "    if (r<M && theta<N && phi<O){\n",
    "        fillSharedMemory(shmem, a, F, G, M, N, O, global_phi, r, theta, phi);\n",
    "    }\n",
    "    __syncthreads();\n",
    "    if (r<M && theta<N && phi<O){\n",
    "        int tidxp = threadIdx.x+1;\n",
    "        int tidxm = threadIdx.x-1;\n",
    "        \n",
    "        int tidyp = threadIdx.y+1;\n",
    "        int tidym = threadIdx.y-1;        \n",
    "        \n",
    "        int tidzp = threadIdx.z+1;\n",
    "        int tidzm = threadIdx.z-1;\n",
    "        \n",
    "        \"\"\" + \"\\n\\\n",
    "        \"+str(arr)+\"[I(tp1, phi, theta, r)] = \" + expr + \";\\n\\\n",
    "    }\\n\\\n",
    "}\"\n",
    "    \n",
    "    fin = open(filename+\".cu\", \"wt\")\n",
    "    fin.write(data)\n",
    "    fin.close()\n",
    "    \n",
    "def writeDefinitionCPU(filename, template, expr, arr):\n",
    "    import os.path\n",
    "    data = \"\"\n",
    "    #check if header already exist\n",
    "    if os.path.isfile(filename+\".cpp\"):\n",
    "        #in that case, just append new declaration\n",
    "        fin = open(filename+\".cpp\", \"rt\")\n",
    "        data = fin.read()\n",
    "        fin.close()\n",
    "    else:\n",
    "        data = \"//### THIS IS A GENERATED FILE - DO NOT MODIFY ### \\n \\\n",
    "#include <iostream>\\n \\\n",
    "#include <unistd.h>\\n \\\n",
    "#include <vector>\\n \\\n",
    "#include <string>\\n \\\n",
    "#include <fstream>\\n \\\n",
    "#include <cmath>\\n \\\n",
    "#include \\\"defines.h\\\"\\n \\\n",
    "#include \\\"\"+filename.split('/')[-1]+\".h\\\"\\n\"\n",
    "    string = ''\n",
    "    if arr == 'a':\n",
    "        string = '0'\n",
    "    elif arr == 'F':\n",
    "        string = '1'\n",
    "    else:\n",
    "        string = '2'\n",
    "    data = data + '\\n' + template + \"\"\"{\n",
    "    return \"\"\" + expr + \";\\n\\\n",
    "}\"\n",
    "    \n",
    "    fin = open(filename+\".cpp\", \"wt\")\n",
    "    fin.write(data)\n",
    "    fin.close()\n",
    "\n",
    "def writeDeclarationGPU(filename, template):\n",
    "    import os.path\n",
    "    data = \"\"\n",
    "    #check if header already exist\n",
    "    if os.path.isfile(filename+\".cuh\"):\n",
    "        #in that case, just append new declaration\n",
    "        fin = open(filename+\".cuh\", \"rt\")\n",
    "        data = fin.read()\n",
    "        fin.close()\n",
    "    else:\n",
    "        data = \"//### THIS IS A GENERATED FILE - DO NOT MODIFY ### \\n \\\n",
    "#pragma once\\n \\\n",
    "#include <iostream>\\n \\\n",
    "#include <unistd.h>\\n \\\n",
    "#include <vector>\\n \\\n",
    "#include <string>\\n \\\n",
    "#include <fstream>\\n \\\n",
    "#include <cmath>\\n \\\n",
    "#include \\\"defines.h\\\"\\n \\\n",
    "using namespace std;\\n\"\n",
    "    \n",
    "    data = data + '\\n' + template + \";\"\n",
    "    \n",
    "    fin = open(filename+\".cuh\", \"wt\")\n",
    "    fin.write(data)\n",
    "    fin.close()\n",
    "\n",
    "def writeDeclarationCPU(filename, template):\n",
    "    import os.path\n",
    "    data = \"\"\n",
    "    #check if header already exist\n",
    "    if os.path.isfile(filename+\".h\"):\n",
    "        #in that case, just append new declaration\n",
    "        fin = open(filename+\".h\", \"rt\")\n",
    "        data = fin.read()\n",
    "        fin.close()\n",
    "    else:\n",
    "        data = \"//### THIS IS A GENERATED FILE - DO NOT MODIFY ### \\n \\\n",
    "#pragma once\\n \\\n",
    "#include <iostream>\\n \\\n",
    "#include <unistd.h>\\n \\\n",
    "#include <vector>\\n \\\n",
    "#include <string>\\n \\\n",
    "#include <fstream>\\n \\\n",
    "#include <cmath>\\n \\\n",
    "#include \\\"defines.h\\\"\\n \\\n",
    "using namespace std;\\n\"\n",
    "    \n",
    "    data = data + '\\n' + template + \";\"\n",
    "    \n",
    "    fin = open(filename+\".h\", \"wt\")\n",
    "    fin.write(data)\n",
    "    fin.close()\n",
    "\n",
    "def cleanOldFilesGPU(file):\n",
    "    import os\n",
    "    try:\n",
    "        os.remove(file + \".cu\")    \n",
    "        os.remove(file + \".cuh\")\n",
    "    except:\n",
    "        return \"Already gone.\"\n",
    "    \n",
    "def cleanOldFilesCPU(file):\n",
    "    import os\n",
    "    try:\n",
    "        os.remove(file + \".cpp\")    \n",
    "        os.remove(file + \".h\")\n",
    "    except:\n",
    "        return \"Already gone.\"\n",
    "    \n",
    "def writePairs(filename, funcname, expr, device='cpu'):\n",
    "    if device == 'cpu':\n",
    "        writeDeclarationCPU(filename, \"REAL \"+funcname+\"(REAL *a, REAL *F, REAL *G, size_t t, size_t tm1, size_t tm2, size_t r, size_t theta, size_t phi, size_t M, size_t N, size_t O, REAL dt, REAL dr, REAL dtheta, REAL dphi, REAL l_1, REAL l_2, REAL lamb, int p, int q, int L)\")\n",
    "        writeDefinitionCPU( filename, \"REAL \"+funcname+\"(REAL *a, REAL *F, REAL *G, size_t t, size_t tm1, size_t tm2, size_t r, size_t theta, size_t phi, size_t M, size_t N, size_t O, REAL dt, REAL dr, REAL dtheta, REAL dphi, REAL l_1, REAL l_2, REAL lamb, int p, int q, int L)\", expr, funcname[-1])\n",
    "    else:\n",
    "        writeDeclarationGPU(filename, \"__global__ void \"+funcname+\"(REAL *a, REAL *F, REAL *G, size_t l, size_t tp1, size_t t, size_t tm1, size_t tm2, size_t M, size_t N, size_t O, size_t phi_offset, REAL dt, REAL dr, REAL dtheta, REAL dphi, REAL l_1, REAL l_2, REAL lamb, int p, int q, int L)\")\n",
    "        writeDefinitionGPU( filename, \"__global__ void \"+funcname+\"(REAL *a, REAL *F, REAL *G, size_t l, size_t tp1, size_t t, size_t tm1, size_t tm2, size_t M, size_t N, size_t O, size_t phi_offset, REAL dt, REAL dr, REAL dtheta, REAL dphi, REAL l_1, REAL l_2, REAL lamb, int p, int q, int L)\", expr, funcname[-1])\n",
    "\n",
    "\n",
    "def findClosingPar(expr):\n",
    "    let = 1\n",
    "    i = 1\n",
    "    #print(expr)\n",
    "    while let > 0 and i<len(expr):\n",
    "        if expr[i] == '(':\n",
    "            let += 1\n",
    "        elif expr[i] == ')':\n",
    "            let -= 1\n",
    "        i+=1\n",
    "    return i-1\n",
    "\n",
    "def replaceAllPow(expr):\n",
    "    indexes = [m.start() for m in re.finditer('pow', expr)]\n",
    "    for i in indexes[::-1]:\n",
    "        open = i+4\n",
    "        close = findClosingPar(expr[open:])+open\n",
    "        exponent = expr[open:close].split(',')[-1]\n",
    "        \n",
    "        commas = [m.start() for m in re.finditer(',', expr[open:close])]\n",
    "        #print(expr[open:close])\n",
    "        argument = expr[open:open+commas[-1]]\n",
    "        \n",
    "        rep = ''\n",
    "        for j in range(int(exponent)):\n",
    "            rep += argument+'*'\n",
    "        rep = rep[:-1]\n",
    "        expr = expr[:i] +'(' + rep + ')'+ expr[close+1:]\n",
    "    return expr  \n",
    "        #print(expr)\n",
    "        #return\n",
    "        #print(rep)"
   ]
  },
  {
   "cell_type": "code",
   "execution_count": 78,
   "metadata": {
    "scrolled": true
   },
   "outputs": [],
   "source": [
    "expr_anp = replaceAllPow(expr_a)\n",
    "\n",
    "#expr_newanp = replaceAllPow(expr_newa)\n",
    "#expr_newfnp = replaceAllPow(expr_newf)\n",
    "#expr_newgnp = replaceAllPow(expr_newg)"
   ]
  },
  {
   "cell_type": "code",
   "execution_count": 83,
   "metadata": {},
   "outputs": [],
   "source": [
    "#cleanOldFilesGPU(\"../gpu/src/EquationAlfa\")\n",
    "#cleanOldFilesGPU(\"../gpu/src/EquationF\")\n",
    "#cleanOldFilesGPU(\"../gpu/src/EquationG\")\n",
    "\n",
    "cleanOldFilesCPU(\"../cpu/src/EquationAlfa\")\n",
    "cleanOldFilesCPU(\"../cpu/src/EquationF\")\n",
    "cleanOldFilesCPU(\"../cpu/src/EquationG\")\n",
    "\n",
    "#writePairs(\"../gpu/src/EquationAlfa\", \"computeNexta\", expr_anp[63:])\n",
    "writePairs(\"../cpu/src/EquationAlfa\", \"computeNexta\", expr_anp[32:], 'cpu')\n",
    "\n",
    "#writePairs(\"../gpu/src/EquationF\", \"computeNextF\", expr_fnp[63:])\n",
    "writePairs(\"../cpu/src/EquationF\", \"computeNextF\", expr_fnp, 'cpu')\n",
    "\n",
    "#writePairs(\"../gpu/src/EquationG\", \"computeNextG\", expr_gnp[63:])\n",
    "writePairs(\"../cpu/src/EquationG\", \"computeNextG\", expr_gnp, 'cpu')\n",
    "\n",
    "\n",
    "#writePairs(\"../gpu/src/EquationG\", \"computeSecondG\", expr_newgnp[63:])"
   ]
  },
  {
   "cell_type": "code",
   "execution_count": null,
   "metadata": {},
   "outputs": [],
   "source": []
  },
  {
   "cell_type": "code",
   "execution_count": null,
   "metadata": {},
   "outputs": [],
   "source": []
  }
 ],
 "metadata": {
  "kernelspec": {
   "display_name": "Python 3",
   "language": "python",
   "name": "python3"
  },
  "language_info": {
   "codemirror_mode": {
    "name": "ipython",
    "version": 3
   },
   "file_extension": ".py",
   "mimetype": "text/x-python",
   "name": "python",
   "nbconvert_exporter": "python",
   "pygments_lexer": "ipython3",
   "version": "3.8.10"
  }
 },
 "nbformat": 4,
 "nbformat_minor": 4
}
