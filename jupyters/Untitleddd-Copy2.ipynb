{
 "cells": [
  {
   "cell_type": "code",
   "execution_count": 1,
   "metadata": {
    "scrolled": true
   },
   "outputs": [],
   "source": [
    "from sympy import *\n",
    "import numpy as np\n",
    "\n",
    "## Definiendo simbolos\n",
    "t, r, theta, phi = symbols('t, r, \\\\theta, \\\\varphi')\n",
    "dt, dr, dtheta, dphi = symbols('dt dr dtheta dphi')\n",
    "l0, l1, l2, l3 = symbols(\"l_0 l_1 l_2 l_3\")\n",
    "l, p, q, n, L = symbols(\"lamb p q n L\")\n",
    "\n",
    "dAdt = \"0\"\n",
    "dFdt = \"0\"\n",
    "dGdt = \"p/L\"\n",
    "\n",
    "ndmat = np.array([[[[[symbols(\"a\") for _x in range(3)] for _y in range(3)] for _z in range(3)] for _w in range(3)] for _i in range(3)])\n",
    "\n",
    "deldel = Function(\"DELDEL\")\n",
    "delf = Function(\"DELF\")\n",
    "box = Function(\"\\\\Box\")\n",
    "\n",
    "alfa = Function(\"a\")(t, r, theta, phi)\n",
    "F = Function(\"F\")(t, r, theta, phi)\n",
    "G = Function(\"G\")(t, r, theta, phi)\n",
    "\n",
    "def getFuncName(i):\n",
    "    if i==0:\n",
    "        return alfa.name\n",
    "    if i==1:\n",
    "        return F.name\n",
    "    if i==2:\n",
    "        return G.name\n",
    "\n",
    "for _f in range(3):\n",
    "    for _t in range(3):\n",
    "        for _r in range(3):\n",
    "            for _theta in range(3):\n",
    "                for _phi in range(3):\n",
    "                    ndmat[_f][_t][_r][_theta][_phi] = symbols(getFuncName(_f)+str(_t)+str(_r)+str(_theta)+str(_phi))\n",
    "\n"
   ]
  },
  {
   "cell_type": "code",
   "execution_count": 2,
   "metadata": {},
   "outputs": [
    {
     "data": {
      "text/latex": [
       "$\\displaystyle a_{2111}$"
      ],
      "text/plain": [
       "a2111"
      ]
     },
     "execution_count": 2,
     "metadata": {},
     "output_type": "execute_result"
    }
   ],
   "source": [
    "ndmat[0][2][1][1][1] "
   ]
  },
  {
   "cell_type": "code",
   "execution_count": 3,
   "metadata": {},
   "outputs": [
    {
     "data": {
      "text/latex": [
       "$\\displaystyle lamb \\left(\\left(\\left(\\left(\\left(2 \\sin^{3}{\\left(a{\\left(t,r,\\theta,\\varphi \\right)} \\right)} \\cos{\\left(a{\\left(t,r,\\theta,\\varphi \\right)} \\right)} \\sin^{2}{\\left(F{\\left(t,r,\\theta,\\varphi \\right)} \\right)} \\left(\\operatorname{DELDEL}{\\left(F{\\left(t,r,\\theta,\\varphi \\right)},F{\\left(t,r,\\theta,\\varphi \\right)} \\right)} \\operatorname{DELDEL}{\\left(G{\\left(t,r,\\theta,\\varphi \\right)},G{\\left(t,r,\\theta,\\varphi \\right)} \\right)} - \\operatorname{DELDEL}^{2}{\\left(F{\\left(t,r,\\theta,\\varphi \\right)},G{\\left(t,r,\\theta,\\varphi \\right)} \\right)}\\right) + \\left(\\sin{\\left(a{\\left(t,r,\\theta,\\varphi \\right)} \\right)} \\cos{\\left(a{\\left(t,r,\\theta,\\varphi \\right)} \\right)} \\sin^{2}{\\left(F{\\left(t,r,\\theta,\\varphi \\right)} \\right)} \\left(\\operatorname{DELDEL}{\\left(G{\\left(t,r,\\theta,\\varphi \\right)},G{\\left(t,r,\\theta,\\varphi \\right)} \\right)} \\operatorname{DELDEL}{\\left(a{\\left(t,r,\\theta,\\varphi \\right)},a{\\left(t,r,\\theta,\\varphi \\right)} \\right)} - \\operatorname{DELDEL}^{2}{\\left(a{\\left(t,r,\\theta,\\varphi \\right)},G{\\left(t,r,\\theta,\\varphi \\right)} \\right)}\\right) + \\sin{\\left(a{\\left(t,r,\\theta,\\varphi \\right)} \\right)} \\cos{\\left(a{\\left(t,r,\\theta,\\varphi \\right)} \\right)} \\left(\\operatorname{DELDEL}{\\left(F{\\left(t,r,\\theta,\\varphi \\right)},F{\\left(t,r,\\theta,\\varphi \\right)} \\right)} \\operatorname{DELDEL}{\\left(a{\\left(t,r,\\theta,\\varphi \\right)},a{\\left(t,r,\\theta,\\varphi \\right)} \\right)} - \\operatorname{DELDEL}^{2}{\\left(a{\\left(t,r,\\theta,\\varphi \\right)},F{\\left(t,r,\\theta,\\varphi \\right)} \\right)}\\right)\\right)\\right) - \\operatorname{DELF}{\\left(\\operatorname{DELDEL}{\\left(F{\\left(t,r,\\theta,\\varphi \\right)},F{\\left(t,r,\\theta,\\varphi \\right)} \\right)} \\sin^{2}{\\left(a{\\left(t,r,\\theta,\\varphi \\right)} \\right)},a{\\left(t,r,\\theta,\\varphi \\right)} \\right)}\\right) + \\operatorname{DELF}{\\left(\\operatorname{DELDEL}{\\left(a{\\left(t,r,\\theta,\\varphi \\right)},F{\\left(t,r,\\theta,\\varphi \\right)} \\right)} \\sin^{2}{\\left(a{\\left(t,r,\\theta,\\varphi \\right)} \\right)},F{\\left(t,r,\\theta,\\varphi \\right)} \\right)}\\right) - \\operatorname{DELF}{\\left(\\sin^{2}{\\left(F{\\left(t,r,\\theta,\\varphi \\right)} \\right)} \\sin^{2}{\\left(a{\\left(t,r,\\theta,\\varphi \\right)} \\right)} \\operatorname{DELDEL}{\\left(G{\\left(t,r,\\theta,\\varphi \\right)},G{\\left(t,r,\\theta,\\varphi \\right)} \\right)},a{\\left(t,r,\\theta,\\varphi \\right)} \\right)}\\right) + \\operatorname{DELF}{\\left(\\sin^{2}{\\left(F{\\left(t,r,\\theta,\\varphi \\right)} \\right)} \\sin^{2}{\\left(a{\\left(t,r,\\theta,\\varphi \\right)} \\right)} \\operatorname{DELDEL}{\\left(a{\\left(t,r,\\theta,\\varphi \\right)},G{\\left(t,r,\\theta,\\varphi \\right)} \\right)},G{\\left(t,r,\\theta,\\varphi \\right)} \\right)}\\right) + \\left(\\sin{\\left(a{\\left(t,r,\\theta,\\varphi \\right)} \\right)} \\cos{\\left(a{\\left(t,r,\\theta,\\varphi \\right)} \\right)} \\left(\\operatorname{DELDEL}{\\left(F{\\left(t,r,\\theta,\\varphi \\right)},F{\\left(t,r,\\theta,\\varphi \\right)} \\right)} + \\operatorname{DELDEL}{\\left(G{\\left(t,r,\\theta,\\varphi \\right)},G{\\left(t,r,\\theta,\\varphi \\right)} \\right)} \\sin^{2}{\\left(F{\\left(t,r,\\theta,\\varphi \\right)} \\right)}\\right) - \\Box{\\left(a{\\left(t,r,\\theta,\\varphi \\right)} \\right)}\\right)$"
      ],
      "text/plain": [
       "lamb*((((2*sin(a(t, r, \\theta, \\varphi))**3)*cos(a(t, r, \\theta, \\varphi)))*sin(F(t, r, \\theta, \\varphi))**2)*(DELDEL(F(t, r, \\theta, \\varphi), F(t, r, \\theta, \\varphi))*DELDEL(G(t, r, \\theta, \\varphi), G(t, r, \\theta, \\varphi)) - DELDEL(F(t, r, \\theta, \\varphi), G(t, r, \\theta, \\varphi))**2) + ((sin(a(t, r, \\theta, \\varphi))*cos(a(t, r, \\theta, \\varphi)))*sin(F(t, r, \\theta, \\varphi))**2)*(DELDEL(G(t, r, \\theta, \\varphi), G(t, r, \\theta, \\varphi))*DELDEL(a(t, r, \\theta, \\varphi), a(t, r, \\theta, \\varphi)) - DELDEL(a(t, r, \\theta, \\varphi), G(t, r, \\theta, \\varphi))**2) + (sin(a(t, r, \\theta, \\varphi))*cos(a(t, r, \\theta, \\varphi)))*(DELDEL(F(t, r, \\theta, \\varphi), F(t, r, \\theta, \\varphi))*DELDEL(a(t, r, \\theta, \\varphi), a(t, r, \\theta, \\varphi)) - DELDEL(a(t, r, \\theta, \\varphi), F(t, r, \\theta, \\varphi))**2) - DELF(DELDEL(F(t, r, \\theta, \\varphi), F(t, r, \\theta, \\varphi))*sin(a(t, r, \\theta, \\varphi))**2, a(t, r, \\theta, \\varphi)) + DELF(DELDEL(a(t, r, \\theta, \\varphi), F(t, r, \\theta, \\varphi))*sin(a(t, r, \\theta, \\varphi))**2, F(t, r, \\theta, \\varphi)) - DELF((sin(F(t, r, \\theta, \\varphi))**2*sin(a(t, r, \\theta, \\varphi))**2)*DELDEL(G(t, r, \\theta, \\varphi), G(t, r, \\theta, \\varphi)), a(t, r, \\theta, \\varphi)) + DELF((sin(F(t, r, \\theta, \\varphi))**2*sin(a(t, r, \\theta, \\varphi))**2)*DELDEL(a(t, r, \\theta, \\varphi), G(t, r, \\theta, \\varphi)), G(t, r, \\theta, \\varphi))) + (sin(a(t, r, \\theta, \\varphi))*cos(a(t, r, \\theta, \\varphi)))*(DELDEL(F(t, r, \\theta, \\varphi), F(t, r, \\theta, \\varphi)) + DELDEL(G(t, r, \\theta, \\varphi), G(t, r, \\theta, \\varphi))*sin(F(t, r, \\theta, \\varphi))**2) - \\Box(a(t, r, \\theta, \\varphi))"
      ]
     },
     "metadata": {},
     "output_type": "display_data"
    },
    {
     "data": {
      "text/latex": [
       "$\\displaystyle lamb \\left(\\left(\\left(\\left(\\left(\\sin{\\left(F{\\left(t,r,\\theta,\\varphi \\right)} \\right)} \\sin^{2}{\\left(a{\\left(t,r,\\theta,\\varphi \\right)} \\right)} \\cos{\\left(F{\\left(t,r,\\theta,\\varphi \\right)} \\right)} \\left(\\operatorname{DELDEL}{\\left(G{\\left(t,r,\\theta,\\varphi \\right)},G{\\left(t,r,\\theta,\\varphi \\right)} \\right)} \\operatorname{DELDEL}{\\left(a{\\left(t,r,\\theta,\\varphi \\right)},a{\\left(t,r,\\theta,\\varphi \\right)} \\right)} - \\operatorname{DELDEL}^{2}{\\left(a{\\left(t,r,\\theta,\\varphi \\right)},G{\\left(t,r,\\theta,\\varphi \\right)} \\right)}\\right) + \\sin{\\left(F{\\left(t,r,\\theta,\\varphi \\right)} \\right)} \\sin^{4}{\\left(a{\\left(t,r,\\theta,\\varphi \\right)} \\right)} \\cos{\\left(F{\\left(t,r,\\theta,\\varphi \\right)} \\right)} \\left(\\operatorname{DELDEL}{\\left(F{\\left(t,r,\\theta,\\varphi \\right)},F{\\left(t,r,\\theta,\\varphi \\right)} \\right)} \\operatorname{DELDEL}{\\left(G{\\left(t,r,\\theta,\\varphi \\right)},G{\\left(t,r,\\theta,\\varphi \\right)} \\right)} - \\operatorname{DELDEL}^{2}{\\left(F{\\left(t,r,\\theta,\\varphi \\right)},G{\\left(t,r,\\theta,\\varphi \\right)} \\right)}\\right)\\right) - \\operatorname{DELF}{\\left(\\operatorname{DELDEL}{\\left(a{\\left(t,r,\\theta,\\varphi \\right)},a{\\left(t,r,\\theta,\\varphi \\right)} \\right)} \\sin^{2}{\\left(a{\\left(t,r,\\theta,\\varphi \\right)} \\right)},F{\\left(t,r,\\theta,\\varphi \\right)} \\right)}\\right) + \\operatorname{DELF}{\\left(\\operatorname{DELDEL}{\\left(a{\\left(t,r,\\theta,\\varphi \\right)},F{\\left(t,r,\\theta,\\varphi \\right)} \\right)} \\sin^{2}{\\left(a{\\left(t,r,\\theta,\\varphi \\right)} \\right)},a{\\left(t,r,\\theta,\\varphi \\right)} \\right)}\\right) - \\operatorname{DELF}{\\left(\\sin^{2}{\\left(F{\\left(t,r,\\theta,\\varphi \\right)} \\right)} \\sin^{4}{\\left(a{\\left(t,r,\\theta,\\varphi \\right)} \\right)} \\operatorname{DELDEL}{\\left(G{\\left(t,r,\\theta,\\varphi \\right)},G{\\left(t,r,\\theta,\\varphi \\right)} \\right)},F{\\left(t,r,\\theta,\\varphi \\right)} \\right)}\\right) + \\operatorname{DELF}{\\left(\\sin^{2}{\\left(F{\\left(t,r,\\theta,\\varphi \\right)} \\right)} \\sin^{4}{\\left(a{\\left(t,r,\\theta,\\varphi \\right)} \\right)} \\operatorname{DELDEL}{\\left(F{\\left(t,r,\\theta,\\varphi \\right)},G{\\left(t,r,\\theta,\\varphi \\right)} \\right)},G{\\left(t,r,\\theta,\\varphi \\right)} \\right)}\\right) + \\left(\\sin{\\left(F{\\left(t,r,\\theta,\\varphi \\right)} \\right)} \\sin^{2}{\\left(a{\\left(t,r,\\theta,\\varphi \\right)} \\right)} \\cos{\\left(F{\\left(t,r,\\theta,\\varphi \\right)} \\right)} \\operatorname{DELDEL}{\\left(G{\\left(t,r,\\theta,\\varphi \\right)},G{\\left(t,r,\\theta,\\varphi \\right)} \\right)} + \\left(- 2 \\sin{\\left(a{\\left(t,r,\\theta,\\varphi \\right)} \\right)} \\cos{\\left(a{\\left(t,r,\\theta,\\varphi \\right)} \\right)} \\operatorname{DELDEL}{\\left(a{\\left(t,r,\\theta,\\varphi \\right)},F{\\left(t,r,\\theta,\\varphi \\right)} \\right)} + \\Box{\\left(F{\\left(t,r,\\theta,\\varphi \\right)} \\right)} \\left(- \\sin^{2}{\\left(a{\\left(t,r,\\theta,\\varphi \\right)} \\right)}\\right)\\right)\\right)$"
      ],
      "text/plain": [
       "lamb*(((sin(F(t, r, \\theta, \\varphi))*sin(a(t, r, \\theta, \\varphi))**2)*cos(F(t, r, \\theta, \\varphi)))*(DELDEL(G(t, r, \\theta, \\varphi), G(t, r, \\theta, \\varphi))*DELDEL(a(t, r, \\theta, \\varphi), a(t, r, \\theta, \\varphi)) - DELDEL(a(t, r, \\theta, \\varphi), G(t, r, \\theta, \\varphi))**2) + ((sin(F(t, r, \\theta, \\varphi))*sin(a(t, r, \\theta, \\varphi))**4)*cos(F(t, r, \\theta, \\varphi)))*(DELDEL(F(t, r, \\theta, \\varphi), F(t, r, \\theta, \\varphi))*DELDEL(G(t, r, \\theta, \\varphi), G(t, r, \\theta, \\varphi)) - DELDEL(F(t, r, \\theta, \\varphi), G(t, r, \\theta, \\varphi))**2) - DELF(DELDEL(a(t, r, \\theta, \\varphi), a(t, r, \\theta, \\varphi))*sin(a(t, r, \\theta, \\varphi))**2, F(t, r, \\theta, \\varphi)) + DELF(DELDEL(a(t, r, \\theta, \\varphi), F(t, r, \\theta, \\varphi))*sin(a(t, r, \\theta, \\varphi))**2, a(t, r, \\theta, \\varphi)) - DELF((sin(F(t, r, \\theta, \\varphi))**2*sin(a(t, r, \\theta, \\varphi))**4)*DELDEL(G(t, r, \\theta, \\varphi), G(t, r, \\theta, \\varphi)), F(t, r, \\theta, \\varphi)) + DELF((sin(F(t, r, \\theta, \\varphi))**2*sin(a(t, r, \\theta, \\varphi))**4)*DELDEL(F(t, r, \\theta, \\varphi), G(t, r, \\theta, \\varphi)), G(t, r, \\theta, \\varphi))) + ((sin(F(t, r, \\theta, \\varphi))*sin(a(t, r, \\theta, \\varphi))**2)*cos(F(t, r, \\theta, \\varphi)))*DELDEL(G(t, r, \\theta, \\varphi), G(t, r, \\theta, \\varphi)) - (2*sin(a(t, r, \\theta, \\varphi)))*cos(a(t, r, \\theta, \\varphi))*DELDEL(a(t, r, \\theta, \\varphi), F(t, r, \\theta, \\varphi)) + \\Box(F(t, r, \\theta, \\varphi))*(-sin(a(t, r, \\theta, \\varphi))**2)"
      ]
     },
     "metadata": {},
     "output_type": "display_data"
    },
    {
     "data": {
      "text/latex": [
       "$\\displaystyle lamb \\left(\\left(\\left(\\operatorname{DELF}{\\left(\\sin^{2}{\\left(F{\\left(t,r,\\theta,\\varphi \\right)} \\right)} \\sin^{2}{\\left(a{\\left(t,r,\\theta,\\varphi \\right)} \\right)} \\operatorname{DELDEL}{\\left(a{\\left(t,r,\\theta,\\varphi \\right)},G{\\left(t,r,\\theta,\\varphi \\right)} \\right)},a{\\left(t,r,\\theta,\\varphi \\right)} \\right)} - \\operatorname{DELF}{\\left(\\sin^{2}{\\left(F{\\left(t,r,\\theta,\\varphi \\right)} \\right)} \\sin^{2}{\\left(a{\\left(t,r,\\theta,\\varphi \\right)} \\right)} \\operatorname{DELDEL}{\\left(a{\\left(t,r,\\theta,\\varphi \\right)},a{\\left(t,r,\\theta,\\varphi \\right)} \\right)},G{\\left(t,r,\\theta,\\varphi \\right)} \\right)}\\right) - \\operatorname{DELF}{\\left(\\sin^{2}{\\left(F{\\left(t,r,\\theta,\\varphi \\right)} \\right)} \\sin^{4}{\\left(a{\\left(t,r,\\theta,\\varphi \\right)} \\right)} \\operatorname{DELDEL}{\\left(F{\\left(t,r,\\theta,\\varphi \\right)},F{\\left(t,r,\\theta,\\varphi \\right)} \\right)},G{\\left(t,r,\\theta,\\varphi \\right)} \\right)}\\right) + \\operatorname{DELF}{\\left(\\sin^{2}{\\left(F{\\left(t,r,\\theta,\\varphi \\right)} \\right)} \\sin^{4}{\\left(a{\\left(t,r,\\theta,\\varphi \\right)} \\right)} \\operatorname{DELDEL}{\\left(F{\\left(t,r,\\theta,\\varphi \\right)},G{\\left(t,r,\\theta,\\varphi \\right)} \\right)},F{\\left(t,r,\\theta,\\varphi \\right)} \\right)}\\right) + \\left(- \\sin{\\left(F{\\left(t,r,\\theta,\\varphi \\right)} \\right)} 2 \\sin^{2}{\\left(a{\\left(t,r,\\theta,\\varphi \\right)} \\right)} \\cos{\\left(F{\\left(t,r,\\theta,\\varphi \\right)} \\right)} \\operatorname{DELDEL}{\\left(F{\\left(t,r,\\theta,\\varphi \\right)},G{\\left(t,r,\\theta,\\varphi \\right)} \\right)} + \\left(- 2 \\sin{\\left(a{\\left(t,r,\\theta,\\varphi \\right)} \\right)} \\cos{\\left(a{\\left(t,r,\\theta,\\varphi \\right)} \\right)} \\sin^{2}{\\left(F{\\left(t,r,\\theta,\\varphi \\right)} \\right)} \\operatorname{DELDEL}{\\left(a{\\left(t,r,\\theta,\\varphi \\right)},G{\\left(t,r,\\theta,\\varphi \\right)} \\right)} + \\sin^{2}{\\left(F{\\left(t,r,\\theta,\\varphi \\right)} \\right)} \\left(- \\sin^{2}{\\left(a{\\left(t,r,\\theta,\\varphi \\right)} \\right)}\\right) \\Box{\\left(G{\\left(t,r,\\theta,\\varphi \\right)} \\right)}\\right)\\right)$"
      ],
      "text/plain": [
       "lamb*(DELF((sin(F(t, r, \\theta, \\varphi))**2*sin(a(t, r, \\theta, \\varphi))**2)*DELDEL(a(t, r, \\theta, \\varphi), G(t, r, \\theta, \\varphi)), a(t, r, \\theta, \\varphi)) - DELF((sin(F(t, r, \\theta, \\varphi))**2*sin(a(t, r, \\theta, \\varphi))**2)*DELDEL(a(t, r, \\theta, \\varphi), a(t, r, \\theta, \\varphi)), G(t, r, \\theta, \\varphi)) - DELF((sin(F(t, r, \\theta, \\varphi))**2*sin(a(t, r, \\theta, \\varphi))**4)*DELDEL(F(t, r, \\theta, \\varphi), F(t, r, \\theta, \\varphi)), G(t, r, \\theta, \\varphi)) + DELF((sin(F(t, r, \\theta, \\varphi))**2*sin(a(t, r, \\theta, \\varphi))**4)*DELDEL(F(t, r, \\theta, \\varphi), G(t, r, \\theta, \\varphi)), F(t, r, \\theta, \\varphi))) - (sin(F(t, r, \\theta, \\varphi))*(2*sin(a(t, r, \\theta, \\varphi))**2))*cos(F(t, r, \\theta, \\varphi))*DELDEL(F(t, r, \\theta, \\varphi), G(t, r, \\theta, \\varphi)) - ((2*sin(a(t, r, \\theta, \\varphi)))*cos(a(t, r, \\theta, \\varphi)))*sin(F(t, r, \\theta, \\varphi))**2*DELDEL(a(t, r, \\theta, \\varphi), G(t, r, \\theta, \\varphi)) + (sin(F(t, r, \\theta, \\varphi))**2*(-sin(a(t, r, \\theta, \\varphi))**2))*\\Box(G(t, r, \\theta, \\varphi))"
      ]
     },
     "metadata": {},
     "output_type": "display_data"
    }
   ],
   "source": [
    "def DELDEL(f, g):\n",
    "    #canon = -f.diff(t)*g.diff(t) + 1/l1**2*f.diff(r)*g.diff(r) + 1/l1**2*f.diff(theta)*g.diff(theta) + 1/l2**2*f.diff(phi)*g.diff(phi)\n",
    "    canon = -f.diff(t)*g.diff(t) + f.diff(r)*g.diff(r) + f.diff(theta)*g.diff(theta) + f.diff(phi)*g.diff(phi)\n",
    "    return canon\n",
    "\n",
    "def BOX(f):\n",
    "    canon = -f.diff(t, 2) + f.diff(r, 2) + f.diff(theta, 2) + f.diff(phi, 2)\n",
    "    #canon = -f.diff(t, 2) + 1/l1**2*f.diff(r, 2) + 1/l1**2*f.diff(theta, 2) + 1/l2 **2*f.diff(phi, 2)\n",
    "    return canon\n",
    "\n",
    "def DELf(f, g):\n",
    "    canon = -(f*g.diff(t)).diff(t) + (f*g.diff(r)).diff(r)+ (f*g.diff(theta)).diff(theta) + (f*g.diff(phi)).diff(phi)\n",
    "    #canon = -(f*g.diff(t)).diff(t) + 1/l1**2*(f*g.diff(r)).diff(r)+ 1/l1**2*(f*g.diff(theta)).diff(theta) + 1/l2**2*(f*g.diff(phi)).diff(phi)\n",
    "    return canon\n",
    "\n",
    "\n",
    "with evaluate(False):\n",
    "    motion_alfa = (-box(alfa)+sin(alfa)*cos(alfa)*(deldel(F, F) + sin(F)**2*(deldel(G, G)))) + l*(\n",
    "             sin(alfa)*cos(alfa)*(deldel(alfa, alfa)*(deldel(F, F)) - (deldel(alfa, F))**2) +\n",
    "             sin(alfa)*cos(alfa)*sin(F)**2*(deldel(alfa, alfa)*(deldel(G, G)) - (deldel(alfa, G))**2) + \n",
    "             2*sin(alfa)**3*cos(alfa)*sin(F)**2*((deldel(F, F))*(deldel(G, G)) - (deldel(F, G))**2) -\n",
    "             delf(sin(alfa)**2*(deldel(F, F)), alfa) + delf(sin(alfa)**2*(deldel(alfa, F)), F) -\n",
    "             delf(sin(alfa)**2*sin(F)**2*(deldel(G, G)), alfa) + delf(sin(alfa)**2*sin(F)**2*(deldel(alfa, G)), G) )\n",
    "\n",
    "    motion_F = -sin(alfa)**2*box(F)-2*sin(alfa)*cos(alfa)*(deldel(alfa, F))+sin(alfa)**2*sin(F)*cos(F)*(deldel(G, G)) + l*(\n",
    "            sin(alfa)**2*sin(F)*cos(F)*(deldel(alfa, alfa)* deldel(G, G) - (deldel(alfa, G))**2) +\n",
    "            sin(alfa)**4*sin(F)*cos(F)*((deldel(F, F))*(deldel(G, G)) - (deldel(F, G))**2) -\n",
    "            delf(sin(alfa)**2*(deldel(alfa, alfa)), F) + delf(sin(alfa)**2*(deldel(alfa, F)), alfa) -\n",
    "            delf(sin(alfa)**4*sin(F)**2*(deldel(G, G)), F) + delf(sin(alfa)**4*sin(F)**2*(deldel(F, G)), G) )\n",
    "\n",
    "    motion_G = -sin(alfa)**2*sin(F)**2*box(G)-2*sin(alfa)*cos(alfa)*sin(F)**2*(deldel(alfa, G))-2*sin(alfa)**2*sin(F)*cos(F)*(deldel(F, G)) + l*(\n",
    "            -delf(sin(alfa)**2*sin(F)**2*(deldel(alfa, alfa)), G) + delf(sin(alfa)**2*sin(F)**2*(deldel(alfa, G)), alfa) -\n",
    "            delf(sin(alfa)**4*sin(F)**2*(deldel(F, F)), G) + delf(sin(alfa)**4*sin(F)**2*(deldel(F, G)), F) )\n",
    "\n",
    "display(motion_alfa)\n",
    "display(motion_F)\n",
    "display(motion_G)"
   ]
  },
  {
   "cell_type": "code",
   "execution_count": 4,
   "metadata": {
    "scrolled": false
   },
   "outputs": [],
   "source": [
    "def expandToDerivatives(func):\n",
    "    p, q, s, b = map(Wild, 'pqsb')\n",
    "    res = func.replace(deldel(p, q)*s, lambda p, q, s : DELDEL(p, q)*s)\n",
    "    res = res.replace(delf(p, q)*s, lambda p, q, s : DELf(p, q)*s)\n",
    "    return res.replace(box(p)*s, lambda p, s : BOX(p)*s)"
   ]
  },
  {
   "cell_type": "code",
   "execution_count": 5,
   "metadata": {
    "scrolled": true
   },
   "outputs": [
    {
     "data": {
      "text/plain": [
       "'Alfa done.'"
      ]
     },
     "metadata": {},
     "output_type": "display_data"
    },
    {
     "data": {
      "text/plain": [
       "'F done.'"
      ]
     },
     "metadata": {},
     "output_type": "display_data"
    },
    {
     "data": {
      "text/plain": [
       "'G done.'"
      ]
     },
     "metadata": {},
     "output_type": "display_data"
    }
   ],
   "source": [
    "res3a = (expandToDerivatives(motion_alfa))\n",
    "display(\"Alfa done.\")\n",
    "res3f = (expandToDerivatives(motion_F))\n",
    "display(\"F done.\")\n",
    "res3g = (expandToDerivatives(motion_G))\n",
    "display(\"G done.\")"
   ]
  },
  {
   "cell_type": "code",
   "execution_count": 6,
   "metadata": {
    "scrolled": true
   },
   "outputs": [],
   "source": [
    "def getDelta(i):\n",
    "    if i == t:\n",
    "        return dt\n",
    "    if r == i:\n",
    "        return dr\n",
    "    if theta == i:\n",
    "        return dtheta\n",
    "    if phi == i:\n",
    "        return dphi\n",
    "\n",
    "def getIndex(i):\n",
    "    if t == i:\n",
    "        return 0\n",
    "    if r == i:\n",
    "        return 1\n",
    "    if theta == i:\n",
    "        return 2\n",
    "    if phi == i:\n",
    "        return 3\n",
    "\n",
    "def getFuncIndex(f):\n",
    "    if f==F:\n",
    "        return 1\n",
    "    if f==G:\n",
    "        return 2\n",
    "    if f==alfa:\n",
    "        return 0\n",
    "    \n",
    "def isThis(s, ix):\n",
    "    if ix != None and s in ix.keys():\n",
    "        return ix[s]\n",
    "    else: \n",
    "        return 0\n",
    "#http://www.iitg.ac.in/gtm/files/chap2.pdf\n",
    "#https://www.uio.no/studier/emner/matnat/math/MAT-INF1100/h07/undervisningsmateriale/kap7.pdf\n",
    "# 2: 1\n",
    "# 1: 0\n",
    "# 0: -1\n",
    "\n",
    "def getDiscreteSymbol(ndmat, f, ix=None):\n",
    "    canon = ndmat[getFuncIndex(f)][1+isThis(t, ix)][1+isThis(r, ix)][1+isThis(theta, ix)][1+isThis(phi, ix)]\n",
    "    return canon\n",
    "    \n",
    "def FOD(f, i, wrt):\n",
    "    if i==t:\n",
    "        canon = (getDiscreteSymbol(ndmat, f, ix={i:0}) - getDiscreteSymbol(ndmat, f, ix={i:-1}))/(getDelta(i))\n",
    "    else:\n",
    "        canon = (getDiscreteSymbol(ndmat, f, ix={i:1}) - getDiscreteSymbol(ndmat, f, ix={i:-1}))/(2*getDelta(i))\n",
    "    return canon\n",
    "\n",
    "def SOD(f, i, j, wrt):\n",
    "    if i==j:\n",
    "        #if f!=wrt and i==t:\n",
    "        #    canon = (getDiscreteSymbol(ndmat, f, ix={i:0}) - 2*getDiscreteSymbol(ndmat, f, ix={i:-1}) + getDiscreteSymbol(ndmat, f, ix={i:-2}))/(getDelta(i)**2)\n",
    "        #else:\n",
    "        canon = (getDiscreteSymbol(ndmat, f, ix={i:1}) - 2*getDiscreteSymbol(ndmat, f, ix={i:0}) + getDiscreteSymbol(ndmat, f, ix={i:-1}))/(getDelta(i)**2)\n",
    "    else:\n",
    "        if i != t and t != j:\n",
    "            canon = (getDiscreteSymbol(ndmat, f, ix={i:1, j:1}) + getDiscreteSymbol(ndmat, f, ix={i:-1, j:-1}) - getDiscreteSymbol(ndmat, f, ix={i:1, j:-1}) - getDiscreteSymbol(ndmat, f, ix={i:-1, j:1}) )/(4*getDelta(i)*getDelta(j))\n",
    "        #backward difference\n",
    "        elif (j==t):\n",
    "            canon = (1/getDelta(i))*(((getDiscreteSymbol(ndmat, f, ix={i:1, j:0})-getDiscreteSymbol(ndmat, f, ix={i:0, j:0}))/(getDelta(j))) - ((getDiscreteSymbol(ndmat, f, ix={i:1, j:-1}) - getDiscreteSymbol(ndmat, f, ix={i:0, j:-1}))/(getDelta(j))))\n",
    "            \n",
    "            #canon = (1/(2*getDelta(i)*getDelta(j)))*(getDiscreteSymbol(ndmat, f, ix={i:0, j:1})-getDiscreteSymbol(ndmat, f, ix={i:-1, j:1})-getDiscreteSymbol(ndmat, f, ix={i:0, j:-1})-getDiscreteSymbol(ndmat, f, ix={i:-1, j:-1}))\n",
    "        elif (i == t):\n",
    "            #canon = (1/(2*getDelta(i)*getDelta(j)))*(getDiscreteSymbol(ndmat, f, ix={i:1, j:0})-getDiscreteSymbol(ndmat, f, ix={i:1, j:-1})-getDiscreteSymbol(ndmat, f, ix={i:-1, j:0})-getDiscreteSymbol(ndmat, f, ix={i:-1, j:-1}))\n",
    "            canon = (1/getDelta(i))*(((getDiscreteSymbol(ndmat, f, ix={i:0, j:1})-getDiscreteSymbol(ndmat, f, ix={i:0, j:0}))/(getDelta(j))) - ((getDiscreteSymbol(ndmat, f, ix={i:-1, j:1}) - getDiscreteSymbol(ndmat, f, ix={i:-1, j:0}))/(getDelta(j))))\n",
    "            \n",
    "        else:\n",
    "            print(\"what\")\n",
    "    return canon\n",
    "\n",
    "def discreti(arg, wrt):\n",
    "    if len(arg.variables) == 1:\n",
    "        return FOD(arg.expr, arg.variables[0], wrt)\n",
    "    elif len(arg.variables) == 2:\n",
    "        return SOD(arg.expr, arg.variables[0], arg.variables[1], wrt)\n",
    "    else:\n",
    "        return None"
   ]
  },
  {
   "cell_type": "code",
   "execution_count": 7,
   "metadata": {},
   "outputs": [],
   "source": [
    "def discretizeDerivatives(func, wrt):\n",
    "    res = func.replace(lambda arg: arg.is_Derivative, lambda arg: discreti(arg, wrt))\n",
    "    res = res.replace(F, getDiscreteSymbol(ndmat, F))\n",
    "    res = res.replace(G, getDiscreteSymbol(ndmat, G))\n",
    "    return res.replace(alfa, getDiscreteSymbol(ndmat, alfa))"
   ]
  },
  {
   "cell_type": "code",
   "execution_count": null,
   "metadata": {},
   "outputs": [],
   "source": [
    "res7a = discretizeDerivatives(res3a, alfa)\n",
    "\n",
    "res7f = discretizeDerivatives(res3f, F)\n",
    "\n",
    "res7g = discretizeDerivatives(res3g, G)"
   ]
  },
  {
   "cell_type": "code",
   "execution_count": null,
   "metadata": {},
   "outputs": [],
   "source": [
    "expra = ccode(res7a)\n",
    "exprf = ccode(res7f)\n",
    "exprg = ccode(res7g)"
   ]
  },
  {
   "cell_type": "code",
   "execution_count": null,
   "metadata": {},
   "outputs": [],
   "source": [
    "def getSymbolsUsed(expr):\n",
    "    syms = \"\"\n",
    "    for _y in expr.free_symbols:\n",
    "        syms += str(_y)+\" \"\n",
    "    return syms[:-1]"
   ]
  },
  {
   "cell_type": "code",
   "execution_count": null,
   "metadata": {},
   "outputs": [],
   "source": [
    "symma = getSymbolsUsed(res7a)\n",
    "print(\"Symbols for a: \\n [\", symma, \"]\")\n",
    "\n",
    "symmf = getSymbolsUsed(res7f)\n",
    "print(\"Symbols for F: \\n [\", symmf, \"]\")\n",
    "\n",
    "symmg = getSymbolsUsed(res7g)\n",
    "print(\"Symbols for G: \\n [\", symmg, \"]\")\n"
   ]
  },
  {
   "cell_type": "code",
   "execution_count": null,
   "metadata": {},
   "outputs": [],
   "source": [
    "import sage as sg\n",
    "from sage.all import *\n",
    "var(symma)\n",
    "\n",
    "def solveWithSage(expr, symbols, x):\n",
    "    wata = eval(expr)\n",
    "    resa = sg.symbolic.relation.solve(wata, x)\n",
    "    return resa[0]"
   ]
  },
  {
   "cell_type": "code",
   "execution_count": null,
   "metadata": {
    "scrolled": true
   },
   "outputs": [],
   "source": [
    "def getDerivative(eq, var):\n",
    "    if type(eq) == int:\n",
    "        return 0\n",
    "    else:\n",
    "        try:\n",
    "            return eq.derivative(var)\n",
    "        except:\n",
    "            return 0\n",
    "\n",
    "def solveForFirstState(expr, dfdt, func, hasMixed):\n",
    "    auxt = eval(func+\"1111\") - dfdt*2*dt\n",
    "    \n",
    "    \n",
    "    firsta = expr.subs({eval(func+\"0111\") : auxt})\n",
    "    if hasMixed:\n",
    "        auxr = eval(func+\"1211\")-eval(func+\"1111\")+eval(func+\"0111\")-dt*dr*getDerivative(dfdt, r)\n",
    "        auxtheta = eval(func+\"1121\")-eval(func+\"1111\")+eval(func+\"0111\")+dt*dr*getDerivative(dfdt, theta)\n",
    "        auxphi = eval(func+\"1112\")-eval(func+\"1111\")+eval(func+\"0111\")+dt*dr*getDerivative(dfdt, phi)\n",
    "        firsta = firsta.subs({eval(func+\"0211\") : auxr})\n",
    "        firsta = firsta.subs({eval(func+\"0121\") : auxtheta})\n",
    "        firsta = firsta.subs({eval(func+\"0112\") : auxphi})\n",
    "        firsta = firsta.subs({eval(func+\"0111\") : auxt})\n",
    "    firstaa = sg.symbolic.relation.solve(firsta, eval(func+\"2111\"))\n",
    "    try:\n",
    "        return firstaa[0]#.collect_common_factors().full_simplify().collect_common_factors()\n",
    "    except:\n",
    "        return firstaa\n",
    "\n",
    "def replaceOtherFunctionsFirstState(expr, func1, func2, df1dt, df2dt):\n",
    "    auxtf1 = eval(func1+\"1111\") - df1dt*dt\n",
    "    auxtf2 = eval(func2+\"1111\") - df2dt*dt\n",
    "    \n",
    "    firsta = expr.subs({eval(func1+\"2111\") : auxtf1})\n",
    "    firsta = firsta.subs({eval(func2+\"2111\") : auxtf2})\n",
    "    return firsta"
   ]
  },
  {
   "cell_type": "code",
   "execution_count": null,
   "metadata": {},
   "outputs": [],
   "source": [
    "ra = solveWithSage(expra, symma, a2111)\n",
    "print(ra)"
   ]
  },
  {
   "cell_type": "code",
   "execution_count": null,
   "metadata": {},
   "outputs": [],
   "source": [
    "fa = solveForFirstState(ra, eval(dAdt), \"a\", True)\n",
    "fa = replaceOtherFunctionsFirstState(fa, \"F\", \"G\", eval(dFdt), eval(dGdt))\n",
    "fa"
   ]
  },
  {
   "cell_type": "code",
   "execution_count": null,
   "metadata": {},
   "outputs": [],
   "source": [
    "rf = solveWithSage(exprf, symmf, F2111)\n",
    "print(rf)"
   ]
  },
  {
   "cell_type": "code",
   "execution_count": null,
   "metadata": {},
   "outputs": [],
   "source": [
    "ff = solveForFirstState(rf, eval(dFdt), \"F\", True)\n",
    "ff = replaceOtherFunctionsFirstState(ff, \"a\", \"G\", eval(dAdt), eval(dGdt))\n",
    "\n",
    "ff"
   ]
  },
  {
   "cell_type": "code",
   "execution_count": null,
   "metadata": {},
   "outputs": [],
   "source": [
    "rg = solveWithSage(exprg, symmg, G2111)\n",
    "print(rg)"
   ]
  },
  {
   "cell_type": "code",
   "execution_count": null,
   "metadata": {},
   "outputs": [],
   "source": [
    "fg = solveForFirstState(rg, eval(dAdt), \"G\", True)\n",
    "fg = replaceOtherFunctionsFirstState(fg, \"a\", \"F\", eval(dAdt), eval(dFdt))\n",
    "\n",
    "fg"
   ]
  },
  {
   "cell_type": "code",
   "execution_count": null,
   "metadata": {},
   "outputs": [],
   "source": [
    "import re\n",
    "def i2i(arg, index):\n",
    "    if index == \"0\":\n",
    "        return \"(\"+arg+\"-1)\"\n",
    "    if index == \"1\":\n",
    "        return \"(\"+arg+\")\"\n",
    "    if index == \"2\":\n",
    "        return \"(\"+arg+\"+1)\"\n",
    "    #if index == \"3\":\n",
    "    #    return \"(\"+arg+\"+1)\"\n",
    "def i2iTime(arg, index):\n",
    "    if index == \"0\":\n",
    "        return \"(tm1)\"\n",
    "    if index == \"1\":\n",
    "        return \"(t)\"\n",
    "    if index == \"2\":\n",
    "        return \"(tp1)\"\n",
    "    #if index == \"3\":\n",
    "    #    return \"(tp1)\"    \n",
    "def getCArray(ids):\n",
    "    res = \"\"\n",
    "    args = [\"t\", \"r\", \"theta\", \"phi\"]\n",
    "    sizes = [\"L\", \"M\", \"N\", \"O\"]\n",
    "    for i, c in enumerate(ids):\n",
    "        if args[i] == \"t\":\n",
    "            res += i2iTime(args[i], c)\n",
    "        else:\n",
    "            res += i2i(args[i], c)\n",
    "        for j,s in enumerate(sizes[i+1:]):\n",
    "            res+=\"*\"+s\n",
    "        res+=\"+\"\n",
    "    return res[:-1]\n",
    "\n",
    "\n",
    "def getExpressionInC(expr):\n",
    "    \n",
    "    traduc = ccode(expr)\n",
    "\n",
    "    indexes = [m.start() for m in re.finditer(r'[a-zA-Z]\\d\\d\\d\\d', traduc)]\n",
    "    for i in reversed(indexes):\n",
    "        traduc = traduc[:i+1]+\"[\"+ getCArray(traduc[i+1:i+5]) +\"]\"+ traduc[i+5:]\n",
    "    return traduc"
   ]
  },
  {
   "cell_type": "code",
   "execution_count": null,
   "metadata": {},
   "outputs": [],
   "source": [
    "expr_a = getExpressionInC(ra._sympy_())\n",
    "expr_fa = getExpressionInC(fa._sympy_())\n",
    "expr_fa"
   ]
  },
  {
   "cell_type": "code",
   "execution_count": null,
   "metadata": {},
   "outputs": [],
   "source": [
    "expr_f = getExpressionInC(rf._sympy_())\n",
    "expr_ff = getExpressionInC(ff._sympy_())\n",
    "expr_f"
   ]
  },
  {
   "cell_type": "code",
   "execution_count": null,
   "metadata": {},
   "outputs": [],
   "source": [
    "expr_g = getExpressionInC(rf._sympy_())\n",
    "expr_fg = getExpressionInC(fg._sympy_())\n",
    "expr_g[41:]"
   ]
  },
  {
   "cell_type": "code",
   "execution_count": null,
   "metadata": {},
   "outputs": [],
   "source": [
    "def replaceInFile(filename, match, new):\n",
    "    #read input file\n",
    "    fin = open(filename, \"rt\")\n",
    "    #read file contents to string\n",
    "    data = fin.read()\n",
    "    #replace all occurrences of the required string\n",
    "    data = data.replace(match, new)\n",
    "    #close the input file\n",
    "    fin.close()\n",
    "    #open the input file in write mode\n",
    "    fin = open(filename, \"wt\")\n",
    "    #overrite the input file with the resulting data\n",
    "    fin.write(data)\n",
    "    #close the file\n",
    "    fin.close()"
   ]
  },
  {
   "cell_type": "code",
   "execution_count": 27,
   "metadata": {},
   "outputs": [],
   "source": [
    "#replaceInFile(\"../cpu/src/EquationAlfa.cpp\", \"---a---\", expr_a[41:])\n",
    "replaceInFile(\"../cpu/src/EquationAlfa.cpp\", \"---fa---\", expr_fa[41:])\n",
    "#replaceInFile(\"../cpu/src/EquationF.cpp\", \"---F---\", expr_f[41:])\n",
    "replaceInFile(\"../cpu/src/EquationF.cpp\", \"---fF---\", expr_ff[41:])\n",
    "#replaceInFile(\"../cpu/src/EquationG.cpp\", \"---G---\", expr_g[41:])\n",
    "replaceInFile(\"../cpu/src/EquationG.cpp\", \"---fG---\", expr_fg[41:])\n"
   ]
  },
  {
   "cell_type": "code",
   "execution_count": 13,
   "metadata": {},
   "outputs": [],
   "source": [
    "import pickle\n",
    "\n",
    "with open('F[t+1].pickle', 'wb') as f:\n",
    "    pickle.dump(traduc, f)"
   ]
  },
  {
   "cell_type": "code",
   "execution_count": 6,
   "metadata": {},
   "outputs": [
    {
     "ename": "NameError",
     "evalue": "name 'traduc' is not defined",
     "output_type": "error",
     "traceback": [
      "\u001b[0;31m---------------------------------------------------------------------------\u001b[0m",
      "\u001b[0;31mNameError\u001b[0m                                 Traceback (most recent call last)",
      "\u001b[0;32m<ipython-input-6-878142e35b0e>\u001b[0m in \u001b[0;36m<module>\u001b[0;34m\u001b[0m\n\u001b[1;32m      1\u001b[0m \u001b[0;32mimport\u001b[0m \u001b[0mpickle\u001b[0m\u001b[0;34m\u001b[0m\u001b[0;34m\u001b[0m\u001b[0m\n\u001b[0;32m----> 2\u001b[0;31m \u001b[0;32mdel\u001b[0m \u001b[0mtraduc\u001b[0m\u001b[0;34m\u001b[0m\u001b[0;34m\u001b[0m\u001b[0m\n\u001b[0m\u001b[1;32m      3\u001b[0m \u001b[0;32mwith\u001b[0m \u001b[0mopen\u001b[0m\u001b[0;34m(\u001b[0m\u001b[0;34m'F[t+1].pickle'\u001b[0m\u001b[0;34m)\u001b[0m \u001b[0;32mas\u001b[0m \u001b[0mf\u001b[0m\u001b[0;34m:\u001b[0m\u001b[0;34m\u001b[0m\u001b[0;34m\u001b[0m\u001b[0m\n\u001b[1;32m      4\u001b[0m     \u001b[0mtraduc\u001b[0m \u001b[0;34m=\u001b[0m \u001b[0mpickle\u001b[0m\u001b[0;34m.\u001b[0m\u001b[0mload\u001b[0m\u001b[0;34m(\u001b[0m\u001b[0mf\u001b[0m\u001b[0;34m)\u001b[0m\u001b[0;34m\u001b[0m\u001b[0;34m\u001b[0m\u001b[0m\n",
      "\u001b[0;31mNameError\u001b[0m: name 'traduc' is not defined"
     ]
    }
   ],
   "source": [
    "import pickle\n",
    "\n",
    "with open('F[t+1].pickle') as f:\n",
    "    traduc = pickle.load(f)"
   ]
  }
 ],
 "metadata": {
  "kernelspec": {
   "display_name": "Python 3",
   "language": "python",
   "name": "python3"
  },
  "language_info": {
   "codemirror_mode": {
    "name": "ipython",
    "version": 3
   },
   "file_extension": ".py",
   "mimetype": "text/x-python",
   "name": "python",
   "nbconvert_exporter": "python",
   "pygments_lexer": "ipython3",
   "version": "3.9.1"
  }
 },
 "nbformat": 4,
 "nbformat_minor": 4
}
