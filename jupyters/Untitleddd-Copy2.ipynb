{
 "cells": [
  {
   "cell_type": "code",
   "execution_count": 1,
   "metadata": {
    "scrolled": true
   },
   "outputs": [],
   "source": [
    "from sympy import *\n",
    "import numpy as np\n",
    "\n",
    "D = 2\n",
    "\n",
    "## Definiendo simbolos\n",
    "t, r, theta, phi, global_phi = symbols('t, r, \\\\theta, \\\\varphi, global_phi')\n",
    "dt, dr, dtheta, dphi = symbols('dt dr dtheta dphi')     \n",
    "l0, l1, l2, l3 = symbols(\"l_0 l_1 l_2 l_3\")\n",
    "l, lamb, p, q, n, L = symbols(\"l lamb p q n L\")\n",
    "\n",
    "deldel = Function(\"DELDEL\")\n",
    "delf = Function(\"DELF\")\n",
    "box = Function(\"\\\\Box\")\n",
    "\n",
    "def getFuncName(i):\n",
    "    if i==0:\n",
    "        return alfa.name\n",
    "    if i==1:\n",
    "        return F.name\n",
    "    if i==2:\n",
    "        return G.name\n",
    "    \n",
    "    \n",
    "if D == 1:\n",
    "    ndmat = np.array([[[symbols(\"a\") for _x in range(4)] for _w in range(3)] for _i in range(3)])\n",
    "    alfa = Function(\"a\")(t, r)\n",
    "    F = Function(\"F\")(t, r)\n",
    "    G = Function(\"G\")(t, r)\n",
    "elif D == 2:\n",
    "    ndmat = np.array([[[[symbols(\"a\") for _x in range(4)] for _y in range(4)] for _w in range(3)] for _i in range(3)])\n",
    "    alfa = Function(\"a\")(t, theta, r)\n",
    "    F = Function(\"F\")(t, theta, r)\n",
    "    G = Function(\"G\")(t, theta, r)\n",
    "elif D == 3:\n",
    "    ndmat = np.array([[[[[symbols(\"a\") for _x in range(4)] for _y in range(4)] for _z in range(4)] for _w in range(3)] for _i in range(3)])\n",
    "    alfa = Function(\"a\")(t, phi, theta, r)\n",
    "    F = Function(\"F\")(t, phi, theta, r)\n",
    "    G = Function(\"G\")(t, phi, theta, r)\n",
    "\n",
    "\n",
    "symbolsString = \"\"\n",
    "if D == 1:\n",
    "    for _f in range(3):\n",
    "        for _t in range(3):\n",
    "            for _r in range(4):\n",
    "                ndmat[_f][_t][_r] = symbols(getFuncName(_f)+str(_t)+str(_r))\n",
    "                symbolsString += str(ndmat[_f][_t][_r])+\" \"\n",
    "elif D == 2:\n",
    "    for _f in range(3):\n",
    "        for _t in range(3):\n",
    "            for _theta in range(4):\n",
    "                for _r in range(4):\n",
    "                    ndmat[_f][_t][_theta][_r] = symbols(getFuncName(_f)+str(_t)+str(_theta)+str(_r))\n",
    "                    symbolsString += str(ndmat[_f][_t][_theta][_r])+\" \"\n",
    "elif D == 3:\n",
    "    for _f in range(3):\n",
    "        for _t in range(3):\n",
    "            for _phi in range(4):\n",
    "                for _theta in range(4):\n",
    "                    for _r in range(4):\n",
    "                        ndmat[_f][_t][_phi][_theta][_r] = symbols(getFuncName(_f)+str(_t)+str(_phi)+str(_theta)+str(_r))\n",
    "                        symbolsString += str(ndmat[_f][_t][_phi][_theta][_r])+\" \"\n",
    "\n"
   ]
  },
  {
   "cell_type": "code",
   "execution_count": 5,
   "metadata": {},
   "outputs": [
    {
     "data": {
      "text/latex": [
       "$\\displaystyle \\Box{\\left(a{\\left(t,\\theta,r \\right)} \\right)}$"
      ],
      "text/plain": [
       "\\Box(a(t, \\theta, r))"
      ]
     },
     "metadata": {},
     "output_type": "display_data"
    },
    {
     "data": {
      "text/latex": [
       "$\\displaystyle \\Box{\\left(F{\\left(t,\\theta,r \\right)} \\right)}$"
      ],
      "text/plain": [
       "\\Box(F(t, \\theta, r))"
      ]
     },
     "metadata": {},
     "output_type": "display_data"
    },
    {
     "data": {
      "text/latex": [
       "$\\displaystyle \\Box{\\left(G{\\left(t,\\theta,r \\right)} \\right)}$"
      ],
      "text/plain": [
       "\\Box(G(t, \\theta, r))"
      ]
     },
     "metadata": {},
     "output_type": "display_data"
    }
   ],
   "source": [
    "def DELDEL(f, g):\n",
    "    #canon = -f.diff(t)*g.diff(t) + 1/l1**2*f.diff(r)*g.diff(r) + 1/l1**2*f.diff(theta)*g.diff(theta) + 1/l2**2*f.diff(phi)*g.diff(phi)\n",
    "    canon = -f.diff(t)*g.diff(t) + f.diff(r)*g.diff(r) + f.diff(theta)*g.diff(theta) + f.diff(phi)*g.diff(phi)\n",
    "    return canon\n",
    "\n",
    "def BOX(f):\n",
    "    canon = -f.diff(t, 2) + (f.diff(r, 2) + f.diff(theta, 2) + f.diff(phi, 2))\n",
    "    #canon = -f.diff(t, 2) + 1/l1**2*f.diff(r, 2) + 1/l1**2*f.diff(theta, 2) + 1/l2 **2*f.diff(phi, 2)\n",
    "    return canon\n",
    "\n",
    "def DELf(f, g):\n",
    "    #canon = DELDEL(f, g) + f*BOX(g)\n",
    "    canon = -(f*g.diff(t)).diff(t) + (f*g.diff(r)).diff(r)+ (f*g.diff(theta)).diff(theta) + (f*g.diff(phi)).diff(phi)\n",
    "    #canon = -(f*g.diff(t)).diff(t) + 1/l1**2*(f*g.diff(r)).diff(r)+ 1/l1**2*(f*g.diff(theta)).diff(theta) + 1/l2**2*(f*g.diff(phi)).diff(phi)\n",
    "    return canon\n",
    "\n",
    "\n",
    "with evaluate(False):\n",
    "    motion_alfa = box(alfa)\n",
    "    motion_F = box(F)\n",
    "    motion_G = box(G)\n",
    "    \n",
    "display(motion_alfa)\n",
    "display(motion_F)\n",
    "display(motion_G)"
   ]
  },
  {
   "cell_type": "code",
   "execution_count": 6,
   "metadata": {
    "scrolled": false
   },
   "outputs": [],
   "source": [
    "def expandToDerivatives(func):\n",
    "    p, q, s, b = map(Wild, 'pqsb')\n",
    "    res = func.replace(deldel(p, q)*s, lambda p, q, s : DELDEL(p, q)*s)\n",
    "    res = res.replace(delf(p, q)*s, lambda p, q, s : DELf(p, q)*s)\n",
    "    return res.replace(box(p)*s, lambda p, s : BOX(p)*s)"
   ]
  },
  {
   "cell_type": "code",
   "execution_count": 7,
   "metadata": {
    "scrolled": true
   },
   "outputs": [
    {
     "data": {
      "text/plain": [
       "'Alfa done.'"
      ]
     },
     "metadata": {},
     "output_type": "display_data"
    },
    {
     "data": {
      "text/plain": [
       "'F done.'"
      ]
     },
     "metadata": {},
     "output_type": "display_data"
    },
    {
     "data": {
      "text/plain": [
       "'G done.'"
      ]
     },
     "metadata": {},
     "output_type": "display_data"
    }
   ],
   "source": [
    "res3a = (expandToDerivatives(motion_alfa))\n",
    "display(\"Alfa done.\")\n",
    "res3f = (expandToDerivatives(motion_F))\n",
    "display(\"F done.\")\n",
    "res3g = (expandToDerivatives(motion_G))\n",
    "display(\"G done.\")"
   ]
  },
  {
   "cell_type": "code",
   "execution_count": 8,
   "metadata": {
    "scrolled": true
   },
   "outputs": [],
   "source": [
    "def getDelta(i):\n",
    "    if i == t:\n",
    "        return dt\n",
    "    if r == i:\n",
    "        return dr\n",
    "    if theta == i:\n",
    "        return dtheta\n",
    "    if phi == i:\n",
    "        return dphi\n",
    "\n",
    "def getIndex(i):\n",
    "    if t == i:\n",
    "        return 0\n",
    "    if phi == i:\n",
    "        return 1\n",
    "    if theta == i:\n",
    "        return 2\n",
    "    if r == i:\n",
    "        return 3\n",
    "\n",
    "def getFuncIndex(f):\n",
    "    if f==F:\n",
    "        return 1\n",
    "    if f==G:\n",
    "        return 2\n",
    "    if f==alfa:\n",
    "        return 0\n",
    "    \n",
    "def isThis(s, ix):\n",
    "    if ix != None and s in ix.keys():\n",
    "        return ix[s]\n",
    "    else: \n",
    "        return 0\n",
    "#http://www.iitg.ac.in/gtm/files/chap2.pdf\n",
    "#https://www.uio.no/studier/emner/matnat/math/MAT-INF1100/h07/undervisningsmateriale/kap7.pdf\n",
    "# 2: 1\n",
    "# 1: 0\n",
    "# 0: -1\n",
    "\n",
    "def getDiscreteSymbol(ndmat, f, ix=None):\n",
    "    if D==3:\n",
    "        canon = ndmat[getFuncIndex(f)][1+isThis(t, ix)][1+isThis(phi, ix)][1+isThis(theta, ix)][1+isThis(r, ix)]\n",
    "    elif D==2:\n",
    "        canon = ndmat[getFuncIndex(f)][1+isThis(t, ix)][1+isThis(theta, ix)][1+isThis(r, ix)]\n",
    "    elif D==1:\n",
    "        canon = ndmat[getFuncIndex(f)][1+isThis(t, ix)][1+isThis(r, ix)]\n",
    "    \n",
    "    return canon\n",
    "    \n",
    "def FOD(f, i, wrt):\n",
    "    if i==t:\n",
    "        canon = (getDiscreteSymbol(ndmat, f, ix={i:0}) - getDiscreteSymbol(ndmat, f, ix={i:-1}))/(getDelta(i))\n",
    "    else:\n",
    "        canon = (getDiscreteSymbol(ndmat, f, ix={i:0}) - getDiscreteSymbol(ndmat, f, ix={i:-1}))/(getDelta(i))\n",
    "    return canon\n",
    "\n",
    "def SOD(f, i, j, wrt):\n",
    "    if i==j:\n",
    "        if f!=wrt and i==t:\n",
    "            canon = (getDiscreteSymbol(ndmat, f, ix={i:0}) - 2*getDiscreteSymbol(ndmat, f, ix={i:-1}) + getDiscreteSymbol(ndmat, f, ix={i:-2}))/(getDelta(i)**2)\n",
    "        else:\n",
    "            canon = (getDiscreteSymbol(ndmat, f, ix={i:1}) - 2*getDiscreteSymbol(ndmat, f, ix={i:0}) + getDiscreteSymbol(ndmat, f, ix={i:-1}))/(getDelta(i)**2)\n",
    "    else:\n",
    "        if i != t and t != j:\n",
    "            canon = (getDiscreteSymbol(ndmat, f, ix={i:1, j:1}) + getDiscreteSymbol(ndmat, f, ix={i:-1, j:-1}) - getDiscreteSymbol(ndmat, f, ix={i:1, j:-1}) - getDiscreteSymbol(ndmat, f, ix={i:-1, j:1}) )/(4*getDelta(i)*getDelta(j))\n",
    "        #backward difference\n",
    "        elif (j==t):\n",
    "            canon = (1/getDelta(i))*(((getDiscreteSymbol(ndmat, f, ix={i:1, j:0})-getDiscreteSymbol(ndmat, f, ix={i:0, j:0}))/(getDelta(j))) - ((getDiscreteSymbol(ndmat, f, ix={i:1, j:-1}) - getDiscreteSymbol(ndmat, f, ix={i:0, j:-1}))/(getDelta(j))))\n",
    "            \n",
    "            #canon = (1/(2*getDelta(i)*getDelta(j)))*(getDiscreteSymbol(ndmat, f, ix={i:0, j:1})-getDiscreteSymbol(ndmat, f, ix={i:-1, j:1})-getDiscreteSymbol(ndmat, f, ix={i:0, j:-1})-getDiscreteSymbol(ndmat, f, ix={i:-1, j:-1}))\n",
    "        elif (i == t):\n",
    "            #canon = (1/(2*getDelta(i)*getDelta(j)))*(getDiscreteSymbol(ndmat, f, ix={i:1, j:0})-getDiscreteSymbol(ndmat, f, ix={i:1, j:-1})-getDiscreteSymbol(ndmat, f, ix={i:-1, j:0})-getDiscreteSymbol(ndmat, f, ix={i:-1, j:-1}))\n",
    "            canon = (1/getDelta(i))*(((getDiscreteSymbol(ndmat, f, ix={i:0, j:1})-getDiscreteSymbol(ndmat, f, ix={i:0, j:0}))/(getDelta(j))) - ((getDiscreteSymbol(ndmat, f, ix={i:-1, j:1}) - getDiscreteSymbol(ndmat, f, ix={i:-1, j:0}))/(getDelta(j))))\n",
    "            \n",
    "        else:\n",
    "            print(\"what\")\n",
    "    return canon\n",
    "\n",
    "def discreti(arg, wrt):\n",
    "    if len(arg.variables) == 1:\n",
    "        return FOD(arg.expr, arg.variables[0], wrt)\n",
    "    elif len(arg.variables) == 2:\n",
    "        return SOD(arg.expr, arg.variables[0], arg.variables[1], wrt)\n",
    "    else:\n",
    "        return None"
   ]
  },
  {
   "cell_type": "code",
   "execution_count": 9,
   "metadata": {},
   "outputs": [],
   "source": [
    "def discretizeVariables(func):\n",
    "    res = func.replace(r, r*dr)\n",
    "    res = res.replace(theta, theta*dtheta)\n",
    "    res = res.replace(phi, global_phi*dphi)\n",
    "    return res.replace(t, l*dt)\n",
    "\n",
    "\n",
    "def discretizeDerivatives(func, wrt):\n",
    "    res = func.replace(lambda arg: arg.is_Derivative, lambda arg: discreti(arg, wrt))\n",
    "    res = res.replace(F, getDiscreteSymbol(ndmat, F))\n",
    "    res = res.replace(G, getDiscreteSymbol(ndmat, G))\n",
    "    return res.replace(alfa, getDiscreteSymbol(ndmat, alfa))"
   ]
  },
  {
   "cell_type": "code",
   "execution_count": 10,
   "metadata": {},
   "outputs": [],
   "source": [
    "res7a = discretizeDerivatives(res3a, alfa)\n",
    "res7a = discretizeVariables(res7a)\n",
    "\n",
    "res7f = discretizeDerivatives(res3f, F)\n",
    "res7f = discretizeVariables(res7f)\n",
    "\n",
    "res7g = discretizeDerivatives(res3g, G)\n",
    "res7g = discretizeVariables(res7g)"
   ]
  },
  {
   "cell_type": "code",
   "execution_count": 11,
   "metadata": {},
   "outputs": [],
   "source": [
    "expra = ccode(res7a).replace(\"\\\\\", \"\")\n",
    "exprf = ccode(res7f).replace(\"\\\\\", \"\")\n",
    "exprg = ccode(res7g).replace(\"\\\\\", \"\")"
   ]
  },
  {
   "cell_type": "code",
   "execution_count": 12,
   "metadata": {},
   "outputs": [],
   "source": [
    "def getSymbolsUsed(expr):\n",
    "    syms = \"\"\n",
    "    for _y in expr.free_symbols:\n",
    "        syms += str(_y)+\" \"\n",
    "    return syms[:-1]"
   ]
  },
  {
   "cell_type": "code",
   "execution_count": 13,
   "metadata": {},
   "outputs": [
    {
     "name": "stdout",
     "output_type": "stream",
     "text": [
      "Symbols for a: \n",
      " [ dr a111 dt dtheta a101 a011 a110 a112 a211 a121 ]\n",
      "Symbols for F: \n",
      " [ dr F121 dt dtheta F011 F211 F112 F101 F111 F110 ]\n",
      "Symbols for G: \n",
      " [ G011 dr G121 dtheta G110 G112 G111 G211 G101 dt ]\n"
     ]
    }
   ],
   "source": [
    "symma = getSymbolsUsed(res7a)\n",
    "print(\"Symbols for a: \\n [\", symma, \"]\")\n",
    "\n",
    "symmf = getSymbolsUsed(res7f)\n",
    "print(\"Symbols for F: \\n [\", symmf, \"]\")\n",
    "\n",
    "symmg = getSymbolsUsed(res7g)\n",
    "print(\"Symbols for G: \\n [\", symmg, \"]\")\n"
   ]
  },
  {
   "cell_type": "code",
   "execution_count": 14,
   "metadata": {},
   "outputs": [],
   "source": [
    "import sage as sg\n",
    "from sage.all import *\n",
    "var(symma.replace(\"\\\\\", \"\"))\n",
    "var(symbolsString.replace(\"\\\\\", \"\"))\n",
    "var(\"E4 E5 E6 r theta global_phi\")\n",
    "\n",
    "pi_4 = E4*sin(dr*r)*sin(dtheta*theta)*sin(dphi*global_phi) \n",
    "pi_5 = E5*sin(dr*r)*sin(dtheta*theta)*sin(dphi*global_phi) \n",
    "pi_6 = E6*sin(dr*r)*sin(dtheta*theta)*sin(dphi*global_phi) \n",
    "\n",
    "dAdt = \"0\"\n",
    "#dAdt = \"0.5*(dr*r*(1 - dr*r)*dtheta*theta*(1 - dtheta*theta))\"\n",
    "dFdt = \"0\"\n",
    "dGdt = \"0\"\n",
    "def solveWithSage(expr, symbols, x):\n",
    "    wata = eval(expr)\n",
    "    resa = sg.symbolic.relation.solve(wata, x)\n",
    "    return resa[0]"
   ]
  },
  {
   "cell_type": "code",
   "execution_count": 19,
   "metadata": {
    "scrolled": true
   },
   "outputs": [],
   "source": [
    "def getDerivative(eq, var):\n",
    "    if type(eq) == int:\n",
    "        return 0\n",
    "    else:\n",
    "        try:\n",
    "            return eq.derivative(var)\n",
    "        except:\n",
    "            return 0\n",
    "\n",
    "def solveForFirstState(expr, dfdt, func, hasMixed):\n",
    "    if D==1:\n",
    "        auxt = eval(func+\"11\") - dfdt*dt\n",
    "        firsta = expr.subs({eval(func+\"01\") : auxt})\n",
    "    elif D==2:\n",
    "        auxt = eval(func+\"111\") - dfdt*dt\n",
    "        firsta = expr.subs({eval(func+\"011\") : auxt})\n",
    "    elif D==3:\n",
    "        auxt = eval(func+\"1111\") - dfdt*dt\n",
    "        firsta = expr.subs({eval(func+\"0111\") : auxt})\n",
    "    \n",
    "    if hasMixed:\n",
    "        auxr = eval(func+\"1211\")-eval(func+\"1111\")+eval(func+\"0111\")-dt*dr*getDerivative(dfdt, r)\n",
    "        auxtheta = eval(func+\"1121\")-eval(func+\"1111\")+eval(func+\"0111\")-dt*dtheta*getDerivative(dfdt, theta)\n",
    "        auxphi = eval(func+\"1112\")-eval(func+\"1111\")+eval(func+\"0111\")-dt*dphi*getDerivative(dfdt, phi)\n",
    "        firsta = firsta.subs({eval(func+\"0211\") : auxr})\n",
    "        firsta = firsta.subs({eval(func+\"0121\") : auxtheta})\n",
    "        firsta = firsta.subs({eval(func+\"0112\") : auxphi})\n",
    "        firsta = firsta.subs({eval(func+\"0111\") : auxt})\n",
    "    #firstaa = sg.symbolic.relation.solve(firsta, eval(func+\"2111\"))\n",
    "    if D==1:\n",
    "        firstaa = sg.symbolic.relation.solve(firsta, eval(func+\"21\"))\n",
    "    elif D==2:\n",
    "        firstaa = sg.symbolic.relation.solve(firsta, eval(func+\"211\"))\n",
    "    elif D==3:\n",
    "        firstaa = sg.symbolic.relation.solve(firsta, eval(func+\"2111\"))\n",
    "    try:\n",
    "        return firstaa[0]#.collect_common_factors().full_simplify().collect_common_factors()\n",
    "    except:\n",
    "        return firstaa\n",
    "\n",
    "def replaceOtherFunctionsFirstState(expr, func1, func2, df1dt, df2dt):\n",
    "    auxtf1 = eval(func1+\"1111\") - df1dt*dt\n",
    "    auxtf1f1 = eval(func1+\"1111\") + df1dt*dt\n",
    "    auxtf2 = eval(func2+\"1111\") - df2dt*dt\n",
    "    auxtf2f2 = eval(func2+\"1111\") + df2dt*dt\n",
    "\n",
    "    auxrf1 = eval(func1+\"1211\")-eval(func1+\"1111\")+eval(func1+\"0111\")-dt*dr*getDerivative(df1dt, r)\n",
    "    auxthetaf1 = eval(func1+\"1121\")-eval(func1+\"1111\")+eval(func1+\"0111\")-dt*dtheta*getDerivative(df1dt, theta)\n",
    "    auxphif1 = eval(func1+\"1112\")-eval(func1+\"1111\")+eval(func1+\"0111\")-dt*dphi*getDerivative(df1dt, phi)\n",
    "    \n",
    "    firsta = expr.subs({eval(func1+\"0211\") : auxrf1})\n",
    "    firsta = firsta.subs({eval(func1+\"0121\") : auxthetaf1})\n",
    "    firsta = firsta.subs({eval(func1+\"0112\") : auxphif1})\n",
    "    \n",
    "    auxrf2 = eval(func2+\"1211\")-eval(func2+\"1111\")+eval(func2+\"0111\")-dt*dr*getDerivative(df2dt, r)\n",
    "    auxthetaf2 = eval(func2+\"1121\")-eval(func2+\"1111\")+eval(func2+\"0111\")-dt*dtheta*getDerivative(df2dt, theta)\n",
    "    auxphif2 = eval(func2+\"1112\")-eval(func2+\"1111\")+eval(func2+\"0111\")-dt*dphi*getDerivative(df2dt, phi)\n",
    "    \n",
    "    firsta = firsta.subs({eval(func2+\"0211\") : auxrf2})\n",
    "    firsta = firsta.subs({eval(func2+\"0121\") : auxthetaf2})\n",
    "    firsta = firsta.subs({eval(func2+\"0112\") : auxphif2})\n",
    "    \n",
    "    firsta = firsta.subs({eval(func1+\"0111\") : auxtf1})\n",
    "    firsta = firsta.subs({eval(func2+\"0111\") : auxtf2})\n",
    "    \n",
    "    firsta = firsta.subs({eval(func1+\"2111\") : auxtf1f1})\n",
    "    firsta = firsta.subs({eval(func2+\"2111\") : auxtf2f2})\n",
    "    return firsta"
   ]
  },
  {
   "cell_type": "code",
   "execution_count": 20,
   "metadata": {},
   "outputs": [
    {
     "name": "stdout",
     "output_type": "stream",
     "text": [
      "a211 == ((a101 - 2*a111 + a121)*dr^2*dt^2 - ((a011 - 2*a111)*dr^2 - (a110 - 2*a111 + a112)*dt^2)*dtheta^2)/(dr^2*dtheta^2)\n"
     ]
    }
   ],
   "source": [
    "if D==3:\n",
    "    ra = solveWithSage(expra, symma, a2111)\n",
    "elif D==2:\n",
    "    ra = solveWithSage(expra, symma, a211)\n",
    "elif D==1:\n",
    "    ra = solveWithSage(expra, symma, a21)\n",
    "print(ra)"
   ]
  },
  {
   "cell_type": "code",
   "execution_count": 21,
   "metadata": {},
   "outputs": [
    {
     "data": {
      "text/plain": [
       "a211 == ((a101 - 2*a111 + a121)*dr^2*dt^2 + (a111*dr^2 + (a110 - 2*a111 + a112)*dt^2)*dtheta^2)/(dr^2*dtheta^2)"
      ]
     },
     "execution_count": 21,
     "metadata": {},
     "output_type": "execute_result"
    }
   ],
   "source": [
    "fa = solveForFirstState(ra, eval(dAdt), \"a\", False)\n",
    "#fa = replaceOtherFunctionsFirstState(fa, \"F\", \"G\", eval(dFdt), eval(dGdt))\n",
    "fa"
   ]
  },
  {
   "cell_type": "code",
   "execution_count": 22,
   "metadata": {},
   "outputs": [
    {
     "name": "stdout",
     "output_type": "stream",
     "text": [
      "F211 == ((F101 - 2*F111 + F121)*dr^2*dt^2 - ((F011 - 2*F111)*dr^2 - (F110 - 2*F111 + F112)*dt^2)*dtheta^2)/(dr^2*dtheta^2)\n"
     ]
    }
   ],
   "source": [
    "if D==3:\n",
    "    rf = solveWithSage(exprf, symmf, F2111)\n",
    "elif D==2:\n",
    "    rf = solveWithSage(exprf, symmf, F211)\n",
    "elif D==1:\n",
    "    rf = solveWithSage(exprf, symmf, F21)\n",
    "print(rf)"
   ]
  },
  {
   "cell_type": "code",
   "execution_count": 23,
   "metadata": {},
   "outputs": [
    {
     "data": {
      "text/plain": [
       "F211 == ((F101 - 2*F111 + F121)*dr^2*dt^2 + (F111*dr^2 + (F110 - 2*F111 + F112)*dt^2)*dtheta^2)/(dr^2*dtheta^2)"
      ]
     },
     "execution_count": 23,
     "metadata": {},
     "output_type": "execute_result"
    }
   ],
   "source": [
    "ff = solveForFirstState(rf, eval(dFdt), \"F\", False)\n",
    "#ff = replaceOtherFunctionsFirstState(ff, \"a\", \"G\", eval(dAdt), eval(dGdt))\n",
    "\n",
    "ff"
   ]
  },
  {
   "cell_type": "code",
   "execution_count": 24,
   "metadata": {},
   "outputs": [
    {
     "name": "stdout",
     "output_type": "stream",
     "text": [
      "G211 == ((G101 - 2*G111 + G121)*dr^2*dt^2 - ((G011 - 2*G111)*dr^2 - (G110 - 2*G111 + G112)*dt^2)*dtheta^2)/(dr^2*dtheta^2)\n"
     ]
    }
   ],
   "source": [
    "if D==3:\n",
    "    rg = solveWithSage(exprg, symmg, G2111)\n",
    "elif D==2:\n",
    "    rg = solveWithSage(exprg, symmg, G211)\n",
    "elif D==1:\n",
    "    rg = solveWithSage(exprg, symmg, G21)\n",
    "print(rg)"
   ]
  },
  {
   "cell_type": "code",
   "execution_count": 25,
   "metadata": {},
   "outputs": [],
   "source": [
    "fg = solveForFirstState(rg, eval(dAdt), \"G\", False)\n",
    "#fg = replaceOtherFunctionsFirstState(fg, \"a\", \"F\", eval(dAdt), eval(dFdt))\n",
    "\n",
    "#fg"
   ]
  },
  {
   "cell_type": "code",
   "execution_count": 55,
   "metadata": {},
   "outputs": [],
   "source": [
    "import re\n",
    "def i2i(arg, index):\n",
    "    if index == \"0\":\n",
    "        return \"(\"+arg+\"-1)\"\n",
    "    if index == \"1\":\n",
    "        return \"(\"+arg+\")\"\n",
    "    if index == \"2\":\n",
    "        return \"(\"+arg+\"+1)\"\n",
    "    if index == \"3\":\n",
    "        return \"(\"+arg+\"+1)\"\n",
    "def i2iTime(arg, index):\n",
    "    if index == \"0\":\n",
    "        return \"(tm1)\"\n",
    "    if index == \"1\":\n",
    "        return \"(t)\"\n",
    "    if index == \"2\":\n",
    "        return \"(tp1)\"\n",
    "    if index == \"3\":\n",
    "        return \"(tp1)\"    \n",
    "def getCudaArray(ids):\n",
    "    res = \"\"\n",
    "    args = [\"t\", \"threadIdx.z\", \"threadIdx.y\", \"threadIdx.x\"]\n",
    "    sizes = [\"L\", \"O\", \"N\", \"M\"]  \n",
    "    while len(ids)!=4:\n",
    "        ids = ids[0]+'2'+ids[1:]\n",
    "    for i, c in enumerate(ids):\n",
    "        if args[i] == \"t\":\n",
    "            res += i2iTime(args[i], c)+\",\"\n",
    "        else:\n",
    "            res += i2i(args[i], c)+\",\"\n",
    "        #for j,s in enumerate(sizes[i+1:]):\n",
    "            #res+=\"*\"+s\n",
    "        #res+=\"+\"\n",
    "    return res[:-1]\n",
    "def getCArray(ids):\n",
    "    res = \"\"\n",
    "    args = [\"t\", \"phi\", \"theta\", \"r\"]\n",
    "    sizes = [\"L\", \"O\", \"N\", \"M\"]  \n",
    "    while len(ids)!=4:\n",
    "        ids = ids[0]+'2'+ids[1:]\n",
    "    for i, c in enumerate(ids):\n",
    "        if args[i] == \"t\":\n",
    "            res += i2iTime(args[i], c)+\",\"\n",
    "        else:\n",
    "            res += i2i(args[i], c)+\",\"\n",
    "        #for j,s in enumerate(sizes[i+1:]):\n",
    "            #res+=\"*\"+s\n",
    "        #res+=\"+\"\n",
    "    return res[:-1]\n",
    "\n",
    "\n",
    "\n",
    "def getExpressionInCuda(expr):\n",
    "    \n",
    "    traduc = ccode(expr)\n",
    "\n",
    "    if D==3:\n",
    "        indexes = [m.start() for m in re.finditer(r'[a-zA-Z]\\d\\d\\d\\d', traduc)]\n",
    "        for i in reversed(indexes):\n",
    "            traduc = traduc[:i+1]+\"[I(\"+ getCudaArray(traduc[i+1:i+5]) +\")]\"+ traduc[i+5:]\n",
    "    elif D==2:\n",
    "        indexes = [m.start() for m in re.finditer(r'[a-zA-Z]\\d\\d\\d', traduc)]\n",
    "        for i in reversed(indexes):\n",
    "            traduc = traduc[:i+1]+\"[I(\"+ getCudaArray(traduc[i+1:i+4]) +\")]\"+ traduc[i+4:]\n",
    "    elif D==1:\n",
    "        indexes = [m.start() for m in re.finditer(r'[a-zA-Z]\\d\\d', traduc)]\n",
    "        for i in reversed(indexes):\n",
    "            traduc = traduc[:i+1]+\"[I(\"+ getCudaArray(traduc[i+1:i+3]) +\")]\"+ traduc[i+3:]\n",
    "    traduc = traduc.replace(\"a[I(\", \"shmem[CI(0,\")\n",
    "    traduc = traduc.replace(\"F[I(\", \"shmem[CI(1,\")\n",
    "    traduc = traduc.replace(\"G[I(\", \"shmem[CI(2,\")\n",
    "    \n",
    "    traduc = traduc.replace(\"threadIdx.x+1\", \"tidxp\")\n",
    "    traduc = traduc.replace(\"threadIdx.x-1\", \"tidxm\")\n",
    "    traduc = traduc.replace(\"threadIdx.y+1\", \"tidyp\")\n",
    "    traduc = traduc.replace(\"threadIdx.y-1\", \"tidym\")\n",
    "    traduc = traduc.replace(\"threadIdx.z+1\", \"tidzp\")\n",
    "    traduc = traduc.replace(\"threadIdx.z-1\", \"tidzm\")    \n",
    "\n",
    "\n",
    "    return traduc\n",
    "\n",
    "def getExpressionInC(expr):\n",
    "    \n",
    "    traduc = ccode(expr)\n",
    "\n",
    "    if D==3:\n",
    "        indexes = [m.start() for m in re.finditer(r'[a-zA-Z]\\d\\d\\d\\d', traduc)]\n",
    "        for i in reversed(indexes):\n",
    "            traduc = traduc[:i+1]+\"[I(\"+ getCArray(traduc[i+1:i+5]) +\")]\"+ traduc[i+5:]\n",
    "    elif D==2:\n",
    "        indexes = [m.start() for m in re.finditer(r'[a-zA-Z]\\d\\d\\d', traduc)]\n",
    "        for i in reversed(indexes):\n",
    "            traduc = traduc[:i+1]+\"[I(\"+ getCArray(traduc[i+1:i+4]) +\")]\"+ traduc[i+4:]\n",
    "    elif D==1:\n",
    "        indexes = [m.start() for m in re.finditer(r'[a-zA-Z]\\d\\d', traduc)]\n",
    "        for i in reversed(indexes):\n",
    "            traduc = traduc[:i+1]+\"[I(\"+ getCArray(traduc[i+1:i+3]) +\")]\"+ traduc[i+3:]\n",
    "    #traduc = traduc.replace(\"a[I(\", \"shmem[CI(0,\")\n",
    "    #traduc = traduc.replace(\"F[I(\", \"shmem[CI(1,\")\n",
    "    #traduc = traduc.replace(\"G[I(\", \"shmem[CI(2,\")\n",
    "    \n",
    "    #traduc = traduc.replace(\"threadIdx.x+1\", \"tidxp\")\n",
    "    #traduc = traduc.replace(\"threadIdx.x-1\", \"tidxm\")\n",
    "    #traduc = traduc.replace(\"threadIdx.y+1\", \"tidyp\")\n",
    "    #traduc = traduc.replace(\"threadIdx.y-1\", \"tidym\")\n",
    "    #traduc = traduc.replace(\"threadIdx.z+1\", \"tidzp\")\n",
    "    #traduc = traduc.replace(\"threadIdx.z-1\", \"tidzm\")    \n",
    "\n",
    "\n",
    "    return traduc"
   ]
  },
  {
   "cell_type": "code",
   "execution_count": 56,
   "metadata": {},
   "outputs": [
    {
     "name": "stdout",
     "output_type": "stream",
     "text": [
      "15\n",
      "15\n"
     ]
    }
   ],
   "source": [
    "def nops(expr):\n",
    "    count = 0\n",
    "    string = ccode(expr._sympy_())\n",
    "    count += string.count(\"*\")\n",
    "    count += string.count(\"^\")\n",
    "    count += string.count(\"-\")\n",
    "    count += string.count(\"+\")\n",
    "    count += string.count(\"/\")\n",
    "    return count\n",
    "\n",
    "print(nops(fa))\n",
    "print(nops(ff))"
   ]
  },
  {
   "cell_type": "code",
   "execution_count": 57,
   "metadata": {},
   "outputs": [
    {
     "data": {
      "text/plain": [
       "'a[I((tp1),(phi+1),(theta),(r))] == (pow(dr, 2)*pow(dt, 2)*(a[I((t),(phi+1),(theta-1),(r))] - 2*a[I((t),(phi+1),(theta),(r))] + a[I((t),(phi+1),(theta+1),(r))]) + pow(dtheta, 2)*(a[I((t),(phi+1),(theta),(r))]*pow(dr, 2) + pow(dt, 2)*(a[I((t),(phi+1),(theta),(r-1))] - 2*a[I((t),(phi+1),(theta),(r))] + a[I((t),(phi+1),(theta),(r+1))])))/(pow(dr, 2)*pow(dtheta, 2))'"
      ]
     },
     "execution_count": 57,
     "metadata": {},
     "output_type": "execute_result"
    }
   ],
   "source": [
    "expr_a = getExpressionInC(ra._sympy_())\n",
    "expr_fa = getExpressionInC(fa._sympy_())\n",
    "expr_fa[:]"
   ]
  },
  {
   "cell_type": "code",
   "execution_count": 58,
   "metadata": {},
   "outputs": [
    {
     "data": {
      "text/plain": [
       "'F[I((tp1),(phi+1),(theta),(r))] == (pow(dr, 2)*pow(dt, 2)*(F[I((t),(phi+1),(theta-1),(r))] - 2*F[I((t),(phi+1),(theta),(r))] + F[I((t),(phi+1),(theta+1),(r))]) + pow(dtheta, 2)*(F[I((t),(phi+1),(theta),(r))]*pow(dr, 2) + pow(dt, 2)*(F[I((t),(phi+1),(theta),(r-1))] - 2*F[I((t),(phi+1),(theta),(r))] + F[I((t),(phi+1),(theta),(r+1))])))/(pow(dr, 2)*pow(dtheta, 2))'"
      ]
     },
     "execution_count": 58,
     "metadata": {},
     "output_type": "execute_result"
    }
   ],
   "source": [
    "expr_f = getExpressionInC(rf._sympy_())\n",
    "expr_ff = getExpressionInC(ff._sympy_())\n",
    "expr_ff"
   ]
  },
  {
   "cell_type": "code",
   "execution_count": 59,
   "metadata": {},
   "outputs": [
    {
     "data": {
      "text/plain": [
       "'((t),(phi+1),(theta-1),(r))] - 2*G[I((t),(phi+1),(theta),(r))] + G[I((t),(phi+1),(theta+1),(r))]) + pow(dtheta, 2)*(G[I((t),(phi+1),(theta),(r))]*pow(dr, 2) + pow(dt, 2)*(G[I((t),(phi+1),(theta),(r-1))] - 2*G[I((t),(phi+1),(theta),(r))] + G[I((t),(phi+1),(theta),(r+1))])))/(pow(dr, 2)*pow(dtheta, 2))'"
      ]
     },
     "execution_count": 59,
     "metadata": {},
     "output_type": "execute_result"
    }
   ],
   "source": [
    "expr_g = getExpressionInC(rg._sympy_())\n",
    "expr_fg = getExpressionInC(fg._sympy_())\n",
    "expr_fg[62:]"
   ]
  },
  {
   "cell_type": "code",
   "execution_count": 60,
   "metadata": {},
   "outputs": [],
   "source": [
    "def writeDefinitionGPU(filename, template, expr, arr):\n",
    "    import os.path\n",
    "    data = \"\"\n",
    "    #check if header already exist\n",
    "    if os.path.isfile(filename+\".cu\"):\n",
    "        #in that case, just append new declaration\n",
    "        fin = open(filename+\".cu\", \"rt\")\n",
    "        data = fin.read()\n",
    "        fin.close()\n",
    "    else:\n",
    "        data = \"//### THIS IS A GENERATED FILE - DO NOT MODIFY ### \\n \\\n",
    "#include \\\"\"+filename.split('/')[-1]+\".cuh\\\"\\n \\\n",
    "#include \\\"SharedMem.cuh\\\"\\n\"\n",
    "    string = ''\n",
    "    if arr == 'a':\n",
    "        string = '0'\n",
    "    elif arr == 'F':\n",
    "        string = '1'\n",
    "    else:\n",
    "        string = '2'\n",
    "    data = data + '\\n' + template + \"\"\"{\n",
    "    int r = blockIdx.x*blockDim.x + threadIdx.x;\n",
    "    int theta = blockIdx.y*blockDim.y + threadIdx.y;\n",
    "    int phi = blockIdx.z*blockDim.z + threadIdx.z;\n",
    "    int global_phi = phi + phi_offset;\n",
    "    \n",
    "    extern __shared__ REAL shmem[];\n",
    "    if (r<M && theta<N && phi<O){\n",
    "        fillSharedMemory(shmem, a, F, G, M, N, O, global_phi, r, theta, phi);\n",
    "    }\n",
    "    __syncthreads();\n",
    "    if (r<M && theta<N && phi<O){\n",
    "        int tidxp = threadIdx.x+1;\n",
    "        int tidxm = threadIdx.x-1;\n",
    "        \n",
    "        int tidyp = threadIdx.y+1;\n",
    "        int tidym = threadIdx.y-1;        \n",
    "        \n",
    "        int tidzp = threadIdx.z+1;\n",
    "        int tidzm = threadIdx.z-1;\n",
    "        \n",
    "        \"\"\" + \"\\n\\\n",
    "        \"+str(arr)+\"[I(tp1, phi, theta, r)] = \" + expr + \";\\n\\\n",
    "    }\\n\\\n",
    "}\"\n",
    "    \n",
    "    fin = open(filename+\".cu\", \"wt\")\n",
    "    fin.write(data)\n",
    "    fin.close()\n",
    "    \n",
    "def writeDefinitionCPU(filename, template, expr, arr):\n",
    "    import os.path\n",
    "    data = \"\"\n",
    "    #check if header already exist\n",
    "    if os.path.isfile(filename+\".cpp\"):\n",
    "        #in that case, just append new declaration\n",
    "        fin = open(filename+\".cpp\", \"rt\")\n",
    "        data = fin.read()\n",
    "        fin.close()\n",
    "    else:\n",
    "        data = \"//### THIS IS A GENERATED FILE - DO NOT MODIFY ### \\n \\\n",
    "#include <iostream>\\n \\\n",
    "#include <unistd.h>\\n \\\n",
    "#include <vector>\\n \\\n",
    "#include <string>\\n \\\n",
    "#include <fstream>\\n \\\n",
    "#include <cmath>\\n \\\n",
    "#include \\\"defines.h\\\"\\n \\\n",
    "#include \\\"\"+filename.split('/')[-1]+\".h\\\"\\n\"\n",
    "    string = ''\n",
    "    if arr == 'a':\n",
    "        string = '0'\n",
    "    elif arr == 'F':\n",
    "        string = '1'\n",
    "    else:\n",
    "        string = '2'\n",
    "    data = data + '\\n' + template + \"\"\"{\n",
    "    return \"\"\" + expr + \";\\n\\\n",
    "}\"\n",
    "    \n",
    "    fin = open(filename+\".cpp\", \"wt\")\n",
    "    fin.write(data)\n",
    "    fin.close()\n",
    "\n",
    "def writeDeclarationGPU(filename, template):\n",
    "    import os.path\n",
    "    data = \"\"\n",
    "    #check if header already exist\n",
    "    if os.path.isfile(filename+\".cuh\"):\n",
    "        #in that case, just append new declaration\n",
    "        fin = open(filename+\".cuh\", \"rt\")\n",
    "        data = fin.read()\n",
    "        fin.close()\n",
    "    else:\n",
    "        data = \"//### THIS IS A GENERATED FILE - DO NOT MODIFY ### \\n \\\n",
    "#pragma once\\n \\\n",
    "#include <iostream>\\n \\\n",
    "#include <unistd.h>\\n \\\n",
    "#include <vector>\\n \\\n",
    "#include <string>\\n \\\n",
    "#include <fstream>\\n \\\n",
    "#include <cmath>\\n \\\n",
    "#include \\\"defines.h\\\"\\n \\\n",
    "using namespace std;\\n\"\n",
    "    \n",
    "    data = data + '\\n' + template + \";\"\n",
    "    \n",
    "    fin = open(filename+\".cuh\", \"wt\")\n",
    "    fin.write(data)\n",
    "    fin.close()\n",
    "\n",
    "def writeDeclarationCPU(filename, template):\n",
    "    import os.path\n",
    "    data = \"\"\n",
    "    #check if header already exist\n",
    "    if os.path.isfile(filename+\".h\"):\n",
    "        #in that case, just append new declaration\n",
    "        fin = open(filename+\".h\", \"rt\")\n",
    "        data = fin.read()\n",
    "        fin.close()\n",
    "    else:\n",
    "        data = \"//### THIS IS A GENERATED FILE - DO NOT MODIFY ### \\n \\\n",
    "#pragma once\\n \\\n",
    "#include <iostream>\\n \\\n",
    "#include <unistd.h>\\n \\\n",
    "#include <vector>\\n \\\n",
    "#include <string>\\n \\\n",
    "#include <fstream>\\n \\\n",
    "#include <cmath>\\n \\\n",
    "#include \\\"defines.h\\\"\\n \\\n",
    "using namespace std;\\n\"\n",
    "    \n",
    "    data = data + '\\n' + template + \";\"\n",
    "    \n",
    "    fin = open(filename+\".h\", \"wt\")\n",
    "    fin.write(data)\n",
    "    fin.close()\n",
    "\n",
    "def cleanOldFilesGPU(file):\n",
    "    import os\n",
    "    try:\n",
    "        os.remove(file + \".cu\")    \n",
    "        os.remove(file + \".cuh\")\n",
    "    except:\n",
    "        return \"Already gone.\"\n",
    "    \n",
    "def cleanOldFilesCPU(file):\n",
    "    import os\n",
    "    try:\n",
    "        os.remove(file + \".cpp\")    \n",
    "        os.remove(file + \".h\")\n",
    "    except:\n",
    "        return \"Already gone.\"\n",
    "    \n",
    "def writePairs(filename, funcname, expr, device='cpu'):\n",
    "    if device == 'cpu':\n",
    "        writeDeclarationCPU(filename, \"REAL \"+funcname+\"(REAL *a, REAL *F, REAL *G, size_t t, size_t tm1, size_t tm2, size_t r, size_t theta, size_t phi, size_t M, size_t N, size_t O, REAL dt, REAL dr, REAL dtheta, REAL dphi, REAL l_1, REAL l_2, REAL lamb, int p, int q, int L)\")\n",
    "        writeDefinitionCPU( filename, \"REAL \"+funcname+\"(REAL *a, REAL *F, REAL *G, size_t t, size_t tm1, size_t tm2, size_t r, size_t theta, size_t phi, size_t M, size_t N, size_t O, REAL dt, REAL dr, REAL dtheta, REAL dphi, REAL l_1, REAL l_2, REAL lamb, int p, int q, int L)\", expr, funcname[-1])\n",
    "    else:\n",
    "        writeDeclarationGPU(filename, \"__global__ void \"+funcname+\"(REAL *a, REAL *F, REAL *G, size_t l, size_t tp1, size_t t, size_t tm1, size_t tm2, size_t M, size_t N, size_t O, size_t phi_offset, REAL dt, REAL dr, REAL dtheta, REAL dphi, REAL l_1, REAL l_2, REAL lamb, int p, int q, int L)\")\n",
    "        writeDefinitionGPU( filename, \"__global__ void \"+funcname+\"(REAL *a, REAL *F, REAL *G, size_t l, size_t tp1, size_t t, size_t tm1, size_t tm2, size_t M, size_t N, size_t O, size_t phi_offset, REAL dt, REAL dr, REAL dtheta, REAL dphi, REAL l_1, REAL l_2, REAL lamb, int p, int q, int L)\", expr, funcname[-1])\n",
    "\n",
    "\n",
    "def findClosingPar(expr):\n",
    "    let = 1\n",
    "    i = 1\n",
    "    #print(expr)\n",
    "    while let > 0 and i<len(expr):\n",
    "        if expr[i] == '(':\n",
    "            let += 1\n",
    "        elif expr[i] == ')':\n",
    "            let -= 1\n",
    "        i+=1\n",
    "    return i-1\n",
    "\n",
    "def replaceAllPow(expr):\n",
    "    indexes = [m.start() for m in re.finditer('pow', expr)]\n",
    "    for i in indexes[::-1]:\n",
    "        open = i+4\n",
    "        close = findClosingPar(expr[open:])+open\n",
    "        exponent = expr[open:close].split(',')[-1]\n",
    "        \n",
    "        commas = [m.start() for m in re.finditer(',', expr[open:close])]\n",
    "        #print(expr[open:close])\n",
    "        argument = expr[open:open+commas[-1]]\n",
    "        \n",
    "        rep = ''\n",
    "        for j in range(int(exponent)):\n",
    "            rep += argument+'*'\n",
    "        rep = rep[:-1]\n",
    "        expr = expr[:i] +'(' + rep + ')'+ expr[close+1:]\n",
    "    return expr  \n",
    "        #print(expr)\n",
    "        #return\n",
    "        #print(rep)"
   ]
  },
  {
   "cell_type": "code",
   "execution_count": 61,
   "metadata": {},
   "outputs": [],
   "source": [
    "expr_fanp = replaceAllPow(expr_fa)\n",
    "expr_ffnp = replaceAllPow(expr_ff)\n",
    "expr_fgnp = replaceAllPow(expr_fg)"
   ]
  },
  {
   "cell_type": "code",
   "execution_count": 63,
   "metadata": {},
   "outputs": [],
   "source": [
    "\n",
    "writePairs(\"../cpu/src/EquationAlfa\", \"computeFirsta\", expr_fanp[34:], 'cpu')\n",
    "\n",
    "#writePairs(\"../gpu/src/EquationF\", \"computeNextF\", expr_fnp[63:])\n",
    "writePairs(\"../cpu/src/EquationF\", \"computeFirstF\", expr_ffnp[34:], 'cpu')\n",
    "\n",
    "#writePairs(\"../gpu/src/EquationG\", \"computeNextG\", expr_gnp[63:])\n",
    "writePairs(\"../cpu/src/EquationG\", \"computeFirstG\", expr_fgnp[34:], 'cpu')\n",
    "\n",
    "\n"
   ]
  },
  {
   "cell_type": "code",
   "execution_count": null,
   "metadata": {},
   "outputs": [],
   "source": []
  }
 ],
 "metadata": {
  "kernelspec": {
   "display_name": "Python 3",
   "language": "python",
   "name": "python3"
  },
  "language_info": {
   "codemirror_mode": {
    "name": "ipython",
    "version": 3
   },
   "file_extension": ".py",
   "mimetype": "text/x-python",
   "name": "python",
   "nbconvert_exporter": "python",
   "pygments_lexer": "ipython3",
   "version": "3.8.10"
  }
 },
 "nbformat": 4,
 "nbformat_minor": 4
}
