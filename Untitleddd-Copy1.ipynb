{
 "cells": [
  {
   "cell_type": "code",
   "execution_count": 25,
   "metadata": {
    "scrolled": true
   },
   "outputs": [],
   "source": [
    "from sympy import *\n",
    "import numpy as np\n",
    "\n",
    "## Definiendo simbolos\n",
    "t, r, theta, phi = symbols('t, r, \\\\theta, \\\\varphi')\n",
    "dt, dr, dtheta, dphi = symbols('dt dr dtheta dphi')\n",
    "l0, l1, l2, l3 = symbols(\"l_0 l_1 l_2 l_3\")\n",
    "l = symbols(\"L\")\n",
    "\n",
    "ndmat = np.array([[[[[symbols(\"a\") for _x in range(3)] for _y in range(3)] for _z in range(3)] for _w in range(3)] for _i in range(3)])\n",
    "\n",
    "n1 = Function(\"\\\\nabla_\\\\mu\")\n",
    "n2 = Function(\"\\\\nabla^\\\\mu\")\n",
    "\n",
    "n3 = Function(\"\\\\nabla_\\\\nu\")\n",
    "n4 = Function(\"\\\\nabla^\\\\nu\")\n",
    "box = Function(\"\\\\Box\")\n",
    "\n",
    "alfa = Function(\"a\")(t, r, theta, phi)\n",
    "F = Function(\"F\")(t, r, theta, phi)\n",
    "G = Function(\"G\")(t, r, theta, phi)\n",
    "\n",
    "def getFuncName(i):\n",
    "    if i==0:\n",
    "        return alfa.name\n",
    "    if i==1:\n",
    "        return F.name\n",
    "    if i==2:\n",
    "        return G.name\n",
    "\n",
    "for _f in range(3):\n",
    "    for _t in range(3):\n",
    "        for _r in range(3):\n",
    "            for _theta in range(3):\n",
    "                for _phi in range(3):\n",
    "                    ndmat[_f][_t][_r][_theta][_phi] = symbols(getFuncName(_f)+str(_t)+str(_r)+str(_theta)+str(_phi))\n",
    "\n"
   ]
  },
  {
   "cell_type": "code",
   "execution_count": 26,
   "metadata": {},
   "outputs": [],
   "source": [
    "                    \n",
    "def DELDEL(f, g):\n",
    "    canon = -f.diff(t)*g.diff(t) + l1*f.diff(r)*g.diff(r) + l1*f.diff(theta)*g.diff(theta) + l2*f.diff(phi)*g.diff(phi)\n",
    "    return canon\n",
    "\n",
    "def BOX(f):\n",
    "    canon = -f.diff(t, 2) + l1*f.diff(r, 2) + l1*f.diff(theta, 2) + l2*f.diff(phi, 2)\n",
    "    return canon\n",
    "\n",
    "def DELf(f, g):\n",
    "    canon = -(f*g.diff(t)).diff(t) + l1*(f*g.diff(r)).diff(r)+ l1*(f*g.diff(theta)).diff(theta) + l2*(f*g.diff(phi)).diff(phi)\n",
    "    return canon\n",
    "\n",
    "\n",
    "\n",
    "#test1 = (-box(alfa) + sin(alfa)*cos(alfa)*(n1(F)*n2(F) + sin(F)*sin(F)*n1(G)*n2(G)));\n",
    "with evaluate(False):\n",
    "    #test1 = (n1(alfa)*n2(F))**2\n",
    "    #test1 = sin(alfa)*cos(alfa)*sin(F)**2*((n1(alfa)*n2(alfa))*(n3(F)*n4(F)) - (n1(alfa)*n2(F))**2 )\n",
    "#     test1 = (box(alfa)+sin(alfa)*cos(alfa)*(n1(F)*n2(F) + sin(F)**2*(n1(G)*n2(G)))) + l*(\n",
    "#         sin(alfa)*cos(alfa)*((n1(alfa)*n2(alfa))*(n3(F)*n4(F)) - (n1(alfa)*n2(F))**2) +\n",
    "#         sin(alfa)*cos(alfa)*sin(F)**2*((n1(alfa)*n2(alfa))*(n3(G)*n4(G)) - (n1(alfa)*n2(G))**2) + \n",
    "#         2*sin(alfa)**3*cos(alfa)*sin(F)**2*((n1(F)*n2(F))*(n3(G)*n4(G)) - (n1(F)*n2(G))**2) -\n",
    "#         n1(sin(alfa)**2*(n3(F)*n4(F))*n2(alfa))+n1(sin(alfa)**2*(n3(alfa)*n4(F))*n2(F)) -\n",
    "#         n1(sin(alfa)**2*sin(F)**2*(n3(G)*n4(G))*n2(alfa))+n1(sin(alfa)**2*sin(F)**2*(n3(alfa)*n4(G))*n2(G)) )\n",
    "\n",
    "    test1 = (box(alfa)+sin(alfa)*cos(alfa)*(n1(F)*n2(F) + sin(F)**2*(n1(G)*n2(G)))) + l*(\n",
    "         sin(alfa)*cos(alfa)*((n1(alfa)*n2(alfa))*(n3(F)*n4(F)) - (n1(alfa)*n2(F))**2) +\n",
    "         sin(alfa)*cos(alfa)*sin(F)**2*((n1(alfa)*n2(alfa))*(n3(G)*n4(G)) - (n1(alfa)*n2(G))**2) + \n",
    "         2*sin(alfa)**3*cos(alfa)*sin(F)**2*((n1(F)*n2(F))*(n3(G)*n4(G)) - (n1(F)*n2(G))**2) -\n",
    "         n1(sin(alfa)**2*(n3(F)*n4(F))*n2(alfa))+n1(sin(alfa)**2*(n3(alfa)*n4(F))*n2(F)) -\n",
    "         n1(sin(alfa)**2*sin(F)**2*(n3(G)*n4(G))*n2(alfa))+n1(sin(alfa)**2*sin(F)**2*(n3(alfa)*n4(G))*n2(G)) )\n",
    "\n",
    "    #                     \n",
    "test2 = n1(sin(F)*G*n2(F))\n",
    "test3 = F*alfa\n",
    "#test2 = test2.expand()\n",
    "#display(test2)\n",
    "\n",
    "#display(test1)\n"
   ]
  },
  {
   "cell_type": "code",
   "execution_count": 28,
   "metadata": {},
   "outputs": [],
   "source": [
    "p, q, s, b = map(Wild, 'pqsb')"
   ]
  },
  {
   "cell_type": "code",
   "execution_count": 29,
   "metadata": {
    "scrolled": false
   },
   "outputs": [],
   "source": [
    "res = test2.replace(n1(p)*n2(q)*s, lambda p, q, s : DELDEL(p, q)*s)\n",
    "res = res.replace(n3(p)*n4(q)*s, lambda p, q, s : DELDEL(p, q)*s)\n",
    "res2 = res.replace(n1(p*n2(q)), lambda p, q : DELf(p, q))\n",
    "res2 = res2.replace(n3(p*n4(q)), lambda p, q : DELf(p, q))\n",
    "res3 = res2.replace(box(p)*s, lambda p, s : BOX(p)*s)"
   ]
  },
  {
   "cell_type": "code",
   "execution_count": 30,
   "metadata": {
    "scrolled": true
   },
   "outputs": [
    {
     "data": {
      "text/plain": [
       "{F0111,\n",
       " F1011,\n",
       " F1101,\n",
       " F1110,\n",
       " F1111,\n",
       " F1112,\n",
       " F1121,\n",
       " F1211,\n",
       " F2111,\n",
       " G0111,\n",
       " G1011,\n",
       " G1101,\n",
       " G1110,\n",
       " G1111,\n",
       " G1112,\n",
       " G1121,\n",
       " G1211,\n",
       " G2111,\n",
       " dphi,\n",
       " dr,\n",
       " dt,\n",
       " dtheta,\n",
       " l_1,\n",
       " l_2}"
      ]
     },
     "metadata": {},
     "output_type": "display_data"
    }
   ],
   "source": [
    "\n",
    "def getDelta(i):\n",
    "    if i == t:\n",
    "        return dt\n",
    "    if r == i:\n",
    "        return dr\n",
    "    if theta == i:\n",
    "        return dtheta\n",
    "    if phi == i:\n",
    "        return dphi\n",
    "\n",
    "def getIndex(i):\n",
    "    if t == i:\n",
    "        return 0\n",
    "    if r == i:\n",
    "        return 1\n",
    "    if theta == i:\n",
    "        return 2\n",
    "    if phi == i:\n",
    "        return 3\n",
    "\n",
    "def getFuncIndex(f):\n",
    "    if f==F:\n",
    "        return 1\n",
    "    if f==G:\n",
    "        return 2\n",
    "    if f==alfa:\n",
    "        return 0\n",
    "    \n",
    "def isThis(s, ix):\n",
    "    if ix != None and s in ix.keys():\n",
    "        return ix[s]\n",
    "    else: \n",
    "        return 0\n",
    "    \n",
    "def getDiscreteSymbol(ndmat, f, ix=None):\n",
    "    canon = ndmat[getFuncIndex(f)][1+isThis(t, ix)][1+isThis(r, ix)][1+isThis(theta, ix)][1+isThis(phi, ix)]\n",
    "    return canon\n",
    "    \n",
    "def FOD(f, i):\n",
    "    canon = (getDiscreteSymbol(ndmat, f, ix={i:1}) - getDiscreteSymbol(ndmat, f, ix={i:-1}))/(2*getDelta(i))\n",
    "\n",
    "    return canon\n",
    "\n",
    "def SOD(f, i, j):\n",
    "    if i==j:\n",
    "        canon = (getDiscreteSymbol(ndmat, f, ix={i:1}) - 2*getDiscreteSymbol(ndmat, f) + getDiscreteSymbol(ndmat, f, ix={i:-1}))/(getDelta(i)**2)\n",
    "    else:\n",
    "        canon = (getDiscreteSymbol(ndmat, f, ix={i:1, j:1}) + getDiscreteSymbol(ndmat, f, ix={i:-1, j:-1}) - getDiscreteSymbol(ndmat, f, ix={i:1, j:-1}) - getDiscreteSymbol(ndmat, f, ix={i:-1, j:1}) )/(4*getDelta(i)*getDelta(j))\n",
    "    return canon\n",
    "\n",
    "def discreti(arg):\n",
    "    if len(arg.variables) == 1:\n",
    "        return FOD(arg.expr, arg.variables[0])\n",
    "    elif len(arg.variables) == 2:\n",
    "        return SOD(arg.expr, arg.variables[0], arg.variables[1])\n",
    "    else:\n",
    "        return None\n",
    "#res4 = res3.replace(Derivative(p, q)*s, lambda p, q, s : FOD(p, q)*s)\n",
    "#res5 = res4.replace(Derivative(Derivative(p, q), q)*s, lambda p, q, s : SOD(p, q, q)*s)\n",
    "#res6 = res5.replace(Derivative(Derivative(p, q), b)*s, lambda p, q, s, b : SOD(p, q, b)*s)\n",
    "res6 = res3.replace(lambda arg: arg.is_Derivative, lambda arg: discreti(arg))\n",
    "\n",
    "res7 = res6.replace(F, getDiscreteSymbol(ndmat, F))\n",
    "res7 = res7.replace(G, getDiscreteSymbol(ndmat, G))\n",
    "res7 = res7.replace(alfa, getDiscreteSymbol(ndmat, alfa))\n",
    "\n",
    "display(res7.free_symbols)\n",
    "#display(res7)"
   ]
  },
  {
   "cell_type": "code",
   "execution_count": 31,
   "metadata": {},
   "outputs": [],
   "source": [
    "expr = ccode(res7)"
   ]
  },
  {
   "cell_type": "code",
   "execution_count": 32,
   "metadata": {},
   "outputs": [
    {
     "data": {
      "text/plain": [
       "'F0111 l_2 F1211 F1112 F1101 l_1 G1101 G2111 dtheta G1211 F1111 F1011 G1110 G1112 dr F1110 dphi dt G0111 G1111 G1011 F2111 F1121 G1121'"
      ]
     },
     "metadata": {},
     "output_type": "display_data"
    }
   ],
   "source": [
    "symm = \"\"\n",
    "for _y in res7.free_symbols:\n",
    "    symm += str(_y)+\" \"\n",
    "#symm = symm + str(_y) for _y in res7.free_symbols\n",
    "display(symm[:-1])\n"
   ]
  },
  {
   "cell_type": "code",
   "execution_count": 34,
   "metadata": {},
   "outputs": [],
   "source": [
    "import sage as sg\n",
    "from sage.all import *\n",
    "\n",
    "st = symm[:-1]\n",
    "var(st)\n",
    "wat = eval(expr)\n",
    "\n",
    "res = sg.symbolic.relation.solve(wat, F2111)"
   ]
  },
  {
   "cell_type": "code",
   "execution_count": 42,
   "metadata": {},
   "outputs": [
    {
     "data": {
      "text/latex": [
       "$\\displaystyle F_{2111} = \\frac{dphi dr dtheta \\left(G_{0111} \\sin{\\left(F_{1111} \\right)} + 2 G_{1111} \\left(F_{0111} \\cos{\\left(F_{1111} \\right)} - 2 \\sin{\\left(F_{1111} \\right)}\\right) - G_{2111} \\sin{\\left(F_{1111} \\right)}\\right) + \\sqrt{dphi^{2} dr^{2} dtheta^{2} \\left(G_{0111}^{2} \\sin^{2}{\\left(F_{1111} \\right)} - 8 G_{0111} G_{1111} \\sin^{2}{\\left(F_{1111} \\right)} - 16 G_{1111}^{2} \\left(2 \\left(F_{0111} - F_{1111}\\right) \\sin{\\left(F_{1111} \\right)} \\cos{\\left(F_{1111} \\right)} - \\sin^{2}{\\left(F_{1111} \\right)}\\right) + G_{2111}^{2} \\sin^{2}{\\left(F_{1111} \\right)} - 2 G_{2111} \\left(G_{0111} \\sin^{2}{\\left(F_{1111} \\right)} - 4 G_{1111} \\sin^{2}{\\left(F_{1111} \\right)}\\right)\\right) + 4 dr^{2} dt^{2} dtheta^{2} l_{2} \\left(G_{1110} G_{1111} \\left(F_{1110} \\sin{\\left(F_{1111} \\right)} \\cos{\\left(F_{1111} \\right)} - F_{1112} \\sin{\\left(F_{1111} \\right)} \\cos{\\left(F_{1111} \\right)}\\right) + G_{1111}^{2} \\left(F_{1110}^{2} \\cos^{2}{\\left(F_{1111} \\right)} + F_{1112}^{2} \\cos^{2}{\\left(F_{1111} \\right)} - 2 F_{1112} \\left(F_{1110} \\cos^{2}{\\left(F_{1111} \\right)} - 2 \\sin{\\left(F_{1111} \\right)} \\cos{\\left(F_{1111} \\right)}\\right) + 4 \\left(F_{1110} - 2 F_{1111}\\right) \\sin{\\left(F_{1111} \\right)} \\cos{\\left(F_{1111} \\right)}\\right) - G_{1111} G_{1112} \\left(F_{1110} \\sin{\\left(F_{1111} \\right)} \\cos{\\left(F_{1111} \\right)} - F_{1112} \\sin{\\left(F_{1111} \\right)} \\cos{\\left(F_{1111} \\right)}\\right)\\right) + 4 l_{1} \\left(dphi^{2} dr^{2} dt^{2} \\left(G_{1101} G_{1111} \\left(F_{1101} \\sin{\\left(F_{1111} \\right)} \\cos{\\left(F_{1111} \\right)} - F_{1121} \\sin{\\left(F_{1111} \\right)} \\cos{\\left(F_{1111} \\right)}\\right) + G_{1111}^{2} \\left(F_{1101}^{2} \\cos^{2}{\\left(F_{1111} \\right)} + F_{1121}^{2} \\cos^{2}{\\left(F_{1111} \\right)} - 2 F_{1121} \\left(F_{1101} \\cos^{2}{\\left(F_{1111} \\right)} - 2 \\sin{\\left(F_{1111} \\right)} \\cos{\\left(F_{1111} \\right)}\\right) + 4 \\left(F_{1101} - 2 F_{1111}\\right) \\sin{\\left(F_{1111} \\right)} \\cos{\\left(F_{1111} \\right)}\\right) - G_{1111} G_{1121} \\left(F_{1101} \\sin{\\left(F_{1111} \\right)} \\cos{\\left(F_{1111} \\right)} - F_{1121} \\sin{\\left(F_{1111} \\right)} \\cos{\\left(F_{1111} \\right)}\\right)\\right) + dphi^{2} dt^{2} dtheta^{2} \\left(G_{1011} G_{1111} \\left(F_{1011} \\sin{\\left(F_{1111} \\right)} \\cos{\\left(F_{1111} \\right)} - F_{1211} \\sin{\\left(F_{1111} \\right)} \\cos{\\left(F_{1111} \\right)}\\right) + G_{1111}^{2} \\left(F_{1011}^{2} \\cos^{2}{\\left(F_{1111} \\right)} + F_{1211}^{2} \\cos^{2}{\\left(F_{1111} \\right)} - 2 F_{1211} \\left(F_{1011} \\cos^{2}{\\left(F_{1111} \\right)} - 2 \\sin{\\left(F_{1111} \\right)} \\cos{\\left(F_{1111} \\right)}\\right) + 4 \\left(F_{1011} - 2 F_{1111}\\right) \\sin{\\left(F_{1111} \\right)} \\cos{\\left(F_{1111} \\right)}\\right) - G_{1111} G_{1211} \\left(F_{1011} \\sin{\\left(F_{1111} \\right)} \\cos{\\left(F_{1111} \\right)} - F_{1211} \\sin{\\left(F_{1111} \\right)} \\cos{\\left(F_{1111} \\right)}\\right)\\right)\\right)}}{2 G_{1111} dphi dr dtheta \\cos{\\left(F_{1111} \\right)}}$"
      ],
      "text/plain": [
       "Eq(F2111, (dphi*dr*dtheta*(G0111*sin(F1111) + 2*G1111*(F0111*cos(F1111) - 2*sin(F1111)) - G2111*sin(F1111)) + sqrt(dphi**2*dr**2*dtheta**2*(G0111**2*sin(F1111)**2 - 8*G0111*G1111*sin(F1111)**2 - 16*G1111**2*(2*(F0111 - F1111)*sin(F1111)*cos(F1111) - sin(F1111)**2) + G2111**2*sin(F1111)**2 - 2*G2111*(G0111*sin(F1111)**2 - 4*G1111*sin(F1111)**2)) + 4*dr**2*dt**2*dtheta**2*l_2*(G1110*G1111*(F1110*sin(F1111)*cos(F1111) - F1112*sin(F1111)*cos(F1111)) + G1111**2*(F1110**2*cos(F1111)**2 + F1112**2*cos(F1111)**2 - 2*F1112*(F1110*cos(F1111)**2 - 2*sin(F1111)*cos(F1111)) + 4*(F1110 - 2*F1111)*sin(F1111)*cos(F1111)) - G1111*G1112*(F1110*sin(F1111)*cos(F1111) - F1112*sin(F1111)*cos(F1111))) + 4*l_1*(dphi**2*dr**2*dt**2*(G1101*G1111*(F1101*sin(F1111)*cos(F1111) - F1121*sin(F1111)*cos(F1111)) + G1111**2*(F1101**2*cos(F1111)**2 + F1121**2*cos(F1111)**2 - 2*F1121*(F1101*cos(F1111)**2 - 2*sin(F1111)*cos(F1111)) + 4*(F1101 - 2*F1111)*sin(F1111)*cos(F1111)) - G1111*G1121*(F1101*sin(F1111)*cos(F1111) - F1121*sin(F1111)*cos(F1111))) + dphi**2*dt**2*dtheta**2*(G1011*G1111*(F1011*sin(F1111)*cos(F1111) - F1211*sin(F1111)*cos(F1111)) + G1111**2*(F1011**2*cos(F1111)**2 + F1211**2*cos(F1111)**2 - 2*F1211*(F1011*cos(F1111)**2 - 2*sin(F1111)*cos(F1111)) + 4*(F1011 - 2*F1111)*sin(F1111)*cos(F1111)) - G1111*G1211*(F1011*sin(F1111)*cos(F1111) - F1211*sin(F1111)*cos(F1111))))))/(2*G1111*dphi*dr*dtheta*cos(F1111)))"
      ]
     },
     "execution_count": 42,
     "metadata": {},
     "output_type": "execute_result"
    }
   ],
   "source": [
    "ress = res[1]\n",
    "resss = ress._sympy_()\n",
    "resss"
   ]
  },
  {
   "cell_type": "code",
   "execution_count": 69,
   "metadata": {},
   "outputs": [
    {
     "data": {
      "text/plain": [
       "'F[t+1][r][theta][phi] = (1.0/2.0)*(dphi*dr*dtheta*(G[t-1][r][theta][phi]*sin(F[t][r][theta][phi]) + 2*G[t][r][theta][phi]*(F[t-1][r][theta][phi]*cos(F[t][r][theta][phi]) - 2*sin(F[t][r][theta][phi])) - G[t+1][r][theta][phi]*sin(F[t][r][theta][phi])) + sqrt(pow(dphi, 2)*pow(dr, 2)*pow(dtheta, 2)*(pow(G[t-1][r][theta][phi], 2)*pow(sin(F[t][r][theta][phi]), 2) - 8*G[t-1][r][theta][phi]*G[t][r][theta][phi]*pow(sin(F[t][r][theta][phi]), 2) - 16*pow(G[t][r][theta][phi], 2)*(2*(F[t-1][r][theta][phi] - F[t][r][theta][phi])*sin(F[t][r][theta][phi])*cos(F[t][r][theta][phi]) - pow(sin(F[t][r][theta][phi]), 2)) + pow(G[t+1][r][theta][phi], 2)*pow(sin(F[t][r][theta][phi]), 2) - 2*G[t+1][r][theta][phi]*(G[t-1][r][theta][phi]*pow(sin(F[t][r][theta][phi]), 2) - 4*G[t][r][theta][phi]*pow(sin(F[t][r][theta][phi]), 2))) + 4*pow(dr, 2)*pow(dt, 2)*pow(dtheta, 2)*l_2*(G[t][r][theta][phi-1]*G[t][r][theta][phi]*(F[t][r][theta][phi-1]*sin(F[t][r][theta][phi])*cos(F[t][r][theta][phi]) - F[t][r][theta][phi+1]*sin(F[t][r][theta][phi])*cos(F[t][r][theta][phi])) + pow(G[t][r][theta][phi], 2)*(pow(F[t][r][theta][phi-1], 2)*pow(cos(F[t][r][theta][phi]), 2) + pow(F[t][r][theta][phi+1], 2)*pow(cos(F[t][r][theta][phi]), 2) - 2*F[t][r][theta][phi+1]*(F[t][r][theta][phi-1]*pow(cos(F[t][r][theta][phi]), 2) - 2*sin(F[t][r][theta][phi])*cos(F[t][r][theta][phi])) + 4*(F[t][r][theta][phi-1] - 2*F[t][r][theta][phi])*sin(F[t][r][theta][phi])*cos(F[t][r][theta][phi])) - G[t][r][theta][phi]*G[t][r][theta][phi+1]*(F[t][r][theta][phi-1]*sin(F[t][r][theta][phi])*cos(F[t][r][theta][phi]) - F[t][r][theta][phi+1]*sin(F[t][r][theta][phi])*cos(F[t][r][theta][phi]))) + 4*l_1*(pow(dphi, 2)*pow(dr, 2)*pow(dt, 2)*(G[t][r][theta-1][phi]*G[t][r][theta][phi]*(F[t][r][theta-1][phi]*sin(F[t][r][theta][phi])*cos(F[t][r][theta][phi]) - F[t][r][theta+1][phi]*sin(F[t][r][theta][phi])*cos(F[t][r][theta][phi])) + pow(G[t][r][theta][phi], 2)*(pow(F[t][r][theta-1][phi], 2)*pow(cos(F[t][r][theta][phi]), 2) + pow(F[t][r][theta+1][phi], 2)*pow(cos(F[t][r][theta][phi]), 2) - 2*F[t][r][theta+1][phi]*(F[t][r][theta-1][phi]*pow(cos(F[t][r][theta][phi]), 2) - 2*sin(F[t][r][theta][phi])*cos(F[t][r][theta][phi])) + 4*(F[t][r][theta-1][phi] - 2*F[t][r][theta][phi])*sin(F[t][r][theta][phi])*cos(F[t][r][theta][phi])) - G[t][r][theta][phi]*G[t][r][theta+1][phi]*(F[t][r][theta-1][phi]*sin(F[t][r][theta][phi])*cos(F[t][r][theta][phi]) - F[t][r][theta+1][phi]*sin(F[t][r][theta][phi])*cos(F[t][r][theta][phi]))) + pow(dphi, 2)*pow(dt, 2)*pow(dtheta, 2)*(G[t][r-1][theta][phi]*G[t][r][theta][phi]*(F[t][r-1][theta][phi]*sin(F[t][r][theta][phi])*cos(F[t][r][theta][phi]) - F[t][r+1][theta][phi]*sin(F[t][r][theta][phi])*cos(F[t][r][theta][phi])) + pow(G[t][r][theta][phi], 2)*(pow(F[t][r-1][theta][phi], 2)*pow(cos(F[t][r][theta][phi]), 2) + pow(F[t][r+1][theta][phi], 2)*pow(cos(F[t][r][theta][phi]), 2) - 2*F[t][r+1][theta][phi]*(F[t][r-1][theta][phi]*pow(cos(F[t][r][theta][phi]), 2) - 2*sin(F[t][r][theta][phi])*cos(F[t][r][theta][phi])) + 4*(F[t][r-1][theta][phi] - 2*F[t][r][theta][phi])*sin(F[t][r][theta][phi])*cos(F[t][r][theta][phi])) - G[t][r][theta][phi]*G[t][r+1][theta][phi]*(F[t][r-1][theta][phi]*sin(F[t][r][theta][phi])*cos(F[t][r][theta][phi]) - F[t][r+1][theta][phi]*sin(F[t][r][theta][phi])*cos(F[t][r][theta][phi]))))))/(G[t][r][theta][phi]*dphi*dr*dtheta*cos(F[t][r][theta][phi]))'"
      ]
     },
     "execution_count": 69,
     "metadata": {},
     "output_type": "execute_result"
    }
   ],
   "source": [
    "import re\n",
    "traduc = ccode(resss).replace(\"==\", \"=\")\n",
    "indexes = [m.start() for m in re.finditer(r'\\d\\d\\d\\d', traudc)]\n",
    "\n",
    "def i2i(arg, index):\n",
    "    if index == \"0\":\n",
    "        return \"[\"+arg+\"-1]\"\n",
    "    if index == \"1\":\n",
    "        return \"[\"+arg+\"]\"\n",
    "    if index == \"2\":\n",
    "        return \"[\"+arg+\"+1]\"\n",
    "    \n",
    "def getCArray(ids):\n",
    "    res = \"\"\n",
    "    args = [\"t\", \"r\", \"theta\", \"phi\"]\n",
    "    for i, c in enumerate(ids):\n",
    "        res += i2i(args[i], c)\n",
    "    return res\n",
    "for i in reversed(indexes):\n",
    "    traduc = traduc[:i]+ getCArray(traduc[i:i+4]) + traduc[i+4:]\n",
    "traduc"
   ]
  }
 ],
 "metadata": {
  "kernelspec": {
   "display_name": "Python 3",
   "language": "python",
   "name": "python3"
  },
  "language_info": {
   "codemirror_mode": {
    "name": "ipython",
    "version": 3
   },
   "file_extension": ".py",
   "mimetype": "text/x-python",
   "name": "python",
   "nbconvert_exporter": "python",
   "pygments_lexer": "ipython3",
   "version": "3.8.6"
  }
 },
 "nbformat": 4,
 "nbformat_minor": 4
}
