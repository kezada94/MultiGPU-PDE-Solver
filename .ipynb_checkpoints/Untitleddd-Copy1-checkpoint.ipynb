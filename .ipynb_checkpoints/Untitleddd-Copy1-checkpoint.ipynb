{
 "cells": [
  {
   "cell_type": "code",
   "execution_count": 1,
   "metadata": {
    "scrolled": true
   },
   "outputs": [],
   "source": [
    "from sympy import *\n",
    "\n",
    "    \n",
    "\n",
    "t, r, theta, phi = symbols('t, r, \\\\theta, \\\\varphi')\n",
    "dt, dr, dtheta, dphi = symbols('\\\\Delta{t} \\\\Delta{r} \\\\Delta\\\\theta \\\\Delta\\\\varphi')\n",
    "l0, l1, l2, l3 = symbols(\"l_0 l_1 l_2 l_3\")\n",
    "l = symbols(\"\\\\lambda\")\n",
    "\n",
    "def DELDEL(f, g):\n",
    "    canon = -f.diff(t)*g.diff(t) + l1*f.diff(r)*g.diff(r) + l1*f.diff(theta)*g.diff(theta) + l2*f.diff(phi)*g.diff(phi)\n",
    "    return canon\n",
    "\n",
    "def BOX(f):\n",
    "    canon = -f.diff(t, 2) + l1*f.diff(r, 2) + l1*f.diff(theta, 2) + l2*f.diff(phi, 2)\n",
    "    return canon\n",
    "\n",
    "def DELf(f, g):\n",
    "    canon = -(f*g.diff(t)).diff(t) + l1*(f*g.diff(r)).diff(r)+ l1*(f*g.diff(theta)).diff(theta) + l2*(f*g.diff(phi)).diff(phi)\n",
    "    return canon\n",
    "\n",
    "n1 = Function(\"\\\\nabla_\\mu\")\n",
    "n2 = Function(\"\\\\nabla^\\mu\")\n",
    "\n",
    "n3 = Function(\"\\\\nabla_\\nu\")\n",
    "n4 = Function(\"\\\\nabla^\\nu\")\n",
    "box = Function(\"\\Box\")\n",
    "\n",
    "alfa = Function(\"\\\\alpha\")(t, r, theta, phi)\n",
    "F = Function(\"F\")(t, r, theta, phi)\n",
    "G = Function(\"G\")(t, r, theta, phi)\n",
    "\n",
    "#test1 = (-box(alfa) + sin(alfa)*cos(alfa)*(n1(F)*n2(F) + sin(F)*sin(F)*n1(G)*n2(G)));\n",
    "with evaluate(False):\n",
    "    #test1 = (n1(alfa)*n2(F))**2\n",
    "    #test1 = sin(alfa)*cos(alfa)*sin(F)**2*((n1(alfa)*n2(alfa))*(n3(F)*n4(F)) - (n1(alfa)*n2(F))**2 )\n",
    "#     test1 = (box(alfa)+sin(alfa)*cos(alfa)*(n1(F)*n2(F) + sin(F)**2*(n1(G)*n2(G)))) + l*(\n",
    "#         sin(alfa)*cos(alfa)*((n1(alfa)*n2(alfa))*(n3(F)*n4(F)) - (n1(alfa)*n2(F))**2) +\n",
    "#         sin(alfa)*cos(alfa)*sin(F)**2*((n1(alfa)*n2(alfa))*(n3(G)*n4(G)) - (n1(alfa)*n2(G))**2) + \n",
    "#         2*sin(alfa)**3*cos(alfa)*sin(F)**2*((n1(F)*n2(F))*(n3(G)*n4(G)) - (n1(F)*n2(G))**2) -\n",
    "#         n1(sin(alfa)**2*(n3(F)*n4(F))*n2(alfa))+n1(sin(alfa)**2*(n3(alfa)*n4(F))*n2(F)) -\n",
    "#         n1(sin(alfa)**2*sin(F)**2*(n3(G)*n4(G))*n2(alfa))+n1(sin(alfa)**2*sin(F)**2*(n3(alfa)*n4(G))*n2(G)) )\n",
    "\n",
    "    test1 = (box(alfa)+sin(alfa)*cos(alfa)*(n1(F)*n2(F) + sin(F)**2*(n1(G)*n2(G)))) + l*(\n",
    "         sin(alfa)*cos(alfa)*((n1(alfa)*n2(alfa))*(n3(F)*n4(F)) - (n1(alfa)*n2(F))**2) +\n",
    "         sin(alfa)*cos(alfa)*sin(F)**2*((n1(alfa)*n2(alfa))*(n3(G)*n4(G)) - (n1(alfa)*n2(G))**2) + \n",
    "         2*sin(alfa)**3*cos(alfa)*sin(F)**2*((n1(F)*n2(F))*(n3(G)*n4(G)) - (n1(F)*n2(G))**2) -\n",
    "         n1(sin(alfa)**2*(n3(F)*n4(F))*n2(alfa))+n1(sin(alfa)**2*(n3(alfa)*n4(F))*n2(F)) -\n",
    "         n1(sin(alfa)**2*sin(F)**2*(n3(G)*n4(G))*n2(alfa))+n1(sin(alfa)**2*sin(F)**2*(n3(alfa)*n4(G))*n2(G)) )\n",
    "\n",
    "    #                     \n",
    "test2 = n1(sin(F)*G*n2(F))\n",
    "test3 = F*alfa\n",
    "#test2 = test2.expand()\n",
    "#display(test2)\n",
    "\n",
    "#display(test1)\n"
   ]
  },
  {
   "cell_type": "code",
   "execution_count": 2,
   "metadata": {},
   "outputs": [],
   "source": [
    "#fg = test3.diff(r).replace(lambda arg: arg.is_Derivative, lambda arg: arg.as_finite_difference(dr))\n",
    "#display(fg)\n",
    "#fh = test3.diff(r).replace(Derivative(p, q)*s, lambda p, q, s : FOD(p, q)*s)\n",
    "#fh"
   ]
  },
  {
   "cell_type": "code",
   "execution_count": 3,
   "metadata": {},
   "outputs": [],
   "source": [
    "#kk = Derivative(Derivative(alfa, r), t)\n",
    "#kk.\n",
    "#kj = kk.as_finite_difference(dr)\n",
    "#display(kj)\n",
    "#solveset(kj, final)"
   ]
  },
  {
   "cell_type": "code",
   "execution_count": 4,
   "metadata": {},
   "outputs": [],
   "source": [
    "p, q, s, b = map(Wild, 'pqsb')\n",
    "#res2 = test2.replace(n1(p*n2(q)), lambda p, q : DELf(p, q))\n",
    "#res2 = test2.replace(n1(p*n2(q)), G)\n",
    "#def hacer(arg):\n",
    "#    print(len(arg.variables))\n",
    "#res100 = res2.replace(lambda arg: arg.is_Derivative, lambda arg: hacer(arg))#arg.as_finite_difference(dr))\n",
    "#display(test2.find(n1(p*n2(q))))\n",
    "#final = Function(\"F\")(t, r+dr/2, theta, phi)\n",
    "#final"
   ]
  },
  {
   "cell_type": "code",
   "execution_count": 5,
   "metadata": {
    "scrolled": false
   },
   "outputs": [],
   "source": [
    "\n",
    "res = test1.replace(n1(p)*n2(q)*s, lambda p, q, s : DELDEL(p, q)*s)\n",
    "#display(res)\n",
    "res = res.replace(n3(p)*n4(q)*s, lambda p, q, s : DELDEL(p, q)*s)\n",
    "\n",
    "#display(res)\n",
    "\n",
    "#print(\"welta\")\n",
    "\n",
    "res2 = res.replace(n1(p*n2(q)), lambda p, q : DELf(p, q))\n",
    "res2 = res2.replace(n3(p*n4(q)), lambda p, q : DELf(p, q))\n",
    "\n",
    "#display(res2)\n",
    "\n",
    "res3 = res2.replace(box(p)*s, lambda p, s : BOX(p)*s)\n",
    "\n",
    "#display(res3)"
   ]
  },
  {
   "cell_type": "code",
   "execution_count": 26,
   "metadata": {},
   "outputs": [
    {
     "data": {
      "image/png": "[encoded data removed]",
      "text/latex": [
       "$\\displaystyle \\alpha^{n-1}_{i+1j+1k}$"
      ],
      "text/plain": [
       "\\alpha_{i+1j+1k}__{n-1}"
      ]
     },
     "execution_count": 26,
     "metadata": {},
     "output_type": "execute_result"
    }
   ],
   "source": [
    "import numpy as np\n",
    "ndmat = np.array([[[[[symbols(\"a\") for _x in range(3)] for _y in range(3)] for _z in range(3)] for _w in range(3)] for _i in range(3)])\n",
    "\n",
    "def getFuncName(i):\n",
    "    if i==0:\n",
    "        return \"\\\\alpha\"\n",
    "    if i==1:\n",
    "        return \"F\"\n",
    "    if i==2:\n",
    "        return \"G\"\n",
    "    \n",
    "def i2d(i):\n",
    "    if i==0:\n",
    "        return \"-1\"\n",
    "    if i==1:\n",
    "        return \"\"\n",
    "    if i==2:\n",
    "        return \"+1\"\n",
    "\n",
    "for _f in range(3):\n",
    "    for _t in range(3):\n",
    "        for _r in range(3):\n",
    "            for _theta in range(3):\n",
    "                for _phi in range(3):\n",
    "                    ndmat[_f][_t][_r][_theta][_phi] = symbols(getFuncName(_f)+\"^{n\"+i2d(_t)+\"}_{i\"+i2d(_r)+\"j\"+i2d(_theta)+\"k\"+i2d(_phi)+\"}\")\n",
    "\n",
    "ndmat[0][0][2][2][1]"
   ]
  },
  {
   "cell_type": "code",
   "execution_count": 8,
   "metadata": {
    "scrolled": true
   },
   "outputs": [],
   "source": [
    "\n",
    "def getDelta(i):\n",
    "    if i == t:\n",
    "        return dt\n",
    "    if r == i:\n",
    "        return dr\n",
    "    if theta == i:\n",
    "        return dtheta\n",
    "    if phi == i:\n",
    "        return dphi\n",
    "\n",
    "def getIndex(i):\n",
    "    if t == i:\n",
    "        return 0\n",
    "    if r == i:\n",
    "        return 1\n",
    "    if theta == i:\n",
    "        return 2\n",
    "    if phi == i:\n",
    "        return 3\n",
    "\n",
    "def getFuncIndex(f):\n",
    "    if f==F:\n",
    "        return 1\n",
    "    if f==G:\n",
    "        return 2\n",
    "    if f==alfa:\n",
    "        return 0\n",
    "    \n",
    "def isThis(s, ix):\n",
    "    if ix != None and s in ix.keys():\n",
    "        return ix[s]\n",
    "    else: \n",
    "        return 0\n",
    "    \n",
    "def getDiscreteSymbol(ndmat, f, ix=None):\n",
    "    canon = ndmat[getFuncIndex(f)][1+isThis(t, ix)][1+isThis(r, ix)][1+isThis(theta, ix)][1+isThis(phi, ix)]\n",
    "    return canon\n",
    "    \n",
    "def FOD(f, i):\n",
    "    canon = (getDiscreteSymbol(ndmat, f, ix={i:1}) - getDiscreteSymbol(ndmat, f, ix={i:-1}))/(2*getDelta(i))\n",
    "\n",
    "    return canon\n",
    "\n",
    "def SOD(f, i, j):\n",
    "    if i==j:\n",
    "        canon = (getDiscreteSymbol(ndmat, f, ix={i:1}) - 2*getDiscreteSymbol(ndmat, f) + getDiscreteSymbol(ndmat, f, ix={i:-1}))/(getDelta(i)**2)\n",
    "    else:\n",
    "        canon = (getDiscreteSymbol(ndmat, f, ix={i:1, j:1}) + getDiscreteSymbol(ndmat, f, ix={i:-1, j:-1}) - getDiscreteSymbol(ndmat, f, ix={i:1, j:-1}) - getDiscreteSymbol(ndmat, f, ix={i:-1, j:1}) )/(4*getDelta(i)*getDelta(j))\n",
    "    return canon\n",
    "\n",
    "def discreti(arg):\n",
    "    if len(arg.variables) == 1:\n",
    "        return FOD(arg.expr, arg.variables[0])\n",
    "    elif len(arg.variables) == 2:\n",
    "        return SOD(arg.expr, arg.variables[0], arg.variables[1])\n",
    "    else:\n",
    "        return None\n",
    "#res4 = res3.replace(Derivative(p, q)*s, lambda p, q, s : FOD(p, q)*s)\n",
    "#res5 = res4.replace(Derivative(Derivative(p, q), q)*s, lambda p, q, s : SOD(p, q, q)*s)\n",
    "#res6 = res5.replace(Derivative(Derivative(p, q), b)*s, lambda p, q, s, b : SOD(p, q, b)*s)\n",
    "res6 = res3.replace(lambda arg: arg.is_Derivative, lambda arg: discreti(arg))\n",
    "\n",
    "res7 = res6.replace(F, getDiscreteSymbol(ndmat, F))\n",
    "res7 = res7.replace(G, getDiscreteSymbol(ndmat, G))\n",
    "res7 = res7.replace(alfa, getDiscreteSymbol(ndmat, alfa))\n",
    "\n",
    "#display(res7)"
   ]
  },
  {
   "cell_type": "code",
   "execution_count": 27,
   "metadata": {},
   "outputs": [
    {
     "data": {
      "text/plain": [
       "'\\\\lambda*(l_1*((1.0/2.0)*(F^{n}_{ij+1k} - F^{n}_{ij-1k})*(-1.0/8.0*(F^{n+1}_{ijk} - F^{n-1}_{ijk})*(\\\\alpha^{n+1}_{ij+1k} - \\\\alpha^{n+1}_{ij-1k} - \\\\alpha^{n-1}_{ij+1k} + \\\\alpha^{n-1}_{ij-1k})/(\\\\Delta\\\\theta*pow(\\\\Delta{t}, 2)) - 1.0/8.0*(\\\\alpha^{n+1}_{ijk} - \\\\alpha^{n-1}_{ijk})*(F^{n+1}_{ij+1k} - F^{n+1}_{ij-1k} - F^{n-1}_{ij+1k} + F^{n-1}_{ij-1k})/(\\\\Delta\\\\theta*pow(\\\\Delta{t}, 2)) + (1.0/8.0)*l_1*(F^{n}_{i+1jk} - F^{n}_{i-1jk})*(\\\\alpha^{n}_{i+1j+1k} - \\\\alpha^{n}_{i+1j-1k} - \\\\alpha^{n}_{i-1j+1k} + \\\\alpha^{n}_{i-1j-1k})/(\\\\Delta\\\\theta*pow(\\\\Delta{r}, 2)) + (1.0/8.0)*l_1*(\\\\alpha^{n}_{i+1jk} - \\\\alpha^{n}_{i-1jk})*(F^{n}_{i+1j+1k} - F^{n}_{i+1j-1k} - F^{n}_{i-1j+1k} + F^{n}_{i-1j-1k})/(\\\\Delta\\\\theta*pow(\\\\Delta{r}, 2)) + (1.0/8.0)*l_2*(F^{n}_{ijk+1} - F^{n}_{ijk-1})*(\\\\alpha^{n}_{ij+1k+1} - \\\\alpha^{n}_{ij+1k-1} - \\\\alpha^{n}_{ij-1k+1} + \\\\alpha^{n}_{ij-1k-1})/(\\\\Delta\\\\theta*pow(\\\\Delta\\\\varphi, 2)) + (1.0/8.0)*l_2*(\\\\alpha^{n}_{ijk+1} - \\\\alpha^{n}_{ijk-1})*(F^{n}_{ij+1k+1} - F^{n}_{ij+1k-1} - F^{n}_{ij-1k+1} + F^{n}_{ij-1k-1})/(\\\\Delta\\\\theta*pow(\\\\Delta\\\\varphi, 2)) + (1.0/2.0)*l_1*(F^{n}_{ij+1k} - F^{n}_{ij-1k})*(\\\\alpha^{n}_{ij+1k} + \\\\alpha^{n}_{ij-1k} - 2*\\\\alpha^{n}_{ijk})/pow(\\\\Delta\\\\theta, 3) + (1.0/2.0)*l_1*(\\\\alpha^{n}_{ij+1k} - \\\\alpha^{n}_{ij-1k})*(F^{n}_{ij+1k} + F^{n}_{ij-1k} - 2*F^{n}_{ijk})/pow(\\\\Delta\\\\theta, 3))*pow(sin(\\\\alpha^{n}_{ijk}), 2)/\\\\Delta\\\\theta + (1.0/2.0)*(F^{n}_{ij+1k} - F^{n}_{ij-1k})*(\\\\alpha^{n}_{ij+1k} - \\\\alpha^{n}_{ij-1k})*(-1.0/4.0*(F^{n+1}_{ijk} - F^{n-1}_{ijk})*(\\\\alpha^{n+1}_{ijk} - \\\\alpha^{n-1}_{ijk})/pow(\\\\Delta{t}, 2) + (1.0/4.0)*l_1*(F^{n}_{i+1jk} - F^{n}_{i-1jk})*(\\\\alpha^{n}_{i+1jk} - \\\\alpha^{n}_{i-1jk})/pow(\\\\Delta{r}, 2) + (1.0/4.0)*l_2*(F^{n}_{ijk+1} - F^{n}_{ijk-1})*(\\\\alpha^{n}_{ijk+1} - \\\\alpha^{n}_{ijk-1})/pow(\\\\Delta\\\\varphi, 2) + (1.0/4.0)*l_1*(F^{n}_{ij+1k} - F^{n}_{ij-1k})*(\\\\alpha^{n}_{ij+1k} - \\\\alpha^{n}_{ij-1k})/pow(\\\\Delta\\\\theta, 2))*sin(\\\\alpha^{n}_{ijk})*cos(\\\\alpha^{n}_{ijk})/pow(\\\\Delta\\\\theta, 2) + (F^{n}_{ij+1k} + F^{n}_{ij-1k} - 2*F^{n}_{ijk})*(-1.0/4.0*(F^{n+1}_{ijk} - F^{n-1}_{ijk})*(\\\\alpha^{n+1}_{ijk} - \\\\alpha^{n-1}_{ijk})/pow(\\\\Delta{t}, 2) + (1.0/4.0)*l_1*(F^{n}_{i+1jk} - F^{n}_{i-1jk})*(\\\\alpha^{n}_{i+1jk} - \\\\alpha^{n}_{i-1jk})/pow(\\\\Delta{r}, 2) + (1.0/4.0)*l_2*(F^{n}_{ijk+1} - F^{n}_{ijk-1})*(\\\\alpha^{n}_{ijk+1} - \\\\alpha^{n}_{ijk-1})/pow(\\\\Delta\\\\varphi, 2) + (1.0/4.0)*l_1*(F^{n}_{ij+1k} - F^{n}_{ij-1k})*(\\\\alpha^{n}_{ij+1k} - \\\\alpha^{n}_{ij-1k})/pow(\\\\Delta\\\\theta, 2))*pow(sin(\\\\alpha^{n}_{ijk}), 2)/pow(\\\\Delta\\\\theta, 2)) - l_1*((1.0/2.0)*(\\\\alpha^{n}_{ij+1k} - \\\\alpha^{n}_{ij-1k})*(-1.0/4.0*(F^{n+1}_{ijk} - F^{n-1}_{ijk})*(F^{n+1}_{ij+1k} - F^{n+1}_{ij-1k} - F^{n-1}_{ij+1k} + F^{n-1}_{ij-1k})/(\\\\Delta\\\\theta*pow(\\\\Delta{t}, 2)) + (1.0/4.0)*l_1*(F^{n}_{i+1jk} - F^{n}_{i-1jk})*(F^{n}_{i+1j+1k} - F^{n}_{i+1j-1k} - F^{n}_{i-1j+1k} + F^{n}_{i-1j-1k})/(\\\\Delta\\\\theta*pow(\\\\Delta{r}, 2)) + (1.0/4.0)*l_2*(F^{n}_{ijk+1} - F^{n}_{ijk-1})*(F^{n}_{ij+1k+1} - F^{n}_{ij+1k-1} - F^{n}_{ij-1k+1} + F^{n}_{ij-1k-1})/(\\\\Delta\\\\theta*pow(\\\\Delta\\\\varphi, 2)) + l_1*(F^{n}_{ij+1k} - F^{n}_{ij-1k})*(F^{n}_{ij+1k} + F^{n}_{ij-1k} - 2*F^{n}_{ijk})/pow(\\\\Delta\\\\theta, 3))*pow(sin(\\\\alpha^{n}_{ijk}), 2)/\\\\Delta\\\\theta + (1.0/2.0)*pow(\\\\alpha^{n}_{ij+1k} - \\\\alpha^{n}_{ij-1k}, 2)*(-1.0/4.0*pow(F^{n+1}_{ijk} - F^{n-1}_{ijk}, 2)/pow(\\\\Delta{t}, 2) + (1.0/4.0)*l_1*pow(F^{n}_{i+1jk} - F^{n}_{i-1jk}, 2)/pow(\\\\Delta{r}, 2) + (1.0/4.0)*l_2*pow(F^{n}_{ijk+1} - F^{n}_{ijk-1}, 2)/pow(\\\\Delta\\\\varphi, 2) + (1.0/4.0)*l_1*pow(F^{n}_{ij+1k} - F^{n}_{ij-1k}, 2)/pow(\\\\Delta\\\\theta, 2))*sin(\\\\alpha^{n}_{ijk})*cos(\\\\alpha^{n}_{ijk})/pow(\\\\Delta\\\\theta, 2) + (\\\\alpha^{n}_{ij+1k} + \\\\alpha^{n}_{ij-1k} - 2*\\\\alpha^{n}_{ijk})*(-1.0/4.0*pow(F^{n+1}_{ijk} - F^{n-1}_{ijk}, 2)/pow(\\\\Delta{t}, 2) + (1.0/4.0)*l_1*pow(F^{n}_{i+1jk} - F^{n}_{i-1jk}, 2)/pow(\\\\Delta{r}, 2) + (1.0/4.0)*l_2*pow(F^{n}_{ijk+1} - F^{n}_{ijk-1}, 2)/pow(\\\\Delta\\\\varphi, 2) + (1.0/4.0)*l_1*pow(F^{n}_{ij+1k} - F^{n}_{ij-1k}, 2)/pow(\\\\Delta\\\\theta, 2))*pow(sin(\\\\alpha^{n}_{ijk}), 2)/pow(\\\\Delta\\\\theta, 2)) + l_1*((1.0/2.0)*(F^{n}_{i+1jk} - F^{n}_{i-1jk})*(-1.0/8.0*(F^{n+1}_{ijk} - F^{n-1}_{ijk})*(\\\\alpha^{n+1}_{i+1jk} - \\\\alpha^{n+1}_{i-1jk} - \\\\alpha^{n-1}_{i+1jk} + \\\\alpha^{n-1}_{i-1jk})/(\\\\Delta{r}*pow(\\\\Delta{t}, 2)) - 1.0/8.0*(\\\\alpha^{n+1}_{ijk} - \\\\alpha^{n-1}_{ijk})*(F^{n+1}_{i+1jk} - F^{n+1}_{i-1jk} - F^{n-1}_{i+1jk} + F^{n-1}_{i-1jk})/(\\\\Delta{r}*pow(\\\\Delta{t}, 2)) + (1.0/2.0)*l_1*(F^{n}_{i+1jk} - F^{n}_{i-1jk})*(\\\\alpha^{n}_{i+1jk} + \\\\alpha^{n}_{i-1jk} - 2*\\\\alpha^{n}_{ijk})/pow(\\\\Delta{r}, 3) + (1.0/2.0)*l_1*(\\\\alpha^{n}_{i+1jk} - \\\\alpha^{n}_{i-1jk})*(F^{n}_{i+1jk} + F^{n}_{i-1jk} - 2*F^{n}_{ijk})/pow(\\\\Delta{r}, 3) + (1.0/8.0)*l_2*(F^{n}_{ijk+1} - F^{n}_{ijk-1})*(\\\\alpha^{n}_{i+1jk+1} - \\\\alpha^{n}_{i+1jk-1} - \\\\alpha^{n}_{i-1jk+1} + \\\\alpha^{n}_{i-1jk-1})/(pow(\\\\Delta\\\\varphi, 2)*\\\\Delta{r}) + (1.0/8.0)*l_2*(\\\\alpha^{n}_{ijk+1} - \\\\alpha^{n}_{ijk-1})*(F^{n}_{i+1jk+1} - F^{n}_{i+1jk-1} - F^{n}_{i-1jk+1} + F^{n}_{i-1jk-1})/(pow(\\\\Delta\\\\varphi, 2)*\\\\Delta{r}) + (1.0/8.0)*l_1*(F^{n}_{ij+1k} - F^{n}_{ij-1k})*(\\\\alpha^{n}_{i+1j+1k} - \\\\alpha^{n}_{i+1j-1k} - \\\\alpha^{n}_{i-1j+1k} + \\\\alpha^{n}_{i-1j-1k})/(pow(\\\\Delta\\\\theta, 2)*\\\\Delta{r}) + (1.0/8.0)*l_1*(\\\\alpha^{n}_{ij+1k} - \\\\alpha^{n}_{ij-1k})*(F^{n}_{i+1j+1k} - F^{n}_{i+1j-1k} - F^{n}_{i-1j+1k} + F^{n}_{i-1j-1k})/(pow(\\\\Delta\\\\theta, 2)*\\\\Delta{r}))*pow(sin(\\\\alpha^{n}_{ijk}), 2)/\\\\Delta{r} + (1.0/2.0)*(F^{n}_{i+1jk} - F^{n}_{i-1jk})*(\\\\alpha^{n}_{i+1jk} - \\\\alpha^{n}_{i-1jk})*(-1.0/4.0*(F^{n+1}_{ijk} - F^{n-1}_{ijk})*(\\\\alpha^{n+1}_{ijk} - \\\\alpha^{n-1}_{ijk})/pow(\\\\Delta{t}, 2) + (1.0/4.0)*l_1*(F^{n}_{i+1jk} - F^{n}_{i-1jk})*(\\\\alpha^{n}_{i+1jk} - \\\\alpha^{n}_{i-1jk})/pow(\\\\Delta{r}, 2) + (1.0/4.0)*l_2*(F^{n}_{ijk+1} - F^{n}_{ijk-1})*(\\\\alpha^{n}_{ijk+1} - \\\\alpha^{n}_{ijk-1})/pow(\\\\Delta\\\\varphi, 2) + (1.0/4.0)*l_1*(F^{n}_{ij+1k} - F^{n}_{ij-1k})*(\\\\alpha^{n}_{ij+1k} - \\\\alpha^{n}_{ij-1k})/pow(\\\\Delta\\\\theta, 2))*sin(\\\\alpha^{n}_{ijk})*cos(\\\\alpha^{n}_{ijk})/pow(\\\\Delta{r}, 2) + (F^{n}_{i+1jk} + F^{n}_{i-1jk} - 2*F^{n}_{ijk})*(-1.0/4.0*(F^{n+1}_{ijk} - F^{n-1}_{ijk})*(\\\\alpha^{n+1}_{ijk} - \\\\alpha^{n-1}_{ijk})/pow(\\\\Delta{t}, 2) + (1.0/4.0)*l_1*(F^{n}_{i+1jk} - F^{n}_{i-1jk})*(\\\\alpha^{n}_{i+1jk} - \\\\alpha^{n}_{i-1jk})/pow(\\\\Delta{r}, 2) + (1.0/4.0)*l_2*(F^{n}_{ijk+1} - F^{n}_{ijk-1})*(\\\\alpha^{n}_{ijk+1} - \\\\alpha^{n}_{ijk-1})/pow(\\\\Delta\\\\varphi, 2) + (1.0/4.0)*l_1*(F^{n}_{ij+1k} - F^{n}_{ij-1k})*(\\\\alpha^{n}_{ij+1k} - \\\\alpha^{n}_{ij-1k})/pow(\\\\Delta\\\\theta, 2))*pow(sin(\\\\alpha^{n}_{ijk}), 2)/pow(\\\\Delta{r}, 2)) - l_1*((1.0/2.0)*(\\\\alpha^{n}_{i+1jk} - \\\\alpha^{n}_{i-1jk})*(-1.0/4.0*(F^{n+1}_{ijk} - F^{n-1}_{ijk})*(F^{n+1}_{i+1jk} - F^{n+1}_{i-1jk} - F^{n-1}_{i+1jk} + F^{n-1}_{i-1jk})/(\\\\Delta{r}*pow(\\\\Delta{t}, 2)) + l_1*(F^{n}_{i+1jk} - F^{n}_{i-1jk})*(F^{n}_{i+1jk} + F^{n}_{i-1jk} - 2*F^{n}_{ijk})/pow(\\\\Delta{r}, 3) + (1.0/4.0)*l_2*(F^{n}_{ijk+1} - F^{n}_{ijk-1})*(F^{n}_{i+1jk+1} - F^{n}_{i+1jk-1} - F^{n}_{i-1jk+1} + F^{n}_{i-1jk-1})/(pow(\\\\Delta\\\\varphi, 2)*\\\\Delta{r}) + (1.0/4.0)*l_1*(F^{n}_{ij+1k} - F^{n}_{ij-1k})*(F^{n}_{i+1j+1k} - F^{n}_{i+1j-1k} - F^{n}_{i-1j+1k} + F^{n}_{i-1j-1k})/(pow(\\\\Delta\\\\theta, 2)*\\\\Delta{r}))*pow(sin(\\\\alpha^{n}_{ijk}), 2)/\\\\Delta{r} + (1.0/2.0)*pow(\\\\alpha^{n}_{i+1jk} - \\\\alpha^{n}_{i-1jk}, 2)*(-1.0/4.0*pow(F^{n+1}_{ijk} - F^{n-1}_{ijk}, 2)/pow(\\\\Delta{t}, 2) + (1.0/4.0)*l_1*pow(F^{n}_{i+1jk} - F^{n}_{i-1jk}, 2)/pow(\\\\Delta{r}, 2) + (1.0/4.0)*l_2*pow(F^{n}_{ijk+1} - F^{n}_{ijk-1}, 2)/pow(\\\\Delta\\\\varphi, 2) + (1.0/4.0)*l_1*pow(F^{n}_{ij+1k} - F^{n}_{ij-1k}, 2)/pow(\\\\Delta\\\\theta, 2))*sin(\\\\alpha^{n}_{ijk})*cos(\\\\alpha^{n}_{ijk})/pow(\\\\Delta{r}, 2) + (\\\\alpha^{n}_{i+1jk} + \\\\alpha^{n}_{i-1jk} - 2*\\\\alpha^{n}_{ijk})*(-1.0/4.0*pow(F^{n+1}_{ijk} - F^{n-1}_{ijk}, 2)/pow(\\\\Delta{t}, 2) + (1.0/4.0)*l_1*pow(F^{n}_{i+1jk} - F^{n}_{i-1jk}, 2)/pow(\\\\Delta{r}, 2) + (1.0/4.0)*l_2*pow(F^{n}_{ijk+1} - F^{n}_{ijk-1}, 2)/pow(\\\\Delta\\\\varphi, 2) + (1.0/4.0)*l_1*pow(F^{n}_{ij+1k} - F^{n}_{ij-1k}, 2)/pow(\\\\Delta\\\\theta, 2))*pow(sin(\\\\alpha^{n}_{ijk}), 2)/pow(\\\\Delta{r}, 2)) + l_1*((1.0/2.0)*(G^{n}_{ij+1k} - G^{n}_{ij-1k})*(-1.0/8.0*(G^{n+1}_{ijk} - G^{n-1}_{ijk})*(\\\\alpha^{n+1}_{ij+1k} - \\\\alpha^{n+1}_{ij-1k} - \\\\alpha^{n-1}_{ij+1k} + \\\\alpha^{n-1}_{ij-1k})/(\\\\Delta\\\\theta*pow(\\\\Delta{t}, 2)) - 1.0/8.0*(\\\\alpha^{n+1}_{ijk} - \\\\alpha^{n-1}_{ijk})*(G^{n+1}_{ij+1k} - G^{n+1}_{ij-1k} - G^{n-1}_{ij+1k} + G^{n-1}_{ij-1k})/(\\\\Delta\\\\theta*pow(\\\\Delta{t}, 2)) + (1.0/8.0)*l_1*(G^{n}_{i+1jk} - G^{n}_{i-1jk})*(\\\\alpha^{n}_{i+1j+1k} - \\\\alpha^{n}_{i+1j-1k} - \\\\alpha^{n}_{i-1j+1k} + \\\\alpha^{n}_{i-1j-1k})/(\\\\Delta\\\\theta*pow(\\\\Delta{r}, 2)) + (1.0/8.0)*l_1*(\\\\alpha^{n}_{i+1jk} - \\\\alpha^{n}_{i-1jk})*(G^{n}_{i+1j+1k} - G^{n}_{i+1j-1k} - G^{n}_{i-1j+1k} + G^{n}_{i-1j-1k})/(\\\\Delta\\\\theta*pow(\\\\Delta{r}, 2)) + (1.0/8.0)*l_2*(G^{n}_{ijk+1} - G^{n}_{ijk-1})*(\\\\alpha^{n}_{ij+1k+1} - \\\\alpha^{n}_{ij+1k-1} - \\\\alpha^{n}_{ij-1k+1} + \\\\alpha^{n}_{ij-1k-1})/(\\\\Delta\\\\theta*pow(\\\\Delta\\\\varphi, 2)) + (1.0/8.0)*l_2*(\\\\alpha^{n}_{ijk+1} - \\\\alpha^{n}_{ijk-1})*(G^{n}_{ij+1k+1} - G^{n}_{ij+1k-1} - G^{n}_{ij-1k+1} + G^{n}_{ij-1k-1})/(\\\\Delta\\\\theta*pow(\\\\Delta\\\\varphi, 2)) + (1.0/2.0)*l_1*(G^{n}_{ij+1k} - G^{n}_{ij-1k})*(\\\\alpha^{n}_{ij+1k} + \\\\alpha^{n}_{ij-1k} - 2*\\\\alpha^{n}_{ijk})/pow(\\\\Delta\\\\theta, 3) + (1.0/2.0)*l_1*(\\\\alpha^{n}_{ij+1k} - \\\\alpha^{n}_{ij-1k})*(G^{n}_{ij+1k} + G^{n}_{ij-1k} - 2*G^{n}_{ijk})/pow(\\\\Delta\\\\theta, 3))*pow(sin(F^{n}_{ijk}), 2)*pow(sin(\\\\alpha^{n}_{ijk}), 2)/\\\\Delta\\\\theta + (1.0/2.0)*(F^{n}_{ij+1k} - F^{n}_{ij-1k})*(G^{n}_{ij+1k} - G^{n}_{ij-1k})*(-1.0/4.0*(G^{n+1}_{ijk} - G^{n-1}_{ijk})*(\\\\alpha^{n+1}_{ijk} - \\\\alpha^{n-1}_{ijk})/pow(\\\\Delta{t}, 2) + (1.0/4.0)*l_1*(G^{n}_{i+1jk} - G^{n}_{i-1jk})*(\\\\alpha^{n}_{i+1jk} - \\\\alpha^{n}_{i-1jk})/pow(\\\\Delta{r}, 2) + (1.0/4.0)*l_2*(G^{n}_{ijk+1} - G^{n}_{ijk-1})*(\\\\alpha^{n}_{ijk+1} - \\\\alpha^{n}_{ijk-1})/pow(\\\\Delta\\\\varphi, 2) + (1.0/4.0)*l_1*(G^{n}_{ij+1k} - G^{n}_{ij-1k})*(\\\\alpha^{n}_{ij+1k} - \\\\alpha^{n}_{ij-1k})/pow(\\\\Delta\\\\theta, 2))*sin(F^{n}_{ijk})*pow(sin(\\\\alpha^{n}_{ijk}), 2)*cos(F^{n}_{ijk})/pow(\\\\Delta\\\\theta, 2) + (1.0/2.0)*(G^{n}_{ij+1k} - G^{n}_{ij-1k})*(\\\\alpha^{n}_{ij+1k} - \\\\alpha^{n}_{ij-1k})*(-1.0/4.0*(G^{n+1}_{ijk} - G^{n-1}_{ijk})*(\\\\alpha^{n+1}_{ijk} - \\\\alpha^{n-1}_{ijk})/pow(\\\\Delta{t}, 2) + (1.0/4.0)*l_1*(G^{n}_{i+1jk} - G^{n}_{i-1jk})*(\\\\alpha^{n}_{i+1jk} - \\\\alpha^{n}_{i-1jk})/pow(\\\\Delta{r}, 2) + (1.0/4.0)*l_2*(G^{n}_{ijk+1} - G^{n}_{ijk-1})*(\\\\alpha^{n}_{ijk+1} - \\\\alpha^{n}_{ijk-1})/pow(\\\\Delta\\\\varphi, 2) + (1.0/4.0)*l_1*(G^{n}_{ij+1k} - G^{n}_{ij-1k})*(\\\\alpha^{n}_{ij+1k} - \\\\alpha^{n}_{ij-1k})/pow(\\\\Delta\\\\theta, 2))*pow(sin(F^{n}_{ijk}), 2)*sin(\\\\alpha^{n}_{ijk})*cos(\\\\alpha^{n}_{ijk})/pow(\\\\Delta\\\\theta, 2) + (G^{n}_{ij+1k} + G^{n}_{ij-1k} - 2*G^{n}_{ijk})*(-1.0/4.0*(G^{n+1}_{ijk} - G^{n-1}_{ijk})*(\\\\alpha^{n+1}_{ijk} - \\\\alpha^{n-1}_{ijk})/pow(\\\\Delta{t}, 2) + (1.0/4.0)*l_1*(G^{n}_{i+1jk} - G^{n}_{i-1jk})*(\\\\alpha^{n}_{i+1jk} - \\\\alpha^{n}_{i-1jk})/pow(\\\\Delta{r}, 2) + (1.0/4.0)*l_2*(G^{n}_{ijk+1} - G^{n}_{ijk-1})*(\\\\alpha^{n}_{ijk+1} - \\\\alpha^{n}_{ijk-1})/pow(\\\\Delta\\\\varphi, 2) + (1.0/4.0)*l_1*(G^{n}_{ij+1k} - G^{n}_{ij-1k})*(\\\\alpha^{n}_{ij+1k} - \\\\alpha^{n}_{ij-1k})/pow(\\\\Delta\\\\theta, 2))*pow(sin(F^{n}_{ijk}), 2)*pow(sin(\\\\alpha^{n}_{ijk}), 2)/pow(\\\\Delta\\\\theta, 2)) - l_1*((1.0/2.0)*(\\\\alpha^{n}_{ij+1k} - \\\\alpha^{n}_{ij-1k})*(-1.0/4.0*(G^{n+1}_{ijk} - G^{n-1}_{ijk})*(G^{n+1}_{ij+1k} - G^{n+1}_{ij-1k} - G^{n-1}_{ij+1k} + G^{n-1}_{ij-1k})/(\\\\Delta\\\\theta*pow(\\\\Delta{t}, 2)) + (1.0/4.0)*l_1*(G^{n}_{i+1jk} - G^{n}_{i-1jk})*(G^{n}_{i+1j+1k} - G^{n}_{i+1j-1k} - G^{n}_{i-1j+1k} + G^{n}_{i-1j-1k})/(\\\\Delta\\\\theta*pow(\\\\Delta{r}, 2)) + (1.0/4.0)*l_2*(G^{n}_{ijk+1} - G^{n}_{ijk-1})*(G^{n}_{ij+1k+1} - G^{n}_{ij+1k-1} - G^{n}_{ij-1k+1} + G^{n}_{ij-1k-1})/(\\\\Delta\\\\theta*pow(\\\\Delta\\\\varphi, 2)) + l_1*(G^{n}_{ij+1k} - G^{n}_{ij-1k})*(G^{n}_{ij+1k} + G^{n}_{ij-1k} - 2*G^{n}_{ijk})/pow(\\\\Delta\\\\theta, 3))*pow(sin(F^{n}_{ijk}), 2)*pow(sin(\\\\alpha^{n}_{ijk}), 2)/\\\\Delta\\\\theta + (1.0/2.0)*(F^{n}_{ij+1k} - F^{n}_{ij-1k})*(\\\\alpha^{n}_{ij+1k} - \\\\alpha^{n}_{ij-1k})*(-1.0/4.0*pow(G^{n+1}_{ijk} - G^{n-1}_{ijk}, 2)/pow(\\\\Delta{t}, 2) + (1.0/4.0)*l_1*pow(G^{n}_{i+1jk} - G^{n}_{i-1jk}, 2)/pow(\\\\Delta{r}, 2) + (1.0/4.0)*l_2*pow(G^{n}_{ijk+1} - G^{n}_{ijk-1}, 2)/pow(\\\\Delta\\\\varphi, 2) + (1.0/4.0)*l_1*pow(G^{n}_{ij+1k} - G^{n}_{ij-1k}, 2)/pow(\\\\Delta\\\\theta, 2))*sin(F^{n}_{ijk})*pow(sin(\\\\alpha^{n}_{ijk}), 2)*cos(F^{n}_{ijk})/pow(\\\\Delta\\\\theta, 2) + (1.0/2.0)*pow(\\\\alpha^{n}_{ij+1k} - \\\\alpha^{n}_{ij-1k}, 2)*(-1.0/4.0*pow(G^{n+1}_{ijk} - G^{n-1}_{ijk}, 2)/pow(\\\\Delta{t}, 2) + (1.0/4.0)*l_1*pow(G^{n}_{i+1jk} - G^{n}_{i-1jk}, 2)/pow(\\\\Delta{r}, 2) + (1.0/4.0)*l_2*pow(G^{n}_{ijk+1} - G^{n}_{ijk-1}, 2)/pow(\\\\Delta\\\\varphi, 2) + (1.0/4.0)*l_1*pow(G^{n}_{ij+1k} - G^{n}_{ij-1k}, 2)/pow(\\\\Delta\\\\theta, 2))*pow(sin(F^{n}_{ijk}), 2)*sin(\\\\alpha^{n}_{ijk})*cos(\\\\alpha^{n}_{ijk})/pow(\\\\Delta\\\\theta, 2) + (\\\\alpha^{n}_{ij+1k} + \\\\alpha^{n}_{ij-1k} - 2*\\\\alpha^{n}_{ijk})*(-1.0/4.0*pow(G^{n+1}_{ijk} - G^{n-1}_{ijk}, 2)/pow(\\\\Delta{t}, 2) + (1.0/4.0)*l_1*pow(G^{n}_{i+1jk} - G^{n}_{i-1jk}, 2)/pow(\\\\Delta{r}, 2) + (1.0/4.0)*l_2*pow(G^{n}_{ijk+1} - G^{n}_{ijk-1}, 2)/pow(\\\\Delta\\\\varphi, 2) + (1.0/4.0)*l_1*pow(G^{n}_{ij+1k} - G^{n}_{ij-1k}, 2)/pow(\\\\Delta\\\\theta, 2))*pow(sin(F^{n}_{ijk}), 2)*pow(sin(\\\\alpha^{n}_{ijk}), 2)/pow(\\\\Delta\\\\theta, 2)) + l_1*((1.0/2.0)*(G^{n}_{i+1jk} - G^{n}_{i-1jk})*(-1.0/8.0*(G^{n+1}_{ijk} - G^{n-1}_{ijk})*(\\\\alpha^{n+1}_{i+1jk} - \\\\alpha^{n+1}_{i-1jk} - \\\\alpha^{n-1}_{i+1jk} + \\\\alpha^{n-1}_{i-1jk})/(\\\\Delta{r}*pow(\\\\Delta{t}, 2)) - 1.0/8.0*(\\\\alpha^{n+1}_{ijk} - \\\\alpha^{n-1}_{ijk})*(G^{n+1}_{i+1jk} - G^{n+1}_{i-1jk} - G^{n-1}_{i+1jk} + G^{n-1}_{i-1jk})/(\\\\Delta{r}*pow(\\\\Delta{t}, 2)) + (1.0/2.0)*l_1*(G^{n}_{i+1jk} - G^{n}_{i-1jk})*(\\\\alpha^{n}_{i+1jk} + \\\\alpha^{n}_{i-1jk} - 2*\\\\alpha^{n}_{ijk})/pow(\\\\Delta{r}, 3) + (1.0/2.0)*l_1*(\\\\alpha^{n}_{i+1jk} - \\\\alpha^{n}_{i-1jk})*(G^{n}_{i+1jk} + G^{n}_{i-1jk} - 2*G^{n}_{ijk})/pow(\\\\Delta{r}, 3) + (1.0/8.0)*l_2*(G^{n}_{ijk+1} - G^{n}_{ijk-1})*(\\\\alpha^{n}_{i+1jk+1} - \\\\alpha^{n}_{i+1jk-1} - \\\\alpha^{n}_{i-1jk+1} + \\\\alpha^{n}_{i-1jk-1})/(pow(\\\\Delta\\\\varphi, 2)*\\\\Delta{r}) + (1.0/8.0)*l_2*(\\\\alpha^{n}_{ijk+1} - \\\\alpha^{n}_{ijk-1})*(G^{n}_{i+1jk+1} - G^{n}_{i+1jk-1} - G^{n}_{i-1jk+1} + G^{n}_{i-1jk-1})/(pow(\\\\Delta\\\\varphi, 2)*\\\\Delta{r}) + (1.0/8.0)*l_1*(G^{n}_{ij+1k} - G^{n}_{ij-1k})*(\\\\alpha^{n}_{i+1j+1k} - \\\\alpha^{n}_{i+1j-1k} - \\\\alpha^{n}_{i-1j+1k} + \\\\alpha^{n}_{i-1j-1k})/(pow(\\\\Delta\\\\theta, 2)*\\\\Delta{r}) + (1.0/8.0)*l_1*(\\\\alpha^{n}_{ij+1k} - \\\\alpha^{n}_{ij-1k})*(G^{n}_{i+1j+1k} - G^{n}_{i+1j-1k} - G^{n}_{i-1j+1k} + G^{n}_{i-1j-1k})/(pow(\\\\Delta\\\\theta, 2)*\\\\Delta{r}))*pow(sin(F^{n}_{ijk}), 2)*pow(sin(\\\\alpha^{n}_{ijk}), 2)/\\\\Delta{r} + (1.0/2.0)*(F^{n}_{i+1jk} - F^{n}_{i-1jk})*(G^{n}_{i+1jk} - G^{n}_{i-1jk})*(-1.0/4.0*(G^{n+1}_{ijk} - G^{n-1}_{ijk})*(\\\\alpha^{n+1}_{ijk} - \\\\alpha^{n-1}_{ijk})/pow(\\\\Delta{t}, 2) + (1.0/4.0)*l_1*(G^{n}_{i+1jk} - G^{n}_{i-1jk})*(\\\\alpha^{n}_{i+1jk} - \\\\alpha^{n}_{i-1jk})/pow(\\\\Delta{r}, 2) + (1.0/4.0)*l_2*(G^{n}_{ijk+1} - G^{n}_{ijk-1})*(\\\\alpha^{n}_{ijk+1} - \\\\alpha^{n}_{ijk-1})/pow(\\\\Delta\\\\varphi, 2) + (1.0/4.0)*l_1*(G^{n}_{ij+1k} - G^{n}_{ij-1k})*(\\\\alpha^{n}_{ij+1k} - \\\\alpha^{n}_{ij-1k})/pow(\\\\Delta\\\\theta, 2))*sin(F^{n}_{ijk})*pow(sin(\\\\alpha^{n}_{ijk}), 2)*cos(F^{n}_{ijk})/pow(\\\\Delta{r}, 2) + (1.0/2.0)*(G^{n}_{i+1jk} - G^{n}_{i-1jk})*(\\\\alpha^{n}_{i+1jk} - \\\\alpha^{n}_{i-1jk})*(-1.0/4.0*(G^{n+1}_{ijk} - G^{n-1}_{ijk})*(\\\\alpha^{n+1}_{ijk} - \\\\alpha^{n-1}_{ijk})/pow(\\\\Delta{t}, 2) + (1.0/4.0)*l_1*(G^{n}_{i+1jk} - G^{n}_{i-1jk})*(\\\\alpha^{n}_{i+1jk} - \\\\alpha^{n}_{i-1jk})/pow(\\\\Delta{r}, 2) + (1.0/4.0)*l_2*(G^{n}_{ijk+1} - G^{n}_{ijk-1})*(\\\\alpha^{n}_{ijk+1} - \\\\alpha^{n}_{ijk-1})/pow(\\\\Delta\\\\varphi, 2) + (1.0/4.0)*l_1*(G^{n}_{ij+1k} - G^{n}_{ij-1k})*(\\\\alpha^{n}_{ij+1k} - \\\\alpha^{n}_{ij-1k})/pow(\\\\Delta\\\\theta, 2))*pow(sin(F^{n}_{ijk}), 2)*sin(\\\\alpha^{n}_{ijk})*cos(\\\\alpha^{n}_{ijk})/pow(\\\\Delta{r}, 2) + (G^{n}_{i+1jk} + G^{n}_{i-1jk} - 2*G^{n}_{ijk})*(-1.0/4.0*(G^{n+1}_{ijk} - G^{n-1}_{ijk})*(\\\\alpha^{n+1}_{ijk} - \\\\alpha^{n-1}_{ijk})/pow(\\\\Delta{t}, 2) + (1.0/4.0)*l_1*(G^{n}_{i+1jk} - G^{n}_{i-1jk})*(\\\\alpha^{n}_{i+1jk} - \\\\alpha^{n}_{i-1jk})/pow(\\\\Delta{r}, 2) + (1.0/4.0)*l_2*(G^{n}_{ijk+1} - G^{n}_{ijk-1})*(\\\\alpha^{n}_{ijk+1} - \\\\alpha^{n}_{ijk-1})/pow(\\\\Delta\\\\varphi, 2) + (1.0/4.0)*l_1*(G^{n}_{ij+1k} - G^{n}_{ij-1k})*(\\\\alpha^{n}_{ij+1k} - \\\\alpha^{n}_{ij-1k})/pow(\\\\Delta\\\\theta, 2))*pow(sin(F^{n}_{ijk}), 2)*pow(sin(\\\\alpha^{n}_{ijk}), 2)/pow(\\\\Delta{r}, 2)) - l_1*((1.0/2.0)*(\\\\alpha^{n}_{i+1jk} - \\\\alpha^{n}_{i-1jk})*(-1.0/4.0*(G^{n+1}_{ijk} - G^{n-1}_{ijk})*(G^{n+1}_{i+1jk} - G^{n+1}_{i-1jk} - G^{n-1}_{i+1jk} + G^{n-1}_{i-1jk})/(\\\\Delta{r}*pow(\\\\Delta{t}, 2)) + l_1*(G^{n}_{i+1jk} - G^{n}_{i-1jk})*(G^{n}_{i+1jk} + G^{n}_{i-1jk} - 2*G^{n}_{ijk})/pow(\\\\Delta{r}, 3) + (1.0/4.0)*l_2*(G^{n}_{ijk+1} - G^{n}_{ijk-1})*(G^{n}_{i+1jk+1} - G^{n}_{i+1jk-1} - G^{n}_{i-1jk+1} + G^{n}_{i-1jk-1})/(pow(\\\\Delta\\\\varphi, 2)*\\\\Delta{r}) + (1.0/4.0)*l_1*(G^{n}_{ij+1k} - G^{n}_{ij-1k})*(G^{n}_{i+1j+1k} - G^{n}_{i+1j-1k} - G^{n}_{i-1j+1k} + G^{n}_{i-1j-1k})/(pow(\\\\Delta\\\\theta, 2)*\\\\Delta{r}))*pow(sin(F^{n}_{ijk}), 2)*pow(sin(\\\\alpha^{n}_{ijk}), 2)/\\\\Delta{r} + (1.0/2.0)*(F^{n}_{i+1jk} - F^{n}_{i-1jk})*(\\\\alpha^{n}_{i+1jk} - \\\\alpha^{n}_{i-1jk})*(-1.0/4.0*pow(G^{n+1}_{ijk} - G^{n-1}_{ijk}, 2)/pow(\\\\Delta{t}, 2) + (1.0/4.0)*l_1*pow(G^{n}_{i+1jk} - G^{n}_{i-1jk}, 2)/pow(\\\\Delta{r}, 2) + (1.0/4.0)*l_2*pow(G^{n}_{ijk+1} - G^{n}_{ijk-1}, 2)/pow(\\\\Delta\\\\varphi, 2) + (1.0/4.0)*l_1*pow(G^{n}_{ij+1k} - G^{n}_{ij-1k}, 2)/pow(\\\\Delta\\\\theta, 2))*sin(F^{n}_{ijk})*pow(sin(\\\\alpha^{n}_{ijk}), 2)*cos(F^{n}_{ijk})/pow(\\\\Delta{r}, 2) + (1.0/2.0)*pow(\\\\alpha^{n}_{i+1jk} - \\\\alpha^{n}_{i-1jk}, 2)*(-1.0/4.0*pow(G^{n+1}_{ijk} - G^{n-1}_{ijk}, 2)/pow(\\\\Delta{t}, 2) + (1.0/4.0)*l_1*pow(G^{n}_{i+1jk} - G^{n}_{i-1jk}, 2)/pow(\\\\Delta{r}, 2) + (1.0/4.0)*l_2*pow(G^{n}_{ijk+1} - G^{n}_{ijk-1}, 2)/pow(\\\\Delta\\\\varphi, 2) + (1.0/4.0)*l_1*pow(G^{n}_{ij+1k} - G^{n}_{ij-1k}, 2)/pow(\\\\Delta\\\\theta, 2))*pow(sin(F^{n}_{ijk}), 2)*sin(\\\\alpha^{n}_{ijk})*cos(\\\\alpha^{n}_{ijk})/pow(\\\\Delta{r}, 2) + (\\\\alpha^{n}_{i+1jk} + \\\\alpha^{n}_{i-1jk} - 2*\\\\alpha^{n}_{ijk})*(-1.0/4.0*pow(G^{n+1}_{ijk} - G^{n-1}_{ijk}, 2)/pow(\\\\Delta{t}, 2) + (1.0/4.0)*l_1*pow(G^{n}_{i+1jk} - G^{n}_{i-1jk}, 2)/pow(\\\\Delta{r}, 2) + (1.0/4.0)*l_2*pow(G^{n}_{ijk+1} - G^{n}_{ijk-1}, 2)/pow(\\\\Delta\\\\varphi, 2) + (1.0/4.0)*l_1*pow(G^{n}_{ij+1k} - G^{n}_{ij-1k}, 2)/pow(\\\\Delta\\\\theta, 2))*pow(sin(F^{n}_{ijk}), 2)*pow(sin(\\\\alpha^{n}_{ijk}), 2)/pow(\\\\Delta{r}, 2)) + l_2*((1.0/2.0)*(F^{n}_{ijk+1} - F^{n}_{ijk-1})*(-1.0/8.0*(F^{n+1}_{ijk} - F^{n-1}_{ijk})*(\\\\alpha^{n+1}_{ijk+1} - \\\\alpha^{n+1}_{ijk-1} - \\\\alpha^{n-1}_{ijk+1} + \\\\alpha^{n-1}_{ijk-1})/(\\\\Delta\\\\varphi*pow(\\\\Delta{t}, 2)) - 1.0/8.0*(\\\\alpha^{n+1}_{ijk} - \\\\alpha^{n-1}_{ijk})*(F^{n+1}_{ijk+1} - F^{n+1}_{ijk-1} - F^{n-1}_{ijk+1} + F^{n-1}_{ijk-1})/(\\\\Delta\\\\varphi*pow(\\\\Delta{t}, 2)) + (1.0/8.0)*l_1*(F^{n}_{i+1jk} - F^{n}_{i-1jk})*(\\\\alpha^{n}_{i+1jk+1} - \\\\alpha^{n}_{i+1jk-1} - \\\\alpha^{n}_{i-1jk+1} + \\\\alpha^{n}_{i-1jk-1})/(\\\\Delta\\\\varphi*pow(\\\\Delta{r}, 2)) + (1.0/8.0)*l_1*(\\\\alpha^{n}_{i+1jk} - \\\\alpha^{n}_{i-1jk})*(F^{n}_{i+1jk+1} - F^{n}_{i+1jk-1} - F^{n}_{i-1jk+1} + F^{n}_{i-1jk-1})/(\\\\Delta\\\\varphi*pow(\\\\Delta{r}, 2)) + (1.0/2.0)*l_2*(F^{n}_{ijk+1} - F^{n}_{ijk-1})*(\\\\alpha^{n}_{ijk+1} + \\\\alpha^{n}_{ijk-1} - 2*\\\\alpha^{n}_{ijk})/pow(\\\\Delta\\\\varphi, 3) + (1.0/2.0)*l_2*(\\\\alpha^{n}_{ijk+1} - \\\\alpha^{n}_{ijk-1})*(F^{n}_{ijk+1} + F^{n}_{ijk-1} - 2*F^{n}_{ijk})/pow(\\\\Delta\\\\varphi, 3) + (1.0/8.0)*l_1*(F^{n}_{ij+1k} - F^{n}_{ij-1k})*(\\\\alpha^{n}_{ij+1k+1} - \\\\alpha^{n}_{ij+1k-1} - \\\\alpha^{n}_{ij-1k+1} + \\\\alpha^{n}_{ij-1k-1})/(pow(\\\\Delta\\\\theta, 2)*\\\\Delta\\\\varphi) + (1.0/8.0)*l_1*(\\\\alpha^{n}_{ij+1k} - \\\\alpha^{n}_{ij-1k})*(F^{n}_{ij+1k+1} - F^{n}_{ij+1k-1} - F^{n}_{ij-1k+1} + F^{n}_{ij-1k-1})/(pow(\\\\Delta\\\\theta, 2)*\\\\Delta\\\\varphi))*pow(sin(\\\\alpha^{n}_{ijk}), 2)/\\\\Delta\\\\varphi + (1.0/2.0)*(F^{n}_{ijk+1} - F^{n}_{ijk-1})*(\\\\alpha^{n}_{ijk+1} - \\\\alpha^{n}_{ijk-1})*(-1.0/4.0*(F^{n+1}_{ijk} - F^{n-1}_{ijk})*(\\\\alpha^{n+1}_{ijk} - \\\\alpha^{n-1}_{ijk})/pow(\\\\Delta{t}, 2) + (1.0/4.0)*l_1*(F^{n}_{i+1jk} - F^{n}_{i-1jk})*(\\\\alpha^{n}_{i+1jk} - \\\\alpha^{n}_{i-1jk})/pow(\\\\Delta{r}, 2) + (1.0/4.0)*l_2*(F^{n}_{ijk+1} - F^{n}_{ijk-1})*(\\\\alpha^{n}_{ijk+1} - \\\\alpha^{n}_{ijk-1})/pow(\\\\Delta\\\\varphi, 2) + (1.0/4.0)*l_1*(F^{n}_{ij+1k} - F^{n}_{ij-1k})*(\\\\alpha^{n}_{ij+1k} - \\\\alpha^{n}_{ij-1k})/pow(\\\\Delta\\\\theta, 2))*sin(\\\\alpha^{n}_{ijk})*cos(\\\\alpha^{n}_{ijk})/pow(\\\\Delta\\\\varphi, 2) + (F^{n}_{ijk+1} + F^{n}_{ijk-1} - 2*F^{n}_{ijk})*(-1.0/4.0*(F^{n+1}_{ijk} - F^{n-1}_{ijk})*(\\\\alpha^{n+1}_{ijk} - \\\\alpha^{n-1}_{ijk})/pow(\\\\Delta{t}, 2) + (1.0/4.0)*l_1*(F^{n}_{i+1jk} - F^{n}_{i-1jk})*(\\\\alpha^{n}_{i+1jk} - \\\\alpha^{n}_{i-1jk})/pow(\\\\Delta{r}, 2) + (1.0/4.0)*l_2*(F^{n}_{ijk+1} - F^{n}_{ijk-1})*(\\\\alpha^{n}_{ijk+1} - \\\\alpha^{n}_{ijk-1})/pow(\\\\Delta\\\\varphi, 2) + (1.0/4.0)*l_1*(F^{n}_{ij+1k} - F^{n}_{ij-1k})*(\\\\alpha^{n}_{ij+1k} - \\\\alpha^{n}_{ij-1k})/pow(\\\\Delta\\\\theta, 2))*pow(sin(\\\\alpha^{n}_{ijk}), 2)/pow(\\\\Delta\\\\varphi, 2)) - l_2*((1.0/2.0)*(\\\\alpha^{n}_{ijk+1} - \\\\alpha^{n}_{ijk-1})*(-1.0/4.0*(F^{n+1}_{ijk} - F^{n-1}_{ijk})*(F^{n+1}_{ijk+1} - F^{n+1}_{ijk-1} - F^{n-1}_{ijk+1} + F^{n-1}_{ijk-1})/(\\\\Delta\\\\varphi*pow(\\\\Delta{t}, 2)) + (1.0/4.0)*l_1*(F^{n}_{i+1jk} - F^{n}_{i-1jk})*(F^{n}_{i+1jk+1} - F^{n}_{i+1jk-1} - F^{n}_{i-1jk+1} + F^{n}_{i-1jk-1})/(\\\\Delta\\\\varphi*pow(\\\\Delta{r}, 2)) + l_2*(F^{n}_{ijk+1} - F^{n}_{ijk-1})*(F^{n}_{ijk+1} + F^{n}_{ijk-1} - 2*F^{n}_{ijk})/pow(\\\\Delta\\\\varphi, 3) + (1.0/4.0)*l_1*(F^{n}_{ij+1k} - F^{n}_{ij-1k})*(F^{n}_{ij+1k+1} - F^{n}_{ij+1k-1} - F^{n}_{ij-1k+1} + F^{n}_{ij-1k-1})/(pow(\\\\Delta\\\\theta, 2)*\\\\Delta\\\\varphi))*pow(sin(\\\\alpha^{n}_{ijk}), 2)/\\\\Delta\\\\varphi + (1.0/2.0)*pow(\\\\alpha^{n}_{ijk+1} - \\\\alpha^{n}_{ijk-1}, 2)*(-1.0/4.0*pow(F^{n+1}_{ijk} - F^{n-1}_{ijk}, 2)/pow(\\\\Delta{t}, 2) + (1.0/4.0)*l_1*pow(F^{n}_{i+1jk} - F^{n}_{i-1jk}, 2)/pow(\\\\Delta{r}, 2) + (1.0/4.0)*l_2*pow(F^{n}_{ijk+1} - F^{n}_{ijk-1}, 2)/pow(\\\\Delta\\\\varphi, 2) + (1.0/4.0)*l_1*pow(F^{n}_{ij+1k} - F^{n}_{ij-1k}, 2)/pow(\\\\Delta\\\\theta, 2))*sin(\\\\alpha^{n}_{ijk})*cos(\\\\alpha^{n}_{ijk})/pow(\\\\Delta\\\\varphi, 2) + (\\\\alpha^{n}_{ijk+1} + \\\\alpha^{n}_{ijk-1} - 2*\\\\alpha^{n}_{ijk})*(-1.0/4.0*pow(F^{n+1}_{ijk} - F^{n-1}_{ijk}, 2)/pow(\\\\Delta{t}, 2) + (1.0/4.0)*l_1*pow(F^{n}_{i+1jk} - F^{n}_{i-1jk}, 2)/pow(\\\\Delta{r}, 2) + (1.0/4.0)*l_2*pow(F^{n}_{ijk+1} - F^{n}_{ijk-1}, 2)/pow(\\\\Delta\\\\varphi, 2) + (1.0/4.0)*l_1*pow(F^{n}_{ij+1k} - F^{n}_{ij-1k}, 2)/pow(\\\\Delta\\\\theta, 2))*pow(sin(\\\\alpha^{n}_{ijk}), 2)/pow(\\\\Delta\\\\varphi, 2)) + l_2*((1.0/2.0)*(G^{n}_{ijk+1} - G^{n}_{ijk-1})*(-1.0/8.0*(G^{n+1}_{ijk} - G^{n-1}_{ijk})*(\\\\alpha^{n+1}_{ijk+1} - \\\\alpha^{n+1}_{ijk-1} - \\\\alpha^{n-1}_{ijk+1} + \\\\alpha^{n-1}_{ijk-1})/(\\\\Delta\\\\varphi*pow(\\\\Delta{t}, 2)) - 1.0/8.0*(\\\\alpha^{n+1}_{ijk} - \\\\alpha^{n-1}_{ijk})*(G^{n+1}_{ijk+1} - G^{n+1}_{ijk-1} - G^{n-1}_{ijk+1} + G^{n-1}_{ijk-1})/(\\\\Delta\\\\varphi*pow(\\\\Delta{t}, 2)) + (1.0/8.0)*l_1*(G^{n}_{i+1jk} - G^{n}_{i-1jk})*(\\\\alpha^{n}_{i+1jk+1} - \\\\alpha^{n}_{i+1jk-1} - \\\\alpha^{n}_{i-1jk+1} + \\\\alpha^{n}_{i-1jk-1})/(\\\\Delta\\\\varphi*pow(\\\\Delta{r}, 2)) + (1.0/8.0)*l_1*(\\\\alpha^{n}_{i+1jk} - \\\\alpha^{n}_{i-1jk})*(G^{n}_{i+1jk+1} - G^{n}_{i+1jk-1} - G^{n}_{i-1jk+1} + G^{n}_{i-1jk-1})/(\\\\Delta\\\\varphi*pow(\\\\Delta{r}, 2)) + (1.0/2.0)*l_2*(G^{n}_{ijk+1} - G^{n}_{ijk-1})*(\\\\alpha^{n}_{ijk+1} + \\\\alpha^{n}_{ijk-1} - 2*\\\\alpha^{n}_{ijk})/pow(\\\\Delta\\\\varphi, 3) + (1.0/2.0)*l_2*(\\\\alpha^{n}_{ijk+1} - \\\\alpha^{n}_{ijk-1})*(G^{n}_{ijk+1} + G^{n}_{ijk-1} - 2*G^{n}_{ijk})/pow(\\\\Delta\\\\varphi, 3) + (1.0/8.0)*l_1*(G^{n}_{ij+1k} - G^{n}_{ij-1k})*(\\\\alpha^{n}_{ij+1k+1} - \\\\alpha^{n}_{ij+1k-1} - \\\\alpha^{n}_{ij-1k+1} + \\\\alpha^{n}_{ij-1k-1})/(pow(\\\\Delta\\\\theta, 2)*\\\\Delta\\\\varphi) + (1.0/8.0)*l_1*(\\\\alpha^{n}_{ij+1k} - \\\\alpha^{n}_{ij-1k})*(G^{n}_{ij+1k+1} - G^{n}_{ij+1k-1} - G^{n}_{ij-1k+1} + G^{n}_{ij-1k-1})/(pow(\\\\Delta\\\\theta, 2)*\\\\Delta\\\\varphi))*pow(sin(F^{n}_{ijk}), 2)*pow(sin(\\\\alpha^{n}_{ijk}), 2)/\\\\Delta\\\\varphi + (1.0/2.0)*(F^{n}_{ijk+1} - F^{n}_{ijk-1})*(G^{n}_{ijk+1} - G^{n}_{ijk-1})*(-1.0/4.0*(G^{n+1}_{ijk} - G^{n-1}_{ijk})*(\\\\alpha^{n+1}_{ijk} - \\\\alpha^{n-1}_{ijk})/pow(\\\\Delta{t}, 2) + (1.0/4.0)*l_1*(G^{n}_{i+1jk} - G^{n}_{i-1jk})*(\\\\alpha^{n}_{i+1jk} - \\\\alpha^{n}_{i-1jk})/pow(\\\\Delta{r}, 2) + (1.0/4.0)*l_2*(G^{n}_{ijk+1} - G^{n}_{ijk-1})*(\\\\alpha^{n}_{ijk+1} - \\\\alpha^{n}_{ijk-1})/pow(\\\\Delta\\\\varphi, 2) + (1.0/4.0)*l_1*(G^{n}_{ij+1k} - G^{n}_{ij-1k})*(\\\\alpha^{n}_{ij+1k} - \\\\alpha^{n}_{ij-1k})/pow(\\\\Delta\\\\theta, 2))*sin(F^{n}_{ijk})*pow(sin(\\\\alpha^{n}_{ijk}), 2)*cos(F^{n}_{ijk})/pow(\\\\Delta\\\\varphi, 2) + (1.0/2.0)*(G^{n}_{ijk+1} - G^{n}_{ijk-1})*(\\\\alpha^{n}_{ijk+1} - \\\\alpha^{n}_{ijk-1})*(-1.0/4.0*(G^{n+1}_{ijk} - G^{n-1}_{ijk})*(\\\\alpha^{n+1}_{ijk} - \\\\alpha^{n-1}_{ijk})/pow(\\\\Delta{t}, 2) + (1.0/4.0)*l_1*(G^{n}_{i+1jk} - G^{n}_{i-1jk})*(\\\\alpha^{n}_{i+1jk} - \\\\alpha^{n}_{i-1jk})/pow(\\\\Delta{r}, 2) + (1.0/4.0)*l_2*(G^{n}_{ijk+1} - G^{n}_{ijk-1})*(\\\\alpha^{n}_{ijk+1} - \\\\alpha^{n}_{ijk-1})/pow(\\\\Delta\\\\varphi, 2) + (1.0/4.0)*l_1*(G^{n}_{ij+1k} - G^{n}_{ij-1k})*(\\\\alpha^{n}_{ij+1k} - \\\\alpha^{n}_{ij-1k})/pow(\\\\Delta\\\\theta, 2))*pow(sin(F^{n}_{ijk}), 2)*sin(\\\\alpha^{n}_{ijk})*cos(\\\\alpha^{n}_{ijk})/pow(\\\\Delta\\\\varphi, 2) + (G^{n}_{ijk+1} + G^{n}_{ijk-1} - 2*G^{n}_{ijk})*(-1.0/4.0*(G^{n+1}_{ijk} - G^{n-1}_{ijk})*(\\\\alpha^{n+1}_{ijk} - \\\\alpha^{n-1}_{ijk})/pow(\\\\Delta{t}, 2) + (1.0/4.0)*l_1*(G^{n}_{i+1jk} - G^{n}_{i-1jk})*(\\\\alpha^{n}_{i+1jk} - \\\\alpha^{n}_{i-1jk})/pow(\\\\Delta{r}, 2) + (1.0/4.0)*l_2*(G^{n}_{ijk+1} - G^{n}_{ijk-1})*(\\\\alpha^{n}_{ijk+1} - \\\\alpha^{n}_{ijk-1})/pow(\\\\Delta\\\\varphi, 2) + (1.0/4.0)*l_1*(G^{n}_{ij+1k} - G^{n}_{ij-1k})*(\\\\alpha^{n}_{ij+1k} - \\\\alpha^{n}_{ij-1k})/pow(\\\\Delta\\\\theta, 2))*pow(sin(F^{n}_{ijk}), 2)*pow(sin(\\\\alpha^{n}_{ijk}), 2)/pow(\\\\Delta\\\\varphi, 2)) - l_2*((1.0/2.0)*(\\\\alpha^{n}_{ijk+1} - \\\\alpha^{n}_{ijk-1})*(-1.0/4.0*(G^{n+1}_{ijk} - G^{n-1}_{ijk})*(G^{n+1}_{ijk+1} - G^{n+1}_{ijk-1} - G^{n-1}_{ijk+1} + G^{n-1}_{ijk-1})/(\\\\Delta\\\\varphi*pow(\\\\Delta{t}, 2)) + (1.0/4.0)*l_1*(G^{n}_{i+1jk} - G^{n}_{i-1jk})*(G^{n}_{i+1jk+1} - G^{n}_{i+1jk-1} - G^{n}_{i-1jk+1} + G^{n}_{i-1jk-1})/(\\\\Delta\\\\varphi*pow(\\\\Delta{r}, 2)) + l_2*(G^{n}_{ijk+1} - G^{n}_{ijk-1})*(G^{n}_{ijk+1} + G^{n}_{ijk-1} - 2*G^{n}_{ijk})/pow(\\\\Delta\\\\varphi, 3) + (1.0/4.0)*l_1*(G^{n}_{ij+1k} - G^{n}_{ij-1k})*(G^{n}_{ij+1k+1} - G^{n}_{ij+1k-1} - G^{n}_{ij-1k+1} + G^{n}_{ij-1k-1})/(pow(\\\\Delta\\\\theta, 2)*\\\\Delta\\\\varphi))*pow(sin(F^{n}_{ijk}), 2)*pow(sin(\\\\alpha^{n}_{ijk}), 2)/\\\\Delta\\\\varphi + (1.0/2.0)*(F^{n}_{ijk+1} - F^{n}_{ijk-1})*(\\\\alpha^{n}_{ijk+1} - \\\\alpha^{n}_{ijk-1})*(-1.0/4.0*pow(G^{n+1}_{ijk} - G^{n-1}_{ijk}, 2)/pow(\\\\Delta{t}, 2) + (1.0/4.0)*l_1*pow(G^{n}_{i+1jk} - G^{n}_{i-1jk}, 2)/pow(\\\\Delta{r}, 2) + (1.0/4.0)*l_2*pow(G^{n}_{ijk+1} - G^{n}_{ijk-1}, 2)/pow(\\\\Delta\\\\varphi, 2) + (1.0/4.0)*l_1*pow(G^{n}_{ij+1k} - G^{n}_{ij-1k}, 2)/pow(\\\\Delta\\\\theta, 2))*sin(F^{n}_{ijk})*pow(sin(\\\\alpha^{n}_{ijk}), 2)*cos(F^{n}_{ijk})/pow(\\\\Delta\\\\varphi, 2) + (1.0/2.0)*pow(\\\\alpha^{n}_{ijk+1} - \\\\alpha^{n}_{ijk-1}, 2)*(-1.0/4.0*pow(G^{n+1}_{ijk} - G^{n-1}_{ijk}, 2)/pow(\\\\Delta{t}, 2) + (1.0/4.0)*l_1*pow(G^{n}_{i+1jk} - G^{n}_{i-1jk}, 2)/pow(\\\\Delta{r}, 2) + (1.0/4.0)*l_2*pow(G^{n}_{ijk+1} - G^{n}_{ijk-1}, 2)/pow(\\\\Delta\\\\varphi, 2) + (1.0/4.0)*l_1*pow(G^{n}_{ij+1k} - G^{n}_{ij-1k}, 2)/pow(\\\\Delta\\\\theta, 2))*pow(sin(F^{n}_{ijk}), 2)*sin(\\\\alpha^{n}_{ijk})*cos(\\\\alpha^{n}_{ijk})/pow(\\\\Delta\\\\varphi, 2) + (\\\\alpha^{n}_{ijk+1} + \\\\alpha^{n}_{ijk-1} - 2*\\\\alpha^{n}_{ijk})*(-1.0/4.0*pow(G^{n+1}_{ijk} - G^{n-1}_{ijk}, 2)/pow(\\\\Delta{t}, 2) + (1.0/4.0)*l_1*pow(G^{n}_{i+1jk} - G^{n}_{i-1jk}, 2)/pow(\\\\Delta{r}, 2) + (1.0/4.0)*l_2*pow(G^{n}_{ijk+1} - G^{n}_{ijk-1}, 2)/pow(\\\\Delta\\\\varphi, 2) + (1.0/4.0)*l_1*pow(G^{n}_{ij+1k} - G^{n}_{ij-1k}, 2)/pow(\\\\Delta\\\\theta, 2))*pow(sin(F^{n}_{ijk}), 2)*pow(sin(\\\\alpha^{n}_{ijk}), 2)/pow(\\\\Delta\\\\varphi, 2)) + 2*((-1.0/4.0*pow(F^{n+1}_{ijk} - F^{n-1}_{ijk}, 2)/pow(\\\\Delta{t}, 2) + (1.0/4.0)*l_1*pow(F^{n}_{i+1jk} - F^{n}_{i-1jk}, 2)/pow(\\\\Delta{r}, 2) + (1.0/4.0)*l_2*pow(F^{n}_{ijk+1} - F^{n}_{ijk-1}, 2)/pow(\\\\Delta\\\\varphi, 2) + (1.0/4.0)*l_1*pow(F^{n}_{ij+1k} - F^{n}_{ij-1k}, 2)/pow(\\\\Delta\\\\theta, 2))*(-1.0/4.0*pow(G^{n+1}_{ijk} - G^{n-1}_{ijk}, 2)/pow(\\\\Delta{t}, 2) + (1.0/4.0)*l_1*pow(G^{n}_{i+1jk} - G^{n}_{i-1jk}, 2)/pow(\\\\Delta{r}, 2) + (1.0/4.0)*l_2*pow(G^{n}_{ijk+1} - G^{n}_{ijk-1}, 2)/pow(\\\\Delta\\\\varphi, 2) + (1.0/4.0)*l_1*pow(G^{n}_{ij+1k} - G^{n}_{ij-1k}, 2)/pow(\\\\Delta\\\\theta, 2)) - pow(-1.0/4.0*(F^{n+1}_{ijk} - F^{n-1}_{ijk})*(G^{n+1}_{ijk} - G^{n-1}_{ijk})/pow(\\\\Delta{t}, 2) + (1.0/4.0)*l_1*(F^{n}_{i+1jk} - F^{n}_{i-1jk})*(G^{n}_{i+1jk} - G^{n}_{i-1jk})/pow(\\\\Delta{r}, 2) + (1.0/4.0)*l_2*(F^{n}_{ijk+1} - F^{n}_{ijk-1})*(G^{n}_{ijk+1} - G^{n}_{ijk-1})/pow(\\\\Delta\\\\varphi, 2) + (1.0/4.0)*l_1*(F^{n}_{ij+1k} - F^{n}_{ij-1k})*(G^{n}_{ij+1k} - G^{n}_{ij-1k})/pow(\\\\Delta\\\\theta, 2), 2))*pow(sin(F^{n}_{ijk}), 2)*pow(sin(\\\\alpha^{n}_{ijk}), 3)*cos(\\\\alpha^{n}_{ijk}) + ((-1.0/4.0*pow(F^{n+1}_{ijk} - F^{n-1}_{ijk}, 2)/pow(\\\\Delta{t}, 2) + (1.0/4.0)*l_1*pow(F^{n}_{i+1jk} - F^{n}_{i-1jk}, 2)/pow(\\\\Delta{r}, 2) + (1.0/4.0)*l_2*pow(F^{n}_{ijk+1} - F^{n}_{ijk-1}, 2)/pow(\\\\Delta\\\\varphi, 2) + (1.0/4.0)*l_1*pow(F^{n}_{ij+1k} - F^{n}_{ij-1k}, 2)/pow(\\\\Delta\\\\theta, 2))*(-1.0/4.0*pow(\\\\alpha^{n+1}_{ijk} - \\\\alpha^{n-1}_{ijk}, 2)/pow(\\\\Delta{t}, 2) + (1.0/4.0)*l_1*pow(\\\\alpha^{n}_{i+1jk} - \\\\alpha^{n}_{i-1jk}, 2)/pow(\\\\Delta{r}, 2) + (1.0/4.0)*l_2*pow(\\\\alpha^{n}_{ijk+1} - \\\\alpha^{n}_{ijk-1}, 2)/pow(\\\\Delta\\\\varphi, 2) + (1.0/4.0)*l_1*pow(\\\\alpha^{n}_{ij+1k} - \\\\alpha^{n}_{ij-1k}, 2)/pow(\\\\Delta\\\\theta, 2)) - pow(-1.0/4.0*(F^{n+1}_{ijk} - F^{n-1}_{ijk})*(\\\\alpha^{n+1}_{ijk} - \\\\alpha^{n-1}_{ijk})/pow(\\\\Delta{t}, 2) + (1.0/4.0)*l_1*(F^{n}_{i+1jk} - F^{n}_{i-1jk})*(\\\\alpha^{n}_{i+1jk} - \\\\alpha^{n}_{i-1jk})/pow(\\\\Delta{r}, 2) + (1.0/4.0)*l_2*(F^{n}_{ijk+1} - F^{n}_{ijk-1})*(\\\\alpha^{n}_{ijk+1} - \\\\alpha^{n}_{ijk-1})/pow(\\\\Delta\\\\varphi, 2) + (1.0/4.0)*l_1*(F^{n}_{ij+1k} - F^{n}_{ij-1k})*(\\\\alpha^{n}_{ij+1k} - \\\\alpha^{n}_{ij-1k})/pow(\\\\Delta\\\\theta, 2), 2))*sin(\\\\alpha^{n}_{ijk})*cos(\\\\alpha^{n}_{ijk}) + ((-1.0/4.0*pow(G^{n+1}_{ijk} - G^{n-1}_{ijk}, 2)/pow(\\\\Delta{t}, 2) + (1.0/4.0)*l_1*pow(G^{n}_{i+1jk} - G^{n}_{i-1jk}, 2)/pow(\\\\Delta{r}, 2) + (1.0/4.0)*l_2*pow(G^{n}_{ijk+1} - G^{n}_{ijk-1}, 2)/pow(\\\\Delta\\\\varphi, 2) + (1.0/4.0)*l_1*pow(G^{n}_{ij+1k} - G^{n}_{ij-1k}, 2)/pow(\\\\Delta\\\\theta, 2))*(-1.0/4.0*pow(\\\\alpha^{n+1}_{ijk} - \\\\alpha^{n-1}_{ijk}, 2)/pow(\\\\Delta{t}, 2) + (1.0/4.0)*l_1*pow(\\\\alpha^{n}_{i+1jk} - \\\\alpha^{n}_{i-1jk}, 2)/pow(\\\\Delta{r}, 2) + (1.0/4.0)*l_2*pow(\\\\alpha^{n}_{ijk+1} - \\\\alpha^{n}_{ijk-1}, 2)/pow(\\\\Delta\\\\varphi, 2) + (1.0/4.0)*l_1*pow(\\\\alpha^{n}_{ij+1k} - \\\\alpha^{n}_{ij-1k}, 2)/pow(\\\\Delta\\\\theta, 2)) - pow(-1.0/4.0*(G^{n+1}_{ijk} - G^{n-1}_{ijk})*(\\\\alpha^{n+1}_{ijk} - \\\\alpha^{n-1}_{ijk})/pow(\\\\Delta{t}, 2) + (1.0/4.0)*l_1*(G^{n}_{i+1jk} - G^{n}_{i-1jk})*(\\\\alpha^{n}_{i+1jk} - \\\\alpha^{n}_{i-1jk})/pow(\\\\Delta{r}, 2) + (1.0/4.0)*l_2*(G^{n}_{ijk+1} - G^{n}_{ijk-1})*(\\\\alpha^{n}_{ijk+1} - \\\\alpha^{n}_{ijk-1})/pow(\\\\Delta\\\\varphi, 2) + (1.0/4.0)*l_1*(G^{n}_{ij+1k} - G^{n}_{ij-1k})*(\\\\alpha^{n}_{ij+1k} - \\\\alpha^{n}_{ij-1k})/pow(\\\\Delta\\\\theta, 2), 2))*pow(sin(F^{n}_{ijk}), 2)*sin(\\\\alpha^{n}_{ijk})*cos(\\\\alpha^{n}_{ijk}) - 1.0/2.0*(F^{n+1}_{ijk} - F^{n-1}_{ijk})*(-1.0/2.0*(F^{n+1}_{ijk} - F^{n-1}_{ijk})*(\\\\alpha^{n+1}_{ijk} + \\\\alpha^{n-1}_{ijk} - 2*\\\\alpha^{n}_{ijk})/pow(\\\\Delta{t}, 3) - 1.0/2.0*(\\\\alpha^{n+1}_{ijk} - \\\\alpha^{n-1}_{ijk})*(F^{n+1}_{ijk} + F^{n-1}_{ijk} - 2*F^{n}_{ijk})/pow(\\\\Delta{t}, 3) + (1.0/8.0)*l_1*(F^{n}_{i+1jk} - F^{n}_{i-1jk})*(\\\\alpha^{n+1}_{i+1jk} - \\\\alpha^{n+1}_{i-1jk} - \\\\alpha^{n-1}_{i+1jk} + \\\\alpha^{n-1}_{i-1jk})/(pow(\\\\Delta{r}, 2)*\\\\Delta{t}) + (1.0/8.0)*l_1*(\\\\alpha^{n}_{i+1jk} - \\\\alpha^{n}_{i-1jk})*(F^{n+1}_{i+1jk} - F^{n+1}_{i-1jk} - F^{n-1}_{i+1jk} + F^{n-1}_{i-1jk})/(pow(\\\\Delta{r}, 2)*\\\\Delta{t}) + (1.0/8.0)*l_2*(F^{n}_{ijk+1} - F^{n}_{ijk-1})*(\\\\alpha^{n+1}_{ijk+1} - \\\\alpha^{n+1}_{ijk-1} - \\\\alpha^{n-1}_{ijk+1} + \\\\alpha^{n-1}_{ijk-1})/(pow(\\\\Delta\\\\varphi, 2)*\\\\Delta{t}) + (1.0/8.0)*l_2*(\\\\alpha^{n}_{ijk+1} - \\\\alpha^{n}_{ijk-1})*(F^{n+1}_{ijk+1} - F^{n+1}_{ijk-1} - F^{n-1}_{ijk+1} + F^{n-1}_{ijk-1})/(pow(\\\\Delta\\\\varphi, 2)*\\\\Delta{t}) + (1.0/8.0)*l_1*(F^{n}_{ij+1k} - F^{n}_{ij-1k})*(\\\\alpha^{n+1}_{ij+1k} - \\\\alpha^{n+1}_{ij-1k} - \\\\alpha^{n-1}_{ij+1k} + \\\\alpha^{n-1}_{ij-1k})/(pow(\\\\Delta\\\\theta, 2)*\\\\Delta{t}) + (1.0/8.0)*l_1*(\\\\alpha^{n}_{ij+1k} - \\\\alpha^{n}_{ij-1k})*(F^{n+1}_{ij+1k} - F^{n+1}_{ij-1k} - F^{n-1}_{ij+1k} + F^{n-1}_{ij-1k})/(pow(\\\\Delta\\\\theta, 2)*\\\\Delta{t}))*pow(sin(\\\\alpha^{n}_{ijk}), 2)/\\\\Delta{t} - 1.0/2.0*(G^{n+1}_{ijk} - G^{n-1}_{ijk})*(-1.0/2.0*(G^{n+1}_{ijk} - G^{n-1}_{ijk})*(\\\\alpha^{n+1}_{ijk} + \\\\alpha^{n-1}_{ijk} - 2*\\\\alpha^{n}_{ijk})/pow(\\\\Delta{t}, 3) - 1.0/2.0*(\\\\alpha^{n+1}_{ijk} - \\\\alpha^{n-1}_{ijk})*(G^{n+1}_{ijk} + G^{n-1}_{ijk} - 2*G^{n}_{ijk})/pow(\\\\Delta{t}, 3) + (1.0/8.0)*l_1*(G^{n}_{i+1jk} - G^{n}_{i-1jk})*(\\\\alpha^{n+1}_{i+1jk} - \\\\alpha^{n+1}_{i-1jk} - \\\\alpha^{n-1}_{i+1jk} + \\\\alpha^{n-1}_{i-1jk})/(pow(\\\\Delta{r}, 2)*\\\\Delta{t}) + (1.0/8.0)*l_1*(\\\\alpha^{n}_{i+1jk} - \\\\alpha^{n}_{i-1jk})*(G^{n+1}_{i+1jk} - G^{n+1}_{i-1jk} - G^{n-1}_{i+1jk} + G^{n-1}_{i-1jk})/(pow(\\\\Delta{r}, 2)*\\\\Delta{t}) + (1.0/8.0)*l_2*(G^{n}_{ijk+1} - G^{n}_{ijk-1})*(\\\\alpha^{n+1}_{ijk+1} - \\\\alpha^{n+1}_{ijk-1} - \\\\alpha^{n-1}_{ijk+1} + \\\\alpha^{n-1}_{ijk-1})/(pow(\\\\Delta\\\\varphi, 2)*\\\\Delta{t}) + (1.0/8.0)*l_2*(\\\\alpha^{n}_{ijk+1} - \\\\alpha^{n}_{ijk-1})*(G^{n+1}_{ijk+1} - G^{n+1}_{ijk-1} - G^{n-1}_{ijk+1} + G^{n-1}_{ijk-1})/(pow(\\\\Delta\\\\varphi, 2)*\\\\Delta{t}) + (1.0/8.0)*l_1*(G^{n}_{ij+1k} - G^{n}_{ij-1k})*(\\\\alpha^{n+1}_{ij+1k} - \\\\alpha^{n+1}_{ij-1k} - \\\\alpha^{n-1}_{ij+1k} + \\\\alpha^{n-1}_{ij-1k})/(pow(\\\\Delta\\\\theta, 2)*\\\\Delta{t}) + (1.0/8.0)*l_1*(\\\\alpha^{n}_{ij+1k} - \\\\alpha^{n}_{ij-1k})*(G^{n+1}_{ij+1k} - G^{n+1}_{ij-1k} - G^{n-1}_{ij+1k} + G^{n-1}_{ij-1k})/(pow(\\\\Delta\\\\theta, 2)*\\\\Delta{t}))*pow(sin(F^{n}_{ijk}), 2)*pow(sin(\\\\alpha^{n}_{ijk}), 2)/\\\\Delta{t} + (1.0/2.0)*(\\\\alpha^{n+1}_{ijk} - \\\\alpha^{n-1}_{ijk})*(-(F^{n+1}_{ijk} - F^{n-1}_{ijk})*(F^{n+1}_{ijk} + F^{n-1}_{ijk} - 2*F^{n}_{ijk})/pow(\\\\Delta{t}, 3) + (1.0/4.0)*l_1*(F^{n}_{i+1jk} - F^{n}_{i-1jk})*(F^{n+1}_{i+1jk} - F^{n+1}_{i-1jk} - F^{n-1}_{i+1jk} + F^{n-1}_{i-1jk})/(pow(\\\\Delta{r}, 2)*\\\\Delta{t}) + (1.0/4.0)*l_2*(F^{n}_{ijk+1} - F^{n}_{ijk-1})*(F^{n+1}_{ijk+1} - F^{n+1}_{ijk-1} - F^{n-1}_{ijk+1} + F^{n-1}_{ijk-1})/(pow(\\\\Delta\\\\varphi, 2)*\\\\Delta{t}) + (1.0/4.0)*l_1*(F^{n}_{ij+1k} - F^{n}_{ij-1k})*(F^{n+1}_{ij+1k} - F^{n+1}_{ij-1k} - F^{n-1}_{ij+1k} + F^{n-1}_{ij-1k})/(pow(\\\\Delta\\\\theta, 2)*\\\\Delta{t}))*pow(sin(\\\\alpha^{n}_{ijk}), 2)/\\\\Delta{t} + (1.0/2.0)*(\\\\alpha^{n+1}_{ijk} - \\\\alpha^{n-1}_{ijk})*(-(G^{n+1}_{ijk} - G^{n-1}_{ijk})*(G^{n+1}_{ijk} + G^{n-1}_{ijk} - 2*G^{n}_{ijk})/pow(\\\\Delta{t}, 3) + (1.0/4.0)*l_1*(G^{n}_{i+1jk} - G^{n}_{i-1jk})*(G^{n+1}_{i+1jk} - G^{n+1}_{i-1jk} - G^{n-1}_{i+1jk} + G^{n-1}_{i-1jk})/(pow(\\\\Delta{r}, 2)*\\\\Delta{t}) + (1.0/4.0)*l_2*(G^{n}_{ijk+1} - G^{n}_{ijk-1})*(G^{n+1}_{ijk+1} - G^{n+1}_{ijk-1} - G^{n-1}_{ijk+1} + G^{n-1}_{ijk-1})/(pow(\\\\Delta\\\\varphi, 2)*\\\\Delta{t}) + (1.0/4.0)*l_1*(G^{n}_{ij+1k} - G^{n}_{ij-1k})*(G^{n+1}_{ij+1k} - G^{n+1}_{ij-1k} - G^{n-1}_{ij+1k} + G^{n-1}_{ij-1k})/(pow(\\\\Delta\\\\theta, 2)*\\\\Delta{t}))*pow(sin(F^{n}_{ijk}), 2)*pow(sin(\\\\alpha^{n}_{ijk}), 2)/\\\\Delta{t} - 1.0/2.0*(F^{n+1}_{ijk} - F^{n-1}_{ijk})*(G^{n+1}_{ijk} - G^{n-1}_{ijk})*(-1.0/4.0*(G^{n+1}_{ijk} - G^{n-1}_{ijk})*(\\\\alpha^{n+1}_{ijk} - \\\\alpha^{n-1}_{ijk})/pow(\\\\Delta{t}, 2) + (1.0/4.0)*l_1*(G^{n}_{i+1jk} - G^{n}_{i-1jk})*(\\\\alpha^{n}_{i+1jk} - \\\\alpha^{n}_{i-1jk})/pow(\\\\Delta{r}, 2) + (1.0/4.0)*l_2*(G^{n}_{ijk+1} - G^{n}_{ijk-1})*(\\\\alpha^{n}_{ijk+1} - \\\\alpha^{n}_{ijk-1})/pow(\\\\Delta\\\\varphi, 2) + (1.0/4.0)*l_1*(G^{n}_{ij+1k} - G^{n}_{ij-1k})*(\\\\alpha^{n}_{ij+1k} - \\\\alpha^{n}_{ij-1k})/pow(\\\\Delta\\\\theta, 2))*sin(F^{n}_{ijk})*pow(sin(\\\\alpha^{n}_{ijk}), 2)*cos(F^{n}_{ijk})/pow(\\\\Delta{t}, 2) + (1.0/2.0)*(F^{n+1}_{ijk} - F^{n-1}_{ijk})*(\\\\alpha^{n+1}_{ijk} - \\\\alpha^{n-1}_{ijk})*(-1.0/4.0*pow(G^{n+1}_{ijk} - G^{n-1}_{ijk}, 2)/pow(\\\\Delta{t}, 2) + (1.0/4.0)*l_1*pow(G^{n}_{i+1jk} - G^{n}_{i-1jk}, 2)/pow(\\\\Delta{r}, 2) + (1.0/4.0)*l_2*pow(G^{n}_{ijk+1} - G^{n}_{ijk-1}, 2)/pow(\\\\Delta\\\\varphi, 2) + (1.0/4.0)*l_1*pow(G^{n}_{ij+1k} - G^{n}_{ij-1k}, 2)/pow(\\\\Delta\\\\theta, 2))*sin(F^{n}_{ijk})*pow(sin(\\\\alpha^{n}_{ijk}), 2)*cos(F^{n}_{ijk})/pow(\\\\Delta{t}, 2) - 1.0/2.0*(F^{n+1}_{ijk} - F^{n-1}_{ijk})*(\\\\alpha^{n+1}_{ijk} - \\\\alpha^{n-1}_{ijk})*(-1.0/4.0*(F^{n+1}_{ijk} - F^{n-1}_{ijk})*(\\\\alpha^{n+1}_{ijk} - \\\\alpha^{n-1}_{ijk})/pow(\\\\Delta{t}, 2) + (1.0/4.0)*l_1*(F^{n}_{i+1jk} - F^{n}_{i-1jk})*(\\\\alpha^{n}_{i+1jk} - \\\\alpha^{n}_{i-1jk})/pow(\\\\Delta{r}, 2) + (1.0/4.0)*l_2*(F^{n}_{ijk+1} - F^{n}_{ijk-1})*(\\\\alpha^{n}_{ijk+1} - \\\\alpha^{n}_{ijk-1})/pow(\\\\Delta\\\\varphi, 2) + (1.0/4.0)*l_1*(F^{n}_{ij+1k} - F^{n}_{ij-1k})*(\\\\alpha^{n}_{ij+1k} - \\\\alpha^{n}_{ij-1k})/pow(\\\\Delta\\\\theta, 2))*sin(\\\\alpha^{n}_{ijk})*cos(\\\\alpha^{n}_{ijk})/pow(\\\\Delta{t}, 2) - 1.0/2.0*(G^{n+1}_{ijk} - G^{n-1}_{ijk})*(\\\\alpha^{n+1}_{ijk} - \\\\alpha^{n-1}_{ijk})*(-1.0/4.0*(G^{n+1}_{ijk} - G^{n-1}_{ijk})*(\\\\alpha^{n+1}_{ijk} - \\\\alpha^{n-1}_{ijk})/pow(\\\\Delta{t}, 2) + (1.0/4.0)*l_1*(G^{n}_{i+1jk} - G^{n}_{i-1jk})*(\\\\alpha^{n}_{i+1jk} - \\\\alpha^{n}_{i-1jk})/pow(\\\\Delta{r}, 2) + (1.0/4.0)*l_2*(G^{n}_{ijk+1} - G^{n}_{ijk-1})*(\\\\alpha^{n}_{ijk+1} - \\\\alpha^{n}_{ijk-1})/pow(\\\\Delta\\\\varphi, 2) + (1.0/4.0)*l_1*(G^{n}_{ij+1k} - G^{n}_{ij-1k})*(\\\\alpha^{n}_{ij+1k} - \\\\alpha^{n}_{ij-1k})/pow(\\\\Delta\\\\theta, 2))*pow(sin(F^{n}_{ijk}), 2)*sin(\\\\alpha^{n}_{ijk})*cos(\\\\alpha^{n}_{ijk})/pow(\\\\Delta{t}, 2) + (1.0/2.0)*pow(\\\\alpha^{n+1}_{ijk} - \\\\alpha^{n-1}_{ijk}, 2)*(-1.0/4.0*pow(F^{n+1}_{ijk} - F^{n-1}_{ijk}, 2)/pow(\\\\Delta{t}, 2) + (1.0/4.0)*l_1*pow(F^{n}_{i+1jk} - F^{n}_{i-1jk}, 2)/pow(\\\\Delta{r}, 2) + (1.0/4.0)*l_2*pow(F^{n}_{ijk+1} - F^{n}_{ijk-1}, 2)/pow(\\\\Delta\\\\varphi, 2) + (1.0/4.0)*l_1*pow(F^{n}_{ij+1k} - F^{n}_{ij-1k}, 2)/pow(\\\\Delta\\\\theta, 2))*sin(\\\\alpha^{n}_{ijk})*cos(\\\\alpha^{n}_{ijk})/pow(\\\\Delta{t}, 2) + (1.0/2.0)*pow(\\\\alpha^{n+1}_{ijk} - \\\\alpha^{n-1}_{ijk}, 2)*(-1.0/4.0*pow(G^{n+1}_{ijk} - G^{n-1}_{ijk}, 2)/pow(\\\\Delta{t}, 2) + (1.0/4.0)*l_1*pow(G^{n}_{i+1jk} - G^{n}_{i-1jk}, 2)/pow(\\\\Delta{r}, 2) + (1.0/4.0)*l_2*pow(G^{n}_{ijk+1} - G^{n}_{ijk-1}, 2)/pow(\\\\Delta\\\\varphi, 2) + (1.0/4.0)*l_1*pow(G^{n}_{ij+1k} - G^{n}_{ij-1k}, 2)/pow(\\\\Delta\\\\theta, 2))*pow(sin(F^{n}_{ijk}), 2)*sin(\\\\alpha^{n}_{ijk})*cos(\\\\alpha^{n}_{ijk})/pow(\\\\Delta{t}, 2) - (F^{n+1}_{ijk} + F^{n-1}_{ijk} - 2*F^{n}_{ijk})*(-1.0/4.0*(F^{n+1}_{ijk} - F^{n-1}_{ijk})*(\\\\alpha^{n+1}_{ijk} - \\\\alpha^{n-1}_{ijk})/pow(\\\\Delta{t}, 2) + (1.0/4.0)*l_1*(F^{n}_{i+1jk} - F^{n}_{i-1jk})*(\\\\alpha^{n}_{i+1jk} - \\\\alpha^{n}_{i-1jk})/pow(\\\\Delta{r}, 2) + (1.0/4.0)*l_2*(F^{n}_{ijk+1} - F^{n}_{ijk-1})*(\\\\alpha^{n}_{ijk+1} - \\\\alpha^{n}_{ijk-1})/pow(\\\\Delta\\\\varphi, 2) + (1.0/4.0)*l_1*(F^{n}_{ij+1k} - F^{n}_{ij-1k})*(\\\\alpha^{n}_{ij+1k} - \\\\alpha^{n}_{ij-1k})/pow(\\\\Delta\\\\theta, 2))*pow(sin(\\\\alpha^{n}_{ijk}), 2)/pow(\\\\Delta{t}, 2) - (G^{n+1}_{ijk} + G^{n-1}_{ijk} - 2*G^{n}_{ijk})*(-1.0/4.0*(G^{n+1}_{ijk} - G^{n-1}_{ijk})*(\\\\alpha^{n+1}_{ijk} - \\\\alpha^{n-1}_{ijk})/pow(\\\\Delta{t}, 2) + (1.0/4.0)*l_1*(G^{n}_{i+1jk} - G^{n}_{i-1jk})*(\\\\alpha^{n}_{i+1jk} - \\\\alpha^{n}_{i-1jk})/pow(\\\\Delta{r}, 2) + (1.0/4.0)*l_2*(G^{n}_{ijk+1} - G^{n}_{ijk-1})*(\\\\alpha^{n}_{ijk+1} - \\\\alpha^{n}_{ijk-1})/pow(\\\\Delta\\\\varphi, 2) + (1.0/4.0)*l_1*(G^{n}_{ij+1k} - G^{n}_{ij-1k})*(\\\\alpha^{n}_{ij+1k} - \\\\alpha^{n}_{ij-1k})/pow(\\\\Delta\\\\theta, 2))*pow(sin(F^{n}_{ijk}), 2)*pow(sin(\\\\alpha^{n}_{ijk}), 2)/pow(\\\\Delta{t}, 2) + (\\\\alpha^{n+1}_{ijk} + \\\\alpha^{n-1}_{ijk} - 2*\\\\alpha^{n}_{ijk})*(-1.0/4.0*pow(F^{n+1}_{ijk} - F^{n-1}_{ijk}, 2)/pow(\\\\Delta{t}, 2) + (1.0/4.0)*l_1*pow(F^{n}_{i+1jk} - F^{n}_{i-1jk}, 2)/pow(\\\\Delta{r}, 2) + (1.0/4.0)*l_2*pow(F^{n}_{ijk+1} - F^{n}_{ijk-1}, 2)/pow(\\\\Delta\\\\varphi, 2) + (1.0/4.0)*l_1*pow(F^{n}_{ij+1k} - F^{n}_{ij-1k}, 2)/pow(\\\\Delta\\\\theta, 2))*pow(sin(\\\\alpha^{n}_{ijk}), 2)/pow(\\\\Delta{t}, 2) + (\\\\alpha^{n+1}_{ijk} + \\\\alpha^{n-1}_{ijk} - 2*\\\\alpha^{n}_{ijk})*(-1.0/4.0*pow(G^{n+1}_{ijk} - G^{n-1}_{ijk}, 2)/pow(\\\\Delta{t}, 2) + (1.0/4.0)*l_1*pow(G^{n}_{i+1jk} - G^{n}_{i-1jk}, 2)/pow(\\\\Delta{r}, 2) + (1.0/4.0)*l_2*pow(G^{n}_{ijk+1} - G^{n}_{ijk-1}, 2)/pow(\\\\Delta\\\\varphi, 2) + (1.0/4.0)*l_1*pow(G^{n}_{ij+1k} - G^{n}_{ij-1k}, 2)/pow(\\\\Delta\\\\theta, 2))*pow(sin(F^{n}_{ijk}), 2)*pow(sin(\\\\alpha^{n}_{ijk}), 2)/pow(\\\\Delta{t}, 2)) + ((-1.0/4.0*pow(G^{n+1}_{ijk} - G^{n-1}_{ijk}, 2)/pow(\\\\Delta{t}, 2) + (1.0/4.0)*l_1*pow(G^{n}_{i+1jk} - G^{n}_{i-1jk}, 2)/pow(\\\\Delta{r}, 2) + (1.0/4.0)*l_2*pow(G^{n}_{ijk+1} - G^{n}_{ijk-1}, 2)/pow(\\\\Delta\\\\varphi, 2) + (1.0/4.0)*l_1*pow(G^{n}_{ij+1k} - G^{n}_{ij-1k}, 2)/pow(\\\\Delta\\\\theta, 2))*pow(sin(F^{n}_{ijk}), 2) - 1.0/4.0*pow(F^{n+1}_{ijk} - F^{n-1}_{ijk}, 2)/pow(\\\\Delta{t}, 2) + (1.0/4.0)*l_1*pow(F^{n}_{i+1jk} - F^{n}_{i-1jk}, 2)/pow(\\\\Delta{r}, 2) + (1.0/4.0)*l_2*pow(F^{n}_{ijk+1} - F^{n}_{ijk-1}, 2)/pow(\\\\Delta\\\\varphi, 2) + (1.0/4.0)*l_1*pow(F^{n}_{ij+1k} - F^{n}_{ij-1k}, 2)/pow(\\\\Delta\\\\theta, 2))*sin(\\\\alpha^{n}_{ijk})*cos(\\\\alpha^{n}_{ijk}) - (\\\\alpha^{n+1}_{ijk} + \\\\alpha^{n-1}_{ijk} - 2*\\\\alpha^{n}_{ijk})/pow(\\\\Delta{t}, 2) + l_1*(\\\\alpha^{n}_{i+1jk} + \\\\alpha^{n}_{i-1jk} - 2*\\\\alpha^{n}_{ijk})/pow(\\\\Delta{r}, 2) + l_2*(\\\\alpha^{n}_{ijk+1} + \\\\alpha^{n}_{ijk-1} - 2*\\\\alpha^{n}_{ijk})/pow(\\\\Delta\\\\varphi, 2) + l_1*(\\\\alpha^{n}_{ij+1k} + \\\\alpha^{n}_{ij-1k} - 2*\\\\alpha^{n}_{ijk})/pow(\\\\Delta\\\\theta, 2)'"
      ]
     },
     "execution_count": 27,
     "metadata": {},
     "output_type": "execute_result"
    }
   ],
   "source": [
    "factors = res7.args\n",
    "factors[1]\n",
    "ccode(res7)"
   ]
  },
  {
   "cell_type": "code",
   "execution_count": 21,
   "metadata": {
    "scrolled": true
   },
   "outputs": [
    {
     "data": {
      "image/png": "[encoded data removed]",
      "text/latex": [
       "$\\displaystyle \\left[ \\right]$"
      ],
      "text/plain": [
       "[]"
      ]
     },
     "execution_count": 21,
     "metadata": {},
     "output_type": "execute_result"
    }
   ],
   "source": [
    "jnjn = solve(res7.args[2], ndmat[0][2][1][1][1], minimal=True, warn=True, simplify=False)\n",
    "init_printing()\n",
    "jnjn"
   ]
  },
  {
   "cell_type": "code",
   "execution_count": 3,
   "metadata": {},
   "outputs": [
    {
     "data": {
      "image/png": "[encoded data removed]",
      "text/latex": [
       "$\\displaystyle \\left(\\sin^{2}{\\left(\\alpha{\\left(t,r,\\theta,\\varphi \\right)} \\right)} + 1\\right) \\frac{\\partial^{2}}{\\partial t^{2}} \\alpha{\\left(t,r,\\theta,\\varphi \\right)} + 2 \\sin{\\left(2 \\alpha{\\left(t,r,\\theta,\\varphi \\right)} \\right)} \\left(\\frac{\\partial}{\\partial t} \\alpha{\\left(t,r,\\theta,\\varphi \\right)}\\right)^{2} - \\cos{\\left(\\alpha{\\left(t,r,\\theta,\\varphi \\right)} \\right)} - \\frac{\\partial^{2}}{\\partial r^{2}} \\alpha{\\left(t,r,\\theta,\\varphi \\right)} + 1$"
      ],
      "text/plain": [
       "                                            2                                 \n",
       "⎛   2                                   ⎞  ∂                                  \n",
       "⎝sin (\\alpha(t, r, \\theta, \\varphi)) + 1⎠⋅───(\\alpha(t, r, \\theta, \\varphi)) +\n",
       "                                            2                                 \n",
       "                                          ∂t                                  \n",
       "\n",
       "                                                                           2  \n",
       "                                        ⎛∂                                ⎞   \n",
       " 2⋅sin(2⋅\\alpha(t, r, \\theta, \\varphi))⋅⎜──(\\alpha(t, r, \\theta, \\varphi))⎟  -\n",
       "                                        ⎝∂t                               ⎠   \n",
       "                                                                              \n",
       "\n",
       "                                        2                                   \n",
       "                                       ∂                                    \n",
       " cos(\\alpha(t, r, \\theta, \\varphi)) - ───(\\alpha(t, r, \\theta, \\varphi)) + 1\n",
       "                                        2                                   \n",
       "                                      ∂r                                    "
      ]
     },
     "execution_count": 3,
     "metadata": {},
     "output_type": "execute_result"
    }
   ],
   "source": [
    "test3 = (1+sin(alfa)**2)*Derivative(alfa, t, 2) + 2*sin(2*alfa)*(Derivative(alfa, t))**2-Derivative(alfa, r, 2)+1-cos(alfa)\n",
    "test3"
   ]
  },
  {
   "cell_type": "code",
   "execution_count": 9,
   "metadata": {},
   "outputs": [
    {
     "data": {
      "image/png": "[encoded data removed]",
      "text/latex": [
       "$\\displaystyle - \\cos{\\left(\\alpha^{n}_{ijk} \\right)} + 1 + \\frac{\\left(\\alpha^{n+1}_{ijk} - \\alpha^{n-1}_{ijk}\\right)^{2} \\sin{\\left(2 \\alpha^{n}_{ijk} \\right)}}{2 \\Delta{t}^{2}} + \\frac{\\left(\\sin^{2}{\\left(\\alpha^{n}_{ijk} \\right)} + 1\\right) \\left(\\alpha^{n+1}_{ijk} + \\alpha^{n-1}_{ijk} - 2 \\alpha^{n}_{ijk}\\right)}{\\Delta{t}^{2}} - \\frac{\\alpha^{n}_{i+1jk} + \\alpha^{n}_{i-1jk} - 2 \\alpha^{n}_{ijk}}{\\Delta{r}^{2}}$"
      ],
      "text/plain": [
       "                                                                         2    \n",
       "                              (\\alpha_{ijk}__{n+1} - \\alpha_{ijk}__{n-1}) ⋅sin\n",
       "-cos(\\alpha_{ijk}__{n}) + 1 + ────────────────────────────────────────────────\n",
       "                                                                      2       \n",
       "                                                           2⋅\\Delta{t}        \n",
       "\n",
       "                        ⎛   2                       ⎞                         \n",
       "(2⋅\\alpha_{ijk}__{n})   ⎝sin (\\alpha_{ijk}__{n}) + 1⎠⋅(\\alpha_{ijk}__{n+1} + \\\n",
       "───────────────────── + ──────────────────────────────────────────────────────\n",
       "                                                                            2 \n",
       "                                                                   \\Delta{t}  \n",
       "\n",
       "                                                                              \n",
       "alpha_{ijk}__{n-1} - 2⋅\\alpha_{ijk}__{n})   \\alpha_{i+1jk}__{n} + \\alpha_{i-1j\n",
       "───────────────────────────────────────── - ──────────────────────────────────\n",
       "                                                                              \n",
       "                                                                       \\Delta{\n",
       "\n",
       "                             \n",
       "k}__{n} - 2⋅\\alpha_{ijk}__{n}\n",
       "─────────────────────────────\n",
       "  2                          \n",
       "r}                           "
      ]
     },
     "execution_count": 9,
     "metadata": {},
     "output_type": "execute_result"
    }
   ],
   "source": [
    "res4 = test3.replace(Derivative(p, q)*s, lambda p, q, s : FOD(p, q)*s)\n",
    "res5 = res4.replace(Derivative(Derivative(p, q), q)*s, lambda p, q, s : SOD(p, q, q)*s)\n",
    "res6 = res5.replace(Derivative(Derivative(p, q), b)*s, lambda p, q, s, b : SOD(p, q, b)*s)\n",
    "\n",
    "\n",
    "res7 = res6.replace(F, getDiscreteSymbol(ndmat, F))\n",
    "res7 = res7.replace(G, getDiscreteSymbol(ndmat, G))\n",
    "res7 = res7.replace(alfa, getDiscreteSymbol(ndmat, alfa))\n",
    "res7"
   ]
  },
  {
   "cell_type": "code",
   "execution_count": 26,
   "metadata": {},
   "outputs": [],
   "source": [
    "jnjn = solveset(res7, ndmat[0][2][1][1][1])"
   ]
  },
  {
   "cell_type": "code",
   "execution_count": 132,
   "metadata": {},
   "outputs": [
    {
     "ename": "KeyboardInterrupt",
     "evalue": "",
     "output_type": "error",
     "traceback": [
      "\u001b[0;31m---------------------------------------------------------------------------\u001b[0m",
      "\u001b[0;31mKeyboardInterrupt\u001b[0m                         Traceback (most recent call last)",
      "\u001b[0;32m<ipython-input-132-ed7c43b498d1>\u001b[0m in \u001b[0;36m<module>\u001b[0;34m\u001b[0m\n\u001b[0;32m----> 1\u001b[0;31m \u001b[0mjnjn\u001b[0m\u001b[0;34m\u001b[0m\u001b[0;34m\u001b[0m\u001b[0m\n\u001b[0m",
      "\u001b[0;32m/usr/lib/python3.8/site-packages/IPython/core/displayhook.py\u001b[0m in \u001b[0;36m__call__\u001b[0;34m(self, result)\u001b[0m\n\u001b[1;32m    260\u001b[0m             \u001b[0mself\u001b[0m\u001b[0;34m.\u001b[0m\u001b[0mstart_displayhook\u001b[0m\u001b[0;34m(\u001b[0m\u001b[0;34m)\u001b[0m\u001b[0;34m\u001b[0m\u001b[0;34m\u001b[0m\u001b[0m\n\u001b[1;32m    261\u001b[0m             \u001b[0mself\u001b[0m\u001b[0;34m.\u001b[0m\u001b[0mwrite_output_prompt\u001b[0m\u001b[0;34m(\u001b[0m\u001b[0;34m)\u001b[0m\u001b[0;34m\u001b[0m\u001b[0;34m\u001b[0m\u001b[0m\n\u001b[0;32m--> 262\u001b[0;31m             \u001b[0mformat_dict\u001b[0m\u001b[0;34m,\u001b[0m \u001b[0mmd_dict\u001b[0m \u001b[0;34m=\u001b[0m \u001b[0mself\u001b[0m\u001b[0;34m.\u001b[0m\u001b[0mcompute_format_data\u001b[0m\u001b[0;34m(\u001b[0m\u001b[0mresult\u001b[0m\u001b[0;34m)\u001b[0m\u001b[0;34m\u001b[0m\u001b[0;34m\u001b[0m\u001b[0m\n\u001b[0m\u001b[1;32m    263\u001b[0m             \u001b[0mself\u001b[0m\u001b[0;34m.\u001b[0m\u001b[0mupdate_user_ns\u001b[0m\u001b[0;34m(\u001b[0m\u001b[0mresult\u001b[0m\u001b[0;34m)\u001b[0m\u001b[0;34m\u001b[0m\u001b[0;34m\u001b[0m\u001b[0m\n\u001b[1;32m    264\u001b[0m             \u001b[0mself\u001b[0m\u001b[0;34m.\u001b[0m\u001b[0mfill_exec_result\u001b[0m\u001b[0;34m(\u001b[0m\u001b[0mresult\u001b[0m\u001b[0;34m)\u001b[0m\u001b[0;34m\u001b[0m\u001b[0;34m\u001b[0m\u001b[0m\n",
      "\u001b[0;32m/usr/lib/python3.8/site-packages/IPython/core/displayhook.py\u001b[0m in \u001b[0;36mcompute_format_data\u001b[0;34m(self, result)\u001b[0m\n\u001b[1;32m    149\u001b[0m \u001b[0;34m\u001b[0m\u001b[0m\n\u001b[1;32m    150\u001b[0m         \"\"\"\n\u001b[0;32m--> 151\u001b[0;31m         \u001b[0;32mreturn\u001b[0m \u001b[0mself\u001b[0m\u001b[0;34m.\u001b[0m\u001b[0mshell\u001b[0m\u001b[0;34m.\u001b[0m\u001b[0mdisplay_formatter\u001b[0m\u001b[0;34m.\u001b[0m\u001b[0mformat\u001b[0m\u001b[0;34m(\u001b[0m\u001b[0mresult\u001b[0m\u001b[0;34m)\u001b[0m\u001b[0;34m\u001b[0m\u001b[0;34m\u001b[0m\u001b[0m\n\u001b[0m\u001b[1;32m    152\u001b[0m \u001b[0;34m\u001b[0m\u001b[0m\n\u001b[1;32m    153\u001b[0m     \u001b[0;31m# This can be set to True by the write_output_prompt method in a subclass\u001b[0m\u001b[0;34m\u001b[0m\u001b[0;34m\u001b[0m\u001b[0;34m\u001b[0m\u001b[0m\n",
      "\u001b[0;32m/usr/lib/python3.8/site-packages/IPython/core/formatters.py\u001b[0m in \u001b[0;36mformat\u001b[0;34m(self, obj, include, exclude)\u001b[0m\n\u001b[1;32m    178\u001b[0m             \u001b[0mmd\u001b[0m \u001b[0;34m=\u001b[0m \u001b[0;32mNone\u001b[0m\u001b[0;34m\u001b[0m\u001b[0;34m\u001b[0m\u001b[0m\n\u001b[1;32m    179\u001b[0m             \u001b[0;32mtry\u001b[0m\u001b[0;34m:\u001b[0m\u001b[0;34m\u001b[0m\u001b[0;34m\u001b[0m\u001b[0m\n\u001b[0;32m--> 180\u001b[0;31m                 \u001b[0mdata\u001b[0m \u001b[0;34m=\u001b[0m \u001b[0mformatter\u001b[0m\u001b[0;34m(\u001b[0m\u001b[0mobj\u001b[0m\u001b[0;34m)\u001b[0m\u001b[0;34m\u001b[0m\u001b[0;34m\u001b[0m\u001b[0m\n\u001b[0m\u001b[1;32m    181\u001b[0m             \u001b[0;32mexcept\u001b[0m\u001b[0;34m:\u001b[0m\u001b[0;34m\u001b[0m\u001b[0;34m\u001b[0m\u001b[0m\n\u001b[1;32m    182\u001b[0m                 \u001b[0;31m# FIXME: log the exception\u001b[0m\u001b[0;34m\u001b[0m\u001b[0;34m\u001b[0m\u001b[0;34m\u001b[0m\u001b[0m\n",
      "\u001b[0;32m<decorator-gen-10>\u001b[0m in \u001b[0;36m__call__\u001b[0;34m(self, obj)\u001b[0m\n",
      "\u001b[0;32m/usr/lib/python3.8/site-packages/IPython/core/formatters.py\u001b[0m in \u001b[0;36mcatch_format_error\u001b[0;34m(method, self, *args, **kwargs)\u001b[0m\n\u001b[1;32m    222\u001b[0m     \u001b[0;34m\"\"\"show traceback on failed format call\"\"\"\u001b[0m\u001b[0;34m\u001b[0m\u001b[0;34m\u001b[0m\u001b[0m\n\u001b[1;32m    223\u001b[0m     \u001b[0;32mtry\u001b[0m\u001b[0;34m:\u001b[0m\u001b[0;34m\u001b[0m\u001b[0;34m\u001b[0m\u001b[0m\n\u001b[0;32m--> 224\u001b[0;31m         \u001b[0mr\u001b[0m \u001b[0;34m=\u001b[0m \u001b[0mmethod\u001b[0m\u001b[0;34m(\u001b[0m\u001b[0mself\u001b[0m\u001b[0;34m,\u001b[0m \u001b[0;34m*\u001b[0m\u001b[0margs\u001b[0m\u001b[0;34m,\u001b[0m \u001b[0;34m**\u001b[0m\u001b[0mkwargs\u001b[0m\u001b[0;34m)\u001b[0m\u001b[0;34m\u001b[0m\u001b[0;34m\u001b[0m\u001b[0m\n\u001b[0m\u001b[1;32m    225\u001b[0m     \u001b[0;32mexcept\u001b[0m \u001b[0mNotImplementedError\u001b[0m\u001b[0;34m:\u001b[0m\u001b[0;34m\u001b[0m\u001b[0;34m\u001b[0m\u001b[0m\n\u001b[1;32m    226\u001b[0m         \u001b[0;31m# don't warn on NotImplementedErrors\u001b[0m\u001b[0;34m\u001b[0m\u001b[0;34m\u001b[0m\u001b[0;34m\u001b[0m\u001b[0m\n",
      "\u001b[0;32m/usr/lib/python3.8/site-packages/IPython/core/formatters.py\u001b[0m in \u001b[0;36m__call__\u001b[0;34m(self, obj)\u001b[0m\n\u001b[1;32m    700\u001b[0m                 \u001b[0mtype_pprinters\u001b[0m\u001b[0;34m=\u001b[0m\u001b[0mself\u001b[0m\u001b[0;34m.\u001b[0m\u001b[0mtype_printers\u001b[0m\u001b[0;34m,\u001b[0m\u001b[0;34m\u001b[0m\u001b[0;34m\u001b[0m\u001b[0m\n\u001b[1;32m    701\u001b[0m                 deferred_pprinters=self.deferred_printers)\n\u001b[0;32m--> 702\u001b[0;31m             \u001b[0mprinter\u001b[0m\u001b[0;34m.\u001b[0m\u001b[0mpretty\u001b[0m\u001b[0;34m(\u001b[0m\u001b[0mobj\u001b[0m\u001b[0;34m)\u001b[0m\u001b[0;34m\u001b[0m\u001b[0;34m\u001b[0m\u001b[0m\n\u001b[0m\u001b[1;32m    703\u001b[0m             \u001b[0mprinter\u001b[0m\u001b[0;34m.\u001b[0m\u001b[0mflush\u001b[0m\u001b[0;34m(\u001b[0m\u001b[0;34m)\u001b[0m\u001b[0;34m\u001b[0m\u001b[0;34m\u001b[0m\u001b[0m\n\u001b[1;32m    704\u001b[0m             \u001b[0;32mreturn\u001b[0m \u001b[0mstream\u001b[0m\u001b[0;34m.\u001b[0m\u001b[0mgetvalue\u001b[0m\u001b[0;34m(\u001b[0m\u001b[0;34m)\u001b[0m\u001b[0;34m\u001b[0m\u001b[0;34m\u001b[0m\u001b[0m\n",
      "\u001b[0;32m/usr/lib/python3.8/site-packages/IPython/lib/pretty.py\u001b[0m in \u001b[0;36mpretty\u001b[0;34m(self, obj)\u001b[0m\n\u001b[1;32m    375\u001b[0m                 \u001b[0;32mif\u001b[0m \u001b[0mcls\u001b[0m \u001b[0;32min\u001b[0m \u001b[0mself\u001b[0m\u001b[0;34m.\u001b[0m\u001b[0mtype_pprinters\u001b[0m\u001b[0;34m:\u001b[0m\u001b[0;34m\u001b[0m\u001b[0;34m\u001b[0m\u001b[0m\n\u001b[1;32m    376\u001b[0m                     \u001b[0;31m# printer registered in self.type_pprinters\u001b[0m\u001b[0;34m\u001b[0m\u001b[0;34m\u001b[0m\u001b[0;34m\u001b[0m\u001b[0m\n\u001b[0;32m--> 377\u001b[0;31m                     \u001b[0;32mreturn\u001b[0m \u001b[0mself\u001b[0m\u001b[0;34m.\u001b[0m\u001b[0mtype_pprinters\u001b[0m\u001b[0;34m[\u001b[0m\u001b[0mcls\u001b[0m\u001b[0;34m]\u001b[0m\u001b[0;34m(\u001b[0m\u001b[0mobj\u001b[0m\u001b[0;34m,\u001b[0m \u001b[0mself\u001b[0m\u001b[0;34m,\u001b[0m \u001b[0mcycle\u001b[0m\u001b[0;34m)\u001b[0m\u001b[0;34m\u001b[0m\u001b[0;34m\u001b[0m\u001b[0m\n\u001b[0m\u001b[1;32m    378\u001b[0m                 \u001b[0;32melse\u001b[0m\u001b[0;34m:\u001b[0m\u001b[0;34m\u001b[0m\u001b[0;34m\u001b[0m\u001b[0m\n\u001b[1;32m    379\u001b[0m                     \u001b[0;31m# deferred printer\u001b[0m\u001b[0;34m\u001b[0m\u001b[0;34m\u001b[0m\u001b[0;34m\u001b[0m\u001b[0m\n",
      "\u001b[0;32m~/.local/lib/python3.8/site-packages/sympy/interactive/printing.py\u001b[0m in \u001b[0;36m_print_plain\u001b[0;34m(arg, p, cycle)\u001b[0m\n\u001b[1;32m     88\u001b[0m         \u001b[0;34m\"\"\"caller for pretty, for use in IPython 0.11\"\"\"\u001b[0m\u001b[0;34m\u001b[0m\u001b[0;34m\u001b[0m\u001b[0m\n\u001b[1;32m     89\u001b[0m         \u001b[0;32mif\u001b[0m \u001b[0m_can_print\u001b[0m\u001b[0;34m(\u001b[0m\u001b[0marg\u001b[0m\u001b[0;34m)\u001b[0m\u001b[0;34m:\u001b[0m\u001b[0;34m\u001b[0m\u001b[0;34m\u001b[0m\u001b[0m\n\u001b[0;32m---> 90\u001b[0;31m             \u001b[0mp\u001b[0m\u001b[0;34m.\u001b[0m\u001b[0mtext\u001b[0m\u001b[0;34m(\u001b[0m\u001b[0mstringify_func\u001b[0m\u001b[0;34m(\u001b[0m\u001b[0marg\u001b[0m\u001b[0;34m)\u001b[0m\u001b[0;34m)\u001b[0m\u001b[0;34m\u001b[0m\u001b[0;34m\u001b[0m\u001b[0m\n\u001b[0m\u001b[1;32m     91\u001b[0m         \u001b[0;32melse\u001b[0m\u001b[0;34m:\u001b[0m\u001b[0;34m\u001b[0m\u001b[0;34m\u001b[0m\u001b[0m\n\u001b[1;32m     92\u001b[0m             \u001b[0mp\u001b[0m\u001b[0;34m.\u001b[0m\u001b[0mtext\u001b[0m\u001b[0;34m(\u001b[0m\u001b[0mIPython\u001b[0m\u001b[0;34m.\u001b[0m\u001b[0mlib\u001b[0m\u001b[0;34m.\u001b[0m\u001b[0mpretty\u001b[0m\u001b[0;34m.\u001b[0m\u001b[0mpretty\u001b[0m\u001b[0;34m(\u001b[0m\u001b[0marg\u001b[0m\u001b[0;34m)\u001b[0m\u001b[0;34m)\u001b[0m\u001b[0;34m\u001b[0m\u001b[0;34m\u001b[0m\u001b[0m\n",
      "\u001b[0;32m~/.local/lib/python3.8/site-packages/sympy/printing/printer.py\u001b[0m in \u001b[0;36m__call__\u001b[0;34m(self, *args, **kwargs)\u001b[0m\n\u001b[1;32m    371\u001b[0m \u001b[0;34m\u001b[0m\u001b[0m\n\u001b[1;32m    372\u001b[0m     \u001b[0;32mdef\u001b[0m \u001b[0m__call__\u001b[0m\u001b[0;34m(\u001b[0m\u001b[0mself\u001b[0m\u001b[0;34m,\u001b[0m \u001b[0;34m*\u001b[0m\u001b[0margs\u001b[0m\u001b[0;34m,\u001b[0m \u001b[0;34m**\u001b[0m\u001b[0mkwargs\u001b[0m\u001b[0;34m)\u001b[0m\u001b[0;34m:\u001b[0m\u001b[0;34m\u001b[0m\u001b[0;34m\u001b[0m\u001b[0m\n\u001b[0;32m--> 373\u001b[0;31m         \u001b[0;32mreturn\u001b[0m \u001b[0mself\u001b[0m\u001b[0;34m.\u001b[0m\u001b[0m__wrapped__\u001b[0m\u001b[0;34m(\u001b[0m\u001b[0;34m*\u001b[0m\u001b[0margs\u001b[0m\u001b[0;34m,\u001b[0m \u001b[0;34m**\u001b[0m\u001b[0mkwargs\u001b[0m\u001b[0;34m)\u001b[0m\u001b[0;34m\u001b[0m\u001b[0;34m\u001b[0m\u001b[0m\n\u001b[0m\u001b[1;32m    374\u001b[0m \u001b[0;34m\u001b[0m\u001b[0m\n\u001b[1;32m    375\u001b[0m     \u001b[0;34m@\u001b[0m\u001b[0mproperty\u001b[0m\u001b[0;34m\u001b[0m\u001b[0;34m\u001b[0m\u001b[0m\n",
      "\u001b[0;32m~/.local/lib/python3.8/site-packages/sympy/printing/pretty/pretty.py\u001b[0m in \u001b[0;36mpretty\u001b[0;34m(expr, **settings)\u001b[0m\n\u001b[1;32m   2729\u001b[0m \u001b[0;34m\u001b[0m\u001b[0m\n\u001b[1;32m   2730\u001b[0m     \u001b[0;32mtry\u001b[0m\u001b[0;34m:\u001b[0m\u001b[0;34m\u001b[0m\u001b[0;34m\u001b[0m\u001b[0m\n\u001b[0;32m-> 2731\u001b[0;31m         \u001b[0;32mreturn\u001b[0m \u001b[0mpp\u001b[0m\u001b[0;34m.\u001b[0m\u001b[0mdoprint\u001b[0m\u001b[0;34m(\u001b[0m\u001b[0mexpr\u001b[0m\u001b[0;34m)\u001b[0m\u001b[0;34m\u001b[0m\u001b[0;34m\u001b[0m\u001b[0m\n\u001b[0m\u001b[1;32m   2732\u001b[0m     \u001b[0;32mfinally\u001b[0m\u001b[0;34m:\u001b[0m\u001b[0;34m\u001b[0m\u001b[0;34m\u001b[0m\u001b[0m\n\u001b[1;32m   2733\u001b[0m         \u001b[0mpretty_use_unicode\u001b[0m\u001b[0;34m(\u001b[0m\u001b[0muflag\u001b[0m\u001b[0;34m)\u001b[0m\u001b[0;34m\u001b[0m\u001b[0;34m\u001b[0m\u001b[0m\n",
      "\u001b[0;32m~/.local/lib/python3.8/site-packages/sympy/printing/pretty/pretty.py\u001b[0m in \u001b[0;36mdoprint\u001b[0;34m(self, expr)\u001b[0m\n\u001b[1;32m     63\u001b[0m \u001b[0;34m\u001b[0m\u001b[0m\n\u001b[1;32m     64\u001b[0m     \u001b[0;32mdef\u001b[0m \u001b[0mdoprint\u001b[0m\u001b[0;34m(\u001b[0m\u001b[0mself\u001b[0m\u001b[0;34m,\u001b[0m \u001b[0mexpr\u001b[0m\u001b[0;34m)\u001b[0m\u001b[0;34m:\u001b[0m\u001b[0;34m\u001b[0m\u001b[0;34m\u001b[0m\u001b[0m\n\u001b[0;32m---> 65\u001b[0;31m         \u001b[0;32mreturn\u001b[0m \u001b[0mself\u001b[0m\u001b[0;34m.\u001b[0m\u001b[0m_print\u001b[0m\u001b[0;34m(\u001b[0m\u001b[0mexpr\u001b[0m\u001b[0;34m)\u001b[0m\u001b[0;34m.\u001b[0m\u001b[0mrender\u001b[0m\u001b[0;34m(\u001b[0m\u001b[0;34m**\u001b[0m\u001b[0mself\u001b[0m\u001b[0;34m.\u001b[0m\u001b[0m_settings\u001b[0m\u001b[0;34m)\u001b[0m\u001b[0;34m\u001b[0m\u001b[0;34m\u001b[0m\u001b[0m\n\u001b[0m\u001b[1;32m     66\u001b[0m \u001b[0;34m\u001b[0m\u001b[0m\n\u001b[1;32m     67\u001b[0m     \u001b[0;31m# empty op so _print(stringPict) returns the same\u001b[0m\u001b[0;34m\u001b[0m\u001b[0;34m\u001b[0m\u001b[0;34m\u001b[0m\u001b[0m\n",
      "\u001b[0;32m~/.local/lib/python3.8/site-packages/sympy/printing/pretty/stringpict.py\u001b[0m in \u001b[0;36mrender\u001b[0;34m(self, *args, **kwargs)\u001b[0m\n\u001b[1;32m    294\u001b[0m         \u001b[0msvals\u001b[0m \u001b[0;34m=\u001b[0m \u001b[0;34m[\u001b[0m\u001b[0;34m]\u001b[0m\u001b[0;34m\u001b[0m\u001b[0;34m\u001b[0m\u001b[0m\n\u001b[1;32m    295\u001b[0m         \u001b[0mdo_vspacers\u001b[0m \u001b[0;34m=\u001b[0m \u001b[0;34m(\u001b[0m\u001b[0mself\u001b[0m\u001b[0;34m.\u001b[0m\u001b[0mheight\u001b[0m\u001b[0;34m(\u001b[0m\u001b[0;34m)\u001b[0m \u001b[0;34m>\u001b[0m \u001b[0;36m1\u001b[0m\u001b[0;34m)\u001b[0m\u001b[0;34m\u001b[0m\u001b[0;34m\u001b[0m\u001b[0m\n\u001b[0;32m--> 296\u001b[0;31m         \u001b[0;32mwhile\u001b[0m \u001b[0mi\u001b[0m \u001b[0;34m<\u001b[0m \u001b[0mself\u001b[0m\u001b[0;34m.\u001b[0m\u001b[0mwidth\u001b[0m\u001b[0;34m(\u001b[0m\u001b[0;34m)\u001b[0m\u001b[0;34m:\u001b[0m\u001b[0;34m\u001b[0m\u001b[0;34m\u001b[0m\u001b[0m\n\u001b[0m\u001b[1;32m    297\u001b[0m             \u001b[0msvals\u001b[0m\u001b[0;34m.\u001b[0m\u001b[0mextend\u001b[0m\u001b[0;34m(\u001b[0m\u001b[0;34m[\u001b[0m \u001b[0msval\u001b[0m\u001b[0;34m[\u001b[0m\u001b[0mi\u001b[0m\u001b[0;34m:\u001b[0m\u001b[0mi\u001b[0m \u001b[0;34m+\u001b[0m \u001b[0mncols\u001b[0m\u001b[0;34m]\u001b[0m \u001b[0;32mfor\u001b[0m \u001b[0msval\u001b[0m \u001b[0;32min\u001b[0m \u001b[0mself\u001b[0m\u001b[0;34m.\u001b[0m\u001b[0mpicture\u001b[0m \u001b[0;34m]\u001b[0m\u001b[0;34m)\u001b[0m\u001b[0;34m\u001b[0m\u001b[0;34m\u001b[0m\u001b[0m\n\u001b[1;32m    298\u001b[0m             \u001b[0;32mif\u001b[0m \u001b[0mdo_vspacers\u001b[0m\u001b[0;34m:\u001b[0m\u001b[0;34m\u001b[0m\u001b[0;34m\u001b[0m\u001b[0m\n",
      "\u001b[0;32m~/.local/lib/python3.8/site-packages/sympy/printing/pretty/stringpict.py\u001b[0m in \u001b[0;36mwidth\u001b[0;34m(self)\u001b[0m\n\u001b[1;32m     58\u001b[0m     \u001b[0;32mdef\u001b[0m \u001b[0mwidth\u001b[0m\u001b[0;34m(\u001b[0m\u001b[0mself\u001b[0m\u001b[0;34m)\u001b[0m\u001b[0;34m:\u001b[0m\u001b[0;34m\u001b[0m\u001b[0;34m\u001b[0m\u001b[0m\n\u001b[1;32m     59\u001b[0m         \u001b[0;34m\"\"\"The width of the picture in characters.\"\"\"\u001b[0m\u001b[0;34m\u001b[0m\u001b[0;34m\u001b[0m\u001b[0m\n\u001b[0;32m---> 60\u001b[0;31m         \u001b[0;32mreturn\u001b[0m \u001b[0mstringPict\u001b[0m\u001b[0;34m.\u001b[0m\u001b[0mline_width\u001b[0m\u001b[0;34m(\u001b[0m\u001b[0mself\u001b[0m\u001b[0;34m.\u001b[0m\u001b[0mpicture\u001b[0m\u001b[0;34m[\u001b[0m\u001b[0;36m0\u001b[0m\u001b[0;34m]\u001b[0m\u001b[0;34m)\u001b[0m\u001b[0;34m\u001b[0m\u001b[0;34m\u001b[0m\u001b[0m\n\u001b[0m\u001b[1;32m     61\u001b[0m \u001b[0;34m\u001b[0m\u001b[0m\n\u001b[1;32m     62\u001b[0m     \u001b[0;34m@\u001b[0m\u001b[0mstaticmethod\u001b[0m\u001b[0;34m\u001b[0m\u001b[0;34m\u001b[0m\u001b[0m\n",
      "\u001b[0;32m~/.local/lib/python3.8/site-packages/sympy/printing/pretty/stringpict.py\u001b[0m in \u001b[0;36mline_width\u001b[0;34m(line)\u001b[0m\n\u001b[1;32m     41\u001b[0m         \u001b[0mseparate\u001b[0m \u001b[0msymbols\u001b[0m \u001b[0;32mand\u001b[0m \u001b[0mthus\u001b[0m \u001b[0mshouldn\u001b[0m\u001b[0;31m'\u001b[0m\u001b[0mt\u001b[0m \u001b[0mbe\u001b[0m \u001b[0mcounted\u001b[0m\u001b[0;34m\u001b[0m\u001b[0;34m\u001b[0m\u001b[0m\n\u001b[1;32m     42\u001b[0m         \"\"\"\n\u001b[0;32m---> 43\u001b[0;31m         \u001b[0;32mreturn\u001b[0m \u001b[0msum\u001b[0m\u001b[0;34m(\u001b[0m\u001b[0;36m1\u001b[0m \u001b[0;32mfor\u001b[0m \u001b[0msym\u001b[0m \u001b[0;32min\u001b[0m \u001b[0mline\u001b[0m \u001b[0;32mif\u001b[0m \u001b[0;32mnot\u001b[0m \u001b[0mis_combining\u001b[0m\u001b[0;34m(\u001b[0m\u001b[0msym\u001b[0m\u001b[0;34m)\u001b[0m\u001b[0;34m)\u001b[0m\u001b[0;34m\u001b[0m\u001b[0;34m\u001b[0m\u001b[0m\n\u001b[0m\u001b[1;32m     44\u001b[0m \u001b[0;34m\u001b[0m\u001b[0m\n\u001b[1;32m     45\u001b[0m     \u001b[0;34m@\u001b[0m\u001b[0mstaticmethod\u001b[0m\u001b[0;34m\u001b[0m\u001b[0;34m\u001b[0m\u001b[0m\n",
      "\u001b[0;32m~/.local/lib/python3.8/site-packages/sympy/printing/pretty/stringpict.py\u001b[0m in \u001b[0;36m<genexpr>\u001b[0;34m(.0)\u001b[0m\n\u001b[1;32m     41\u001b[0m         \u001b[0mseparate\u001b[0m \u001b[0msymbols\u001b[0m \u001b[0;32mand\u001b[0m \u001b[0mthus\u001b[0m \u001b[0mshouldn\u001b[0m\u001b[0;31m'\u001b[0m\u001b[0mt\u001b[0m \u001b[0mbe\u001b[0m \u001b[0mcounted\u001b[0m\u001b[0;34m\u001b[0m\u001b[0;34m\u001b[0m\u001b[0m\n\u001b[1;32m     42\u001b[0m         \"\"\"\n\u001b[0;32m---> 43\u001b[0;31m         \u001b[0;32mreturn\u001b[0m \u001b[0msum\u001b[0m\u001b[0;34m(\u001b[0m\u001b[0;36m1\u001b[0m \u001b[0;32mfor\u001b[0m \u001b[0msym\u001b[0m \u001b[0;32min\u001b[0m \u001b[0mline\u001b[0m \u001b[0;32mif\u001b[0m \u001b[0;32mnot\u001b[0m \u001b[0mis_combining\u001b[0m\u001b[0;34m(\u001b[0m\u001b[0msym\u001b[0m\u001b[0;34m)\u001b[0m\u001b[0;34m)\u001b[0m\u001b[0;34m\u001b[0m\u001b[0;34m\u001b[0m\u001b[0m\n\u001b[0m\u001b[1;32m     44\u001b[0m \u001b[0;34m\u001b[0m\u001b[0m\n\u001b[1;32m     45\u001b[0m     \u001b[0;34m@\u001b[0m\u001b[0mstaticmethod\u001b[0m\u001b[0;34m\u001b[0m\u001b[0;34m\u001b[0m\u001b[0m\n",
      "\u001b[0;31mKeyboardInterrupt\u001b[0m: "
     ]
    }
   ],
   "source": [
    "jnjn"
   ]
  },
  {
   "cell_type": "code",
   "execution_count": 12,
   "metadata": {
    "scrolled": true
   },
   "outputs": [
    {
     "data": {
      "image/png": "[encoded data removed]",
      "text/latex": [
       "$\\displaystyle \\alpha^{n+1}_{ijk}$"
      ],
      "text/plain": [
       "\\alpha_{ijk}__{n+1}"
      ]
     },
     "execution_count": 12,
     "metadata": {},
     "output_type": "execute_result"
    }
   ],
   "source": [
    "ndmat[0][2][1][1][1]"
   ]
  }
 ],
 "metadata": {
  "kernelspec": {
   "display_name": "Python 3",
   "language": "python",
   "name": "python3"
  },
  "language_info": {
   "codemirror_mode": {
    "name": "ipython",
    "version": 3
   },
   "file_extension": ".py",
   "mimetype": "text/x-python",
   "name": "python",
   "nbconvert_exporter": "python",
   "pygments_lexer": "ipython3",
   "version": "3.8.6"
  }
 },
 "nbformat": 4,
 "nbformat_minor": 4
}
