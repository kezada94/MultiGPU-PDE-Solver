{
 "cells": [
  {
   "cell_type": "code",
   "execution_count": 1,
   "metadata": {},
   "outputs": [],
   "source": [
    "from pyqtgraph.Qt import QtCore, QtGui\n",
    "import pyqtgraph as pg\n",
    "import pyqtgraph.opengl as gl\n",
    "import numpy as np\n",
    "\n",
    "## Create a GL View widgimport numpy as np\n",
    "from mpl_toolkits import mplot3d\n",
    "%matplotlib notebook\n",
    "\n",
    "import matplotlib.pyplot as plt\n",
    "\n",
    "import matplotlib.animation as anim\n",
    "from IPython.display import HTML\n",
    "from tqdm import tqdm\n",
    "import time\n",
    "\n",
    "import pyqtgraph as pg\n",
    "import pyqtgraph.opengl as gl\n"
   ]
  },
  {
   "cell_type": "code",
   "execution_count": 2,
   "metadata": {},
   "outputs": [
    {
     "data": {
      "text/plain": [
       "(1, 74, 74, 74)"
      ]
     },
     "execution_count": 2,
     "metadata": {},
     "output_type": "execute_result"
    }
   ],
   "source": [
    "M = 75\n",
    "_M = str(M)\n",
    "Z = np.genfromtxt(\"result-10-\"+_M+\"-\"+_M+\"-\"+_M+\".dat\", delimiter=\"\\n\")\n",
    "Z = Z.reshape((-1, M-1, M-1, M-1))\n",
    "Z.shape"
   ]
  },
  {
   "cell_type": "code",
   "execution_count": 3,
   "metadata": {},
   "outputs": [
    {
     "name": "stderr",
     "output_type": "stream",
     "text": [
      "<ipython-input-3-f8dacbef2638>:25: RuntimeWarning: divide by zero encountered in log\n",
      "  positive = np.log(np.clip(data, 0, data.max())**2)\n",
      "<ipython-input-3-f8dacbef2638>:26: RuntimeWarning: divide by zero encountered in log\n",
      "  negative = np.log(np.clip(-data, 0, -data.min())**2)\n"
     ]
    }
   ],
   "source": [
    "\"\"\"\n",
    "Demonstrates GLVolumeItem for displaying volumetric data.\n",
    "\n",
    "\"\"\"\n",
    "\n",
    "\n",
    "from pyqtgraph.Qt import QtCore, QtGui\n",
    "import pyqtgraph.opengl as gl\n",
    "\n",
    "app = QtGui.QApplication([])\n",
    "w = gl.GLViewWidget()\n",
    "w.opts['distance'] = 200\n",
    "w.show()\n",
    "w.setWindowTitle('pyqtgraph example: GLVolumeItem')\n",
    "\n",
    "#b = gl.GLBoxItem()\n",
    "#w.addItem(b)\n",
    "g = gl.GLGridItem()\n",
    "g.scale(10, 10, 1)\n",
    "w.addItem(g)\n",
    "\n",
    "import numpy as np\n",
    "\n",
    "data = Z[0, :, :, :]\n",
    "positive = np.log(np.clip(data, 0, data.max())**2)\n",
    "negative = np.log(np.clip(-data, 0, -data.min())**2)\n",
    "\n",
    "d2 = np.empty(data.shape + (4,), dtype=np.ubyte)\n",
    "d2[..., 0] = positive * (255./positive.max())\n",
    "d2[..., 1] = negative * (255./negative.max())\n",
    "d2[..., 2] = d2[...,1]\n",
    "d2[..., 3] = 0.2\n",
    "\n",
    "d2[:, 0, 0] = [255,0,0,100]\n",
    "d2[0, :, 0] = [0,255,0,100]\n",
    "d2[0, 0, :] = [0,0,255,100]\n",
    "\n",
    "v = gl.GLVolumeItem(d2)\n",
    "v.translate(-50,-50,-100)\n",
    "w.addItem(v)\n",
    "\n",
    "ax = gl.GLAxisItem()\n",
    "w.addItem(ax)\n",
    "\n",
    "## Start Qt event loop unless running in interactive mode.\n",
    "if __name__ == '__main__':\n",
    "    import sys\n",
    "    if (sys.flags.interactive != 1) or not hasattr(QtCore, 'PYQT_VERSION'):\n",
    "        QtGui.QApplication.instance().exec_()\n"
   ]
  },
  {
   "cell_type": "code",
   "execution_count": null,
   "metadata": {},
   "outputs": [],
   "source": []
  }
 ],
 "metadata": {
  "kernelspec": {
   "display_name": "Python 3",
   "language": "python",
   "name": "python3"
  },
  "language_info": {
   "codemirror_mode": {
    "name": "ipython",
    "version": 3
   },
   "file_extension": ".py",
   "mimetype": "text/x-python",
   "name": "python",
   "nbconvert_exporter": "python",
   "pygments_lexer": "ipython3",
   "version": "3.8.6"
  }
 },
 "nbformat": 4,
 "nbformat_minor": 4
}
